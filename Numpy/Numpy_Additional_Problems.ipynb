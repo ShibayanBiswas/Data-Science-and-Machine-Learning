{
  "nbformat": 4,
  "nbformat_minor": 0,
  "metadata": {
    "colab": {
      "provenance": [],
      "collapsed_sections": []
    },
    "kernelspec": {
      "name": "python3",
      "display_name": "Python 3"
    },
    "language_info": {
      "name": "python"
    }
  },
  "cells": [
    {
      "cell_type": "code",
      "source": [
        "pip install numpy"
      ],
      "metadata": {
        "colab": {
          "base_uri": "https://localhost:8080/"
        },
        "id": "kpbBBLUcvEkx",
        "outputId": "a824570d-4168-4dcd-9be4-41488ae203f3"
      },
      "execution_count": null,
      "outputs": [
        {
          "output_type": "stream",
          "name": "stdout",
          "text": [
            "Looking in indexes: https://pypi.org/simple, https://us-python.pkg.dev/colab-wheels/public/simple/\n",
            "Requirement already satisfied: numpy in /usr/local/lib/python3.7/dist-packages (1.21.6)\n"
          ]
        }
      ]
    },
    {
      "cell_type": "markdown",
      "source": [
        "##**Terrorism Day**"
      ],
      "metadata": {
        "id": "zc0QnpKUtr4x"
      }
    },
    {
      "cell_type": "markdown",
      "source": [
        "Given file \"terrorismData.csv\"\n",
        "\n",
        "It is an open-source database including information on terrorist attacks around the world from 1970 through 2017. This dataset includes systematic data on domestic as well as international terrorist incidents that have occurred during this time period.\n",
        "\n",
        "Problem Statement :\n",
        "\n",
        "Find the number of attack held between day 10 and day 20 ? (ignoring the year and month) (including both day)\n",
        "\n",
        "Print count of NumberOFAttack as integer value.\n",
        "\n",
        "Output Format :\n",
        "\n",
        "country"
      ],
      "metadata": {
        "id": "9qjYbvxvtyvK"
      }
    },
    {
      "cell_type": "code",
      "source": [
        "import numpy as np\n",
        "import csv\n",
        "\n",
        "file=open(\"terrorismData.csv\")\n",
        "data=csv.DictReader(file,skipinitialspace=True)\n",
        "Day=[]\n",
        "\n",
        "for row in data:\n",
        "    Day.append(row['Day'])\n",
        "    \n",
        "np_Day=np.array(Day,dtype=int)\n",
        "np_bool =(np_Day >= 10) & (np_Day <= 20)\n",
        "\n",
        "print(np.sum(np_bool))"
      ],
      "metadata": {
        "id": "0D8aZoJ9uEa_"
      },
      "execution_count": null,
      "outputs": []
    },
    {
      "cell_type": "markdown",
      "source": [
        "##**Terrorism Date**"
      ],
      "metadata": {
        "id": "_tF9jPY-stkp"
      }
    },
    {
      "cell_type": "markdown",
      "source": [
        "Given file \"terrorismData.csv\"\n",
        "\n",
        "It is an open-source database including information on terrorist attacks around the world from 1970 through 2017. This dataset includes systematic data on domestic as well as international terrorist incidents that have occurred during this time period\n",
        "\n",
        "Problem Statement :\n",
        "\n",
        "Find the number of attack held between 1 Jan 2010 and 31 Jan 2010 ? (including both date).\n",
        "\n",
        "Note Ignore the case where day is 0\n",
        "\n",
        "Print count of NumberOFAttack as integer value.\n",
        "\n",
        "Output Format :\n",
        "\n",
        "count"
      ],
      "metadata": {
        "id": "qMnHi8bEszSY"
      }
    },
    {
      "cell_type": "code",
      "source": [
        "import numpy as np\n",
        "import csv\n",
        "\n",
        "file=open(\"terrorismData.csv\")\n",
        "data=csv.DictReader(file,skipinitialspace=True)\n",
        "Day=[]\n",
        "Month=[]\n",
        "Year=[]\n",
        "\n",
        "for row in data:\n",
        "    Day.append(row['Day'])\n",
        "    Month.append(row['Month'])\n",
        "    Year.append(row['Year'])\n",
        "    \n",
        "np_Day=np.array(Day,dtype=int)\n",
        "np_Month=np.array(Month,dtype=int)\n",
        "np_Year=np.array(Year,dtype=int)\n",
        "\n",
        "np_bool = (np_Day >= 1) & (np_Day <= 31) & (np_Year == 2010) & (np_Month == 1)\n",
        "\n",
        "print(np.sum(np_bool))"
      ],
      "metadata": {
        "id": "wb2aoFP9tCL3"
      },
      "execution_count": null,
      "outputs": []
    },
    {
      "cell_type": "markdown",
      "source": [
        "##**Terror Casualty Attack**"
      ],
      "metadata": {
        "id": "12sJsRZS3KRj"
      }
    },
    {
      "cell_type": "markdown",
      "source": [
        "Given file \"terrorismData.csv\"\n",
        "\n",
        "It is an open-source database including information on terrorist attacks around the world from 1970 through 2017. This dataset includes systematic data on domestic as well as international terrorist incidents that have occurred during this time period\n",
        "\n",
        "Problem Statement :\n",
        "\n",
        "As we knew the Kargil ( in Jammu and Kashmir) War that took place between May 1999 and July 1999 (3 Months) ,so there was a huge conflict in Kashmir Valley during this period.\n",
        "\n",
        "In this dataset, there is no information regarding the war between the two countries to find out the casualty during the war.\n",
        "\n",
        "So find out the attack in this period in which maximum casualties happened.\n",
        "\n",
        "Print the count of casualties (as integer), city in which that attack happened and name of attack group.\n",
        "\n",
        "Note : Casualty = Killed + Wounded.Fill the empty value in killed or wounded feature to 0.\n",
        "\n",
        "Output Format :\n",
        "\n",
        "Casualty City TerroristGroup"
      ],
      "metadata": {
        "id": "PWnsIdDB8ZgP"
      }
    },
    {
      "cell_type": "code",
      "source": [
        "import numpy as np\n",
        "import csv\n",
        "with open('terrorismData.csv', encoding = \"utf-8\") as file_obj:\n",
        "    file_data=csv.DictReader(file_obj,skipinitialspace=True)\n",
        "    wounded=[]\n",
        "    killed=[]\n",
        "    grp=[]\n",
        "    city=[]\n",
        "    for row in file_data:\n",
        "        if row['Year']=='1999':\n",
        "             if row[\"Month\"]==\"5\" or row[\"Month\"]==\"6\" or row[\"Month\"]==\"7\":\n",
        "                    if row['State']=='Jammu and Kashmir':\n",
        "                            if \"Unknown\" not in row[\"City\"]:\n",
        "                                if \"Unknown\" not in row[\"Group\"]:\n",
        "                                    killed.append(row['Killed'])\n",
        "                                    wounded.append(row['Wounded'])\n",
        "                                    city.append(row['City'])\n",
        "                                    grp.append(row['Group'])\n",
        "killed = np.array(killed)\n",
        "wounded = np.array(wounded)\n",
        "city = np.array(city)\n",
        "grp=np.array(grp)\n",
        " \n",
        "killed[killed == \"\"] = \"0.0\"\n",
        "wounded[wounded == \"\"] = \"0.0\"\n",
        "killed = np.array(killed, dtype = float)\n",
        "wounded = np.array(wounded, dtype = float)\n",
        "# taking sum and then printing the required values\n",
        "casualty = (killed + wounded)\n",
        "max_casualty = (int)(casualty.max())\n",
        "# getting the INDEX of max casualty, this is for putting the required index in city and group\n",
        "max_casualty_arg = casualty.argmax()\n",
        "print(max_casualty,city[max_casualty_arg],grp[max_casualty_arg])"
      ],
      "metadata": {
        "id": "KN3wuxHM_gC9"
      },
      "execution_count": null,
      "outputs": []
    },
    {
      "cell_type": "markdown",
      "source": [
        "##**Terror Casualty Red**"
      ],
      "metadata": {
        "id": "kYV_QudC_hf3"
      }
    },
    {
      "cell_type": "markdown",
      "source": [
        "Given file \"terrorismData.csv\"\n",
        "\n",
        "It is an open-source database including information on terrorist attacks around the world from 1970 through 2017. This dataset includes systematic data on domestic as well as international terrorist incidents that have occurred during this time period\n",
        "\n",
        "Problem Statement :\n",
        "\n",
        "Find the casualty in the Red Corridor States ? Mainly Red corridor states include Jharkhand, Odisha, Andhra Pradesh, and Chhattisgarh.\n",
        "\n",
        "Note: Casualty=Killed +Wounded\n",
        "\n",
        "Print count of Casualty as integer value.\n",
        "\n",
        "Output Format :\n",
        "\n",
        "Count"
      ],
      "metadata": {
        "id": "uSMsdRPHBLwO"
      }
    },
    {
      "cell_type": "code",
      "source": [
        "import numpy as np\n",
        "import csv\n",
        "\n",
        "file=open(\"terrorismData.csv\")\n",
        "data=csv.DictReader(file,skipinitialspace=True)\n",
        "State=[]\n",
        "Killed=[]\n",
        "Wounded=[]\n",
        "\n",
        "\n",
        "for row in data:\n",
        "    State.append(row['State'])\n",
        "    Killed.append(row['Killed'])\n",
        "    Wounded.append(row['Wounded'])\n",
        "    \n",
        "np_killed=np.array(Killed)\n",
        "np_killed[np_killed=='']='0.0'\n",
        "np_killed=np.array(np_killed,dtype=float)\n",
        "\n",
        "np_Wounded=np.array(Wounded)\n",
        "np_Wounded[np_Wounded=='']='0.0'\n",
        "np_Wounded=np.array(np_Wounded,dtype=float)\n",
        "Casualty = np.array(np_killed+np_Wounded,dtype=int)\n",
        "np_State=np.array(State)    \n",
        "np_bool =(np_State =='Jharkhand') | (np_State == 'Odisha') | (np_State == 'Andhra Pradesh') | (np_State == 'Chhattisgarh')\n",
        "print(sum(Casualty[np_bool]))"
      ],
      "metadata": {
        "id": "zf9W1K_MBbEZ"
      },
      "execution_count": null,
      "outputs": []
    },
    {
      "cell_type": "markdown",
      "source": [
        "##**Terror City Casualty**"
      ],
      "metadata": {
        "id": "SZndf8huCJ14"
      }
    },
    {
      "cell_type": "markdown",
      "source": [
        "Given file \"terrorismData.csv\"\n",
        "\n",
        "It is an open-source database including information on terrorist attacks around the world from 1970 through 2017. This dataset includes systematic data on domestic as well as international terrorist incidents that have occurred during this time period\n",
        "\n",
        "Problem Statement :\n",
        "\n",
        "Find top 5 Indian Cities which has most number of casualties ?\n",
        "\n",
        "Print top 5 cities along with total casualties in that city. Print count of Casualty as integer value.\n",
        "\n",
        "Note: Ignoring the City which is Unknown.\n",
        "\n",
        "Casualty = Killed + Wounded.\n",
        "\n",
        "Output Format :\n",
        "\n",
        "city_1 casualty_1\n",
        "\n",
        "city_2 casualty_2\n",
        "\n",
        "city_3 casualty_3\n",
        "\n",
        "city_4 casualty_4\n",
        "\n",
        "city_5 casualty_5"
      ],
      "metadata": {
        "id": "JV1R2Zw8CWP1"
      }
    },
    {
      "cell_type": "code",
      "source": [
        "import numpy as np\n",
        "import csv\n",
        "\n",
        "with open('terrorismData.csv', encoding='utf8') as file_obj:\n",
        "    file_data=csv.DictReader(file_obj, skipinitialspace=True)\n",
        "    killed=[]\n",
        "    wounded=[]\n",
        "    city=[]\n",
        "    for row in file_data:\n",
        "        if 'India' in row['Country'] and 'Unknown' not in row['City']:\n",
        "            city.append(row['City'])\n",
        "            wounded.append(row['Wounded'])\n",
        "            killed.append(row['Killed'])\n",
        "    np_wounded=np.array(wounded)\n",
        "    np_killed=np.array(killed)\n",
        "    np_city=np.array(city)\n",
        "    \n",
        "    np_killed[np_killed == '']='0.0'\n",
        "    np_wounded[np_wounded == '']='0.0'\n",
        "    np_killed=np.array(np_killed, dtype='float')\n",
        "    np_wounded=np.array(np_wounded, dtype='float')\n",
        "    np_casuality=np.array(np_wounded+np_killed, dtype='int')\n",
        "    citydic={}\n",
        "    for i in range(len(np_city)):\n",
        "        if np_city[i] in citydic:\n",
        "            citydic[np_city[i]] += np_casuality[i]\n",
        "        else:\n",
        "            citydic[np_city[i]] = np_casuality[i]\n",
        "    \n",
        "    count=0\n",
        "    city=''\n",
        "    for i in citydic:\n",
        "        if citydic[i] > count:\n",
        "            count=citydic[i]\n",
        "            city=i\n",
        "    print(city, count)\n",
        "    del citydic[city]\n",
        "    \n",
        "    count=0\n",
        "    city=''\n",
        "    for i in citydic:\n",
        "        if citydic[i] > count:\n",
        "            count=citydic[i]\n",
        "            city=i\n",
        "    print(city, count)\n",
        "    del citydic[city]\n",
        "    \n",
        "    count=0\n",
        "    city=''\n",
        "    for i in citydic:\n",
        "        if citydic[i] > count:\n",
        "            count=citydic[i]\n",
        "            city=i\n",
        "    print(city, count)\n",
        "    del citydic[city]\n",
        "    \n",
        "    count=0\n",
        "    city=''\n",
        "    for i in citydic:\n",
        "        if citydic[i] > count:\n",
        "            count=citydic[i]\n",
        "            city=i\n",
        "    print(city, count)\n",
        "    del citydic[city]\n",
        "    \n",
        "    count=0\n",
        "    city=''\n",
        "    for i in citydic:\n",
        "        if citydic[i] > count:\n",
        "            count=citydic[i]\n",
        "            city=i\n",
        "    print(city, count)\n",
        "    del citydic[city]"
      ],
      "metadata": {
        "id": "lS9bHdjbCk2W"
      },
      "execution_count": null,
      "outputs": []
    },
    {
      "cell_type": "markdown",
      "source": [
        "##**Terrorism FrequentDay**"
      ],
      "metadata": {
        "id": "F3_3wHoUC5bO"
      }
    },
    {
      "cell_type": "markdown",
      "source": [
        "Given file \"terrorismData.csv\"\n",
        "\n",
        "It is an open-source database including information on terrorist attacks around the world from 1970 through 2017. This dataset includes systematic data on domestic as well as international terrorist incidents that have occurred during this time period\n",
        "\n",
        "Problem Statement :\n",
        "\n",
        "Find the most frequent day of attack in a terrorismDataset ?\n",
        "\n",
        "Note: Here np.unique can be used.\n",
        "\n",
        "Print count of frequent day and number of attack as Integer value.\n",
        "\n",
        "Output Format :\n",
        "\n",
        "Day NumberOFAttack"
      ],
      "metadata": {
        "id": "MSzvrhr-DBBd"
      }
    },
    {
      "cell_type": "code",
      "source": [
        "import numpy as np\n",
        "import csv\n",
        "\n",
        "with open('terrorismData.csv', encoding='utf8') as file_obj:\n",
        "    file_data=csv.DictReader(file_obj, skipinitialspace=True)\n",
        "    day=[]\n",
        "    for row in file_data:\n",
        "        day.append(row['Day'])\n",
        "    np_day=np.array(day, dtype='int')\n",
        "    day, count=np.unique(np_day, return_counts=True)\n",
        "    print(day[np.argmax(count)], count[np.argmax(count)])"
      ],
      "metadata": {
        "id": "kQegN5XcDPpj"
      },
      "execution_count": null,
      "outputs": []
    }
  ]
}