{
  "nbformat": 4,
  "nbformat_minor": 0,
  "metadata": {
    "colab": {
      "provenance": [],
      "collapsed_sections": []
    },
    "kernelspec": {
      "name": "python3",
      "display_name": "Python 3"
    },
    "language_info": {
      "name": "python"
    }
  },
  "cells": [
    {
      "cell_type": "markdown",
      "source": [
        "In this lecture we will discuss on OOPS that is a programming paradigm and we will deal with objects here. Objects are more important than the logic implementation here. Objects are any real world entity and can be living or non living. Objects possess few characteristics and behaviour associated with it. Behaviours are some functions which can be either performed on \n",
        "this object or the object can perform those functions. In OOPS we model real world entites as software objects which have some data associated with it and can perform certain operations. While using OOPS we will heavily use two terms: Classes and Objects respectively. Suppose we create a software for a university. I want to add an object 'student' in the software. So \n",
        "first we need to define all the properties related to the object like name, age , etc. I also want to update a behaviour to this object say 'update details'. Class is a blueprint that defines the structure of any object. It defines what properties we should add inside our object and what behaviour the object will possess in the software. Class is not holding any kind of memory storage. Objects are copies of data stored using the structure defined by the class. Suppose we need to store the data of 20 students so we would create 20 copies using the properties and behaviour of the class. Consider an example of a survey where the survey form acts as a class and the different copies that are issued to get answers from people acts as \n",
        "objects."
      ],
      "metadata": {
        "id": "vPGKyTGd0KVx"
      }
    },
    {
      "cell_type": "code",
      "execution_count": 1,
      "metadata": {
        "colab": {
          "base_uri": "https://localhost:8080/"
        },
        "id": "-uLlDV6cQyQK",
        "outputId": "e57f4cfe-c3cb-4c3b-c19c-4d3558bc8df4"
      },
      "outputs": [
        {
          "output_type": "stream",
          "name": "stdout",
          "text": [
            "<class 'int'>\n"
          ]
        }
      ],
      "source": [
        "a = 10\n",
        "print(type(a))"
      ]
    },
    {
      "cell_type": "code",
      "source": [
        "l = [1, 2, 3]   # Here 'list' is a class and 'l' is an object\n",
        "print(type(l))"
      ],
      "metadata": {
        "colab": {
          "base_uri": "https://localhost:8080/"
        },
        "id": "AJqNLBuDQ5XO",
        "outputId": "f31c3d2e-af8b-4b3a-97e5-79e76b1923c8"
      },
      "execution_count": 2,
      "outputs": [
        {
          "output_type": "stream",
          "name": "stdout",
          "text": [
            "<class 'list'>\n"
          ]
        }
      ]
    },
    {
      "cell_type": "code",
      "source": [
        "# creating a class\n",
        "class student:\n",
        "  pass\n",
        "# creating a object\n",
        "student_1 = student()\n",
        "student_2 = student()\n",
        "student_3 = student()"
      ],
      "metadata": {
        "id": "KP6xas91RL2z"
      },
      "execution_count": 3,
      "outputs": []
    },
    {
      "cell_type": "code",
      "source": [
        " # This way our attribute is added unlike in java or C++ we could only access \"name\" when name was an attribute of \"student_1\" defined inside the class\n",
        "student_1.name = \"Mohit Agarwal\"\n",
        "student_1.age = 20"
      ],
      "metadata": {
        "id": "071pRS64UgPR"
      },
      "execution_count": 4,
      "outputs": []
    },
    {
      "cell_type": "code",
      "source": [
        "student_2.roll_no = 109"
      ],
      "metadata": {
        "id": "vsAPt0Ak2Tgy"
      },
      "execution_count": 5,
      "outputs": []
    },
    {
      "cell_type": "code",
      "source": [
        "student_3.age = 21"
      ],
      "metadata": {
        "id": "33HDjkWM2dBb"
      },
      "execution_count": 6,
      "outputs": []
    },
    {
      "cell_type": "code",
      "source": [
        "print(student_1.__dict__)\n",
        "print(student_2.__dict__)\n",
        "print(student_3.__dict__)"
      ],
      "metadata": {
        "colab": {
          "base_uri": "https://localhost:8080/"
        },
        "id": "4VBouuG23T60",
        "outputId": "e7f90b2e-08a3-4f3e-a06a-5dd3489aa2ba"
      },
      "execution_count": 7,
      "outputs": [
        {
          "output_type": "stream",
          "name": "stdout",
          "text": [
            "{'name': 'Mohit Agarwal', 'age': 20}\n",
            "{'roll_no': 109}\n",
            "{'age': 21}\n"
          ]
        }
      ]
    },
    {
      "cell_type": "code",
      "source": [
        "student_4 = student()   # Has no instance attributes\n",
        "print(student_4.__dict__)"
      ],
      "metadata": {
        "colab": {
          "base_uri": "https://localhost:8080/"
        },
        "id": "mlyT-UEc3s1R",
        "outputId": "3b40dea9-410c-4f68-8f36-4cb82036ac85"
      },
      "execution_count": 8,
      "outputs": [
        {
          "output_type": "stream",
          "name": "stdout",
          "text": [
            "{}\n"
          ]
        }
      ]
    },
    {
      "cell_type": "code",
      "source": [
        "print(student_1.name)   # This way we can access the attributes   "
      ],
      "metadata": {
        "colab": {
          "base_uri": "https://localhost:8080/"
        },
        "id": "S_PB1JhZ4BVY",
        "outputId": "674940fa-c73a-4b51-af11-1ee5e4756840"
      },
      "execution_count": 9,
      "outputs": [
        {
          "output_type": "stream",
          "name": "stdout",
          "text": [
            "Mohit Agarwal\n"
          ]
        }
      ]
    },
    {
      "cell_type": "markdown",
      "source": [
        "An object can have some properties and behaviour associated with it. The properties are known as attributes and the behaviours are known as the methods of the object. We will see how to \n",
        "create a class and object(refer to colab Lecture_1). We cannot leave a class empty without adding the attributes after defining it. We use 'pass' keyword to complete the syntax. The types \n",
        "of attributes or methods that we can add in the class are:\n",
        "(a) Instance Attributes: These are basically object attributes. Bound to a specific object and will have different values bfor different objects. Suppose 'name', 'age' will be different\n",
        "for every object so it is an instance attributes.\n",
        "(b) Class Attributes: These are the attributes for which the value is common for every object say for example 'class teacher' because the teacher is teaching several students so it is \n",
        "common for all those students and hence is a class attribute.\n"
      ],
      "metadata": {
        "id": "vnQixP-i0eDe"
      }
    },
    {
      "cell_type": "markdown",
      "source": [
        "Instance attributes are those attributes that are bound to a specific instance. These are owned by any specific instance of the class. The values should be different for every instance. \n",
        "Objects can have different instance attributes as per their requirement unlikie in java and C++. Like object student_1 can have attibutes like name, age; object student_2 can have \n",
        "attributes name, roll no. and so on. In python we can add instance attributes on the fly as per our requirements unlike in java and C++ where we had to define the instance and class \n",
        "attributes inside the class. In python each and every instance(object) of a class possesses a dictionary  which holds the list of attributes along with their values. \n"
      ],
      "metadata": {
        "id": "W_8f7ky-0f4m"
      }
    },
    {
      "cell_type": "markdown",
      "source": [
        "Class attributes are those attributes that are bound and owned by a specific class. For example: 'total students'. We can add class attributes dynamically as per our requirements. We can access class attributes \n",
        "using instances. \n",
        "Note: object_name.property -> is there any instance attribute with that property or not -> if yes we get that value -> if no we go and check in class attributes -> if yes we get the value \n",
        "-> if no we get error"
      ],
      "metadata": {
        "id": "Dy8apGet0p0S"
      }
    },
    {
      "cell_type": "markdown",
      "source": [
        "Methods are basically the behaviours that an object can possess and they are the operations that we can do on an object. The types of methods as instance, class and static methods.\n",
        "(a) Instance methods are like instance attributes that are bound to an instance and are actually owned by that instance. These used to perform operations on the instance attributes. These are those methods that we add inside the class. (b) Class methods are those methods that are owned by the class. These used to perform operations on the class attributes."
      ],
      "metadata": {
        "id": "fnTLpdfq0waY"
      }
    },
    {
      "cell_type": "code",
      "source": [
        "# 1) hasattr(object_name, 'attribute')\n",
        "print(hasattr(student_1, 'name'))"
      ],
      "metadata": {
        "colab": {
          "base_uri": "https://localhost:8080/"
        },
        "id": "oz7qmc6X4bDS",
        "outputId": "23568159-0971-4234-d706-e14497769d9a"
      },
      "execution_count": 10,
      "outputs": [
        {
          "output_type": "stream",
          "name": "stdout",
          "text": [
            "True\n"
          ]
        }
      ]
    },
    {
      "cell_type": "code",
      "source": [
        "# 2) setattr(object_name, 'attribute', value)\n",
        "# 3) delattr(object_name, 'attribute')\n",
        "# 4) getattr(object_name, 'attribute', default_value)"
      ],
      "metadata": {
        "id": "N1BM0QHd5Shu"
      },
      "execution_count": 11,
      "outputs": []
    },
    {
      "cell_type": "code",
      "source": [
        "student.total_students = 20   # Adding a class attribute\n",
        "print(student.__dict__)   # We get a dictionary showing the pre defined attributes and the class attribute that we have added"
      ],
      "metadata": {
        "colab": {
          "base_uri": "https://localhost:8080/"
        },
        "id": "j8bWB6ee7H2v",
        "outputId": "6896daf2-377d-4ce4-c000-7447c71edc92"
      },
      "execution_count": 12,
      "outputs": [
        {
          "output_type": "stream",
          "name": "stdout",
          "text": [
            "{'__module__': '__main__', '__dict__': <attribute '__dict__' of 'student' objects>, '__weakref__': <attribute '__weakref__' of 'student' objects>, '__doc__': None, 'total_students': 20}\n"
          ]
        }
      ]
    },
    {
      "cell_type": "code",
      "source": [
        "class student:\n",
        "  # Class attributes\n",
        "  total_student = 20\n",
        "  class_teacher = \"Kamal Singh\"\n",
        "student_1 = student()\n",
        "student_2 = student()"
      ],
      "metadata": {
        "id": "1xQy0VTt7sy2"
      },
      "execution_count": 13,
      "outputs": []
    },
    {
      "cell_type": "code",
      "source": [
        "print(student.__dict__)"
      ],
      "metadata": {
        "colab": {
          "base_uri": "https://localhost:8080/"
        },
        "id": "qZghvzjH8aT_",
        "outputId": "200d7be4-f318-4054-a27a-de8b88644831"
      },
      "execution_count": 14,
      "outputs": [
        {
          "output_type": "stream",
          "name": "stdout",
          "text": [
            "{'__module__': '__main__', 'total_student': 20, 'class_teacher': 'Kamal Singh', '__dict__': <attribute '__dict__' of 'student' objects>, '__weakref__': <attribute '__weakref__' of 'student' objects>, '__doc__': None}\n"
          ]
        }
      ]
    },
    {
      "cell_type": "code",
      "source": [
        "print(student_1.__dict__)\n",
        "print(student_2.__dict__)"
      ],
      "metadata": {
        "colab": {
          "base_uri": "https://localhost:8080/"
        },
        "id": "QPbaQhSh8ePE",
        "outputId": "1b44e8b3-e365-40bc-e874-d2732d56be11"
      },
      "execution_count": 15,
      "outputs": [
        {
          "output_type": "stream",
          "name": "stdout",
          "text": [
            "{}\n",
            "{}\n"
          ]
        }
      ]
    },
    {
      "cell_type": "code",
      "source": [
        "# Here we have have a class : student{attributes = total_student = 20, class_teacher = \"Kamal Singh\"} and instances : student_1{}, student_2"
      ],
      "metadata": {
        "id": "HuAZkT-c8qJU"
      },
      "execution_count": 16,
      "outputs": []
    },
    {
      "cell_type": "code",
      "source": [
        "print(student.total_student)\n",
        "print(student_1.total_student)\n",
        "print(student_2.total_student)"
      ],
      "metadata": {
        "colab": {
          "base_uri": "https://localhost:8080/"
        },
        "id": "nT1-M7849XIW",
        "outputId": "07b2176c-b5f9-4743-c8b8-dded5de1bc61"
      },
      "execution_count": 17,
      "outputs": [
        {
          "output_type": "stream",
          "name": "stdout",
          "text": [
            "20\n",
            "20\n",
            "20\n"
          ]
        }
      ]
    },
    {
      "cell_type": "code",
      "source": [
        "student.total_student = 30    # Change the value of attribute through class"
      ],
      "metadata": {
        "id": "ksT23LvQ98g2"
      },
      "execution_count": 18,
      "outputs": []
    },
    {
      "cell_type": "code",
      "source": [
        "print(student.total_student)\n",
        "print(student_1.total_student)\n",
        "print(student_2.total_student)"
      ],
      "metadata": {
        "colab": {
          "base_uri": "https://localhost:8080/"
        },
        "id": "5cgt__3L-Joy",
        "outputId": "8e7bc3f6-a37a-4537-b05b-2be2a5599f18"
      },
      "execution_count": 19,
      "outputs": [
        {
          "output_type": "stream",
          "name": "stdout",
          "text": [
            "30\n",
            "30\n",
            "30\n"
          ]
        }
      ]
    },
    {
      "cell_type": "code",
      "source": [
        "student_1.total_student = 40    # Change the value of attribute through object(instance)"
      ],
      "metadata": {
        "id": "QfLM-eYe-Pys"
      },
      "execution_count": 20,
      "outputs": []
    },
    {
      "cell_type": "code",
      "source": [
        "print(student.total_student)\n",
        "print(student_1.total_student)    # We got the value of instance attribute\n",
        "print(student_2.total_student)    # We got the value of the class attribute"
      ],
      "metadata": {
        "colab": {
          "base_uri": "https://localhost:8080/"
        },
        "id": "86wzNTvu-S4U",
        "outputId": "a27d9128-2ac9-4635-e376-cec385f3a4d9"
      },
      "execution_count": 21,
      "outputs": [
        {
          "output_type": "stream",
          "name": "stdout",
          "text": [
            "30\n",
            "40\n",
            "30\n"
          ]
        }
      ]
    },
    {
      "cell_type": "code",
      "source": [
        "print(student_1.__dict__)\n",
        "print(student_2.__dict__)"
      ],
      "metadata": {
        "colab": {
          "base_uri": "https://localhost:8080/"
        },
        "id": "bSajd46h-4lC",
        "outputId": "20b28fc4-6a2f-476e-b64d-dbddb2c34db7"
      },
      "execution_count": 22,
      "outputs": [
        {
          "output_type": "stream",
          "name": "stdout",
          "text": [
            "{'total_student': 40}\n",
            "{}\n"
          ]
        }
      ]
    },
    {
      "cell_type": "code",
      "source": [
        "# Whenever we try to change the value of class attribute through an instance that becomes an instance attribute of that instance"
      ],
      "metadata": {
        "id": "dzwvWZcB_Ji4"
      },
      "execution_count": 23,
      "outputs": []
    },
    {
      "cell_type": "code",
      "source": [
        "class student:\n",
        "  # Class attributes\n",
        "  total_student = 20\n",
        "  class_teacher = \"Kamal Singh\"\n",
        "  # Instance method\n",
        "  def printHello(self):\n",
        "    print(\"Hello\")\n",
        "  def print(self, str):\n",
        "    print(str)\n",
        "  def printName(self):\n",
        "    name = 'abc'\n",
        "    print(self.name)    # If we want to access the property of any object we have to mention 'self' explicitly\n",
        "    print(name)\n",
        "student_1 = student()\n",
        "student_2 = student()"
      ],
      "metadata": {
        "id": "zoZzBAYO_cpn"
      },
      "execution_count": 24,
      "outputs": []
    },
    {
      "cell_type": "code",
      "source": [
        "# Now if we run \"student_1.printHello()\" then python interprets the statement like this :  \"class_name.method_name(object_name)\". Here the argument is passed implicitly but the method has to receive it explicitly. We have a keyword 'self' in python that represents reference to the current object. So we have to receive an argument in the method as some variable that we write as 'self' as per the standards."
      ],
      "metadata": {
        "id": "GcWK7jl5bQ6H"
      },
      "execution_count": 25,
      "outputs": []
    },
    {
      "cell_type": "code",
      "source": [
        "student_1.printHello()\n",
        "student_1.print(\"Hi\")"
      ],
      "metadata": {
        "colab": {
          "base_uri": "https://localhost:8080/"
        },
        "id": "dSOrMIgKyQ_e",
        "outputId": "e2944ad2-dd27-47f4-a507-f5071ae0f1b3"
      },
      "execution_count": 26,
      "outputs": [
        {
          "output_type": "stream",
          "name": "stdout",
          "text": [
            "Hello\n",
            "Hi\n"
          ]
        }
      ]
    },
    {
      "cell_type": "code",
      "source": [
        "student.printHello(student_1)"
      ],
      "metadata": {
        "colab": {
          "base_uri": "https://localhost:8080/"
        },
        "id": "gu7tnyYOycFl",
        "outputId": "45c7c02b-9a1c-4ab7-c13d-525d5517ba0e"
      },
      "execution_count": 27,
      "outputs": [
        {
          "output_type": "stream",
          "name": "stdout",
          "text": [
            "Hello\n"
          ]
        }
      ]
    },
    {
      "cell_type": "code",
      "source": [
        "student_1.name = 'Mohit Agarwal'"
      ],
      "metadata": {
        "id": "j0OY62uhy3yZ"
      },
      "execution_count": 28,
      "outputs": []
    },
    {
      "cell_type": "code",
      "source": [
        "student_1.printName()"
      ],
      "metadata": {
        "colab": {
          "base_uri": "https://localhost:8080/"
        },
        "id": "17NqtTYhzBYf",
        "outputId": "abea9025-6a70-43b0-de16-fce623e8bef8"
      },
      "execution_count": 29,
      "outputs": [
        {
          "output_type": "stream",
          "name": "stdout",
          "text": [
            "Mohit Agarwal\n",
            "abc\n"
          ]
        }
      ]
    },
    {
      "cell_type": "code",
      "source": [
        "# Here we will discuss about instance attributes where we define a function to create new instance attribute say 'name' for my object\n"
      ],
      "metadata": {
        "id": "LG06MVe91gGP"
      },
      "execution_count": 30,
      "outputs": []
    },
    {
      "cell_type": "code",
      "source": [
        "class student :\n",
        "    # Class attributes\n",
        "    total_student = 20\n",
        "    class_teacher = \"Kamal Singh\"\n",
        "    # Instance methods\n",
        "    def printHello(self) : \n",
        "        print(\"Hello\")\n",
        "    def print(self, str) :\n",
        "        print(str)\n",
        "    def printName(self) : \n",
        "        print(self.name)\n",
        "    def addName(self, name) :\n",
        "        self.name = name\n",
        "    def test(self) :\n",
        "        student.total_student = 25\n",
        "        print(student.total_student)\n",
        "student_1 = student()\n",
        "student_2 = student()"
      ],
      "metadata": {
        "id": "stmezNI3iJLS"
      },
      "execution_count": 49,
      "outputs": []
    },
    {
      "cell_type": "code",
      "source": [
        "print(student_1.__dict__)\n",
        "print(student_2.__dict__)"
      ],
      "metadata": {
        "colab": {
          "base_uri": "https://localhost:8080/"
        },
        "id": "1dGYCoH01GCg",
        "outputId": "462b1ec3-357d-4f28-ed8b-3d09d6c15175"
      },
      "execution_count": 41,
      "outputs": [
        {
          "output_type": "stream",
          "name": "stdout",
          "text": [
            "{}\n",
            "{}\n"
          ]
        }
      ]
    },
    {
      "cell_type": "code",
      "source": [
        "# Creating\n",
        "student_1.addName('Mohit Agarwal')\n",
        "print(student_1.__dict__)\n",
        "print(student_2.__dict__)"
      ],
      "metadata": {
        "colab": {
          "base_uri": "https://localhost:8080/"
        },
        "id": "Ks63EKlS0XR-",
        "outputId": "8679c081-3be0-4964-e4b9-cadeb88c6bd0"
      },
      "execution_count": 42,
      "outputs": [
        {
          "output_type": "stream",
          "name": "stdout",
          "text": [
            "{'name': 'Mohit Agarwal'}\n",
            "{}\n"
          ]
        }
      ]
    },
    {
      "cell_type": "code",
      "source": [
        "# Updating\n",
        "student_1.addName('Aman Kumar')\n",
        "print(student_1.__dict__)\n",
        "print(student_2.__dict__)"
      ],
      "metadata": {
        "colab": {
          "base_uri": "https://localhost:8080/"
        },
        "id": "0jNTtQFa0jyj",
        "outputId": "f9e5adee-c0be-4eed-ad18-6c313016f4d0"
      },
      "execution_count": 43,
      "outputs": [
        {
          "output_type": "stream",
          "name": "stdout",
          "text": [
            "{'name': 'Aman Kumar'}\n",
            "{}\n"
          ]
        }
      ]
    },
    {
      "cell_type": "code",
      "source": [
        "# So when we call the 'addName' function we are getting only one instance attribute that too with updated value.  As soon as we call the function the control is passed to the function defination present in the class. First the function is checking that if self has any instance attribute 'name' and if yes the value is getting updated. If no a new instance attribute is created with this given value."
      ],
      "metadata": {
        "id": "4zFQQFjF02n6"
      },
      "execution_count": 44,
      "outputs": []
    },
    {
      "cell_type": "code",
      "source": [
        "student_2.printName()   # This gives an error because 'student_2' has no instance attribute 'name'"
      ],
      "metadata": {
        "id": "KErhm_Hq2Fsb"
      },
      "execution_count": null,
      "outputs": []
    },
    {
      "cell_type": "code",
      "source": [
        "# This is not a very good way to create attributes inside a method because we have to remember the order of function calling"
      ],
      "metadata": {
        "id": "N71Iqnh23r3i"
      },
      "execution_count": 45,
      "outputs": []
    },
    {
      "cell_type": "code",
      "source": [
        "# Inside any function when we try to access any variable without any specification ie without using any object/class, the function treats the variable as its local variable"
      ],
      "metadata": {
        "id": "K0tcVqWU4PgL"
      },
      "execution_count": 46,
      "outputs": []
    },
    {
      "cell_type": "code",
      "source": [
        "student_1.test()\n",
        "print(student.__dict__)"
      ],
      "metadata": {
        "colab": {
          "base_uri": "https://localhost:8080/"
        },
        "id": "uSNFibK17kCG",
        "outputId": "31e2a1ea-4666-4188-e19b-0df66e019768"
      },
      "execution_count": 50,
      "outputs": [
        {
          "output_type": "stream",
          "name": "stdout",
          "text": [
            "25\n",
            "{'__module__': '__main__', 'total_student': 25, 'class_teacher': 'Kamal Singh', 'printHello': <function student.printHello at 0x7f81e1491cb0>, 'print': <function student.print at 0x7f81e14913b0>, 'printName': <function student.printName at 0x7f81e1491ef0>, 'addName': <function student.addName at 0x7f81e1491680>, 'test': <function student.test at 0x7f81e1491e60>, '__dict__': <attribute '__dict__' of 'student' objects>, '__weakref__': <attribute '__weakref__' of 'student' objects>, '__doc__': None}\n"
          ]
        }
      ]
    }
  ]
}