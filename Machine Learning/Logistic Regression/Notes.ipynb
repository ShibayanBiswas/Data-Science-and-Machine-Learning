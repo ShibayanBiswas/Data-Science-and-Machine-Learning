{
 "cells": [
  {
   "cell_type": "markdown",
   "id": "0de2aec9",
   "metadata": {},
   "source": [
    "# **Logistic Regression**"
   ]
  },
  {
   "cell_type": "markdown",
   "id": "23cfd13c",
   "metadata": {},
   "source": [
    "## **Using Linear Regression for Classification**"
   ]
  },
  {
   "cell_type": "markdown",
   "id": "1be68e18",
   "metadata": {},
   "source": [
    "Linear Regression is a regression algorithm but can be used in classification problems as well.\n",
    "\n",
    "Let's consider an example where the results of linear regression are between 0 and 5 (real numbers like 3.567) and we need to classify the data into 6 categories i.e. 0, 1, 2, 3, 4, 5. A simple way of using this for classification is to just round off the result to the nearest integer between 0 and 5. So, if the result from linaer regression is [1.23, 0.43, 4.32, 3.49] we get the results of our classification as [1, 0, 4, 3] .\n",
    "\n",
    "We need to set the thresholds for classification. In the above example thresholds were: [0-0.5) for 0, [0.5,1.5) for 1, [1.5,2.5) for 2 and so on. You can decide your own threshold values depending on the data you have."
   ]
  },
  {
   "cell_type": "markdown",
   "id": "29e7d4d3",
   "metadata": {},
   "source": [
    "### **Why is linear regression bad for classification?**"
   ]
  },
  {
   "cell_type": "markdown",
   "id": "18ae4c49",
   "metadata": {},
   "source": [
    "Linear Regression can be used for classification by defining appropriate threshold values, but it is not the right algorithm for classification problems because:\n",
    "\n",
    "1. Outliers can affect the best fit line and thus the decision boundary.\n",
    "Values predicted by Linear Regression will be continuous, whereas expected results will be discrete.\n",
    "2. With linear regression you fit a polynomial through the data - say, like in the example below we're fitting a straight line through {tumor size, tumor type} sample set:\n",
    "\n",
    "<img src = \"\thttps://files.codingninjas.in/one-7065.png\" width = '500' >\n",
    "\n",
    "In the above case, **malignant tumors** get 1 and **non-malignant (benign) tumors** get 0, and the green line is our hypothesis h(x). To make predictions we may say that for any given tumor size x, if h(x) is greater than 0.5 we predict malignant tumor, otherwise we predict benign."
   ]
  },
  {
   "cell_type": "markdown",
   "id": "6f81efbc",
   "metadata": {},
   "source": [
    "It seems that everytime we will easily have the right answer according to the data above, right? \n",
    "\n",
    "Lets change the data a little bit and for a quite large value of tumor size lets add a Malignant cancer data point. Now our line h(x) begins to look somewhat like this: \n",
    "\n",
    "<img src = \"https://files.codingninjas.in/three-7066.png\" width = '700'>\n",
    "\n",
    "We can clearly see that now the predictions are not correct. Because we are trying to fit a line through the data we are getting, the line will be dependant on the quality and type of data we get. We cannot change the hypothesis each time a new sample arrives. Instead, we should learn it off the training set data, and then (using the hypothesis we've learned) make correct predictions for the data we haven't seen before. This can be done by creating a **decision boundary**."
   ]
  },
  {
   "cell_type": "markdown",
   "id": "96e4b138",
   "metadata": {},
   "source": [
    "**Decision Boundary** is the boundary which seperates the two regions in classification. If we have a binary classification with values 0 and 1 then one side of this boundary will be 0 and the other will be 1. Take a look at the image below.\n",
    "\n",
    "<img src = \"https://files.codingninjas.in/two-7067.png\" width = '700'>\n",
    "\n",
    "\n",
    "Here, the purple colour line is the decision boundary. All points on the left side of this line correspond to 0 and points on the right side correspond to 1. In the above problem (and also many other classification problems) we place greater importance on the fact that the points are placed on the correct side of the decision boundary and not so much on their distance from it. What this means is that it's alright if the points are quite close to the decision boundary, as long as they are on the right side of it."
   ]
  },
  {
   "cell_type": "markdown",
   "id": "0168fea9",
   "metadata": {},
   "source": [
    "The above decision boundary (purple line) is similar to the one which would have been generated if we would have used **Logistic Regression** in the above problem. Both linear regression and logistic regression give us a straight line (or a higher order polynomial) but those lines have different meaning:\n",
    "1. The line for Linear Regression interpolates, or extrapolates, the output and predicts the value for x we haven't seen.\n",
    "2. h(x) for Logistic Regression tells you the measure (e.g. probability) that x belongs to the \"positive\" class. You can see the line formed as the decision boundary."
   ]
  },
  {
   "cell_type": "markdown",
   "id": "d1eb4736",
   "metadata": {},
   "source": [
    "## **Logistic Regression**"
   ]
  },
  {
   "cell_type": "markdown",
   "id": "2bd0b54f",
   "metadata": {},
   "source": [
    "Logistic Regression is a statistical method for analyzing a dataset in which there are one or more independent variables that determine an outcome. Logistic Regression is actually a classification algorithm. Logistic regression is used to describe data and to explain the relationship between one dependent binary variable and one or more nominal, ordinal, interval or ratio-level independent variables.\n",
    "Before starting with Logistic regression we need to know about a function called **Sigmoid Function** and its properties."
   ]
  },
  {
   "cell_type": "markdown",
   "id": "0a436e00",
   "metadata": {},
   "source": [
    "**Sigmoid Function**\n",
    "\n",
    "A sigmoid function is a mathematical function having an \"S\" shaped curve (sigmoid curve). Mathematically , the function is :\n",
    "\n",
    "$$S(t) = \\frac{1}{1 + e^{-t}} $$\n",
    "\n",
    "Its curve looks like :\n",
    "\n",
    "$\\qquad\\qquad\\qquad\\qquad\\qquad\\qquad\\quad$ <img src=\"https://files.codingninjas.in/s2-7068.png\">\n",
    "\n",
    "With its output ranging between 0 and 1. As we can clearly see that the the curve quickly goes toward 1 when t > 0 and toward 0 when t < 0. At t = 0 it is equal to 0.5. \n",
    "\n",
    "Value of the above function for t = 2 is 0.88 and for t = -2 is 0.119 , which shows how sharply it goes towards 0 and 1."
   ]
  },
  {
   "cell_type": "markdown",
   "id": "8cc5b836",
   "metadata": {},
   "source": [
    "Because of sigmoid function's property to give output between 0 and 1, we can use its output like a probability, but not exactly as probability. For example, the property of probability that P(true) + P(false) = 1 may not be true is case of sigmoid function i.e. S(true) + S(false) **may not be equal to 1**."
   ]
  },
  {
   "cell_type": "markdown",
   "id": "2221633b",
   "metadata": {},
   "source": [
    "### **Cost Function of Logistic Regression**"
   ]
  },
  {
   "cell_type": "markdown",
   "id": "968136f4",
   "metadata": {},
   "source": [
    "Earlier in linear regression we have used the following cost function:\n",
    "$$ \\sum^n_{k = 1}(y_t - y_p)^2 $$\n",
    "where in $y_p$ was replaced by its value mx.\n",
    "$$ \\sum^n_{k = 1}(y - mx)^2 $$\n",
    "\n",
    "This cost function was of degree 2 and had only one minimum. \n",
    "\n",
    "But in the case of Logistic Regression, if we use the same cost function then the cost function will end up having many minimas because of the hypothesis function of Logistic Regression. Therefore while estimating a minimum value we may end up at some **local minimum rather than a global minimum.**\n",
    "\n",
    "$$ \\sum^n_{k = 1}(y - \\frac{1}{1 + e^{-mx}})^2 $$"
   ]
  },
  {
   "cell_type": "markdown",
   "id": "477e1434",
   "metadata": {},
   "source": [
    "So here we use **cross entropy** to measure the cost of our model.\n",
    "\n",
    "$$cost = -log(h(x)) \\enspace if \\enspace y = 1$$\n",
    "$$\\qquad\\qquad\\;\\;\\; -log(1-h(x)) \\enspace if \\enspace y = 0 $$\n",
    "\n",
    "\n",
    "here h(x) is the hypothesis function for Logistic Regression (i.e sigmoid function) and y is the actual true output, i.e. the actual label, for the current considered values of features.\n",
    "\n",
    "This error function penalizes for the wrong predictions we make.\n",
    "\n",
    "For example, consider that y (the actual label) is 1 and we classify it as e (e is tending to zero), then our cost will be $-log(e)$ i.e a very very high positive value, and the cost reduces as we classify it near to 1 . The cost becomes zero when we classify it correctly as 1 . Also consider that y (the actual label) is 0 and we classify it as t (nearly equal to 1), then the cost for that will be $-log(1-t) = -log(e)$, where e is tending to zero, and again the cost has a very very high positive value. And the cost tends to zero when we classify it correctly as 0.\n",
    "\n",
    "<img src = \"https://files.codingninjas.in/log-7070.png\">"
   ]
  },
  {
   "cell_type": "markdown",
   "id": "4ae1d1dc",
   "metadata": {},
   "source": [
    "We can combine the two cases of our cost function as:\n",
    "$$ cost = [-y * log(h(x))]-[(1-y) * log(1-h(x))] $$\n",
    "\n",
    "Cost function can also be labelled as the error function for our model.\n",
    "For $i^{th}$ point\n",
    "\n",
    "$$ E(h(x^i), y^i) = [-y^i * log(h(x^i))]-[(1-y^i) * log(1-h(x^i))] $$\n",
    "\n",
    "So, for the entire dataset containing $x$ and $y$ will be \n",
    "\n",
    "$$ E(x, y) = \\frac{1}{M}\\sum^M_{i = 0}(-y^i * log(h(x^i))]-[(1-y^i) * log(1-h(x^i))) $$\n",
    "\n",
    "where M is the number of training points.\n",
    "\n",
    "The only parameter which we can vary in our cost function is h(x) and therein the variable is m, shown below : \n",
    "\n",
    "$$ h(x) = \\frac{1}{1 + e^{-mx}} $$\n",
    "\n",
    "Hence our aim is to improve the accuracy of our model and reduce the cost by selecting a proper value(s) for m , and we do so by **gradient descent** as it was done in linear regression.\n",
    "\n",
    "Our cost function is a convex function, i.e it has only one local minimum therefore we can use **Gradient Descent** approach to find the apt value of m."
   ]
  },
  {
   "cell_type": "markdown",
   "id": "7e4559c6",
   "metadata": {},
   "source": [
    "### **Finding Optimal values of 'm'**"
   ]
  },
  {
   "cell_type": "markdown",
   "id": "22fb65c2",
   "metadata": {},
   "source": [
    "From gradient descent, we know that\n",
    "\n",
    "$$ m_j = m_j - \\alpha \\frac{\\partial E}{\\partial{m_j}} $$\n",
    "\n",
    "So we need to find $\\frac{\\partial E}{\\partial{m_j}}$\n",
    "\n",
    "\n",
    "Solving this derivative gives us the value as\n",
    "\n",
    "$$\\frac{\\partial E}{\\partial{m_j}} = \\frac{1}{m} \\sum_i(y^i - h(x^i))x_j^i $$"
   ]
  },
  {
   "cell_type": "markdown",
   "id": "e68cfd26",
   "metadata": {},
   "source": [
    "## **Multi-Class Classification**"
   ]
  },
  {
   "cell_type": "markdown",
   "id": "726b9d73",
   "metadata": {},
   "source": [
    "Binary classification tasks are those tasks where examples are assigned exactly one of two classes. Multi-class classification tasks are those tasks where examples are assigned exactly one of more than two classes.\n",
    "\n",
    "**Binary Classification:** Classification tasks with two classes.\n",
    "\n",
    "**Multi-class Classification:** Classification tasks with more than two classes.\n",
    "\n",
    "As such, logistic regression cannot be used for multi-class classification tasks, at least not directly.\n",
    "\n",
    "Instead, heuristic methods can be used to split a multi-class classification problem into multiple binary classification datasets and train a binary classification model each.\n",
    "\n",
    "Two examples of these heuristic methods include:\n",
    "\n",
    "1. One-vs-Rest (OvR)\n",
    "2. One-vs-One (OvO)"
   ]
  },
  {
   "cell_type": "markdown",
   "id": "00a46740",
   "metadata": {},
   "source": [
    "### **One-vs-Rest**"
   ]
  },
  {
   "cell_type": "markdown",
   "id": "8a1d738a",
   "metadata": {},
   "source": [
    "One-Vs-Rest for Multi-Class Classification\n",
    "One-vs-rest (OvR for short, also referred to as One-vs-All or OvA) is a heuristic method for using binary classification algorithms for multi-class classification.\n",
    "\n",
    "It involves splitting the multi-class dataset into multiple binary classification problems. A binary classifier is then trained on each binary classification problem and predictions are made using the model that is the most confident.\n",
    "\n",
    "For example, given a multi-class classification problem with examples for each class 'red', 'blue' and 'green'. This could be divided into three binary classification datasets as follows:\n",
    "\n",
    "**Binary Classification Problem 1:** red vs [blue, green]\n",
    "\n",
    "**Binary Classification Problem 2:** blue vs [red, green]\n",
    "\n",
    "**Binary Classification Problem 3:** green vs [red, blue]\n",
    "\n",
    "A possible downside of this approach is that it requires one model to be created for each class. For example, three classes requires three models. This could be an issue for large datasets (e.g. millions of rows), slow models (e.g. neural networks), or very large numbers of classes (e.g. hundreds of classes).\n",
    "\n",
    "This approach requires that each model predicts a class membership probability or a probability-like score. The argmax of these scores (class index with the largest score) is then used to predict a class."
   ]
  },
  {
   "cell_type": "markdown",
   "id": "2e934bb0",
   "metadata": {},
   "source": [
    "### **One-vs-One**"
   ]
  },
  {
   "cell_type": "markdown",
   "id": "987179ea",
   "metadata": {},
   "source": [
    "One-vs-One (OvO for short) is another heuristic method for using binary classification algorithms for multi-class classification.\n",
    "\n",
    "Like one-vs-rest, one-vs-one splits a multi-class classification dataset into binary classification problems. Unlike one-vs-rest that splits it into one binary dataset for each class, the one-vs-one approach splits the dataset into one dataset for each class versus every other class.\n",
    "\n",
    "For example, consider a multi-class classification problem with four classes: ‘red,’ ‘blue,’ and ‘green,’ ‘yellow.’ This could be divided into six binary classification datasets as follows:\n",
    "\n",
    "**Binary Classification Problem 1:** red vs. blue\n",
    "\n",
    "**Binary Classification Problem 2:** red vs. green\n",
    "\n",
    "**Binary Classification Problem 3:** red vs. yellow\n",
    "\n",
    "**Binary Classification Problem 4:** blue vs. green\n",
    "\n",
    "**Binary Classification Problem 5:** blue vs. yellow\n",
    "\n",
    "**Binary Classification Problem 6:** green vs. yellow\n",
    "\n",
    "This is significantly more datasets, and in turn, models than the one-vs-rest strategy described in the previous section.\n",
    "\n",
    "The formula for calculating the number of models, is as follows:\n",
    "\n",
    "$$\\frac{NumClasses * (NumClasses – 1)} {2}$$\n",
    "\n",
    "We can see that for four classes, this gives us the value of six binary classification problems:\n",
    "\n",
    "$$\\frac{NumClasses * (NumClasses – 1)} {2}$$"
   ]
  },
  {
   "cell_type": "markdown",
   "id": "ca00448c",
   "metadata": {},
   "source": [
    "$$\\frac{4 * (4 – 1)}{2}$$"
   ]
  },
  {
   "cell_type": "markdown",
   "id": "58e96e8b",
   "metadata": {},
   "source": [
    "$$\\frac{4 * 3}{2}$$\n"
   ]
  },
  {
   "cell_type": "markdown",
   "id": "63e7b733",
   "metadata": {},
   "source": [
    "$$6$$\n",
    "Each binary classification model may predict one class label and the model with the most predictions or votes is predicted by the one-vs-one strategy.\n",
    "\n",
    "Similarly, if the binary classification models predict a numerical class membership, such as a probability, then the argmax of the sum of the scores (class with the largest sum score) is predicted as the class label."
   ]
  },
  {
   "cell_type": "markdown",
   "id": "299830e0",
   "metadata": {},
   "source": [
    "## **Creating useful features from given features and regularisation**"
   ]
  },
  {
   "cell_type": "markdown",
   "id": "d3e22ac1",
   "metadata": {},
   "source": [
    "A common practise is to use the extended form by creating extra features from the given set of features. One way of doing this is shown here. This is the most general way and is used widely .\n",
    "Let's take an example in which we have 3 features f1, f2, and f3. For these features we will have an equation for input to sigmoid with at most one degree in f1, f2, and f3. By degree 1 we mean equations of the form $a(f1)+b(f2)+c(f3)+d$, where a, b, c, and d are some coefficients.\n",
    "\n",
    "What we plan to do is add more features such as $f1*f1$ , $f2*f2$ , $f3*f3$ , $f1*f3$, $f1*f2$ and $f2*f3$ so that our equation can be of 2nd degree. The main point to note here is that we have increased our number of features from just 3 to 9, but the newly added 6 features are derived from the already existing 3 features.\n",
    "\n",
    "You can create and add features of any degree you feel like. $f1*f2*f3$ will make an equation of 3rd degree. The more features you add the better your decision boundary tries to fit in the training data. Generally we get better results with higher degree terms in the equation.\n",
    "\n",
    "We must acknowledge the fact that if the dependancy of the output is very low on the a certain factor say $f1*f2$ then the model will assign a value to its coefficient which ensures that it has less effect in the output.\n",
    "With higher degree features being added to the dataset we are now able to achieve boundaries of many shapes such as parabolic and even some complex shapes.\n",
    "\n",
    "This addition of features comes with a cost. If we keep on adding more and more features of higher degree, our model to try to fit itself more to the training data and may cause the problem of **overfitting**."
   ]
  },
  {
   "cell_type": "markdown",
   "id": "89db93f6",
   "metadata": {},
   "source": [
    "**Overfitting** is a modeling error which occurs when a function is too closely fit to a limited set of data points. Due to this, the model responds poorly to the unseen data or the testing data. This is one of many reasons for a trained model to perform poorly on test data.\n",
    "So we need to have a trade off between the complexity of features we want to use and the extent to which we want our model to fit to the training data."
   ]
  },
  {
   "cell_type": "markdown",
   "id": "f4089911",
   "metadata": {},
   "source": [
    "Consider the example below for more clarity:\n",
    "\n",
    "<img src = \"https://files.codingninjas.in/r1-7071.png\">"
   ]
  },
  {
   "cell_type": "markdown",
   "id": "e638f4dd",
   "metadata": {},
   "source": [
    "In the above example we see that in the first figure when we use equation of degree one we just get a line which does not depict the data nicely.\n",
    "For the second figure we use equation of degree 2 as we have terms like x1*x2. The curve we obtain here is depicting the data quite well. This should be the optimal solution even though it has a couple of wrong classifications. In the third example we use equation with degree 5. We can clearly see that the decision boundary is trying to fit itself to the data. This is the case of over fitting."
   ]
  },
  {
   "cell_type": "markdown",
   "id": "b73c4be8",
   "metadata": {},
   "source": [
    "#### **Regularisation**"
   ]
  },
  {
   "cell_type": "markdown",
   "id": "dff208f3",
   "metadata": {},
   "source": [
    "One way of reducing overfitting is by **regularisation**. A very simple explaination of regularisation can be that it discourages complex features in the dataset. Let's try to understand regularisation with an example.\n",
    "Assume that we have:\n",
    "\n",
    "$(m_1*x_1) + (m_2*x_2) + (m_3*x_1*x_1) + (m_4*x_2*x_2) + (m_5*x_1*x_2)$ \n",
    "\n",
    "as our input to the sigmoid function in case of Logistic regression.\n",
    "We add this term to the cost function:"
   ]
  },
  {
   "cell_type": "markdown",
   "id": "0657d60e",
   "metadata": {},
   "source": [
    "$$ \\beta(\\sum^n_{k = 1}(m_k)^2) $$ "
   ]
  },
  {
   "cell_type": "markdown",
   "id": "7f4b9879",
   "metadata": {},
   "source": [
    "where β is the regularisation parameter and m are the coefficients given to n features. We are actually telling our model that the more importance you give to a particular feature the more it will add to the cost function. So this automatically acts as a deciding factor for the model. A particular feature will be give higher valued coefficient only if it is significantly important in deciding the outcome. This will naturally reduce overfitting.\n",
    "\n",
    "This type of regularisation in which we add square of the coefficient's value multiplied by $\\beta$ to the cost function is called **L2 Regularisation** and if we just added the coefficients value multiplied by $\\beta$ to the cost function, it is called **L1 Regularisation**."
   ]
  },
  {
   "cell_type": "markdown",
   "id": "887d5007",
   "metadata": {},
   "source": [
    "## **Using Sklearn for Logistic Regression**"
   ]
  },
  {
   "cell_type": "markdown",
   "id": "f699315f",
   "metadata": {},
   "source": [
    "Dataset used : Breast Cancer Dataset"
   ]
  },
  {
   "cell_type": "code",
   "execution_count": 1,
   "id": "6ab428eb",
   "metadata": {},
   "outputs": [],
   "source": [
    "from sklearn import datasets\n",
    "from sklearn.exceptions import ConvergenceWarning"
   ]
  },
  {
   "cell_type": "code",
   "execution_count": 2,
   "id": "3f060bd6",
   "metadata": {},
   "outputs": [],
   "source": [
    "# Ignore warnings\n",
    "import warnings\n",
    "warnings.filterwarnings(\"ignore\", category = FutureWarning)\n",
    "warnings.filterwarnings(\"ignore\", category = ConvergenceWarning)"
   ]
  },
  {
   "cell_type": "code",
   "execution_count": 3,
   "id": "bc797887",
   "metadata": {},
   "outputs": [
    {
     "data": {
      "text/plain": [
       "{'data': array([[1.799e+01, 1.038e+01, 1.228e+02, ..., 2.654e-01, 4.601e-01,\n",
       "         1.189e-01],\n",
       "        [2.057e+01, 1.777e+01, 1.329e+02, ..., 1.860e-01, 2.750e-01,\n",
       "         8.902e-02],\n",
       "        [1.969e+01, 2.125e+01, 1.300e+02, ..., 2.430e-01, 3.613e-01,\n",
       "         8.758e-02],\n",
       "        ...,\n",
       "        [1.660e+01, 2.808e+01, 1.083e+02, ..., 1.418e-01, 2.218e-01,\n",
       "         7.820e-02],\n",
       "        [2.060e+01, 2.933e+01, 1.401e+02, ..., 2.650e-01, 4.087e-01,\n",
       "         1.240e-01],\n",
       "        [7.760e+00, 2.454e+01, 4.792e+01, ..., 0.000e+00, 2.871e-01,\n",
       "         7.039e-02]]),\n",
       " 'target': array([0, 0, 0, 0, 0, 0, 0, 0, 0, 0, 0, 0, 0, 0, 0, 0, 0, 0, 0, 1, 1, 1,\n",
       "        0, 0, 0, 0, 0, 0, 0, 0, 0, 0, 0, 0, 0, 0, 0, 1, 0, 0, 0, 0, 0, 0,\n",
       "        0, 0, 1, 0, 1, 1, 1, 1, 1, 0, 0, 1, 0, 0, 1, 1, 1, 1, 0, 1, 0, 0,\n",
       "        1, 1, 1, 1, 0, 1, 0, 0, 1, 0, 1, 0, 0, 1, 1, 1, 0, 0, 1, 0, 0, 0,\n",
       "        1, 1, 1, 0, 1, 1, 0, 0, 1, 1, 1, 0, 0, 1, 1, 1, 1, 0, 1, 1, 0, 1,\n",
       "        1, 1, 1, 1, 1, 1, 1, 0, 0, 0, 1, 0, 0, 1, 1, 1, 0, 0, 1, 0, 1, 0,\n",
       "        0, 1, 0, 0, 1, 1, 0, 1, 1, 0, 1, 1, 1, 1, 0, 1, 1, 1, 1, 1, 1, 1,\n",
       "        1, 1, 0, 1, 1, 1, 1, 0, 0, 1, 0, 1, 1, 0, 0, 1, 1, 0, 0, 1, 1, 1,\n",
       "        1, 0, 1, 1, 0, 0, 0, 1, 0, 1, 0, 1, 1, 1, 0, 1, 1, 0, 0, 1, 0, 0,\n",
       "        0, 0, 1, 0, 0, 0, 1, 0, 1, 0, 1, 1, 0, 1, 0, 0, 0, 0, 1, 1, 0, 0,\n",
       "        1, 1, 1, 0, 1, 1, 1, 1, 1, 0, 0, 1, 1, 0, 1, 1, 0, 0, 1, 0, 1, 1,\n",
       "        1, 1, 0, 1, 1, 1, 1, 1, 0, 1, 0, 0, 0, 0, 0, 0, 0, 0, 0, 0, 0, 0,\n",
       "        0, 0, 1, 1, 1, 1, 1, 1, 0, 1, 0, 1, 1, 0, 1, 1, 0, 1, 0, 0, 1, 1,\n",
       "        1, 1, 1, 1, 1, 1, 1, 1, 1, 1, 1, 0, 1, 1, 0, 1, 0, 1, 1, 1, 1, 1,\n",
       "        1, 1, 1, 1, 1, 1, 1, 1, 1, 0, 1, 1, 1, 0, 1, 0, 1, 1, 1, 1, 0, 0,\n",
       "        0, 1, 1, 1, 1, 0, 1, 0, 1, 0, 1, 1, 1, 0, 1, 1, 1, 1, 1, 1, 1, 0,\n",
       "        0, 0, 1, 1, 1, 1, 1, 1, 1, 1, 1, 1, 1, 0, 0, 1, 0, 0, 0, 1, 0, 0,\n",
       "        1, 1, 1, 1, 1, 0, 1, 1, 1, 1, 1, 0, 1, 1, 1, 0, 1, 1, 0, 0, 1, 1,\n",
       "        1, 1, 1, 1, 0, 1, 1, 1, 1, 1, 1, 1, 0, 1, 1, 1, 1, 1, 0, 1, 1, 0,\n",
       "        1, 1, 1, 1, 1, 1, 1, 1, 1, 1, 1, 1, 0, 1, 0, 0, 1, 0, 1, 1, 1, 1,\n",
       "        1, 0, 1, 1, 0, 1, 0, 1, 1, 0, 1, 0, 1, 1, 1, 1, 1, 1, 1, 1, 0, 0,\n",
       "        1, 1, 1, 1, 1, 1, 0, 1, 1, 1, 1, 1, 1, 1, 1, 1, 1, 0, 1, 1, 1, 1,\n",
       "        1, 1, 1, 0, 1, 0, 1, 1, 0, 1, 1, 1, 1, 1, 0, 0, 1, 0, 1, 0, 1, 1,\n",
       "        1, 1, 1, 0, 1, 1, 0, 1, 0, 1, 0, 0, 1, 1, 1, 0, 1, 1, 1, 1, 1, 1,\n",
       "        1, 1, 1, 1, 1, 0, 1, 0, 0, 1, 1, 1, 1, 1, 1, 1, 1, 1, 1, 1, 1, 1,\n",
       "        1, 1, 1, 1, 1, 1, 1, 1, 1, 1, 1, 1, 0, 0, 0, 0, 0, 0, 1]),\n",
       " 'frame': None,\n",
       " 'target_names': array(['malignant', 'benign'], dtype='<U9'),\n",
       " 'DESCR': '.. _breast_cancer_dataset:\\n\\nBreast cancer wisconsin (diagnostic) dataset\\n--------------------------------------------\\n\\n**Data Set Characteristics:**\\n\\n    :Number of Instances: 569\\n\\n    :Number of Attributes: 30 numeric, predictive attributes and the class\\n\\n    :Attribute Information:\\n        - radius (mean of distances from center to points on the perimeter)\\n        - texture (standard deviation of gray-scale values)\\n        - perimeter\\n        - area\\n        - smoothness (local variation in radius lengths)\\n        - compactness (perimeter^2 / area - 1.0)\\n        - concavity (severity of concave portions of the contour)\\n        - concave points (number of concave portions of the contour)\\n        - symmetry\\n        - fractal dimension (\"coastline approximation\" - 1)\\n\\n        The mean, standard error, and \"worst\" or largest (mean of the three\\n        worst/largest values) of these features were computed for each image,\\n        resulting in 30 features.  For instance, field 0 is Mean Radius, field\\n        10 is Radius SE, field 20 is Worst Radius.\\n\\n        - class:\\n                - WDBC-Malignant\\n                - WDBC-Benign\\n\\n    :Summary Statistics:\\n\\n    ===================================== ====== ======\\n                                           Min    Max\\n    ===================================== ====== ======\\n    radius (mean):                        6.981  28.11\\n    texture (mean):                       9.71   39.28\\n    perimeter (mean):                     43.79  188.5\\n    area (mean):                          143.5  2501.0\\n    smoothness (mean):                    0.053  0.163\\n    compactness (mean):                   0.019  0.345\\n    concavity (mean):                     0.0    0.427\\n    concave points (mean):                0.0    0.201\\n    symmetry (mean):                      0.106  0.304\\n    fractal dimension (mean):             0.05   0.097\\n    radius (standard error):              0.112  2.873\\n    texture (standard error):             0.36   4.885\\n    perimeter (standard error):           0.757  21.98\\n    area (standard error):                6.802  542.2\\n    smoothness (standard error):          0.002  0.031\\n    compactness (standard error):         0.002  0.135\\n    concavity (standard error):           0.0    0.396\\n    concave points (standard error):      0.0    0.053\\n    symmetry (standard error):            0.008  0.079\\n    fractal dimension (standard error):   0.001  0.03\\n    radius (worst):                       7.93   36.04\\n    texture (worst):                      12.02  49.54\\n    perimeter (worst):                    50.41  251.2\\n    area (worst):                         185.2  4254.0\\n    smoothness (worst):                   0.071  0.223\\n    compactness (worst):                  0.027  1.058\\n    concavity (worst):                    0.0    1.252\\n    concave points (worst):               0.0    0.291\\n    symmetry (worst):                     0.156  0.664\\n    fractal dimension (worst):            0.055  0.208\\n    ===================================== ====== ======\\n\\n    :Missing Attribute Values: None\\n\\n    :Class Distribution: 212 - Malignant, 357 - Benign\\n\\n    :Creator:  Dr. William H. Wolberg, W. Nick Street, Olvi L. Mangasarian\\n\\n    :Donor: Nick Street\\n\\n    :Date: November, 1995\\n\\nThis is a copy of UCI ML Breast Cancer Wisconsin (Diagnostic) datasets.\\nhttps://goo.gl/U2Uwz2\\n\\nFeatures are computed from a digitized image of a fine needle\\naspirate (FNA) of a breast mass.  They describe\\ncharacteristics of the cell nuclei present in the image.\\n\\nSeparating plane described above was obtained using\\nMultisurface Method-Tree (MSM-T) [K. P. Bennett, \"Decision Tree\\nConstruction Via Linear Programming.\" Proceedings of the 4th\\nMidwest Artificial Intelligence and Cognitive Science Society,\\npp. 97-101, 1992], a classification method which uses linear\\nprogramming to construct a decision tree.  Relevant features\\nwere selected using an exhaustive search in the space of 1-4\\nfeatures and 1-3 separating planes.\\n\\nThe actual linear program used to obtain the separating plane\\nin the 3-dimensional space is that described in:\\n[K. P. Bennett and O. L. Mangasarian: \"Robust Linear\\nProgramming Discrimination of Two Linearly Inseparable Sets\",\\nOptimization Methods and Software 1, 1992, 23-34].\\n\\nThis database is also available through the UW CS ftp server:\\n\\nftp ftp.cs.wisc.edu\\ncd math-prog/cpo-dataset/machine-learn/WDBC/\\n\\n.. topic:: References\\n\\n   - W.N. Street, W.H. Wolberg and O.L. Mangasarian. Nuclear feature extraction \\n     for breast tumor diagnosis. IS&T/SPIE 1993 International Symposium on \\n     Electronic Imaging: Science and Technology, volume 1905, pages 861-870,\\n     San Jose, CA, 1993.\\n   - O.L. Mangasarian, W.N. Street and W.H. Wolberg. Breast cancer diagnosis and \\n     prognosis via linear programming. Operations Research, 43(4), pages 570-577, \\n     July-August 1995.\\n   - W.H. Wolberg, W.N. Street, and O.L. Mangasarian. Machine learning techniques\\n     to diagnose breast cancer from fine-needle aspirates. Cancer Letters 77 (1994) \\n     163-171.',\n",
       " 'feature_names': array(['mean radius', 'mean texture', 'mean perimeter', 'mean area',\n",
       "        'mean smoothness', 'mean compactness', 'mean concavity',\n",
       "        'mean concave points', 'mean symmetry', 'mean fractal dimension',\n",
       "        'radius error', 'texture error', 'perimeter error', 'area error',\n",
       "        'smoothness error', 'compactness error', 'concavity error',\n",
       "        'concave points error', 'symmetry error',\n",
       "        'fractal dimension error', 'worst radius', 'worst texture',\n",
       "        'worst perimeter', 'worst area', 'worst smoothness',\n",
       "        'worst compactness', 'worst concavity', 'worst concave points',\n",
       "        'worst symmetry', 'worst fractal dimension'], dtype='<U23'),\n",
       " 'filename': 'breast_cancer.csv',\n",
       " 'data_module': 'sklearn.datasets.data'}"
      ]
     },
     "execution_count": 3,
     "metadata": {},
     "output_type": "execute_result"
    }
   ],
   "source": [
    "# Loading the dataset (get the features, output and description about the dataset)\n",
    "cancer_ds = datasets.load_breast_cancer() \n",
    "cancer_ds"
   ]
  },
  {
   "cell_type": "code",
   "execution_count": 4,
   "id": "107c2ccc",
   "metadata": {},
   "outputs": [],
   "source": [
    "# Getting the input features (numpy array)\n",
    "X = cancer_ds.data\n",
    "\n",
    "# Getting the output (numpy array)\n",
    "Y = cancer_ds.target"
   ]
  },
  {
   "cell_type": "code",
   "execution_count": 5,
   "id": "3d6efa57",
   "metadata": {},
   "outputs": [
    {
     "data": {
      "text/plain": [
       "(569, 30)"
      ]
     },
     "execution_count": 5,
     "metadata": {},
     "output_type": "execute_result"
    }
   ],
   "source": [
    "# Shape of the input features (it's a numpy array). Output : (rows, columns/features)\n",
    "X.shape"
   ]
  },
  {
   "cell_type": "code",
   "execution_count": 6,
   "id": "467f4066",
   "metadata": {},
   "outputs": [
    {
     "data": {
      "text/html": [
       "<div>\n",
       "<style scoped>\n",
       "    .dataframe tbody tr th:only-of-type {\n",
       "        vertical-align: middle;\n",
       "    }\n",
       "\n",
       "    .dataframe tbody tr th {\n",
       "        vertical-align: top;\n",
       "    }\n",
       "\n",
       "    .dataframe thead th {\n",
       "        text-align: right;\n",
       "    }\n",
       "</style>\n",
       "<table border=\"1\" class=\"dataframe\">\n",
       "  <thead>\n",
       "    <tr style=\"text-align: right;\">\n",
       "      <th></th>\n",
       "      <th>mean radius</th>\n",
       "      <th>mean texture</th>\n",
       "      <th>mean perimeter</th>\n",
       "      <th>mean area</th>\n",
       "      <th>mean smoothness</th>\n",
       "      <th>mean compactness</th>\n",
       "      <th>mean concavity</th>\n",
       "      <th>mean concave points</th>\n",
       "      <th>mean symmetry</th>\n",
       "      <th>mean fractal dimension</th>\n",
       "      <th>...</th>\n",
       "      <th>worst radius</th>\n",
       "      <th>worst texture</th>\n",
       "      <th>worst perimeter</th>\n",
       "      <th>worst area</th>\n",
       "      <th>worst smoothness</th>\n",
       "      <th>worst compactness</th>\n",
       "      <th>worst concavity</th>\n",
       "      <th>worst concave points</th>\n",
       "      <th>worst symmetry</th>\n",
       "      <th>worst fractal dimension</th>\n",
       "    </tr>\n",
       "  </thead>\n",
       "  <tbody>\n",
       "    <tr>\n",
       "      <th>count</th>\n",
       "      <td>569.000000</td>\n",
       "      <td>569.000000</td>\n",
       "      <td>569.000000</td>\n",
       "      <td>569.000000</td>\n",
       "      <td>569.000000</td>\n",
       "      <td>569.000000</td>\n",
       "      <td>569.000000</td>\n",
       "      <td>569.000000</td>\n",
       "      <td>569.000000</td>\n",
       "      <td>569.000000</td>\n",
       "      <td>...</td>\n",
       "      <td>569.000000</td>\n",
       "      <td>569.000000</td>\n",
       "      <td>569.000000</td>\n",
       "      <td>569.000000</td>\n",
       "      <td>569.000000</td>\n",
       "      <td>569.000000</td>\n",
       "      <td>569.000000</td>\n",
       "      <td>569.000000</td>\n",
       "      <td>569.000000</td>\n",
       "      <td>569.000000</td>\n",
       "    </tr>\n",
       "    <tr>\n",
       "      <th>mean</th>\n",
       "      <td>14.127292</td>\n",
       "      <td>19.289649</td>\n",
       "      <td>91.969033</td>\n",
       "      <td>654.889104</td>\n",
       "      <td>0.096360</td>\n",
       "      <td>0.104341</td>\n",
       "      <td>0.088799</td>\n",
       "      <td>0.048919</td>\n",
       "      <td>0.181162</td>\n",
       "      <td>0.062798</td>\n",
       "      <td>...</td>\n",
       "      <td>16.269190</td>\n",
       "      <td>25.677223</td>\n",
       "      <td>107.261213</td>\n",
       "      <td>880.583128</td>\n",
       "      <td>0.132369</td>\n",
       "      <td>0.254265</td>\n",
       "      <td>0.272188</td>\n",
       "      <td>0.114606</td>\n",
       "      <td>0.290076</td>\n",
       "      <td>0.083946</td>\n",
       "    </tr>\n",
       "    <tr>\n",
       "      <th>std</th>\n",
       "      <td>3.524049</td>\n",
       "      <td>4.301036</td>\n",
       "      <td>24.298981</td>\n",
       "      <td>351.914129</td>\n",
       "      <td>0.014064</td>\n",
       "      <td>0.052813</td>\n",
       "      <td>0.079720</td>\n",
       "      <td>0.038803</td>\n",
       "      <td>0.027414</td>\n",
       "      <td>0.007060</td>\n",
       "      <td>...</td>\n",
       "      <td>4.833242</td>\n",
       "      <td>6.146258</td>\n",
       "      <td>33.602542</td>\n",
       "      <td>569.356993</td>\n",
       "      <td>0.022832</td>\n",
       "      <td>0.157336</td>\n",
       "      <td>0.208624</td>\n",
       "      <td>0.065732</td>\n",
       "      <td>0.061867</td>\n",
       "      <td>0.018061</td>\n",
       "    </tr>\n",
       "    <tr>\n",
       "      <th>min</th>\n",
       "      <td>6.981000</td>\n",
       "      <td>9.710000</td>\n",
       "      <td>43.790000</td>\n",
       "      <td>143.500000</td>\n",
       "      <td>0.052630</td>\n",
       "      <td>0.019380</td>\n",
       "      <td>0.000000</td>\n",
       "      <td>0.000000</td>\n",
       "      <td>0.106000</td>\n",
       "      <td>0.049960</td>\n",
       "      <td>...</td>\n",
       "      <td>7.930000</td>\n",
       "      <td>12.020000</td>\n",
       "      <td>50.410000</td>\n",
       "      <td>185.200000</td>\n",
       "      <td>0.071170</td>\n",
       "      <td>0.027290</td>\n",
       "      <td>0.000000</td>\n",
       "      <td>0.000000</td>\n",
       "      <td>0.156500</td>\n",
       "      <td>0.055040</td>\n",
       "    </tr>\n",
       "    <tr>\n",
       "      <th>25%</th>\n",
       "      <td>11.700000</td>\n",
       "      <td>16.170000</td>\n",
       "      <td>75.170000</td>\n",
       "      <td>420.300000</td>\n",
       "      <td>0.086370</td>\n",
       "      <td>0.064920</td>\n",
       "      <td>0.029560</td>\n",
       "      <td>0.020310</td>\n",
       "      <td>0.161900</td>\n",
       "      <td>0.057700</td>\n",
       "      <td>...</td>\n",
       "      <td>13.010000</td>\n",
       "      <td>21.080000</td>\n",
       "      <td>84.110000</td>\n",
       "      <td>515.300000</td>\n",
       "      <td>0.116600</td>\n",
       "      <td>0.147200</td>\n",
       "      <td>0.114500</td>\n",
       "      <td>0.064930</td>\n",
       "      <td>0.250400</td>\n",
       "      <td>0.071460</td>\n",
       "    </tr>\n",
       "    <tr>\n",
       "      <th>50%</th>\n",
       "      <td>13.370000</td>\n",
       "      <td>18.840000</td>\n",
       "      <td>86.240000</td>\n",
       "      <td>551.100000</td>\n",
       "      <td>0.095870</td>\n",
       "      <td>0.092630</td>\n",
       "      <td>0.061540</td>\n",
       "      <td>0.033500</td>\n",
       "      <td>0.179200</td>\n",
       "      <td>0.061540</td>\n",
       "      <td>...</td>\n",
       "      <td>14.970000</td>\n",
       "      <td>25.410000</td>\n",
       "      <td>97.660000</td>\n",
       "      <td>686.500000</td>\n",
       "      <td>0.131300</td>\n",
       "      <td>0.211900</td>\n",
       "      <td>0.226700</td>\n",
       "      <td>0.099930</td>\n",
       "      <td>0.282200</td>\n",
       "      <td>0.080040</td>\n",
       "    </tr>\n",
       "    <tr>\n",
       "      <th>75%</th>\n",
       "      <td>15.780000</td>\n",
       "      <td>21.800000</td>\n",
       "      <td>104.100000</td>\n",
       "      <td>782.700000</td>\n",
       "      <td>0.105300</td>\n",
       "      <td>0.130400</td>\n",
       "      <td>0.130700</td>\n",
       "      <td>0.074000</td>\n",
       "      <td>0.195700</td>\n",
       "      <td>0.066120</td>\n",
       "      <td>...</td>\n",
       "      <td>18.790000</td>\n",
       "      <td>29.720000</td>\n",
       "      <td>125.400000</td>\n",
       "      <td>1084.000000</td>\n",
       "      <td>0.146000</td>\n",
       "      <td>0.339100</td>\n",
       "      <td>0.382900</td>\n",
       "      <td>0.161400</td>\n",
       "      <td>0.317900</td>\n",
       "      <td>0.092080</td>\n",
       "    </tr>\n",
       "    <tr>\n",
       "      <th>max</th>\n",
       "      <td>28.110000</td>\n",
       "      <td>39.280000</td>\n",
       "      <td>188.500000</td>\n",
       "      <td>2501.000000</td>\n",
       "      <td>0.163400</td>\n",
       "      <td>0.345400</td>\n",
       "      <td>0.426800</td>\n",
       "      <td>0.201200</td>\n",
       "      <td>0.304000</td>\n",
       "      <td>0.097440</td>\n",
       "      <td>...</td>\n",
       "      <td>36.040000</td>\n",
       "      <td>49.540000</td>\n",
       "      <td>251.200000</td>\n",
       "      <td>4254.000000</td>\n",
       "      <td>0.222600</td>\n",
       "      <td>1.058000</td>\n",
       "      <td>1.252000</td>\n",
       "      <td>0.291000</td>\n",
       "      <td>0.663800</td>\n",
       "      <td>0.207500</td>\n",
       "    </tr>\n",
       "  </tbody>\n",
       "</table>\n",
       "<p>8 rows × 30 columns</p>\n",
       "</div>"
      ],
      "text/plain": [
       "       mean radius  mean texture  mean perimeter    mean area  \\\n",
       "count   569.000000    569.000000      569.000000   569.000000   \n",
       "mean     14.127292     19.289649       91.969033   654.889104   \n",
       "std       3.524049      4.301036       24.298981   351.914129   \n",
       "min       6.981000      9.710000       43.790000   143.500000   \n",
       "25%      11.700000     16.170000       75.170000   420.300000   \n",
       "50%      13.370000     18.840000       86.240000   551.100000   \n",
       "75%      15.780000     21.800000      104.100000   782.700000   \n",
       "max      28.110000     39.280000      188.500000  2501.000000   \n",
       "\n",
       "       mean smoothness  mean compactness  mean concavity  mean concave points  \\\n",
       "count       569.000000        569.000000      569.000000           569.000000   \n",
       "mean          0.096360          0.104341        0.088799             0.048919   \n",
       "std           0.014064          0.052813        0.079720             0.038803   \n",
       "min           0.052630          0.019380        0.000000             0.000000   \n",
       "25%           0.086370          0.064920        0.029560             0.020310   \n",
       "50%           0.095870          0.092630        0.061540             0.033500   \n",
       "75%           0.105300          0.130400        0.130700             0.074000   \n",
       "max           0.163400          0.345400        0.426800             0.201200   \n",
       "\n",
       "       mean symmetry  mean fractal dimension  ...  worst radius  \\\n",
       "count     569.000000              569.000000  ...    569.000000   \n",
       "mean        0.181162                0.062798  ...     16.269190   \n",
       "std         0.027414                0.007060  ...      4.833242   \n",
       "min         0.106000                0.049960  ...      7.930000   \n",
       "25%         0.161900                0.057700  ...     13.010000   \n",
       "50%         0.179200                0.061540  ...     14.970000   \n",
       "75%         0.195700                0.066120  ...     18.790000   \n",
       "max         0.304000                0.097440  ...     36.040000   \n",
       "\n",
       "       worst texture  worst perimeter   worst area  worst smoothness  \\\n",
       "count     569.000000       569.000000   569.000000        569.000000   \n",
       "mean       25.677223       107.261213   880.583128          0.132369   \n",
       "std         6.146258        33.602542   569.356993          0.022832   \n",
       "min        12.020000        50.410000   185.200000          0.071170   \n",
       "25%        21.080000        84.110000   515.300000          0.116600   \n",
       "50%        25.410000        97.660000   686.500000          0.131300   \n",
       "75%        29.720000       125.400000  1084.000000          0.146000   \n",
       "max        49.540000       251.200000  4254.000000          0.222600   \n",
       "\n",
       "       worst compactness  worst concavity  worst concave points  \\\n",
       "count         569.000000       569.000000            569.000000   \n",
       "mean            0.254265         0.272188              0.114606   \n",
       "std             0.157336         0.208624              0.065732   \n",
       "min             0.027290         0.000000              0.000000   \n",
       "25%             0.147200         0.114500              0.064930   \n",
       "50%             0.211900         0.226700              0.099930   \n",
       "75%             0.339100         0.382900              0.161400   \n",
       "max             1.058000         1.252000              0.291000   \n",
       "\n",
       "       worst symmetry  worst fractal dimension  \n",
       "count      569.000000               569.000000  \n",
       "mean         0.290076                 0.083946  \n",
       "std          0.061867                 0.018061  \n",
       "min          0.156500                 0.055040  \n",
       "25%          0.250400                 0.071460  \n",
       "50%          0.282200                 0.080040  \n",
       "75%          0.317900                 0.092080  \n",
       "max          0.663800                 0.207500  \n",
       "\n",
       "[8 rows x 30 columns]"
      ]
     },
     "execution_count": 6,
     "metadata": {},
     "output_type": "execute_result"
    }
   ],
   "source": [
    "# To move ahead with the data, we convert it into a dataframe\n",
    "import pandas as pd\n",
    "df = pd.DataFrame(X)\n",
    "\n",
    "# By default, the dataframe is created in such a way where the row names are from (0 to 568) and the column names are from (0 to 12). We change the column names to the feature names of the dataset\n",
    "df.columns = cancer_ds.feature_names\n",
    "\n",
    "# describe the dataframe (to check if the features have string/NaN values)\n",
    "df.describe()"
   ]
  },
  {
   "cell_type": "code",
   "execution_count": 7,
   "id": "ba30e421",
   "metadata": {},
   "outputs": [],
   "source": [
    "# Splitting the data into test and train data (randomly without any bias)\n",
    "from sklearn import model_selection\n",
    "X_train, X_test, Y_train, Y_test = model_selection.train_test_split(X, Y, test_size = 0.3)"
   ]
  },
  {
   "cell_type": "code",
   "execution_count": 8,
   "id": "8139fd4d",
   "metadata": {},
   "outputs": [
    {
     "name": "stdout",
     "output_type": "stream",
     "text": [
      "(398, 30)\n",
      "(171, 30)\n",
      "(398,)\n",
      "(171,)\n"
     ]
    }
   ],
   "source": [
    "# Checking the shape of the data (to check the percentage of data taken to train and test the algorithm)\n",
    "print(X_train.shape)\n",
    "print(X_test.shape)\n",
    "print(Y_train.shape)\n",
    "print(Y_test.shape)"
   ]
  },
  {
   "cell_type": "code",
   "execution_count": 9,
   "id": "b679b7f9",
   "metadata": {},
   "outputs": [],
   "source": [
    "# Using sklearn to import the classifier/algorithm\n",
    "from sklearn.linear_model import LogisticRegression\n",
    "\n",
    "# Creating the algorithm object that we can use to train and then test the data\n",
    "clf = LogisticRegression()"
   ]
  },
  {
   "cell_type": "code",
   "execution_count": 10,
   "id": "cd9d7ff3",
   "metadata": {},
   "outputs": [
    {
     "data": {
      "text/plain": [
       "LogisticRegression()"
      ]
     },
     "execution_count": 10,
     "metadata": {},
     "output_type": "execute_result"
    }
   ],
   "source": [
    "# Fitting/training the data\n",
    "clf.fit(X_train, Y_train)"
   ]
  },
  {
   "cell_type": "code",
   "execution_count": 11,
   "id": "43fb48eb",
   "metadata": {},
   "outputs": [],
   "source": [
    "# Predicting the output\n",
    "Y_pred = clf.predict(X_test)"
   ]
  },
  {
   "cell_type": "code",
   "execution_count": 12,
   "id": "900afaaf",
   "metadata": {},
   "outputs": [
    {
     "name": "stdout",
     "output_type": "stream",
     "text": [
      "Training Score 0.9447236180904522\n"
     ]
    }
   ],
   "source": [
    "print(\"Training Score\", clf.score(X_train, Y_train))"
   ]
  },
  {
   "cell_type": "code",
   "execution_count": 13,
   "id": "4df2b8bf",
   "metadata": {},
   "outputs": [
    {
     "name": "stdout",
     "output_type": "stream",
     "text": [
      "Testing Score 0.9473684210526315\n"
     ]
    }
   ],
   "source": [
    "print(\"Testing Score\", clf.score(X_test, Y_test))"
   ]
  },
  {
   "cell_type": "markdown",
   "id": "3112db9c",
   "metadata": {},
   "source": [
    "Here the function \"score()\" is the mean accuracy that is basically the accuracy of the predictions of the model on our data. The probablity estimates the model is getting should be pretty high. \n",
    "\n",
    "Suppose I just want to see what is the value of $h(x^i)$ for points for which the model is making incorrect predictions. Hopefully, wherever we are making these mistakes, we need to check that the confidence of the mistake is not that huge."
   ]
  },
  {
   "cell_type": "code",
   "execution_count": 14,
   "id": "0247d332",
   "metadata": {},
   "outputs": [
    {
     "data": {
      "text/plain": [
       "array([ 0,  0,  0,  0,  0,  0,  0,  0, -1,  0,  0,  0,  0,  0,  0,  0,  0,\n",
       "        0,  0,  0,  0,  0,  0,  0,  0,  0,  0,  0,  0,  0,  0,  0,  0,  0,\n",
       "        0,  0,  0,  0,  0,  0,  0,  0,  0,  0,  0,  0,  0,  0,  0,  0,  0,\n",
       "        0,  0,  0,  0,  0,  0,  0,  0,  0,  0,  0,  0,  0, -1,  0,  0,  0,\n",
       "        0,  0,  0,  0,  0,  0,  0,  0,  0,  1,  0,  0,  0,  0,  0,  0, -1,\n",
       "        0,  0,  0,  0,  0,  0,  0,  0,  0,  0,  0,  0,  0,  0,  0,  0,  0,\n",
       "        0,  0, -1,  1,  0,  0,  0,  0,  0,  0,  0,  0,  0,  0,  0,  0,  0,\n",
       "        0,  0,  0,  0,  0,  0,  0,  0,  0,  1,  0,  0,  0,  0,  0,  0,  0,\n",
       "        0,  0,  0,  0,  0,  1,  0,  0,  0,  0,  0,  0,  0,  0,  0,  0,  0,\n",
       "        1,  0,  0,  0,  0,  0,  0,  0,  0,  0,  0,  0,  0,  0,  0,  0,  0,\n",
       "        0])"
      ]
     },
     "execution_count": 14,
     "metadata": {},
     "output_type": "execute_result"
    }
   ],
   "source": [
    "# Finding the points where the model has made incorrect predictions\n",
    "Y_pred - Y_test"
   ]
  },
  {
   "cell_type": "markdown",
   "id": "239d7a43",
   "metadata": {},
   "source": [
    "Wherever we are getting a zero, it means that the model has made a correct prediction and wherever we are getting a non-zero value, it means that the model has made an incorrect prediction."
   ]
  },
  {
   "cell_type": "code",
   "execution_count": 15,
   "id": "95332e1c",
   "metadata": {},
   "outputs": [
    {
     "data": {
      "text/plain": [
       "array([[1.17981475e-02, 9.88201852e-01],\n",
       "       [7.50593825e-04, 9.99249406e-01],\n",
       "       [9.99221451e-01, 7.78548817e-04],\n",
       "       [6.18787850e-03, 9.93812121e-01],\n",
       "       [9.56143524e-01, 4.38564764e-02],\n",
       "       [9.99344386e-01, 6.55614398e-04],\n",
       "       [3.15898420e-02, 9.68410158e-01],\n",
       "       [4.01498467e-04, 9.99598502e-01],\n",
       "       [6.13524440e-01, 3.86475560e-01],\n",
       "       [1.00000000e+00, 1.90887264e-11],\n",
       "       [2.76720249e-04, 9.99723280e-01],\n",
       "       [3.50007585e-02, 9.64999242e-01],\n",
       "       [9.74875914e-04, 9.99025124e-01],\n",
       "       [2.42642907e-03, 9.97573571e-01],\n",
       "       [2.92106748e-02, 9.70789325e-01],\n",
       "       [1.57384979e-04, 9.99842615e-01],\n",
       "       [1.17578088e-01, 8.82421912e-01],\n",
       "       [3.78261364e-01, 6.21738636e-01],\n",
       "       [9.99999997e-01, 3.00431483e-09],\n",
       "       [9.99187631e-01, 8.12369201e-04],\n",
       "       [5.59781945e-03, 9.94402181e-01],\n",
       "       [9.99999645e-01, 3.55415767e-07],\n",
       "       [1.20328550e-01, 8.79671450e-01],\n",
       "       [9.99999608e-01, 3.92415911e-07],\n",
       "       [1.00000000e+00, 1.91792760e-16],\n",
       "       [3.41600666e-04, 9.99658399e-01],\n",
       "       [9.67705250e-01, 3.22947504e-02],\n",
       "       [4.14742749e-03, 9.95852573e-01],\n",
       "       [9.99319703e-01, 6.80296985e-04],\n",
       "       [5.00696089e-01, 4.99303911e-01],\n",
       "       [3.45327570e-01, 6.54672430e-01],\n",
       "       [4.25519571e-03, 9.95744804e-01],\n",
       "       [7.48016418e-01, 2.51983582e-01],\n",
       "       [9.99708151e-01, 2.91849067e-04],\n",
       "       [1.00000000e+00, 1.34219999e-12],\n",
       "       [1.00000000e+00, 3.33451900e-10],\n",
       "       [8.51329085e-04, 9.99148671e-01],\n",
       "       [1.81679350e-04, 9.99818321e-01],\n",
       "       [3.93538905e-03, 9.96064611e-01],\n",
       "       [2.12649250e-04, 9.99787351e-01],\n",
       "       [9.95635746e-01, 4.36425424e-03],\n",
       "       [1.18146106e-02, 9.88185389e-01],\n",
       "       [6.17461086e-03, 9.93825389e-01],\n",
       "       [1.52257422e-01, 8.47742578e-01],\n",
       "       [9.53049803e-01, 4.69501966e-02],\n",
       "       [9.02379581e-02, 9.09762042e-01],\n",
       "       [1.94508960e-01, 8.05491040e-01],\n",
       "       [7.65722240e-02, 9.23427776e-01],\n",
       "       [1.27115104e-04, 9.99872885e-01],\n",
       "       [2.66010819e-04, 9.99733989e-01],\n",
       "       [1.59780563e-04, 9.99840219e-01],\n",
       "       [1.00000000e+00, 2.46058575e-15],\n",
       "       [3.59042332e-02, 9.64095767e-01],\n",
       "       [6.83862042e-04, 9.99316138e-01],\n",
       "       [1.00000000e+00, 1.92191507e-11],\n",
       "       [1.00000000e+00, 5.29536617e-12],\n",
       "       [9.99999997e-01, 3.44841621e-09],\n",
       "       [1.00000000e+00, 1.75230685e-17],\n",
       "       [9.92187766e-01, 7.81223427e-03],\n",
       "       [9.99925702e-01, 7.42983059e-05],\n",
       "       [1.34749940e-04, 9.99865250e-01],\n",
       "       [7.28553340e-02, 9.27144666e-01],\n",
       "       [1.91074872e-02, 9.80892513e-01],\n",
       "       [1.41276855e-04, 9.99858723e-01],\n",
       "       [6.31326277e-01, 3.68673723e-01],\n",
       "       [2.20460567e-01, 7.79539433e-01],\n",
       "       [7.14275245e-04, 9.99285725e-01],\n",
       "       [1.00000000e+00, 3.52461066e-12],\n",
       "       [9.99999566e-01, 4.34063932e-07],\n",
       "       [5.69170549e-03, 9.94308295e-01],\n",
       "       [1.30764174e-02, 9.86923583e-01],\n",
       "       [3.43081657e-02, 9.65691834e-01],\n",
       "       [6.08192679e-04, 9.99391807e-01],\n",
       "       [9.99999995e-01, 4.77619125e-09],\n",
       "       [3.21389887e-03, 9.96786101e-01],\n",
       "       [6.82196506e-03, 9.93178035e-01],\n",
       "       [1.00000000e+00, 1.85365641e-25],\n",
       "       [2.36924391e-01, 7.63075609e-01],\n",
       "       [9.99775442e-01, 2.24558328e-04],\n",
       "       [9.99858547e-01, 1.41452759e-04],\n",
       "       [6.40598450e-01, 3.59401550e-01],\n",
       "       [9.99759189e-01, 2.40811409e-04],\n",
       "       [4.15911652e-03, 9.95840883e-01],\n",
       "       [9.99402778e-01, 5.97222204e-04],\n",
       "       [8.41019285e-01, 1.58980715e-01],\n",
       "       [1.38643331e-04, 9.99861357e-01],\n",
       "       [6.54073205e-05, 9.99934593e-01],\n",
       "       [1.65928138e-03, 9.98340719e-01],\n",
       "       [4.11205813e-02, 9.58879419e-01],\n",
       "       [1.76104545e-02, 9.82389546e-01],\n",
       "       [9.98001809e-01, 1.99819079e-03],\n",
       "       [2.16127922e-02, 9.78387208e-01],\n",
       "       [3.98990648e-02, 9.60100935e-01],\n",
       "       [4.86185023e-02, 9.51381498e-01],\n",
       "       [1.33884311e-03, 9.98661157e-01],\n",
       "       [1.00000000e+00, 3.77441337e-10],\n",
       "       [1.00000000e+00, 4.26596299e-14],\n",
       "       [1.00000000e+00, 1.13678910e-16],\n",
       "       [1.25156064e-01, 8.74843936e-01],\n",
       "       [3.28096545e-03, 9.96719035e-01],\n",
       "       [9.85049292e-01, 1.49507084e-02],\n",
       "       [1.00000000e+00, 8.69209777e-13],\n",
       "       [1.04093990e-02, 9.89590601e-01],\n",
       "       [1.00000000e+00, 6.61959668e-18],\n",
       "       [9.83622534e-01, 1.63774664e-02],\n",
       "       [3.32909241e-01, 6.67090759e-01],\n",
       "       [3.06439926e-04, 9.99693560e-01],\n",
       "       [6.94853288e-02, 9.30514671e-01],\n",
       "       [2.84912715e-02, 9.71508729e-01],\n",
       "       [9.99999964e-01, 3.61458955e-08],\n",
       "       [9.99999981e-01, 1.94016736e-08],\n",
       "       [7.71290988e-04, 9.99228709e-01],\n",
       "       [4.29146881e-03, 9.95708531e-01],\n",
       "       [1.00000000e+00, 6.68135144e-13],\n",
       "       [9.99979005e-01, 2.09952416e-05],\n",
       "       [6.15268707e-02, 9.38473129e-01],\n",
       "       [9.06350638e-05, 9.99909365e-01],\n",
       "       [8.27266704e-01, 1.72733296e-01],\n",
       "       [9.99999992e-01, 8.36916207e-09],\n",
       "       [1.32553887e-01, 8.67446113e-01],\n",
       "       [6.71695994e-03, 9.93283040e-01],\n",
       "       [2.28658544e-02, 9.77134146e-01],\n",
       "       [3.61560599e-03, 9.96384394e-01],\n",
       "       [4.21093868e-02, 9.57890613e-01],\n",
       "       [3.54617926e-03, 9.96453821e-01],\n",
       "       [3.66462685e-04, 9.99633537e-01],\n",
       "       [3.84190480e-03, 9.96158095e-01],\n",
       "       [3.32157645e-03, 9.96678424e-01],\n",
       "       [3.40108936e-01, 6.59891064e-01],\n",
       "       [9.99997423e-01, 2.57704617e-06],\n",
       "       [9.99947605e-01, 5.23945420e-05],\n",
       "       [2.54499708e-03, 9.97455003e-01],\n",
       "       [2.20939887e-01, 7.79060113e-01],\n",
       "       [9.99083794e-01, 9.16205939e-04],\n",
       "       [6.12180441e-03, 9.93878196e-01],\n",
       "       [1.00000000e+00, 1.95900460e-15],\n",
       "       [5.37983015e-03, 9.94620170e-01],\n",
       "       [3.81255406e-03, 9.96187446e-01],\n",
       "       [3.00379803e-04, 9.99699620e-01],\n",
       "       [6.38104323e-02, 9.36189568e-01],\n",
       "       [1.08235429e-03, 9.98917646e-01],\n",
       "       [4.34004729e-01, 5.65995271e-01],\n",
       "       [2.29742219e-02, 9.77025778e-01],\n",
       "       [9.99999974e-01, 2.58033267e-08],\n",
       "       [2.36379091e-02, 9.76362091e-01],\n",
       "       [2.45383844e-02, 9.75461616e-01],\n",
       "       [9.99999994e-01, 5.52015786e-09],\n",
       "       [5.92963241e-01, 4.07036759e-01],\n",
       "       [9.99996913e-01, 3.08691435e-06],\n",
       "       [9.99157618e-01, 8.42381651e-04],\n",
       "       [9.99631282e-01, 3.68717506e-04],\n",
       "       [3.36175477e-02, 9.66382452e-01],\n",
       "       [9.99999910e-01, 8.99054559e-08],\n",
       "       [1.81297334e-01, 8.18702666e-01],\n",
       "       [1.17071153e-03, 9.98829288e-01],\n",
       "       [2.13232359e-01, 7.86767641e-01],\n",
       "       [9.98913207e-01, 1.08679267e-03],\n",
       "       [5.31460666e-02, 9.46853933e-01],\n",
       "       [5.68600855e-03, 9.94313991e-01],\n",
       "       [9.99999953e-01, 4.68902848e-08],\n",
       "       [9.66877998e-03, 9.90331220e-01],\n",
       "       [2.59216531e-02, 9.74078347e-01],\n",
       "       [9.99735424e-01, 2.64576252e-04],\n",
       "       [1.44122029e-02, 9.85587797e-01],\n",
       "       [1.63034839e-03, 9.98369652e-01],\n",
       "       [1.59863903e-04, 9.99840136e-01],\n",
       "       [5.52676475e-03, 9.94473235e-01],\n",
       "       [9.50239250e-04, 9.99049761e-01],\n",
       "       [1.56423955e-02, 9.84357605e-01],\n",
       "       [5.18508705e-04, 9.99481491e-01],\n",
       "       [1.89727960e-03, 9.98102720e-01]])"
      ]
     },
     "execution_count": 15,
     "metadata": {},
     "output_type": "execute_result"
    }
   ],
   "source": [
    "# Finding the actual hypothesis values (probablities of each point to test). Output : [[pobablity (point = 0), probablity (point = 1) ], ...]\n",
    "clf.predict_proba(X_test)"
   ]
  },
  {
   "cell_type": "markdown",
   "id": "63b5bc01",
   "metadata": {},
   "source": [
    "You may use many parameters for optimisation of your code. You may refer the following documentation.\n",
    "\n",
    "https://scikit-learn.org/stable/modules/generated/sklearn.linear_model.LogisticRegression.html"
   ]
  },
  {
   "cell_type": "code",
   "execution_count": 16,
   "id": "5c65cbc0",
   "metadata": {},
   "outputs": [
    {
     "data": {
      "text/plain": [
       "LogisticRegression(C=2, solver='liblinear')"
      ]
     },
     "execution_count": 16,
     "metadata": {},
     "output_type": "execute_result"
    }
   ],
   "source": [
    "clf = LogisticRegression(C=2, solver = 'liblinear')\n",
    "clf.fit(X_train, Y_train)"
   ]
  },
  {
   "cell_type": "code",
   "execution_count": 17,
   "id": "031cc786",
   "metadata": {},
   "outputs": [
    {
     "name": "stdout",
     "output_type": "stream",
     "text": [
      "Training Score 0.9547738693467337\n"
     ]
    }
   ],
   "source": [
    "print(\"Training Score\", clf.score(X_train, Y_train))"
   ]
  },
  {
   "cell_type": "code",
   "execution_count": 18,
   "id": "947b621c",
   "metadata": {},
   "outputs": [
    {
     "name": "stdout",
     "output_type": "stream",
     "text": [
      "Testing Score 0.9649122807017544\n"
     ]
    }
   ],
   "source": [
    "print(\"Testing Score\", clf.score(X_test, Y_test))"
   ]
  },
  {
   "cell_type": "markdown",
   "id": "4546c9d5",
   "metadata": {},
   "source": [
    "You have to write the code for Logistic Regression with the help of the formulas we have derived above. \n",
    "\n",
    "Your hypothesis function is :\n",
    "\n",
    "$$ h(x) = \\frac{1}{1 + e^{-mx}} $$\n",
    "\n",
    "and the error function will be \n",
    "\n",
    "$$ cost = [-ylog * (h(x))]-[(1-y) * log(1-h(x))] $$\n",
    "\n",
    "Using Gradient Descent, you need to minimise the error function given by:\n",
    "\n",
    "$$ E(x, y) = \\frac{1}{M}\\sum^M_{i = 0}(-y^i * log(h(x^i))-(1-y^i) * log(1-h(x^i))) $$\n",
    "\n",
    "To do this, you need to find $\\frac{\\partial E}{\\partial{m_j}}$\n",
    "\n",
    "We found that it as:\n",
    "\n",
    "$$\\frac{\\partial E}{\\partial{m_j}} = \\frac{1}{m} \\sum_i(y^i - h(x^i))x_j^i $$"
   ]
  },
  {
   "cell_type": "code",
   "execution_count": 19,
   "id": "e75a6224",
   "metadata": {},
   "outputs": [],
   "source": [
    "import numpy as np\n",
    "import math"
   ]
  },
  {
   "cell_type": "code",
   "execution_count": 20,
   "id": "9ff44039",
   "metadata": {},
   "outputs": [
    {
     "data": {
      "text/plain": [
       "{'data': array([[1.799e+01, 1.038e+01, 1.228e+02, ..., 2.654e-01, 4.601e-01,\n",
       "         1.189e-01],\n",
       "        [2.057e+01, 1.777e+01, 1.329e+02, ..., 1.860e-01, 2.750e-01,\n",
       "         8.902e-02],\n",
       "        [1.969e+01, 2.125e+01, 1.300e+02, ..., 2.430e-01, 3.613e-01,\n",
       "         8.758e-02],\n",
       "        ...,\n",
       "        [1.660e+01, 2.808e+01, 1.083e+02, ..., 1.418e-01, 2.218e-01,\n",
       "         7.820e-02],\n",
       "        [2.060e+01, 2.933e+01, 1.401e+02, ..., 2.650e-01, 4.087e-01,\n",
       "         1.240e-01],\n",
       "        [7.760e+00, 2.454e+01, 4.792e+01, ..., 0.000e+00, 2.871e-01,\n",
       "         7.039e-02]]),\n",
       " 'target': array([0, 0, 0, 0, 0, 0, 0, 0, 0, 0, 0, 0, 0, 0, 0, 0, 0, 0, 0, 1, 1, 1,\n",
       "        0, 0, 0, 0, 0, 0, 0, 0, 0, 0, 0, 0, 0, 0, 0, 1, 0, 0, 0, 0, 0, 0,\n",
       "        0, 0, 1, 0, 1, 1, 1, 1, 1, 0, 0, 1, 0, 0, 1, 1, 1, 1, 0, 1, 0, 0,\n",
       "        1, 1, 1, 1, 0, 1, 0, 0, 1, 0, 1, 0, 0, 1, 1, 1, 0, 0, 1, 0, 0, 0,\n",
       "        1, 1, 1, 0, 1, 1, 0, 0, 1, 1, 1, 0, 0, 1, 1, 1, 1, 0, 1, 1, 0, 1,\n",
       "        1, 1, 1, 1, 1, 1, 1, 0, 0, 0, 1, 0, 0, 1, 1, 1, 0, 0, 1, 0, 1, 0,\n",
       "        0, 1, 0, 0, 1, 1, 0, 1, 1, 0, 1, 1, 1, 1, 0, 1, 1, 1, 1, 1, 1, 1,\n",
       "        1, 1, 0, 1, 1, 1, 1, 0, 0, 1, 0, 1, 1, 0, 0, 1, 1, 0, 0, 1, 1, 1,\n",
       "        1, 0, 1, 1, 0, 0, 0, 1, 0, 1, 0, 1, 1, 1, 0, 1, 1, 0, 0, 1, 0, 0,\n",
       "        0, 0, 1, 0, 0, 0, 1, 0, 1, 0, 1, 1, 0, 1, 0, 0, 0, 0, 1, 1, 0, 0,\n",
       "        1, 1, 1, 0, 1, 1, 1, 1, 1, 0, 0, 1, 1, 0, 1, 1, 0, 0, 1, 0, 1, 1,\n",
       "        1, 1, 0, 1, 1, 1, 1, 1, 0, 1, 0, 0, 0, 0, 0, 0, 0, 0, 0, 0, 0, 0,\n",
       "        0, 0, 1, 1, 1, 1, 1, 1, 0, 1, 0, 1, 1, 0, 1, 1, 0, 1, 0, 0, 1, 1,\n",
       "        1, 1, 1, 1, 1, 1, 1, 1, 1, 1, 1, 0, 1, 1, 0, 1, 0, 1, 1, 1, 1, 1,\n",
       "        1, 1, 1, 1, 1, 1, 1, 1, 1, 0, 1, 1, 1, 0, 1, 0, 1, 1, 1, 1, 0, 0,\n",
       "        0, 1, 1, 1, 1, 0, 1, 0, 1, 0, 1, 1, 1, 0, 1, 1, 1, 1, 1, 1, 1, 0,\n",
       "        0, 0, 1, 1, 1, 1, 1, 1, 1, 1, 1, 1, 1, 0, 0, 1, 0, 0, 0, 1, 0, 0,\n",
       "        1, 1, 1, 1, 1, 0, 1, 1, 1, 1, 1, 0, 1, 1, 1, 0, 1, 1, 0, 0, 1, 1,\n",
       "        1, 1, 1, 1, 0, 1, 1, 1, 1, 1, 1, 1, 0, 1, 1, 1, 1, 1, 0, 1, 1, 0,\n",
       "        1, 1, 1, 1, 1, 1, 1, 1, 1, 1, 1, 1, 0, 1, 0, 0, 1, 0, 1, 1, 1, 1,\n",
       "        1, 0, 1, 1, 0, 1, 0, 1, 1, 0, 1, 0, 1, 1, 1, 1, 1, 1, 1, 1, 0, 0,\n",
       "        1, 1, 1, 1, 1, 1, 0, 1, 1, 1, 1, 1, 1, 1, 1, 1, 1, 0, 1, 1, 1, 1,\n",
       "        1, 1, 1, 0, 1, 0, 1, 1, 0, 1, 1, 1, 1, 1, 0, 0, 1, 0, 1, 0, 1, 1,\n",
       "        1, 1, 1, 0, 1, 1, 0, 1, 0, 1, 0, 0, 1, 1, 1, 0, 1, 1, 1, 1, 1, 1,\n",
       "        1, 1, 1, 1, 1, 0, 1, 0, 0, 1, 1, 1, 1, 1, 1, 1, 1, 1, 1, 1, 1, 1,\n",
       "        1, 1, 1, 1, 1, 1, 1, 1, 1, 1, 1, 1, 0, 0, 0, 0, 0, 0, 1]),\n",
       " 'frame': None,\n",
       " 'target_names': array(['malignant', 'benign'], dtype='<U9'),\n",
       " 'DESCR': '.. _breast_cancer_dataset:\\n\\nBreast cancer wisconsin (diagnostic) dataset\\n--------------------------------------------\\n\\n**Data Set Characteristics:**\\n\\n    :Number of Instances: 569\\n\\n    :Number of Attributes: 30 numeric, predictive attributes and the class\\n\\n    :Attribute Information:\\n        - radius (mean of distances from center to points on the perimeter)\\n        - texture (standard deviation of gray-scale values)\\n        - perimeter\\n        - area\\n        - smoothness (local variation in radius lengths)\\n        - compactness (perimeter^2 / area - 1.0)\\n        - concavity (severity of concave portions of the contour)\\n        - concave points (number of concave portions of the contour)\\n        - symmetry\\n        - fractal dimension (\"coastline approximation\" - 1)\\n\\n        The mean, standard error, and \"worst\" or largest (mean of the three\\n        worst/largest values) of these features were computed for each image,\\n        resulting in 30 features.  For instance, field 0 is Mean Radius, field\\n        10 is Radius SE, field 20 is Worst Radius.\\n\\n        - class:\\n                - WDBC-Malignant\\n                - WDBC-Benign\\n\\n    :Summary Statistics:\\n\\n    ===================================== ====== ======\\n                                           Min    Max\\n    ===================================== ====== ======\\n    radius (mean):                        6.981  28.11\\n    texture (mean):                       9.71   39.28\\n    perimeter (mean):                     43.79  188.5\\n    area (mean):                          143.5  2501.0\\n    smoothness (mean):                    0.053  0.163\\n    compactness (mean):                   0.019  0.345\\n    concavity (mean):                     0.0    0.427\\n    concave points (mean):                0.0    0.201\\n    symmetry (mean):                      0.106  0.304\\n    fractal dimension (mean):             0.05   0.097\\n    radius (standard error):              0.112  2.873\\n    texture (standard error):             0.36   4.885\\n    perimeter (standard error):           0.757  21.98\\n    area (standard error):                6.802  542.2\\n    smoothness (standard error):          0.002  0.031\\n    compactness (standard error):         0.002  0.135\\n    concavity (standard error):           0.0    0.396\\n    concave points (standard error):      0.0    0.053\\n    symmetry (standard error):            0.008  0.079\\n    fractal dimension (standard error):   0.001  0.03\\n    radius (worst):                       7.93   36.04\\n    texture (worst):                      12.02  49.54\\n    perimeter (worst):                    50.41  251.2\\n    area (worst):                         185.2  4254.0\\n    smoothness (worst):                   0.071  0.223\\n    compactness (worst):                  0.027  1.058\\n    concavity (worst):                    0.0    1.252\\n    concave points (worst):               0.0    0.291\\n    symmetry (worst):                     0.156  0.664\\n    fractal dimension (worst):            0.055  0.208\\n    ===================================== ====== ======\\n\\n    :Missing Attribute Values: None\\n\\n    :Class Distribution: 212 - Malignant, 357 - Benign\\n\\n    :Creator:  Dr. William H. Wolberg, W. Nick Street, Olvi L. Mangasarian\\n\\n    :Donor: Nick Street\\n\\n    :Date: November, 1995\\n\\nThis is a copy of UCI ML Breast Cancer Wisconsin (Diagnostic) datasets.\\nhttps://goo.gl/U2Uwz2\\n\\nFeatures are computed from a digitized image of a fine needle\\naspirate (FNA) of a breast mass.  They describe\\ncharacteristics of the cell nuclei present in the image.\\n\\nSeparating plane described above was obtained using\\nMultisurface Method-Tree (MSM-T) [K. P. Bennett, \"Decision Tree\\nConstruction Via Linear Programming.\" Proceedings of the 4th\\nMidwest Artificial Intelligence and Cognitive Science Society,\\npp. 97-101, 1992], a classification method which uses linear\\nprogramming to construct a decision tree.  Relevant features\\nwere selected using an exhaustive search in the space of 1-4\\nfeatures and 1-3 separating planes.\\n\\nThe actual linear program used to obtain the separating plane\\nin the 3-dimensional space is that described in:\\n[K. P. Bennett and O. L. Mangasarian: \"Robust Linear\\nProgramming Discrimination of Two Linearly Inseparable Sets\",\\nOptimization Methods and Software 1, 1992, 23-34].\\n\\nThis database is also available through the UW CS ftp server:\\n\\nftp ftp.cs.wisc.edu\\ncd math-prog/cpo-dataset/machine-learn/WDBC/\\n\\n.. topic:: References\\n\\n   - W.N. Street, W.H. Wolberg and O.L. Mangasarian. Nuclear feature extraction \\n     for breast tumor diagnosis. IS&T/SPIE 1993 International Symposium on \\n     Electronic Imaging: Science and Technology, volume 1905, pages 861-870,\\n     San Jose, CA, 1993.\\n   - O.L. Mangasarian, W.N. Street and W.H. Wolberg. Breast cancer diagnosis and \\n     prognosis via linear programming. Operations Research, 43(4), pages 570-577, \\n     July-August 1995.\\n   - W.H. Wolberg, W.N. Street, and O.L. Mangasarian. Machine learning techniques\\n     to diagnose breast cancer from fine-needle aspirates. Cancer Letters 77 (1994) \\n     163-171.',\n",
       " 'feature_names': array(['mean radius', 'mean texture', 'mean perimeter', 'mean area',\n",
       "        'mean smoothness', 'mean compactness', 'mean concavity',\n",
       "        'mean concave points', 'mean symmetry', 'mean fractal dimension',\n",
       "        'radius error', 'texture error', 'perimeter error', 'area error',\n",
       "        'smoothness error', 'compactness error', 'concavity error',\n",
       "        'concave points error', 'symmetry error',\n",
       "        'fractal dimension error', 'worst radius', 'worst texture',\n",
       "        'worst perimeter', 'worst area', 'worst smoothness',\n",
       "        'worst compactness', 'worst concavity', 'worst concave points',\n",
       "        'worst symmetry', 'worst fractal dimension'], dtype='<U23'),\n",
       " 'filename': 'breast_cancer.csv',\n",
       " 'data_module': 'sklearn.datasets.data'}"
      ]
     },
     "execution_count": 20,
     "metadata": {},
     "output_type": "execute_result"
    }
   ],
   "source": [
    "# Loading the dataset (get the features, output and description about the dataset)\n",
    "cancer_ds = datasets.load_breast_cancer() \n",
    "cancer_ds"
   ]
  },
  {
   "cell_type": "code",
   "execution_count": 21,
   "id": "7378a778",
   "metadata": {},
   "outputs": [],
   "source": [
    "# Getting the input features (numpy array)\n",
    "X = cancer_ds.data\n",
    "\n",
    "# Getting the output (numpy array)\n",
    "Y = cancer_ds.target"
   ]
  },
  {
   "cell_type": "code",
   "execution_count": 22,
   "id": "dccd89da",
   "metadata": {},
   "outputs": [
    {
     "data": {
      "text/plain": [
       "(569, 30)"
      ]
     },
     "execution_count": 22,
     "metadata": {},
     "output_type": "execute_result"
    }
   ],
   "source": [
    "# Shape of the input features (it's a numpy array). Output : (rows, columns/features)\n",
    "X.shape"
   ]
  },
  {
   "cell_type": "code",
   "execution_count": 23,
   "id": "3454e2f2",
   "metadata": {},
   "outputs": [
    {
     "data": {
      "text/html": [
       "<div>\n",
       "<style scoped>\n",
       "    .dataframe tbody tr th:only-of-type {\n",
       "        vertical-align: middle;\n",
       "    }\n",
       "\n",
       "    .dataframe tbody tr th {\n",
       "        vertical-align: top;\n",
       "    }\n",
       "\n",
       "    .dataframe thead th {\n",
       "        text-align: right;\n",
       "    }\n",
       "</style>\n",
       "<table border=\"1\" class=\"dataframe\">\n",
       "  <thead>\n",
       "    <tr style=\"text-align: right;\">\n",
       "      <th></th>\n",
       "      <th>mean radius</th>\n",
       "      <th>mean texture</th>\n",
       "      <th>mean perimeter</th>\n",
       "      <th>mean area</th>\n",
       "      <th>mean smoothness</th>\n",
       "      <th>mean compactness</th>\n",
       "      <th>mean concavity</th>\n",
       "      <th>mean concave points</th>\n",
       "      <th>mean symmetry</th>\n",
       "      <th>mean fractal dimension</th>\n",
       "      <th>...</th>\n",
       "      <th>worst radius</th>\n",
       "      <th>worst texture</th>\n",
       "      <th>worst perimeter</th>\n",
       "      <th>worst area</th>\n",
       "      <th>worst smoothness</th>\n",
       "      <th>worst compactness</th>\n",
       "      <th>worst concavity</th>\n",
       "      <th>worst concave points</th>\n",
       "      <th>worst symmetry</th>\n",
       "      <th>worst fractal dimension</th>\n",
       "    </tr>\n",
       "  </thead>\n",
       "  <tbody>\n",
       "    <tr>\n",
       "      <th>count</th>\n",
       "      <td>569.000000</td>\n",
       "      <td>569.000000</td>\n",
       "      <td>569.000000</td>\n",
       "      <td>569.000000</td>\n",
       "      <td>569.000000</td>\n",
       "      <td>569.000000</td>\n",
       "      <td>569.000000</td>\n",
       "      <td>569.000000</td>\n",
       "      <td>569.000000</td>\n",
       "      <td>569.000000</td>\n",
       "      <td>...</td>\n",
       "      <td>569.000000</td>\n",
       "      <td>569.000000</td>\n",
       "      <td>569.000000</td>\n",
       "      <td>569.000000</td>\n",
       "      <td>569.000000</td>\n",
       "      <td>569.000000</td>\n",
       "      <td>569.000000</td>\n",
       "      <td>569.000000</td>\n",
       "      <td>569.000000</td>\n",
       "      <td>569.000000</td>\n",
       "    </tr>\n",
       "    <tr>\n",
       "      <th>mean</th>\n",
       "      <td>14.127292</td>\n",
       "      <td>19.289649</td>\n",
       "      <td>91.969033</td>\n",
       "      <td>654.889104</td>\n",
       "      <td>0.096360</td>\n",
       "      <td>0.104341</td>\n",
       "      <td>0.088799</td>\n",
       "      <td>0.048919</td>\n",
       "      <td>0.181162</td>\n",
       "      <td>0.062798</td>\n",
       "      <td>...</td>\n",
       "      <td>16.269190</td>\n",
       "      <td>25.677223</td>\n",
       "      <td>107.261213</td>\n",
       "      <td>880.583128</td>\n",
       "      <td>0.132369</td>\n",
       "      <td>0.254265</td>\n",
       "      <td>0.272188</td>\n",
       "      <td>0.114606</td>\n",
       "      <td>0.290076</td>\n",
       "      <td>0.083946</td>\n",
       "    </tr>\n",
       "    <tr>\n",
       "      <th>std</th>\n",
       "      <td>3.524049</td>\n",
       "      <td>4.301036</td>\n",
       "      <td>24.298981</td>\n",
       "      <td>351.914129</td>\n",
       "      <td>0.014064</td>\n",
       "      <td>0.052813</td>\n",
       "      <td>0.079720</td>\n",
       "      <td>0.038803</td>\n",
       "      <td>0.027414</td>\n",
       "      <td>0.007060</td>\n",
       "      <td>...</td>\n",
       "      <td>4.833242</td>\n",
       "      <td>6.146258</td>\n",
       "      <td>33.602542</td>\n",
       "      <td>569.356993</td>\n",
       "      <td>0.022832</td>\n",
       "      <td>0.157336</td>\n",
       "      <td>0.208624</td>\n",
       "      <td>0.065732</td>\n",
       "      <td>0.061867</td>\n",
       "      <td>0.018061</td>\n",
       "    </tr>\n",
       "    <tr>\n",
       "      <th>min</th>\n",
       "      <td>6.981000</td>\n",
       "      <td>9.710000</td>\n",
       "      <td>43.790000</td>\n",
       "      <td>143.500000</td>\n",
       "      <td>0.052630</td>\n",
       "      <td>0.019380</td>\n",
       "      <td>0.000000</td>\n",
       "      <td>0.000000</td>\n",
       "      <td>0.106000</td>\n",
       "      <td>0.049960</td>\n",
       "      <td>...</td>\n",
       "      <td>7.930000</td>\n",
       "      <td>12.020000</td>\n",
       "      <td>50.410000</td>\n",
       "      <td>185.200000</td>\n",
       "      <td>0.071170</td>\n",
       "      <td>0.027290</td>\n",
       "      <td>0.000000</td>\n",
       "      <td>0.000000</td>\n",
       "      <td>0.156500</td>\n",
       "      <td>0.055040</td>\n",
       "    </tr>\n",
       "    <tr>\n",
       "      <th>25%</th>\n",
       "      <td>11.700000</td>\n",
       "      <td>16.170000</td>\n",
       "      <td>75.170000</td>\n",
       "      <td>420.300000</td>\n",
       "      <td>0.086370</td>\n",
       "      <td>0.064920</td>\n",
       "      <td>0.029560</td>\n",
       "      <td>0.020310</td>\n",
       "      <td>0.161900</td>\n",
       "      <td>0.057700</td>\n",
       "      <td>...</td>\n",
       "      <td>13.010000</td>\n",
       "      <td>21.080000</td>\n",
       "      <td>84.110000</td>\n",
       "      <td>515.300000</td>\n",
       "      <td>0.116600</td>\n",
       "      <td>0.147200</td>\n",
       "      <td>0.114500</td>\n",
       "      <td>0.064930</td>\n",
       "      <td>0.250400</td>\n",
       "      <td>0.071460</td>\n",
       "    </tr>\n",
       "    <tr>\n",
       "      <th>50%</th>\n",
       "      <td>13.370000</td>\n",
       "      <td>18.840000</td>\n",
       "      <td>86.240000</td>\n",
       "      <td>551.100000</td>\n",
       "      <td>0.095870</td>\n",
       "      <td>0.092630</td>\n",
       "      <td>0.061540</td>\n",
       "      <td>0.033500</td>\n",
       "      <td>0.179200</td>\n",
       "      <td>0.061540</td>\n",
       "      <td>...</td>\n",
       "      <td>14.970000</td>\n",
       "      <td>25.410000</td>\n",
       "      <td>97.660000</td>\n",
       "      <td>686.500000</td>\n",
       "      <td>0.131300</td>\n",
       "      <td>0.211900</td>\n",
       "      <td>0.226700</td>\n",
       "      <td>0.099930</td>\n",
       "      <td>0.282200</td>\n",
       "      <td>0.080040</td>\n",
       "    </tr>\n",
       "    <tr>\n",
       "      <th>75%</th>\n",
       "      <td>15.780000</td>\n",
       "      <td>21.800000</td>\n",
       "      <td>104.100000</td>\n",
       "      <td>782.700000</td>\n",
       "      <td>0.105300</td>\n",
       "      <td>0.130400</td>\n",
       "      <td>0.130700</td>\n",
       "      <td>0.074000</td>\n",
       "      <td>0.195700</td>\n",
       "      <td>0.066120</td>\n",
       "      <td>...</td>\n",
       "      <td>18.790000</td>\n",
       "      <td>29.720000</td>\n",
       "      <td>125.400000</td>\n",
       "      <td>1084.000000</td>\n",
       "      <td>0.146000</td>\n",
       "      <td>0.339100</td>\n",
       "      <td>0.382900</td>\n",
       "      <td>0.161400</td>\n",
       "      <td>0.317900</td>\n",
       "      <td>0.092080</td>\n",
       "    </tr>\n",
       "    <tr>\n",
       "      <th>max</th>\n",
       "      <td>28.110000</td>\n",
       "      <td>39.280000</td>\n",
       "      <td>188.500000</td>\n",
       "      <td>2501.000000</td>\n",
       "      <td>0.163400</td>\n",
       "      <td>0.345400</td>\n",
       "      <td>0.426800</td>\n",
       "      <td>0.201200</td>\n",
       "      <td>0.304000</td>\n",
       "      <td>0.097440</td>\n",
       "      <td>...</td>\n",
       "      <td>36.040000</td>\n",
       "      <td>49.540000</td>\n",
       "      <td>251.200000</td>\n",
       "      <td>4254.000000</td>\n",
       "      <td>0.222600</td>\n",
       "      <td>1.058000</td>\n",
       "      <td>1.252000</td>\n",
       "      <td>0.291000</td>\n",
       "      <td>0.663800</td>\n",
       "      <td>0.207500</td>\n",
       "    </tr>\n",
       "  </tbody>\n",
       "</table>\n",
       "<p>8 rows × 30 columns</p>\n",
       "</div>"
      ],
      "text/plain": [
       "       mean radius  mean texture  mean perimeter    mean area  \\\n",
       "count   569.000000    569.000000      569.000000   569.000000   \n",
       "mean     14.127292     19.289649       91.969033   654.889104   \n",
       "std       3.524049      4.301036       24.298981   351.914129   \n",
       "min       6.981000      9.710000       43.790000   143.500000   \n",
       "25%      11.700000     16.170000       75.170000   420.300000   \n",
       "50%      13.370000     18.840000       86.240000   551.100000   \n",
       "75%      15.780000     21.800000      104.100000   782.700000   \n",
       "max      28.110000     39.280000      188.500000  2501.000000   \n",
       "\n",
       "       mean smoothness  mean compactness  mean concavity  mean concave points  \\\n",
       "count       569.000000        569.000000      569.000000           569.000000   \n",
       "mean          0.096360          0.104341        0.088799             0.048919   \n",
       "std           0.014064          0.052813        0.079720             0.038803   \n",
       "min           0.052630          0.019380        0.000000             0.000000   \n",
       "25%           0.086370          0.064920        0.029560             0.020310   \n",
       "50%           0.095870          0.092630        0.061540             0.033500   \n",
       "75%           0.105300          0.130400        0.130700             0.074000   \n",
       "max           0.163400          0.345400        0.426800             0.201200   \n",
       "\n",
       "       mean symmetry  mean fractal dimension  ...  worst radius  \\\n",
       "count     569.000000              569.000000  ...    569.000000   \n",
       "mean        0.181162                0.062798  ...     16.269190   \n",
       "std         0.027414                0.007060  ...      4.833242   \n",
       "min         0.106000                0.049960  ...      7.930000   \n",
       "25%         0.161900                0.057700  ...     13.010000   \n",
       "50%         0.179200                0.061540  ...     14.970000   \n",
       "75%         0.195700                0.066120  ...     18.790000   \n",
       "max         0.304000                0.097440  ...     36.040000   \n",
       "\n",
       "       worst texture  worst perimeter   worst area  worst smoothness  \\\n",
       "count     569.000000       569.000000   569.000000        569.000000   \n",
       "mean       25.677223       107.261213   880.583128          0.132369   \n",
       "std         6.146258        33.602542   569.356993          0.022832   \n",
       "min        12.020000        50.410000   185.200000          0.071170   \n",
       "25%        21.080000        84.110000   515.300000          0.116600   \n",
       "50%        25.410000        97.660000   686.500000          0.131300   \n",
       "75%        29.720000       125.400000  1084.000000          0.146000   \n",
       "max        49.540000       251.200000  4254.000000          0.222600   \n",
       "\n",
       "       worst compactness  worst concavity  worst concave points  \\\n",
       "count         569.000000       569.000000            569.000000   \n",
       "mean            0.254265         0.272188              0.114606   \n",
       "std             0.157336         0.208624              0.065732   \n",
       "min             0.027290         0.000000              0.000000   \n",
       "25%             0.147200         0.114500              0.064930   \n",
       "50%             0.211900         0.226700              0.099930   \n",
       "75%             0.339100         0.382900              0.161400   \n",
       "max             1.058000         1.252000              0.291000   \n",
       "\n",
       "       worst symmetry  worst fractal dimension  \n",
       "count      569.000000               569.000000  \n",
       "mean         0.290076                 0.083946  \n",
       "std          0.061867                 0.018061  \n",
       "min          0.156500                 0.055040  \n",
       "25%          0.250400                 0.071460  \n",
       "50%          0.282200                 0.080040  \n",
       "75%          0.317900                 0.092080  \n",
       "max          0.663800                 0.207500  \n",
       "\n",
       "[8 rows x 30 columns]"
      ]
     },
     "execution_count": 23,
     "metadata": {},
     "output_type": "execute_result"
    }
   ],
   "source": [
    "# To move ahead with the data, we convert it into a dataframe\n",
    "import pandas as pd\n",
    "df = pd.DataFrame(X)\n",
    "\n",
    "# By default, the dataframe is created in such a way where the row names are from (0 to 568) and the column names are from (0 to 12). We change the column names to the feature names of the dataset\n",
    "df.columns = cancer_ds.feature_names\n",
    "\n",
    "# describe the dataframe (to check if the features have string/NaN values)\n",
    "df.describe()"
   ]
  },
  {
   "cell_type": "code",
   "execution_count": 24,
   "id": "bcf6d71a",
   "metadata": {},
   "outputs": [],
   "source": [
    "# Splitting the data into test and train data (randomly without any bias)\n",
    "from sklearn import model_selection\n",
    "X_train, X_test, Y_train, Y_test = model_selection.train_test_split(X, Y, test_size = 0.3)"
   ]
  },
  {
   "cell_type": "code",
   "execution_count": 25,
   "id": "14719ea1",
   "metadata": {},
   "outputs": [
    {
     "name": "stdout",
     "output_type": "stream",
     "text": [
      "(398, 30)\n",
      "(171, 30)\n",
      "(398,)\n",
      "(171,)\n"
     ]
    }
   ],
   "source": [
    "# Checking the shape of the data (to check the percentage of data taken to train and test the algorithm)\n",
    "print(X_train.shape)\n",
    "print(X_test.shape)\n",
    "print(Y_train.shape)\n",
    "print(Y_test.shape)"
   ]
  },
  {
   "cell_type": "code",
   "execution_count": 26,
   "id": "3deccdcc",
   "metadata": {},
   "outputs": [],
   "source": [
    "# Feature Scaling (training data)\n",
    "from sklearn import preprocessing\n",
    "standard_scaler_object = preprocessing.StandardScaler()\n",
    "standard_scaler_object.fit(X_train)\n",
    "X_train = standard_scaler_object.transform(X_train)"
   ]
  },
  {
   "cell_type": "code",
   "execution_count": 27,
   "id": "598f299e",
   "metadata": {},
   "outputs": [],
   "source": [
    "x_ = X_train\n",
    "y_ = Y_train"
   ]
  },
  {
   "cell_type": "code",
   "execution_count": 28,
   "id": "b7d2c97d",
   "metadata": {},
   "outputs": [],
   "source": [
    "# This function finds the new gradient at each step\n",
    "def step_gradient(x_, y_, m, learning_rate):\n",
    "    m_slope = np.zeros(len(x_[0]))\n",
    "    M = len(x_)\n",
    "    for i in range(M) :\n",
    "        x = x_[i]\n",
    "        y = y_[i]\n",
    "        for j in range(len(x)):\n",
    "            m_slope[j] += (-1/M) * (y - 1/(1 + math.exp(-sum(m * x))))*x[j]\n",
    "    new_m = m - learning_rate * m_slope\n",
    "    return new_m"
   ]
  },
  {
   "cell_type": "code",
   "execution_count": 29,
   "id": "cd2a1bbe",
   "metadata": {},
   "outputs": [],
   "source": [
    "# This function finds the new cost after each optimisation\n",
    "def cost(x_, y_, m):\n",
    "    total_cost = 0\n",
    "    M = len(x_)\n",
    "    for i in range(M):\n",
    "        total_cost += (1/M)*(math.log(1 + math.exp(sum(m * x_[i]))) - y_[i]*sum(m * x_[i]))\n",
    "    return total_cost"
   ]
  },
  {
   "cell_type": "code",
   "execution_count": 30,
   "id": "659cf105",
   "metadata": {},
   "outputs": [],
   "source": [
    "# Gradient Descent Function\n",
    "def gd(x_, y_, learning_rate, num_iterations):\n",
    "    m = np.zeros(len(x_[0]))     # Intial random values taken as 0\n",
    "    for i in range(num_iterations):\n",
    "        m = step_gradient(x_, y_, m, learning_rate)\n",
    "        print(i, \" Cost: \", cost(x_, y_, m))\n",
    "    return m"
   ]
  },
  {
   "cell_type": "code",
   "execution_count": 31,
   "id": "489875b1",
   "metadata": {},
   "outputs": [],
   "source": [
    "# Logistic Regression Function\n",
    "def logistic_regression():\n",
    "    learning_rate = 0.1\n",
    "    num_iterations = 100\n",
    "    m = gd(x_, y_, learning_rate, num_iterations)\n",
    "    print(\"Final m :\", m[0:-1])\n",
    "    print(\"Final c :\", m[-1])\n",
    "    return m"
   ]
  },
  {
   "cell_type": "code",
   "execution_count": 32,
   "id": "52538b14",
   "metadata": {},
   "outputs": [
    {
     "name": "stdout",
     "output_type": "stream",
     "text": [
      "0  Cost:  0.5265747822733121\n",
      "1  Cost:  0.44169353949663664\n",
      "2  Cost:  0.3894456514464625\n",
      "3  Cost:  0.35330487402713895\n",
      "4  Cost:  0.326424901524211\n",
      "5  Cost:  0.305423579319699\n",
      "6  Cost:  0.2884215005263007\n",
      "7  Cost:  0.2742833714543039\n",
      "8  Cost:  0.2622791039239256\n",
      "9  Cost:  0.2519156859242966\n",
      "10  Cost:  0.24284685174068713\n",
      "11  Cost:  0.2348214000764067\n",
      "12  Cost:  0.22765207587818198\n",
      "13  Cost:  0.22119602338834649\n",
      "14  Cost:  0.21534206091789446\n",
      "15  Cost:  0.2100021392299004\n",
      "16  Cost:  0.2051054541181516\n",
      "17  Cost:  0.200594293201354\n",
      "18  Cost:  0.1964210454534964\n",
      "19  Cost:  0.1925460082805545\n",
      "20  Cost:  0.18893575284614597\n",
      "21  Cost:  0.18556188729376244\n",
      "22  Cost:  0.18240010823973213\n",
      "23  Cost:  0.179429464229256\n",
      "24  Cost:  0.17663177717033485\n",
      "25  Cost:  0.17399118298668045\n",
      "26  Cost:  0.1714937632866976\n",
      "27  Cost:  0.16912724727235745\n",
      "28  Cost:  0.16688076840727512\n",
      "29  Cost:  0.16474466418561629\n",
      "30  Cost:  0.1627103101335494\n",
      "31  Cost:  0.1607699812329689\n",
      "32  Cost:  0.15891673549006544\n",
      "33  Cost:  0.1571443155236502\n",
      "34  Cost:  0.1554470649220298\n",
      "35  Cost:  0.15381985678561325\n",
      "36  Cost:  0.15225803238780153\n",
      "37  Cost:  0.1507573482872623\n",
      "38  Cost:  0.14931393053837366\n",
      "39  Cost:  0.14792423489411569\n",
      "40  Cost:  0.1465850120923345\n",
      "41  Cost:  0.14529327747364063\n",
      "42  Cost:  0.14404628430591082\n",
      "43  Cost:  0.14284150029304463\n",
      "44  Cost:  0.14167658682933576\n",
      "45  Cost:  0.14054938062945393\n",
      "46  Cost:  0.13945787742060073\n",
      "47  Cost:  0.13840021743027386\n",
      "48  Cost:  0.1373746724420792\n",
      "49  Cost:  0.1363796342246534\n",
      "50  Cost:  0.13541360416614637\n",
      "51  Cost:  0.1344751839698022\n",
      "52  Cost:  0.13356306728572193\n",
      "53  Cost:  0.13267603217046903\n",
      "54  Cost:  0.1318129342803309\n",
      "55  Cost:  0.13097270071612035\n",
      "56  Cost:  0.13015432444776745\n",
      "57  Cost:  0.1293568592558506\n",
      "58  Cost:  0.1285794151348992\n",
      "59  Cost:  0.1278211541099317\n",
      "60  Cost:  0.12708128642344266\n",
      "61  Cost:  0.1263590670550456\n",
      "62  Cost:  0.12565379254032552\n",
      "63  Cost:  0.12496479805924149\n",
      "64  Cost:  0.1242914547677461\n",
      "65  Cost:  0.12363316734917205\n",
      "66  Cost:  0.12298937176450604\n",
      "67  Cost:  0.1223595331828941\n",
      "68  Cost:  0.12174314407570413\n",
      "69  Cost:  0.12113972245921328\n",
      "70  Cost:  0.12054881027252237\n",
      "71  Cost:  0.11996997187867066\n",
      "72  Cost:  0.1194027926781252\n",
      "73  Cost:  0.1188468778249021\n",
      "74  Cost:  0.11830185103652464\n",
      "75  Cost:  0.11776735348987931\n",
      "76  Cost:  0.11724304279579086\n",
      "77  Cost:  0.11672859204581412\n",
      "78  Cost:  0.11622368892534883\n",
      "79  Cost:  0.11572803488773037\n",
      "80  Cost:  0.11524134438443338\n",
      "81  Cost:  0.11476334414696804\n",
      "82  Cost:  0.11429377251644171\n",
      "83  Cost:  0.11383237881711367\n",
      "84  Cost:  0.11337892277059311\n",
      "85  Cost:  0.11293317394761677\n",
      "86  Cost:  0.11249491125460907\n",
      "87  Cost:  0.11206392245245714\n",
      "88  Cost:  0.11164000370515562\n",
      "89  Cost:  0.11122295915616374\n",
      "90  Cost:  0.1108126005304967\n",
      "91  Cost:  0.11040874676073437\n",
      "92  Cost:  0.110011223635274\n",
      "93  Cost:  0.10961986346728717\n",
      "94  Cost:  0.10923450478296344\n",
      "95  Cost:  0.10885499202773351\n",
      "96  Cost:  0.10848117528926048\n",
      "97  Cost:  0.10811291003609003\n",
      "98  Cost:  0.10775005687092304\n",
      "99  Cost:  0.10739248129756165\n",
      "Final m : [-0.36994022 -0.32588255 -0.3670704  -0.38929068 -0.16150685 -0.14430193\n",
      " -0.28861736 -0.40421193 -0.1095954   0.13509812 -0.40654671 -0.01391204\n",
      " -0.35684351 -0.3726423  -0.03468512  0.08602595  0.11722571 -0.05094061\n",
      "  0.02635844  0.1666185  -0.45676658 -0.39622574 -0.43962054 -0.45183866\n",
      " -0.31371759 -0.21814483 -0.26929092 -0.40388082 -0.29938893]\n",
      "Final c : -0.10955858642215496\n"
     ]
    }
   ],
   "source": [
    "m = logistic_regression()"
   ]
  },
  {
   "cell_type": "code",
   "execution_count": 33,
   "id": "af28fa55",
   "metadata": {},
   "outputs": [],
   "source": [
    "# Feature Scaling\n",
    "standard_scaler_object = preprocessing.StandardScaler()\n",
    "standard_scaler_object.fit(X_test)\n",
    "X_test = standard_scaler_object.transform(X_test)"
   ]
  },
  {
   "cell_type": "code",
   "execution_count": 34,
   "id": "05095fcb",
   "metadata": {},
   "outputs": [],
   "source": [
    "# Predicting the output\n",
    "y_pred = []\n",
    "for i in X_test:\n",
    "    if 1/(1 + math.exp(-sum(m * i))) > 0.5:\n",
    "        y_pred.append(1)\n",
    "    else:\n",
    "        y_pred.append(0)"
   ]
  },
  {
   "cell_type": "code",
   "execution_count": 35,
   "id": "c9e77839",
   "metadata": {},
   "outputs": [
    {
     "name": "stdout",
     "output_type": "stream",
     "text": [
      "Score =  0.9766081871345029\n"
     ]
    }
   ],
   "source": [
    "# Evaluating the score of the model\n",
    "total = 0\n",
    "correct = 0\n",
    "\n",
    "for i, j in zip(y_pred, Y_test):\n",
    "    total += 1\n",
    "    if i == j:\n",
    "        correct += 1\n",
    "print('Score = ', correct/total)"
   ]
  }
 ],
 "metadata": {
  "kernelspec": {
   "display_name": "Python 3 (ipykernel)",
   "language": "python",
   "name": "python3"
  },
  "language_info": {
   "codemirror_mode": {
    "name": "ipython",
    "version": 3
   },
   "file_extension": ".py",
   "mimetype": "text/x-python",
   "name": "python",
   "nbconvert_exporter": "python",
   "pygments_lexer": "ipython3",
   "version": "3.9.13"
  }
 },
 "nbformat": 4,
 "nbformat_minor": 5
}
