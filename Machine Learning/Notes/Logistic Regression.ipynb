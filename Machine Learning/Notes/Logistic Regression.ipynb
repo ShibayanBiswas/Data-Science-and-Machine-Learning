{
  "nbformat": 4,
  "nbformat_minor": 0,
  "metadata": {
    "colab": {
      "name": "Copy of Logistic Regression Notes.ipynb",
      "provenance": [],
      "collapsed_sections": []
    },
    "kernelspec": {
      "name": "python3",
      "display_name": "Python 3"
    }
  },
  "cells": [
    {
      "cell_type": "markdown",
      "metadata": {
        "id": "xz9a1DnIlpTG"
      },
      "source": [
        "# **Logistic Regression**"
      ]
    },
    {
      "cell_type": "markdown",
      "metadata": {
        "id": "UAGG38ToltPI"
      },
      "source": [
        "## **Using Linear Regression for Classification**"
      ]
    },
    {
      "cell_type": "markdown",
      "metadata": {
        "id": "h3PbSxvLltRV"
      },
      "source": [
        "Linear Regression is a regression algorithm but can be used in classification problems as well.\r\n",
        "\r\n",
        "Let's consider an example where the results of linear regression are between 0 and 5 (real numbers like 3.567) and we need to classify the data into 6 categories i.e. 0, 1, 2, 3, 4, 5. A simple way of using this for classification is to just round off the result to the nearest integer between 0 and 5. So, if the result from linaer regression is [1.23, 0.43, 4.32, 3.49] we get the results of our classification as [1, 0, 4, 3] .\r\n",
        "\r\n",
        "We need to set the thresholds for classification. In the above example thresholds were: [0-0.5) for 0, [0.5,1.5) for 1, [1.5,2.5) for 2 and so on. You can decide your own threshold values depending on the data you have."
      ]
    },
    {
      "cell_type": "markdown",
      "metadata": {
        "id": "4hxm4ZySltTt"
      },
      "source": [
        "### **Why is linear regression bad for classification?**"
      ]
    },
    {
      "cell_type": "markdown",
      "metadata": {
        "id": "4kXGrSUpltad"
      },
      "source": [
        "Linear Regression can be used for classification by defining appropriate threshold values, but it is not the right algorithm for classification problems because:\r\n",
        "\r\n",
        "1. Outliers can affect the best fit line and thus the decision boundary.\r\n",
        "Values predicted by Linear Regression will be continuous, whereas expected results will be discrete.\r\n",
        "2. With linear regression you fit a polynomial through the data - say, like in the example below we're fitting a straight line through {tumor size, tumor type} sample set:\r\n",
        "\r\n",
        "<img src = \"\thttps://files.codingninjas.in/one-7065.png\" width = '500' >\r\n",
        "\r\n",
        "In the above case, **malignant tumors** get 1 and **non-malignant (benign) tumors** get 0, and the green line is our hypothesis h(x). To make predictions we may say that for any given tumor size x, if h(x) is greater than 0.5 we predict malignant tumor, otherwise we predict benign."
      ]
    },
    {
      "cell_type": "markdown",
      "metadata": {
        "id": "IdIKEopcltgD"
      },
      "source": [
        "It seems that everytime we will easily have the right answer according to the data above, right? \r\n",
        "\r\n",
        "Lets change the data a little bit and for a quite large value of tumor size lets add a Malignant cancer data point. Now our line h(x) begins to look somewhat like this: \r\n",
        "\r\n",
        "<img src = \"https://files.codingninjas.in/three-7066.png\" width = '700'>\r\n",
        "\r\n",
        "We can clearly see that now the predictions are not correct. Because we are trying to fit a line through the data we are getting, the line will be dependant on the quality and type of data we get. We cannot change the hypothesis each time a new sample arrives. Instead, we should learn it off the training set data, and then (using the hypothesis we've learned) make correct predictions for the data we haven't seen before. This can be done by creating a **decision boundary**."
      ]
    },
    {
      "cell_type": "markdown",
      "metadata": {
        "id": "bnrojvajltlo"
      },
      "source": [
        "**Decision Boundary** is the boundary which seperates the two regions in classification. If we have a binary classification with values 0 and 1 then one side of this boundary will be 0 and the other will be 1. Take a look at the image below.\r\n",
        "\r\n",
        "<img src = \"https://files.codingninjas.in/two-7067.png\" width = '700'>\r\n",
        "\r\n",
        "\r\n",
        "Here, the purple colour line is the decision boundary. All points on the left side of this line correspond to 0 and points on the right side correspond to 1. In the above problem (and also many other classification problems) we place greater importance on the fact that the points are placed on the correct side of the decision boundary and not so much on their distance from it. What this means is that it's alright if the points are quite close to the decision boundary, as long as they are on the right side of it."
      ]
    },
    {
      "cell_type": "markdown",
      "metadata": {
        "id": "FGeb3WLde-d-"
      },
      "source": [
        "The above decision boundary (purple line) is similar to the one which would have been generated if we would have used **Logistic Regression** in the above problem. Both linear regression and logistic regression give us a straight line (or a higher order polynomial) but those lines have different meaning:\r\n",
        "1. The line for Linear Regression interpolates, or extrapolates, the output and predicts the value for x we haven't seen.\r\n",
        "2. h(x) for Logistic Regression tells you the measure (e.g. probability) that x belongs to the \"positive\" class. You can see the line formed as the decision boundary."
      ]
    },
    {
      "cell_type": "markdown",
      "metadata": {
        "id": "oxpQDpZbf3EJ"
      },
      "source": [
        "## **Logistic Regression**"
      ]
    },
    {
      "cell_type": "markdown",
      "metadata": {
        "id": "sv0qY35Uf3ml"
      },
      "source": [
        "Logistic Regression is a statistical method for analyzing a dataset in which there are one or more independent variables that determine an outcome. Logistic Regression is actually a classification algorithm. Logistic regression is used to describe data and to explain the relationship between one dependent binary variable and one or more nominal, ordinal, interval or ratio-level independent variables.\r\n",
        "Before starting with Logistic regression we need to know about a function called **Sigmoid Function** and its properties."
      ]
    },
    {
      "cell_type": "markdown",
      "metadata": {
        "id": "IBBFeiOTf3pJ"
      },
      "source": [
        "**Sigmoid Function**\r\n",
        "\r\n",
        "A sigmoid function is a mathematical function having an \"S\" shaped curve (sigmoid curve). Mathematically , the function is :\r\n",
        "\r\n",
        "$$S(t) = \\frac{1}{1 + e^{-t}} $$\r\n",
        "\r\n",
        "Its curve looks like :\r\n",
        "\r\n",
        "$\\qquad\\qquad\\qquad\\qquad\\qquad\\qquad\\quad$ <img src=\"https://files.codingninjas.in/s2-7068.png\">\r\n",
        "\r\n",
        "With its output ranging between 0 and 1. As we can clearly see that the the curve quickly goes toward 1 when t > 0 and toward 0 when t < 0. At t = 0 it is equal to 0.5. \r\n",
        "\r\n",
        "Value of the above function for t = 2 is 0.88 and for t = -2 is 0.119 , which shows how sharply it goes towards 0 and 1."
      ]
    },
    {
      "cell_type": "markdown",
      "metadata": {
        "id": "e4fmbfNCf3rg"
      },
      "source": [
        "Because of sigmoid function's property to give output between 0 and 1, we can use its output like a probability, but not exactly as probability. For example, the property of probability that P(true) + P(false) = 1 may not be true is case of sigmoid function i.e. S(true) + S(false) **may not be equal to 1**."
      ]
    },
    {
      "cell_type": "markdown",
      "metadata": {
        "id": "y88yga-3f3t1"
      },
      "source": [
        "The logistic function has this further, **important property**, that its derivative can be expressed by the function itself,\r\n",
        "\r\n",
        "$$ S'(t) = S(t)(1-S(t)) $$\r\n",
        "\r\n",
        "As at t = 0 we have $S(t) = 0.5$ , and for t > 0 we have $S(t) > 0.5$ (sharply rising to 1 so we consider it 1) and for t < 0 we have $S(t) < 0.5$ (sharply falling to 0 so we consider it 0) , we have our decision boundary as 0.5.\r\n",
        "\r\n",
        "For example, if our threshold is 0.5 and our prediction function returned 0.7, we would classify this observation as 'positive' (1). If our prediction was 0.2 we would classify the observation as 'negative' (0). \r\n",
        "\r\n",
        "For logistic regression with multiple classes we could select the class with the highest predicted probability.\r\n",
        "\r\n",
        "Observe the image below for better understanding :\r\n",
        "\r\n",
        "<img src=\"https://files.codingninjas.in/s4-7069.png\">"
      ]
    },
    {
      "cell_type": "markdown",
      "metadata": {
        "id": "ruXF6bgqf3v_"
      },
      "source": [
        "### **Cost Function of Logistic Regression**"
      ]
    },
    {
      "cell_type": "markdown",
      "metadata": {
        "id": "Jwur9MuMf3yU"
      },
      "source": [
        "Earlier in linear regression we have used the following cost function:\r\n",
        "$$ \\sum^n_{k = 1}(y_t - y_p)^2 $$\r\n",
        "where in $y_p$ was replaced by its value mx.\r\n",
        "$$ \\sum^n_{k = 1}(y - mx)^2 $$\r\n",
        "\r\n",
        "This cost function was of degree 2 and had only one minimum. \r\n",
        "\r\n",
        "But in the case of Logistic Regression, if we use the same cost function then the cost function will end up having many minimas because of the hypothesis function of Logistic Regression. Therefore while estimating a minimum value we may end up at some **local minimum rather than a global minimum.**\r\n",
        "\r\n",
        "$$ \\sum^n_{k = 1}(y - \\frac{1}{1 + e^{-mx}})^2 $$"
      ]
    },
    {
      "cell_type": "markdown",
      "metadata": {
        "id": "HGL45wfzf30t"
      },
      "source": [
        "So here we use **cross entropy** to measure the cost of our model.\r\n",
        "\r\n",
        "$$cost = -log(h(x)) \\enspace if \\enspace y = 1$$\r\n",
        "$$\\qquad\\qquad\\;\\;\\; -log(1-h(x)) \\enspace if \\enspace y = 0 $$\r\n",
        "\r\n",
        "\r\n",
        "here h(x) is the hypothesis function for Logistic Regression (i.e sigmoid function) and y is the actual true output, i.e. the actual label, for the current considered values of features.\r\n",
        "\r\n",
        "This error function penalizes for the wrong predictions we make.\r\n",
        "\r\n",
        "For example, consider that y (the actual label) is 1 and we classify it as e (e is tending to zero), then our cost will be $-log(e)$ i.e a very very high positive value, and the cost reduces as we classify it near to 1 . The cost becomes zero when we classify it correctly as 1 . Also consider that y (the actual label) is 0 and we classify it as t (nearly equal to 1), then the cost for that will be $-log(1-t) = -log(e)$, where e is tending to zero, and again the cost has a very very high positive value. And the cost tends to zero when we classify it correctly as 0.\r\n",
        "\r\n",
        "<img src = \"https://files.codingninjas.in/log-7070.png\">"
      ]
    },
    {
      "cell_type": "markdown",
      "metadata": {
        "id": "ArPMtNoHqsbz"
      },
      "source": [
        "We can combine the two cases of our cost function as:\r\n",
        "$$ cost = [-y * log(h(x))]-[(1-y) * log(1-h(x))] $$\r\n",
        "\r\n",
        "Cost function can also be labelled as the error function for our model.\r\n",
        "For $i^{th}$ point\r\n",
        "\r\n",
        "$$ E(h(x^i), y^i) = [-y^i * log(h(x^i))]-[(1-y^i) * log(1-h(x^i))] $$\r\n",
        "\r\n",
        "So, for the entire dataset containing $x$ and $y$ will be \r\n",
        "\r\n",
        "$$ E(x, y) = \\frac{1}{M}\\sum^M_{i = 0}(-y^i * log(h(x^i))]-[(1-y^i) * log(1-h(x^i))) $$\r\n",
        "\r\n",
        "where M is the number of training points.\r\n",
        "\r\n",
        "The only parameter which we can vary in our cost function is h(x) and therein the variable is m, shown below : \r\n",
        "\r\n",
        "$$ h(x) = \\frac{1}{1 + e^{-mx}} $$\r\n",
        "\r\n",
        "Hence our aim is to improve the accuracy of our model and reduce the cost by selecting a proper value(s) for m , and we do so by **gradient descent** as it was done in linear regression.\r\n",
        "\r\n",
        "Our cost function is a convex function, i.e it has only one local minimum therefore we can use **Gradient Descent** approach to find the apt value of m."
      ]
    },
    {
      "cell_type": "markdown",
      "metadata": {
        "id": "m5Le5Rz6qsxU"
      },
      "source": [
        "### **Finding Optimal values of 'm'**"
      ]
    },
    {
      "cell_type": "markdown",
      "metadata": {
        "id": "xmY2XyX-qszi"
      },
      "source": [
        "From gradient descent, we know that\r\n",
        "\r\n",
        "$$ m_j = m_j - \\alpha \\frac{\\partial E}{\\partial{m_j}} $$\r\n",
        "\r\n",
        "So we need to find $\\frac{\\partial E}{\\partial{m_j}}$\r\n",
        "\r\n",
        "\r\n",
        "Solving this derivative gives us the value as\r\n",
        "\r\n",
        "$$\\frac{\\partial E}{\\partial{m_j}} = \\frac{1}{m} \\sum_i(y^i - h(x^i))x_j^i $$"
      ]
    },
    {
      "cell_type": "markdown",
      "metadata": {
        "id": "fVJm5Da_qs1j"
      },
      "source": [
        "## **Multi-Class Classification**"
      ]
    },
    {
      "cell_type": "markdown",
      "metadata": {
        "id": "d-LJ319Yqs4Q"
      },
      "source": [
        "\r\n",
        "Binary classification tasks are those tasks where examples are assigned exactly one of two classes. Multi-class classification tasks are those tasks where examples are assigned exactly one of more than two classes.\r\n",
        "\r\n",
        "**Binary Classification:** Classification tasks with two classes.\r\n",
        "\r\n",
        "**Multi-class Classification:** Classification tasks with more than two classes.\r\n",
        "\r\n",
        "As such, logistic regression cannot be used for multi-class classification tasks, at least not directly.\r\n",
        "\r\n",
        "Instead, heuristic methods can be used to split a multi-class classification problem into multiple binary classification datasets and train a binary classification model each.\r\n",
        "\r\n",
        "Two examples of these heuristic methods include:\r\n",
        "\r\n",
        "1. One-vs-Rest (OvR)\r\n",
        "2. One-vs-One (OvO)"
      ]
    },
    {
      "cell_type": "markdown",
      "metadata": {
        "id": "O5j-GAy3w4Hb"
      },
      "source": [
        "### **One-vs-Rest**"
      ]
    },
    {
      "cell_type": "markdown",
      "metadata": {
        "id": "lMTdj3Ryw4gw"
      },
      "source": [
        "One-Vs-Rest for Multi-Class Classification\r\n",
        "One-vs-rest (OvR for short, also referred to as One-vs-All or OvA) is a heuristic method for using binary classification algorithms for multi-class classification.\r\n",
        "\r\n",
        "It involves splitting the multi-class dataset into multiple binary classification problems. A binary classifier is then trained on each binary classification problem and predictions are made using the model that is the most confident.\r\n",
        "\r\n",
        "For example, given a multi-class classification problem with examples for each class 'red', 'blue' and 'green'. This could be divided into three binary classification datasets as follows:\r\n",
        "\r\n",
        "**Binary Classification Problem 1:** red vs [blue, green]\r\n",
        "\r\n",
        "**Binary Classification Problem 2:** blue vs [red, green]\r\n",
        "\r\n",
        "**Binary Classification Problem 3:** green vs [red, blue]\r\n",
        "\r\n",
        "A possible downside of this approach is that it requires one model to be created for each class. For example, three classes requires three models. This could be an issue for large datasets (e.g. millions of rows), slow models (e.g. neural networks), or very large numbers of classes (e.g. hundreds of classes).\r\n",
        "\r\n",
        "This approach requires that each model predicts a class membership probability or a probability-like score. The argmax of these scores (class index with the largest score) is then used to predict a class."
      ]
    },
    {
      "cell_type": "markdown",
      "metadata": {
        "id": "0aAD6EJWw4jE"
      },
      "source": [
        "### **One-vs-One**"
      ]
    },
    {
      "cell_type": "markdown",
      "metadata": {
        "id": "7QYmVa-vw4lZ"
      },
      "source": [
        "One-vs-One (OvO for short) is another heuristic method for using binary classification algorithms for multi-class classification.\r\n",
        "\r\n",
        "Like one-vs-rest, one-vs-one splits a multi-class classification dataset into binary classification problems. Unlike one-vs-rest that splits it into one binary dataset for each class, the one-vs-one approach splits the dataset into one dataset for each class versus every other class.\r\n",
        "\r\n",
        "For example, consider a multi-class classification problem with four classes: ‘red,’ ‘blue,’ and ‘green,’ ‘yellow.’ This could be divided into six binary classification datasets as follows:\r\n",
        "\r\n",
        "**Binary Classification Problem 1:** red vs. blue\r\n",
        "\r\n",
        "**Binary Classification Problem 2:** red vs. green\r\n",
        "\r\n",
        "**Binary Classification Problem 3:** red vs. yellow\r\n",
        "\r\n",
        "**Binary Classification Problem 4:** blue vs. green\r\n",
        "\r\n",
        "**Binary Classification Problem 5:** blue vs. yellow\r\n",
        "\r\n",
        "**Binary Classification Problem 6:** green vs. yellow\r\n",
        "\r\n",
        "This is significantly more datasets, and in turn, models than the one-vs-rest strategy described in the previous section.\r\n",
        "\r\n",
        "The formula for calculating the number of models, is as follows:\r\n",
        "\r\n",
        "$$\\frac{NumClasses * (NumClasses – 1)} {2}$$\r\n",
        "\r\n",
        "We can see that for four classes, this gives us the value of six binary classification problems:\r\n",
        "\r\n",
        "$$\\frac{NumClasses * (NumClasses – 1)} {2}$$\r\n",
        "\r\n"
      ]
    },
    {
      "cell_type": "markdown",
      "metadata": {
        "id": "xxMXaO6nw4oC"
      },
      "source": [
        "$$\\frac{4 * (4 – 1)}{2}$$\r\n",
        "\r\n"
      ]
    },
    {
      "cell_type": "markdown",
      "metadata": {
        "id": "Tz1mEuT6x89g"
      },
      "source": [
        "$$\\frac{4 * 3}{2}$$\r\n",
        "\r\n"
      ]
    },
    {
      "cell_type": "markdown",
      "metadata": {
        "id": "4W3og6Njx9NQ"
      },
      "source": [
        "$$6$$\r\n",
        "Each binary classification model may predict one class label and the model with the most predictions or votes is predicted by the one-vs-one strategy.\r\n",
        "\r\n",
        "Similarly, if the binary classification models predict a numerical class membership, such as a probability, then the argmax of the sum of the scores (class with the largest sum score) is predicted as the class label."
      ]
    },
    {
      "cell_type": "markdown",
      "metadata": {
        "id": "YNU-Deyox9Pp"
      },
      "source": [
        "## **Creating useful features from given features and regularisation**"
      ]
    },
    {
      "cell_type": "markdown",
      "metadata": {
        "id": "wKCvhp0ax9SE"
      },
      "source": [
        "A common practise is to use the extended form by creating extra features from the given set of features. One way of doing this is shown here. This is the most general way and is used widely .\r\n",
        "Let's take an example in which we have 3 features f1, f2, and f3. For these features we will have an equation for input to sigmoid with at most one degree in f1, f2, and f3. By degree 1 we mean equations of the form $a(f1)+b(f2)+c(f3)+d$, where a, b, c, and d are some coefficients.\r\n",
        "\r\n",
        "What we plan to do is add more features such as $f1*f1$ , $f2*f2$ , $f3*f3$ , $f1*f3$, $f1*f2$ and $f2*f3$ so that our equation can be of 2nd degree. The main point to note here is that we have increased our number of features from just 3 to 9, but the newly added 6 features are derived from the already existing 3 features.\r\n",
        "\r\n",
        "You can create and add features of any degree you feel like. $f1*f2*f3$ will make an equation of 3rd degree. The more features you add the better your decision boundary tries to fit in the training data. Generally we get better results with higher degree terms in the equation.\r\n",
        "\r\n",
        "We must acknowledge the fact that if the dependancy of the output is very low on the a certain factor say $f1*f2$ then the model will assign a value to its coefficient which ensures that it has less effect in the output.\r\n",
        "With higher degree features being added to the dataset we are now able to achieve boundaries of many shapes such as parabolic and even some complex shapes.\r\n",
        "\r\n",
        "This addition of features comes with a cost. If we keep on adding more and more features of higher degree, our model to try to fit itself more to the training data and may cause the problem of **overfitting**."
      ]
    },
    {
      "cell_type": "markdown",
      "metadata": {
        "id": "sodRWvZ4x9US"
      },
      "source": [
        "**Overfitting** is a modeling error which occurs when a function is too closely fit to a limited set of data points. Due to this, the model responds poorly to the unseen data or the testing data. This is one of many reasons for a trained model to perform poorly on test data.\r\n",
        "So we need to have a trade off between the complexity of features we want to use and the extent to which we want our model to fit to the training data."
      ]
    },
    {
      "cell_type": "markdown",
      "metadata": {
        "id": "-UG5l09QzVzu"
      },
      "source": [
        "Consider the example below for more clarity:\r\n",
        "\r\n",
        "<img src = \"https://files.codingninjas.in/r1-7071.png\">"
      ]
    },
    {
      "cell_type": "markdown",
      "metadata": {
        "id": "1QOenkZazV2h"
      },
      "source": [
        "In the above example we see that in the first figure when we use equation of degree one we just get a line which does not depict the data nicely.\r\n",
        "For the second figure we use equation of degree 2 as we have terms like x1*x2. The curve we obtain here is depicting the data quite well. This should be the optimal solution even though it has a couple of wrong classifications. In the third example we use equation with degree 5. We can clearly see that the decision boundary is trying to fit itself to the data. This is the case of over fitting."
      ]
    },
    {
      "cell_type": "markdown",
      "metadata": {
        "id": "QpVBhjmAzoIx"
      },
      "source": [
        "#### **Regularisation**"
      ]
    },
    {
      "cell_type": "markdown",
      "metadata": {
        "id": "L630AXO3zV5R"
      },
      "source": [
        "One way of reducing overfitting is by **regularisation**. A very simple explaination of regularisation can be that it discourages complex features in the dataset. Let's try to understand regularisation with an example.\r\n",
        "Assume that we have:\r\n",
        "\r\n",
        "$(m_1*x_1) + (m_2*x_2) + (m_3*x_1*x_1) + (m_4*x_2*x_2) + (m_5*x_1*x_2)$ \r\n",
        "\r\n",
        "as our input to the sigmoid function in case of Logistic regression.\r\n",
        "We add this term to the cost function:"
      ]
    },
    {
      "cell_type": "markdown",
      "metadata": {
        "id": "KlUnOQQG0FFe"
      },
      "source": [
        "$$ \\beta(\\sum^n_{k = 1}(m_k)^2) $$ "
      ]
    },
    {
      "cell_type": "markdown",
      "metadata": {
        "id": "NyNBmus4zV8N"
      },
      "source": [
        "where β is the regularisation parameter and m are the coefficients given to n features. We are actually telling our model that the more importance you give to a particular feature the more it will add to the cost function. So this automatically acts as a deciding factor for the model. A particular feature will be give higher valued coefficient only if it is significantly important in deciding the outcome. This will naturally reduce overfitting.\r\n",
        "\r\n",
        "This type of regularisation in which we add square of the coefficient's value multiplied by $\\beta$ to the cost function is called **L2 Regularisation** and if we just added the coefficients value multiplied by $\\beta$ to the cost function, it is called **L1 Regularisation**."
      ]
    },
    {
      "cell_type": "markdown",
      "metadata": {
        "id": "3Iktr993zV-5"
      },
      "source": [
        "## **Using Sklearn for Logistic Regression**"
      ]
    },
    {
      "cell_type": "markdown",
      "metadata": {
        "id": "LrZIJwdx0k3h"
      },
      "source": [
        "Dataset used : Breast Cancer Dataset"
      ]
    },
    {
      "cell_type": "code",
      "metadata": {
        "id": "dU7I2yX50nvP"
      },
      "source": [
        "from sklearn import datasets\r\n",
        "from sklearn import model_selection\r\n",
        "from sklearn.linear_model import LogisticRegression"
      ],
      "execution_count": null,
      "outputs": []
    },
    {
      "cell_type": "code",
      "metadata": {
        "id": "BVpmSVLc0rOn"
      },
      "source": [
        "cancer_ds = datasets.load_breast_cancer()\r\n",
        "X = cancer_ds.data\r\n",
        "Y = cancer_ds.target"
      ],
      "execution_count": null,
      "outputs": []
    },
    {
      "cell_type": "code",
      "metadata": {
        "id": "k77boHVh1VGb"
      },
      "source": [
        "X_train, X_test, Y_train, Y_test = model_selection.train_test_split(X,Y,test_size=0.3)"
      ],
      "execution_count": null,
      "outputs": []
    },
    {
      "cell_type": "code",
      "metadata": {
        "colab": {
          "base_uri": "https://localhost:8080/"
        },
        "id": "XK4d2GM80rpT",
        "outputId": "48313529-4e40-45a6-d005-198b97a984ae"
      },
      "source": [
        "clf = LogisticRegression(C=2, solver = 'liblinear')\r\n",
        "clf.fit(X_train, Y_train)"
      ],
      "execution_count": null,
      "outputs": [
        {
          "output_type": "execute_result",
          "data": {
            "text/plain": [
              "LogisticRegression(C=2, class_weight=None, dual=False, fit_intercept=True,\n",
              "                   intercept_scaling=1, l1_ratio=None, max_iter=100,\n",
              "                   multi_class='auto', n_jobs=None, penalty='l2',\n",
              "                   random_state=None, solver='liblinear', tol=0.0001, verbose=0,\n",
              "                   warm_start=False)"
            ]
          },
          "metadata": {
            "tags": []
          },
          "execution_count": 5
        }
      ]
    },
    {
      "cell_type": "code",
      "metadata": {
        "colab": {
          "base_uri": "https://localhost:8080/"
        },
        "id": "at8FZd9l0rrc",
        "outputId": "93c018d0-7571-4c9d-fc50-50247828e5dd"
      },
      "source": [
        "print(\"Training Score\", clf.score(X_train, Y_train))"
      ],
      "execution_count": null,
      "outputs": [
        {
          "output_type": "stream",
          "text": [
            "Training Score 0.964824120603015\n"
          ],
          "name": "stdout"
        }
      ]
    },
    {
      "cell_type": "code",
      "metadata": {
        "colab": {
          "base_uri": "https://localhost:8080/"
        },
        "id": "apatEgSa0rtr",
        "outputId": "205e8302-0faa-45e6-c761-86aee782ad68"
      },
      "source": [
        "print(\"Testing Score\", clf.score(X_test, Y_test))"
      ],
      "execution_count": null,
      "outputs": [
        {
          "output_type": "stream",
          "text": [
            "Testing Score 0.9415204678362573\n"
          ],
          "name": "stdout"
        }
      ]
    },
    {
      "cell_type": "markdown",
      "metadata": {
        "id": "WxbIUDXl3Dip"
      },
      "source": [
        "You may use many parameters for optimisation of your code. You may refer the following documentation.\r\n",
        "\r\n",
        "https://scikit-learn.org/stable/modules/generated/sklearn.linear_model.LogisticRegression.html"
      ]
    },
    {
      "cell_type": "markdown",
      "metadata": {
        "id": "jz0qg50q3Pj7"
      },
      "source": [
        "## **Your Next Task**"
      ]
    },
    {
      "cell_type": "markdown",
      "metadata": {
        "id": "bWDBPRKs3P5a"
      },
      "source": [
        "You have to write the code for Logistic Regression with the help of the formulas we have derived above. \r\n",
        "\r\n",
        "Your hypothesis function is :\r\n",
        "\r\n",
        "$$ h(x) = \\frac{1}{1 + e^{-mx}} $$\r\n",
        "\r\n",
        "and the error function will be \r\n",
        "\r\n",
        "$$ cost = [-ylog * (h(x))]-[(1-y) * log(1-h(x))] $$\r\n",
        "\r\n",
        "Using Gradient Descent, you need to minimise the error function given by:\r\n",
        "\r\n",
        "$$ E(x, y) = \\frac{1}{M}\\sum^M_{i = 0}(-y^i * log(h(x^i))]-[(1-y^i) * log(1-h(x^i))) $$\r\n",
        "\r\n",
        "To do this, you need to find $\\frac{\\partial E}{\\partial{m_j}}$\r\n",
        "\r\n",
        "We found that it as:\r\n",
        "\r\n",
        "$$\\frac{\\partial E}{\\partial{m_j}} = \\frac{1}{m} \\sum_i(y^i - h(x^i))x_j^i $$\r\n",
        "\r\n"
      ]
    }
  ]
}