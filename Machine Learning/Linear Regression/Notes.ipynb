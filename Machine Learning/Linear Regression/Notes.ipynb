{
 "cells": [
  {
   "cell_type": "markdown",
   "id": "a469d084",
   "metadata": {},
   "source": [
    "# **Linear** **Regression**\n",
    "\n",
    "\n",
    "\n"
   ]
  },
  {
   "cell_type": "markdown",
   "id": "9fd997c8",
   "metadata": {},
   "source": [
    "Linear Regression is the most basic algorithm in Machine Learning. It is a regression algorithm, which means that it is useful when we are required to predict continuous values, that is, the output variable ‘y’ is continuous in nature.\n",
    "\n",
    "A few examples of the regression problem can be the following\n",
    "1. “What is the market value of the house?”\n",
    "2. “Stock price prediction”\n",
    "3. “Sales of a shop”\n",
    "4. “Predicting height of a person”\n"
   ]
  },
  {
   "cell_type": "markdown",
   "id": "1474384e",
   "metadata": {},
   "source": [
    "Terms to be used here:\n",
    "1. **Features** - These are the independent variables in any dataset represented by $x_1$ , $x_2$ , $x_3$,\n",
    "$x_4$,... $x_n$ for ‘n’ features.\n",
    "\n",
    "\n",
    "2. **Target / Output Variable** - This is the dependent variable whose value depends on the\n",
    "independent variable by a relation (given below) and is represented by ‘y’.\n",
    "\n",
    "\n",
    "3. **Function or Hypothesis** of Linear Regression is represented by -\n",
    "$y = m_1.x_1 + m_2.x_2 + m_3.x_3 + … + m_n.x_n + b$\n",
    "\n",
    "$\\qquad$Note: Hypothesis is a function that tries to fit the data.\n",
    "\n",
    "\n",
    "4. **Intercept** - Here b is the intercept of the line. We usually include this ‘b’ in the equation\n",
    "of ‘m’ and take ‘x’ values for that ‘m’ to be 1. So modified form of above equation is as\n",
    "follows : y = mx. Where $mx = m_1.x_1 + m_2.x_2 + m_3.x_3 + … + m_n.x_n + m_{n+1}.x_{n + 1}$. Here $m_{n + 1}$ is b and $x_{n + 1} = 1$\n",
    "\n",
    "\n",
    "5. **Training Data** - This data contains a set of dependent variables that is ‘x’ and a set of\n",
    "output variable, ‘y’. This data is given to the machine for it to learn or get trained on\n",
    "some function (here the function is the equation given above) so that in future on giving\n",
    "some new values of ‘x’ , our machine is able to predict values of ‘y’ based on that function.\n",
    "\n",
    "\n",
    "6. **Testing Data** - Once our model is ready, we need to get an idea of how well it performs. For this we use testing data. The machine is given the value of 'x', on which it predicts the value of 'y'. We then compare the predicted 'y' with the testing 'y' to get an idea of the error and accuracy of our machine."
   ]
  },
  {
   "cell_type": "markdown",
   "id": "e45256c3",
   "metadata": {},
   "source": [
    "Linear regression assumes linear relation between x and y.\n",
    "The hypothesis function for linear regression is:\n",
    "\n",
    "$$y = m_1.x_1 + m_2.x_2 + m_3.x_3 + … + m_n.x_n + b$$\n",
    "\n",
    "where m1 , m2 , m3 are called the parameters and b is the intercept of the line. This equation\n",
    "shows that the output variable y is linearly dependent on the features x1 , x2 , x3. The more you\n",
    "are dependent on a particular feature, more will be the value of corresponding m for that feature.\n",
    "We can find out which feature is more important or which feature is more affecting the result by\n",
    "varying the values of m one at a time and see if it is affecting the result, that is , the value of y.\n",
    "So, here in order to predict the values of y for given features values ( x values) we use this\n",
    "equation. But what we are missing here is the values of parameters (m1 , m2 , m3 , … and b).\n",
    "So, we will be using our training data (where the values of x and y are already given) to find out\n",
    "values of parameters and later on predict the value of y for a set of new values of x."
   ]
  },
  {
   "cell_type": "markdown",
   "id": "a13cea56",
   "metadata": {},
   "source": [
    "The core idea is to obtain a line that best fits the data. The best fit line is considered to be the line for which the error between the predicted values and the observed values is minimum. It is also called the **regression line** and the errors are also known as **residuals**."
   ]
  },
  {
   "cell_type": "markdown",
   "id": "2d0f6646",
   "metadata": {},
   "source": [
    "# **Simple Linear Regression**"
   ]
  },
  {
   "cell_type": "markdown",
   "id": "4679fdba",
   "metadata": {},
   "source": [
    "Simple Linear Regression is a type of regression algorithm that models the relationship between a dependent variable and a single independent variable. \n",
    "The key point in Simple Linear Regression is that the dependent variable must be a continuous/real value. However, the independent variable can be measured on continuous or categorical values."
   ]
  },
  {
   "cell_type": "markdown",
   "id": "a4075eb7",
   "metadata": {},
   "source": [
    "Let us assume that there is only one feature in the dataset, that is, x. So the equation goes as follows:\n",
    "Y = mX + b\n",
    "Let’s say if we scatter the points (x,y) from our training data, then what linear regression tries to\n",
    "do is, find a line with such a value of m and b that error of each data point $(x, y_{actual})$ is minimum when compared with $(x, y_{predicted})$. Error here means combined error\n"
   ]
  },
  {
   "cell_type": "markdown",
   "id": "c34238f0",
   "metadata": {},
   "source": [
    "Here it is difficult to find out which line is the best fit just by looking at the different lines.\n",
    "So our algorithm finds out the $m$ and $c$ for the line of best fit by calculating the combined error\n",
    "function and minimizing it. There can be three ways of calculating error function :"
   ]
  },
  {
   "cell_type": "markdown",
   "id": "7593f38e",
   "metadata": {},
   "source": [
    "1. **Sum of residuals** $\\sum(Y_{actual} \\,–\\, Y_{predict})$ – This is usually not used since it might result in cancelling out the positive and\n",
    "negative errors.\n",
    "\n",
    "\n",
    "2. **Sum of the absolute value of residuals** $\\sum|Y_{actual} \\,–\\, Y_{predict}|$ – Taking absolute value would\n",
    "prevent cancellation of positive and negative errors.\n",
    "\n",
    "\n",
    "3. **Sum of square of residuals** $\\sum|Y_{actual} \\,–\\, Y_{predict}|^2$ – This is the method mostly used in\n",
    "practice since here we penalize higher error values much more as compared to smaller ones,\n",
    "so that there is a significant difference between making big errors and small errors, which\n",
    "makes it easy to differentiate and select the best fit line."
   ]
  },
  {
   "cell_type": "markdown",
   "id": "6673d36e",
   "metadata": {},
   "source": [
    " **Simple Linear Regression Using Sklearn**"
   ]
  },
  {
   "cell_type": "markdown",
   "id": "bba5e52b",
   "metadata": {},
   "source": [
    "The process takes place in the following steps:\n",
    "\n",
    "1. Loading the Data\n",
    "2. Splitting the Data\n",
    "4. Generate The Model\n",
    "5. Evaluate The accuracy"
   ]
  },
  {
   "cell_type": "markdown",
   "id": "2c570ba1",
   "metadata": {},
   "source": [
    "**Loading the data**\n",
    "\n",
    "Here we will use a dummy dataset. "
   ]
  },
  {
   "cell_type": "code",
   "execution_count": 1,
   "id": "6dedaddb",
   "metadata": {},
   "outputs": [
    {
     "data": {
      "text/plain": [
       "array([[ 32.50234527,  31.70700585],\n",
       "       [ 53.42680403,  68.77759598],\n",
       "       [ 61.53035803,  62.5623823 ],\n",
       "       [ 47.47563963,  71.54663223],\n",
       "       [ 59.81320787,  87.23092513],\n",
       "       [ 55.14218841,  78.21151827],\n",
       "       [ 52.21179669,  79.64197305],\n",
       "       [ 39.29956669,  59.17148932],\n",
       "       [ 48.10504169,  75.3312423 ],\n",
       "       [ 52.55001444,  71.30087989],\n",
       "       [ 45.41973014,  55.16567715],\n",
       "       [ 54.35163488,  82.47884676],\n",
       "       [ 44.1640495 ,  62.00892325],\n",
       "       [ 58.16847072,  75.39287043],\n",
       "       [ 56.72720806,  81.43619216],\n",
       "       [ 48.95588857,  60.72360244],\n",
       "       [ 44.68719623,  82.89250373],\n",
       "       [ 60.29732685,  97.37989686],\n",
       "       [ 45.61864377,  48.84715332],\n",
       "       [ 38.81681754,  56.87721319],\n",
       "       [ 66.18981661,  83.87856466],\n",
       "       [ 65.41605175, 118.5912173 ],\n",
       "       [ 47.48120861,  57.25181946],\n",
       "       [ 41.57564262,  51.39174408],\n",
       "       [ 51.84518691,  75.38065167],\n",
       "       [ 59.37082201,  74.76556403],\n",
       "       [ 57.31000344,  95.45505292],\n",
       "       [ 63.61556125,  95.22936602],\n",
       "       [ 46.73761941,  79.05240617],\n",
       "       [ 50.55676015,  83.43207142],\n",
       "       [ 52.22399609,  63.35879032],\n",
       "       [ 35.56783005,  41.4128853 ],\n",
       "       [ 42.43647694,  76.61734128],\n",
       "       [ 58.16454011,  96.76956643],\n",
       "       [ 57.50444762,  74.08413012],\n",
       "       [ 45.44053073,  66.58814441],\n",
       "       [ 61.89622268,  77.76848242],\n",
       "       [ 33.09383174,  50.71958891],\n",
       "       [ 36.43600951,  62.12457082],\n",
       "       [ 37.67565486,  60.81024665],\n",
       "       [ 44.55560838,  52.68298337],\n",
       "       [ 43.31828263,  58.56982472],\n",
       "       [ 50.07314563,  82.90598149],\n",
       "       [ 43.87061265,  61.4247098 ],\n",
       "       [ 62.99748075, 115.2441528 ],\n",
       "       [ 32.66904376,  45.57058882],\n",
       "       [ 40.16689901,  54.0840548 ],\n",
       "       [ 53.57507753,  87.99445276],\n",
       "       [ 33.86421497,  52.72549438],\n",
       "       [ 64.70713867,  93.57611869],\n",
       "       [ 38.11982403,  80.16627545],\n",
       "       [ 44.50253806,  65.10171157],\n",
       "       [ 40.59953838,  65.56230126],\n",
       "       [ 41.72067636,  65.28088692],\n",
       "       [ 51.08863468,  73.43464155],\n",
       "       [ 55.0780959 ,  71.13972786],\n",
       "       [ 41.37772653,  79.10282968],\n",
       "       [ 62.49469743,  86.52053844],\n",
       "       [ 49.20388754,  84.74269781],\n",
       "       [ 41.10268519,  59.35885025],\n",
       "       [ 41.18201611,  61.68403752],\n",
       "       [ 50.18638949,  69.84760416],\n",
       "       [ 52.37844622,  86.09829121],\n",
       "       [ 50.13548549,  59.10883927],\n",
       "       [ 33.64470601,  69.89968164],\n",
       "       [ 39.55790122,  44.86249071],\n",
       "       [ 56.13038882,  85.49806778],\n",
       "       [ 57.36205213,  95.53668685],\n",
       "       [ 60.26921439,  70.25193442],\n",
       "       [ 35.67809389,  52.72173496],\n",
       "       [ 31.588117  ,  50.39267014],\n",
       "       [ 53.66093226,  63.64239878],\n",
       "       [ 46.68222865,  72.24725107],\n",
       "       [ 43.10782022,  57.81251298],\n",
       "       [ 70.34607562, 104.25710159],\n",
       "       [ 44.49285588,  86.64202032],\n",
       "       [ 57.5045333 ,  91.486778  ],\n",
       "       [ 36.93007661,  55.23166089],\n",
       "       [ 55.80573336,  79.55043668],\n",
       "       [ 38.95476907,  44.84712424],\n",
       "       [ 56.9012147 ,  80.20752314],\n",
       "       [ 56.86890066,  83.14274979],\n",
       "       [ 34.3331247 ,  55.72348926],\n",
       "       [ 59.04974121,  77.63418251],\n",
       "       [ 57.78822399,  99.05141484],\n",
       "       [ 54.28232871,  79.12064627],\n",
       "       [ 51.0887199 ,  69.58889785],\n",
       "       [ 50.28283635,  69.51050331],\n",
       "       [ 44.21174175,  73.68756432],\n",
       "       [ 38.00548801,  61.36690454],\n",
       "       [ 32.94047994,  67.17065577],\n",
       "       [ 53.69163957,  85.66820315],\n",
       "       [ 68.76573427, 114.85387123],\n",
       "       [ 46.2309665 ,  90.12357207],\n",
       "       [ 68.31936082,  97.91982104],\n",
       "       [ 50.03017434,  81.53699078],\n",
       "       [ 49.23976534,  72.11183247],\n",
       "       [ 50.03957594,  85.23200734],\n",
       "       [ 48.14985889,  66.22495789],\n",
       "       [ 25.12848465,  53.45439421]])"
      ]
     },
     "execution_count": 1,
     "metadata": {},
     "output_type": "execute_result"
    }
   ],
   "source": [
    "# We load the dataset with the help of the function \"loadtxt(file_path, delimeter)\", present in NumPy\n",
    "import numpy as np\n",
    "data = np.loadtxt(\"https://files.codingninjas.in/data-6984.csv\", delimiter = \",\")\n",
    "data"
   ]
  },
  {
   "cell_type": "code",
   "execution_count": 2,
   "id": "de5e211e",
   "metadata": {},
   "outputs": [],
   "source": [
    "# Getting the input feature (1st column). Linear Regression wants the input to be a 2-Dimensional array\n",
    "X = data[:, 0]\n",
    "\n",
    "# Converting the input feature (1-Dimensional array/single input feature) to a 2-Dimensional array\n",
    "X = X.reshape(-1, 1)\n",
    "\n",
    "# Getting the output (2nd column)\n",
    "Y = data[:, 1]"
   ]
  },
  {
   "cell_type": "code",
   "execution_count": 3,
   "id": "3be5640c",
   "metadata": {},
   "outputs": [
    {
     "data": {
      "text/plain": [
       "(100, 1)"
      ]
     },
     "execution_count": 3,
     "metadata": {},
     "output_type": "execute_result"
    }
   ],
   "source": [
    "# Shape of the input feature (it's a numpy array). Output : (rows, columns/features)\n",
    "X.shape"
   ]
  },
  {
   "cell_type": "code",
   "execution_count": 4,
   "id": "669dea0e",
   "metadata": {},
   "outputs": [],
   "source": [
    "# Splitting the data into test and train data (randomly without any bias)\n",
    "from sklearn import model_selection\n",
    "X_train, X_test, Y_train, Y_test = model_selection.train_test_split(X, Y)"
   ]
  },
  {
   "cell_type": "code",
   "execution_count": 5,
   "id": "f629030d",
   "metadata": {},
   "outputs": [
    {
     "name": "stdout",
     "output_type": "stream",
     "text": [
      "(75, 1)\n",
      "(25, 1)\n",
      "(75,)\n",
      "(25,)\n"
     ]
    }
   ],
   "source": [
    "# Checking the shape of the data (to check the percentage of data taken to train and test the algorithm)\n",
    "print(X_train.shape)\n",
    "print(X_test.shape)\n",
    "print(Y_train.shape)\n",
    "print(Y_test.shape)"
   ]
  },
  {
   "cell_type": "code",
   "execution_count": 6,
   "id": "b27d1223",
   "metadata": {},
   "outputs": [],
   "source": [
    "# Using sklearn to import the classifier/algorithm\n",
    "from sklearn.linear_model import LinearRegression\n",
    "\n",
    "# Creating the algorithm object that we can use to train and then test the data\n",
    "alg1 = LinearRegression()"
   ]
  },
  {
   "cell_type": "code",
   "execution_count": 7,
   "id": "e7e4a551",
   "metadata": {},
   "outputs": [
    {
     "data": {
      "text/plain": [
       "LinearRegression()"
      ]
     },
     "execution_count": 7,
     "metadata": {},
     "output_type": "execute_result"
    }
   ],
   "source": [
    "# Fitting/training the data\n",
    "alg1.fit(X_train, Y_train)"
   ]
  },
  {
   "cell_type": "markdown",
   "id": "973ebd82",
   "metadata": {},
   "source": [
    "Linear Regression should have used the training data to figure out the line : $y = m.x + c$"
   ]
  },
  {
   "cell_type": "code",
   "execution_count": 8,
   "id": "f0ce28b2",
   "metadata": {},
   "outputs": [],
   "source": [
    "# Predicting the output for the trained data\n",
    "Y_pred = alg1.predict(X_test)"
   ]
  },
  {
   "cell_type": "code",
   "execution_count": 9,
   "id": "bffed1f7",
   "metadata": {},
   "outputs": [
    {
     "name": "stdout",
     "output_type": "stream",
     "text": [
      "MSE 84.78592816176115\n",
      "Coeffecient for x is: 1.2898151510916214\n",
      "Intercept value is: 9.791622827490983\n"
     ]
    }
   ],
   "source": [
    "from sklearn.metrics import mean_squared_error\n",
    "\n",
    "# Finding the Mean Squared Error\n",
    "mse = mean_squared_error(Y_test, Y_pred)\n",
    "print(\"MSE\", mse)\n",
    " \n",
    "# Finding the coefficient/slope. It is an array of weights corresponding to each feature   \n",
    "weights = alg1.coef_\n",
    "\n",
    "# Finding the intercept\n",
    "intercept = alg1.intercept_\n",
    "\n",
    "print(\"Coeffecient for x is:\", weights[0])\n",
    "print(\"Intercept value is:\", intercept)  "
   ]
  },
  {
   "cell_type": "markdown",
   "id": "b334f15e",
   "metadata": {},
   "source": [
    "To be more clear on how the data points look like on the graph, let us plot the graphs as well."
   ]
  },
  {
   "cell_type": "code",
   "execution_count": 10,
   "id": "06cd379f",
   "metadata": {},
   "outputs": [
    {
     "data": {
      "image/png": "[encoded data removed]",
      "text/plain": [
       "<Figure size 640x480 with 1 Axes>"
      ]
     },
     "metadata": {},
     "output_type": "display_data"
    }
   ],
   "source": [
    "import matplotlib.pyplot as plt\n",
    " \n",
    "# Plotting the testing data\n",
    "plt.scatter(X_test, Y_test)\n",
    "\n",
    "# Plotting the predicted data\n",
    "plt.plot(X_test, Y_pred)\n",
    "\n",
    "plt.xlabel(\"X test\")\n",
    "plt.ylabel(\"Predicted y (Line) / Test y (Scatter)\")\n",
    "plt.show()"
   ]
  },
  {
   "cell_type": "markdown",
   "id": "8f39aa6a",
   "metadata": {},
   "source": [
    "To get a feel of how good or bad our model is, we have plotted a graph. Since this dataset is small and single featured, the plot has given us an excellent idea regarding the correctness. But this may not always be the case. Hence we need a definite and objective way of finding this inference. For this we use something called the **Coefficient of Determination**."
   ]
  },
  {
   "cell_type": "markdown",
   "id": "be91cb58",
   "metadata": {},
   "source": [
    "### Coefficient of Determination :"
   ]
  },
  {
   "cell_type": "markdown",
   "id": "5040c3a8",
   "metadata": {},
   "source": [
    "The coefficient of determination, $R^2$, is used to analyze how differences in one variable can be explained by a difference in a second variable.\n",
    "\n",
    "Hence, the score can be calculated using the following formula:\n",
    "\n",
    "$$1 - \\frac{\\sum\\,(y\\,^T_i - y\\,^P_i)^2}{\\sum\\,(y\\,^T_i - y\\,^T_{mean})^2}$$\n",
    "\n",
    "T : true/actual value.\n",
    "\n",
    "P : predicted value.\n",
    "\n",
    "$y\\,^T_{mean}$ represents that we are predicting a score as worse as the mean value. (Meaning, all the answers are mean value of the data).\n",
    "\n",
    "To prove this, let us put \n",
    "$$ y\\,^P_i = y\\,^T_{mean}$$\n",
    "\n",
    "This will give the score as 0, which is the worst possible score.\n",
    "\n",
    "The usefulness of $R^2$ is its ability to find the likelihood of future events falling within the predicted outcomes. The idea is that if more samples are added, the coefficient would show the probability of a new point falling on the line.\n",
    "Even if there is a strong connection between the two variables, determination does not prove causality. For example, a study on birthdays may show a large number of birthdays happen within a time frame of one or two months. This does not mean that the passage of time or the change of seasons causes extra births."
   ]
  },
  {
   "cell_type": "markdown",
   "id": "a6ed42ca",
   "metadata": {},
   "source": [
    "### Cost Function :"
   ]
  },
  {
   "cell_type": "markdown",
   "id": "5797fd4c",
   "metadata": {},
   "source": [
    "\n",
    "A cost function is defined as: a function that maps an event or values of one or more variables onto a real number intuitively representing some “cost” associated with the event.\n",
    "\n",
    "In Linear Regression the objective is to find a line of best fit for some given inputs, or X values, and any number of Y values, or outputs."
   ]
  },
  {
   "cell_type": "markdown",
   "id": "4a9f218e",
   "metadata": {},
   "source": [
    "The different values for coefficient of lines gives different lines of regression, and the cost function is used to find the values of the coefficient for the best fit line. Cost function optimizes the regression coefficients. It measures how a linear regression model is performing."
   ]
  },
  {
   "cell_type": "markdown",
   "id": "1e6c3c9c",
   "metadata": {},
   "source": [
    "The error can be calculated using the formula :\n",
    "$\\sum_i$( $y_i$ - ($m_1.x_1 + m_2.x_2 + m_3.x_3 + … + m_n.x_n + b$ ) )\n",
    "\n",
    "But the error with this is - the negative and positive values will cancel each other. \n",
    "\n",
    "One possible way to fix this is by taking the Mod, but with this also the error \n",
    "will get added linearly which might give us incorrect analysis. So we will take the Mean Squared error(MSE). \n",
    "\n",
    "$Cost(C)= \\sum_i$ $( y_i - (m.x_i + b))^2$"
   ]
  },
  {
   "cell_type": "markdown",
   "id": "254be427",
   "metadata": {},
   "source": [
    "Let's find the value of m and b corresponding to which the cost function will be minimum. \n",
    "We will take the partial derivative of the cost function with respect to m and b separately to find their minimum values.\n",
    "\n",
    "$$\\frac{\\partial C}{\\partial m} = \\sum_i \\frac{\\partial}{\\partial m} ( y_i - (m.x_i + b))^2$$\n",
    "\n",
    "$$\\frac{\\partial C}{\\partial m} =  \\sum_i 2( y_i - (m.x_i + b)) \\frac{\\partial}{\\partial m} ( y_i - (m.x_i + b))$$\n",
    "\n",
    "$$\\frac{\\partial C}{\\partial m} =  \\sum_i 2( y_i - (m.x_i + b))(-x_i) = 0$$\n",
    "\n",
    "divide the whole equation by -2*N\n",
    "\n",
    "$$\\sum(x_iy_i/N - m \\sum x_i^2/N - b\\sum x_i/N = 0  $$\n",
    "\n",
    " \n",
    " $$(x*y).mean()- m(x^2.mean())- b(x.mean())=0$$\n"
   ]
  },
  {
   "cell_type": "markdown",
   "id": "c02ace43",
   "metadata": {},
   "source": [
    "Similarly by doing $dC/db=0$, we  will get\n",
    "\n",
    "$$ b= y.mean()-m*x.mean()$$"
   ]
  },
  {
   "cell_type": "markdown",
   "id": "34dca177",
   "metadata": {},
   "source": [
    "Merging the above two equations,\n",
    "\n",
    "$$m=(x*y).mean() - x.mean(). y.mean()/x^2.mean()-x.mean().x.mean()$$"
   ]
  },
  {
   "cell_type": "markdown",
   "id": "e596f0fe",
   "metadata": {},
   "source": [
    "### **Implementing Simple Linear Regression from Scratch** "
   ]
  },
  {
   "cell_type": "markdown",
   "id": "98309a03",
   "metadata": {},
   "source": [
    "Here we will use a dummy data set."
   ]
  },
  {
   "cell_type": "markdown",
   "id": "64cbbeb8",
   "metadata": {},
   "source": [
    "**Importing the libraries**"
   ]
  },
  {
   "cell_type": "code",
   "execution_count": 11,
   "id": "8a6395db",
   "metadata": {},
   "outputs": [],
   "source": [
    "import numpy as np\n",
    "from sklearn import model_selection\n",
    "import pandas as pd"
   ]
  },
  {
   "cell_type": "markdown",
   "id": "e795c4b3",
   "metadata": {},
   "source": [
    "**Loading the datasets**"
   ]
  },
  {
   "cell_type": "code",
   "execution_count": 12,
   "id": "3811036f",
   "metadata": {},
   "outputs": [],
   "source": [
    "data = np.loadtxt(\"https://files.codingninjas.in/data-6984.csv\", delimiter=\",\")\n",
    "X = data[:, 0]\n",
    "Y = data[:, 1]"
   ]
  },
  {
   "cell_type": "code",
   "execution_count": 13,
   "id": "d2eacbc8",
   "metadata": {},
   "outputs": [
    {
     "data": {
      "text/plain": [
       "(100,)"
      ]
     },
     "execution_count": 13,
     "metadata": {},
     "output_type": "execute_result"
    }
   ],
   "source": [
    "X.shape"
   ]
  },
  {
   "cell_type": "markdown",
   "id": "0c6902d5",
   "metadata": {},
   "source": [
    "**Split the dataset into training and testing data**"
   ]
  },
  {
   "cell_type": "code",
   "execution_count": 14,
   "id": "a49052df",
   "metadata": {},
   "outputs": [
    {
     "data": {
      "text/plain": [
       "(70,)"
      ]
     },
     "execution_count": 14,
     "metadata": {},
     "output_type": "execute_result"
    }
   ],
   "source": [
    "# Splitting the data in such a way that training data has 70% and testing data has 30% of the data points\n",
    "X_train, X_test, Y_train, Y_test = model_selection.train_test_split(X, Y, test_size = 0.3)\n",
    "X_train.shape"
   ]
  },
  {
   "cell_type": "markdown",
   "id": "bb34ff3a",
   "metadata": {},
   "source": [
    "**Implementation**"
   ]
  },
  {
   "cell_type": "code",
   "execution_count": 15,
   "id": "8d8dad20",
   "metadata": {},
   "outputs": [],
   "source": [
    "# This function is used to find the best fit line using the training data\n",
    "def fit(x_train, y_train):\n",
    "    num = (x_train * y_train).mean() - x_train.mean() * y_train.mean()\n",
    "    den = (x_train ** 2).mean() - x_train.mean() ** 2\n",
    "    m = num / den\n",
    "    c = y_train.mean() - m * x_train.mean()\n",
    "    return m, c    "
   ]
  },
  {
   "cell_type": "code",
   "execution_count": 16,
   "id": "d75f4b1a",
   "metadata": {},
   "outputs": [],
   "source": [
    "# This function predicts the value of 'y' corresponding to each 'x'\n",
    "def predict(x, m, c):\n",
    "    return m * x + c"
   ]
  },
  {
   "cell_type": "code",
   "execution_count": 17,
   "id": "8771ca07",
   "metadata": {},
   "outputs": [],
   "source": [
    "# This function returns the score using the Y(actual) and Y(predited), coefficient of determination.\n",
    "def score(y_truth, y_pred): \n",
    "    u = ((y_truth - y_pred)**2).sum()\n",
    "    v = ((y_truth - y_truth.mean())**2).sum()\n",
    "    return 1 - u/v"
   ]
  },
  {
   "cell_type": "code",
   "execution_count": 18,
   "id": "4efa8f8e",
   "metadata": {},
   "outputs": [],
   "source": [
    "def cost (x, y, m , c):\n",
    "    # We calculate mean rather than sum because we have a lot more training data, we don't want the cost to be much higher\n",
    "    return ((y - m * x - c)**2).mean()"
   ]
  },
  {
   "cell_type": "code",
   "execution_count": 19,
   "id": "f675e044",
   "metadata": {},
   "outputs": [
    {
     "name": "stdout",
     "output_type": "stream",
     "text": [
      "Test Score:  0.4685947235256974\n",
      "Train Score: 0.6471393950059781\n",
      "M: 1.3400301851484384\n",
      "C: 7.345680403868101\n",
      "Cost on training data: 100.60628801001674\n"
     ]
    }
   ],
   "source": [
    "m, c = fit(X_train, Y_train)\n",
    "# Test data\n",
    "y_test_pred = predict(X_test, m, c)\n",
    "print(\"Test Score: \",score(Y_test, y_test_pred))\n",
    "\n",
    "# Train data\n",
    "y_train_pred = predict(X_train, m, c)\n",
    "print(\"Train Score:\", score(Y_train, y_train_pred))\n",
    "print(\"M:\", m)\n",
    "print(\"C:\", c)\n",
    "print(\"Cost on training data:\", cost(X_train,Y_train, m, c ))"
   ]
  },
  {
   "cell_type": "code",
   "execution_count": 20,
   "id": "f164d726",
   "metadata": {},
   "outputs": [
    {
     "name": "stdout",
     "output_type": "stream",
     "text": [
      "MSE calculated using self implemented code : 133.02962943799966\n",
      "MSE calculated using Sklearn's implementation: 84.78592816176115\n"
     ]
    }
   ],
   "source": [
    "mse_self_implement = mean_squared_error(Y_test, y_test_pred)\n",
    "# We calculated MSE earlier (In self implementation) \n",
    "print(\"MSE calculated using self implemented code :\",mse_self_implement)\n",
    "print(\"MSE calculated using Sklearn's implementation:\", mse)"
   ]
  },
  {
   "cell_type": "markdown",
   "id": "ca1693c1",
   "metadata": {},
   "source": [
    "It can be seen that the Sklearn's implementations gives us a litlle **less mean squared error** as compared to the self implementation, but they are very close to each other."
   ]
  },
  {
   "cell_type": "markdown",
   "id": "1896e95c",
   "metadata": {},
   "source": [
    "**Tools and Tips to better utilise the Sklean's linear_model**"
   ]
  },
  {
   "cell_type": "markdown",
   "id": "6b1f2f1a",
   "metadata": {},
   "source": [
    "We may explore the various parameters of linear_model.LinearRegression() function to optimise it to our needs and data available.\n",
    "\n",
    "**Parameters**\n",
    "\n",
    "**fit_intercept:bool**, **default=True**\n",
    "Whether to calculate the intercept for this model. If set to False, no intercept will be used in calculations (i.e. data is expected to be centered).\n",
    "\n",
    "**normalize:bool, default=False**\n",
    "This parameter is ignored when fit_intercept is set to False. If True, the regressors X will be normalized before regression by subtracting the mean and dividing by the l2-norm. If you wish to standardize, please use StandardScaler before calling fit on an estimator with normalize=False.\n",
    "\n",
    "**copy_X:bool, default=True**\n",
    "If True, X will be copied; else, it may be overwritten.\n",
    "\n",
    "**n_jobs:int, default=None**\n",
    "The number of jobs to use for the computation. This will only provide speedup for n_targets > 1 and sufficient large problems. None means 1 unless in a joblib.parallel_backend context. -1 means using all processors. See Glossary for more details.\n",
    "\n",
    "**positive:bool, default=False**\n",
    "When set to True, forces the coefficients to be positive. This option is only supported for dense arrays."
   ]
  },
  {
   "cell_type": "markdown",
   "id": "cbb0f3bf",
   "metadata": {},
   "source": [
    "# **Multiple Linear Regression**"
   ]
  },
  {
   "cell_type": "markdown",
   "id": "63d531c4",
   "metadata": {},
   "source": [
    "Multiple Linear Regression, also known simply as multiple regression, is a statistical technique that uses several explanatory variables to predict the outcome of a response variable. Multiple regression is an extension of simple linear regression that uses just one explanatory variable. We will learn about various ways to optimise such regressions in the upcoming modules. \n",
    "\n",
    "For now, try implementing a regression model using scikit learn's function for linear regression. You may use the diabetes dataset that can be retreived from sklearn. "
   ]
  }
 ],
 "metadata": {
  "kernelspec": {
   "display_name": "Python 3 (ipykernel)",
   "language": "python",
   "name": "python3"
  },
  "language_info": {
   "codemirror_mode": {
    "name": "ipython",
    "version": 3
   },
   "file_extension": ".py",
   "mimetype": "text/x-python",
   "name": "python",
   "nbconvert_exporter": "python",
   "pygments_lexer": "ipython3",
   "version": "3.9.13"
  }
 },
 "nbformat": 4,
 "nbformat_minor": 5
}
