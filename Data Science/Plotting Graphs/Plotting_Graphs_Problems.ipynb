{
  "nbformat": 4,
  "nbformat_minor": 0,
  "metadata": {
    "colab": {
      "provenance": [],
      "collapsed_sections": []
    },
    "kernelspec": {
      "name": "python3",
      "display_name": "Python 3"
    },
    "language_info": {
      "name": "python"
    }
  },
  "cells": [
    {
      "cell_type": "markdown",
      "source": [
        "##**Plot line**"
      ],
      "metadata": {
        "id": "c45mnuh5EUOq"
      }
    },
    {
      "cell_type": "markdown",
      "source": [
        "Given two integer arrays, X and Y. Plot the graph between X and Y. Please consider.\n",
        "\n",
        "x = np.array([0,1,2,3,4,5,6,7,9,10])\n",
        "\n",
        "y=np.array([1,2,5,10,17,26,37,50,82,101])\n",
        "\n",
        "From the help of graph, determine the range of Y when the value of X is 8.\n",
        "\n",
        "Plot and print the range of Y.\n",
        "\n",
        "Note: Here lower limit and upper limit of range must be multiple of 10 and difference between upper limit and lower limit must be equal to 10.\n",
        "\n",
        "Output Format\n",
        "\n",
        "lower_limit to upper_limit"
      ],
      "metadata": {
        "id": "lioNNHOfEYMS"
      }
    },
    {
      "cell_type": "code",
      "source": [
        "import matplotlib.pyplot as plt\n",
        "\n",
        "x =[0,1,2,3,4,5,6,7,9,10]\n",
        "y=[1,2,5,10,17,26,37,50,82,101]\n",
        "\n",
        "plt.plot(x,y)\n",
        "plt.show()\n",
        "print('60 to 70')"
      ],
      "metadata": {
        "colab": {
          "base_uri": "https://localhost:8080/",
          "height": 282
        },
        "id": "PmxUzQUMEmf_",
        "outputId": "5e4723b0-72b8-45e4-cc14-42d3cd009f3b"
      },
      "execution_count": 1,
      "outputs": [
        {
          "output_type": "display_data",
          "data": {
            "text/plain": [
              "<Figure size 432x288 with 1 Axes>"
            ],
            "image/png": "[encoded data removed]"
          },
          "metadata": {
            "needs_background": "light"
          }
        },
        {
          "output_type": "stream",
          "name": "stdout",
          "text": [
            "60 to 70\n"
          ]
        }
      ]
    },
    {
      "cell_type": "markdown",
      "source": [
        "##**Matplotlib increase**"
      ],
      "metadata": {
        "id": "E2oDOGuQE2Uh"
      }
    },
    {
      "cell_type": "markdown",
      "source": [
        "Create two arrays, x and y.\n",
        "\n",
        "x should hold first 20 even points starting from 0 and y should be an exponentiation array where y[i] = 2^x[i].\n",
        "\n",
        "Plot a line graph, line should be of color blue and it should be a dashed line (like -----).\n",
        "\n",
        "Find the value of x from where there is slight increase in value of y as shown in your plot.\n",
        "\n",
        "Plot and print the value of x.\n",
        "\n",
        "Note: Here x must be multiple of 5.\n",
        "\n",
        "Output Format\n",
        "\n",
        "x   "
      ],
      "metadata": {
        "id": "yN0Lj8lZE6eq"
      }
    },
    {
      "cell_type": "code",
      "source": [
        "import matplotlib.pyplot as plt\n",
        "import numpy as np\n",
        "x = np.arange(0,40,2)\n",
        "y = 2**x\n",
        "plt.plot(x,y,'b--')\n",
        "plt.show()\n",
        "print('30')"
      ],
      "metadata": {
        "colab": {
          "base_uri": "https://localhost:8080/",
          "height": 293
        },
        "id": "dPrxyrfuFE3O",
        "outputId": "b95a1e2e-dacc-4f4b-e5d4-960e1eb9f224"
      },
      "execution_count": 6,
      "outputs": [
        {
          "output_type": "display_data",
          "data": {
            "text/plain": [
              "<Figure size 432x288 with 1 Axes>"
            ],
            "image/png": "[encoded data removed]"
          },
          "metadata": {
            "needs_background": "light"
          }
        },
        {
          "output_type": "stream",
          "name": "stdout",
          "text": [
            "30\n"
          ]
        }
      ]
    },
    {
      "cell_type": "markdown",
      "source": [
        "##**Plot Graphs**"
      ],
      "metadata": {
        "id": "RqmAFss0GAV0"
      }
    },
    {
      "cell_type": "markdown",
      "source": [
        "Plot the two graphs on same plot.The graph between the two given integer array X and Y and the graph between two integer array X and Y where X should hold 20 even points starting from 0 and y should be equal to X where y[i] = 2 * x[i].\n",
        "\n",
        "Plot should have x label and y label and the legend to differentiate between the two graphs. \n",
        "\n",
        "Consider,\n",
        "\n",
        "x1 = [0,1,2,3,4,5,6,7,9,10]\n",
        "\n",
        "y1 = [1,2,5,10,17,26,37,50,82,101]\n",
        "\n",
        "x2 = np.arange(0, 40, 2)\n",
        "\n",
        "y2 = 2*x2\n",
        "\n",
        "Find the value x (in the range of 10) of both the plots when the value of y is 60\n",
        "\n",
        "For each plot print the output to new line.\n",
        "\n",
        "Output Format\n",
        "\n",
        "lower_limit to upper_limit\n",
        "\n",
        "lower_limit to upper_limit"
      ],
      "metadata": {
        "id": "6ykZ-Gn1GGeW"
      }
    },
    {
      "cell_type": "code",
      "source": [
        "import matplotlib.pyplot as plt\n",
        "import numpy as np\n",
        "\n",
        "x1 =[0,1,2,3,4,5,6,7,9,10]\n",
        "y1=[1,2,5,10,17,26,37,50,82,101]\n",
        "\n",
        "x2=np.arange(0,40,2)\n",
        "y2=2*x2\n",
        "plt.plot(x1,y1,label='y')\n",
        "plt.plot(x2,y2,label='2*x2')\n",
        "plt.ylabel='Y'\n",
        "plt.xlabel = 'X'\n",
        "plt.legend()\n",
        "# plt.grid()\n",
        "plt.show()\n",
        "print('0 to 10')\n",
        "print('25 to 35')\n"
      ],
      "metadata": {
        "colab": {
          "base_uri": "https://localhost:8080/",
          "height": 300
        },
        "id": "YiJT2yRHGdUS",
        "outputId": "30bf3313-00f6-455d-a55c-1ec32c9ebbf5"
      },
      "execution_count": 7,
      "outputs": [
        {
          "output_type": "display_data",
          "data": {
            "text/plain": [
              "<Figure size 432x288 with 1 Axes>"
            ],
            "image/png": "[encoded data removed]"
          },
          "metadata": {
            "needs_background": "light"
          }
        },
        {
          "output_type": "stream",
          "name": "stdout",
          "text": [
            "0 to 10\n",
            "25 to 35\n"
          ]
        }
      ]
    },
    {
      "cell_type": "markdown",
      "source": [
        "##**Microsoft Bubble Graph**"
      ],
      "metadata": {
        "id": "hD_Z9hNOGpxN"
      }
    },
    {
      "cell_type": "markdown",
      "source": [
        "We are given data of Microsoft Corporations, it contains the gross annual revenue in billion U.S dollar and the number of employees in thousands and year. \n",
        "\n",
        "Plot a bubble graph to visualise how revenue and number of employee changed with year.\n",
        "\n",
        "Find years where there is a drastic increase in gross revenue of Microsoft Corporations (from previous and next year both). \n",
        "\n",
        "Plot the bubble graph between year and revenue and keeping employee inside the bubble.\n",
        "\n",
        "Print the year, revenue and number of the employee where there is a drastic increase in revenue ( Top 2 ).\n",
        "\n",
        "Note:For finding the year where there is a drastic increase in gross revenue check whether the revenue of that year is greater than in previous years and greater than next year. \n",
        "\n",
        "Here years should be printed in ascending order.\n",
        "\n",
        "Output Format:\n",
        "\n",
        "year1 revenue1 employee1\n",
        "\n",
        "year2 revenue2 employee2\n",
        "\n",
        ". . . "
      ],
      "metadata": {
        "id": "oMfKBLj7Gzle"
      }
    },
    {
      "cell_type": "code",
      "source": [
        "import matplotlib.pyplot as plt\n",
        "employees = [61,71,79,91,93,89,90,94,99,128,118,114,124,131]\n",
        "year = [2005,2006,2007,2008,2009,2010,2011,2012,2013,2014,2015,2016,2017,2018]\n",
        "revenue = [39.79,44.28,51.12,60.42,58.44,62.48,69.94,73.72,77.85,86.83,93.58,85.32,89.95,110.36]\n",
        "\n",
        "plt.scatter(year,revenue,s=employees,c='r')\n",
        "plt.grid()\n",
        "plt.show()\n",
        "\n",
        "\n",
        "print('2008','60.42','91')\n",
        "print('2015','93.58','118')"
      ],
      "metadata": {
        "colab": {
          "base_uri": "https://localhost:8080/",
          "height": 300
        },
        "id": "0XzbDsEZHHxE",
        "outputId": "deee28c4-8102-4cb6-9870-98b81c1302b9"
      },
      "execution_count": 8,
      "outputs": [
        {
          "output_type": "display_data",
          "data": {
            "text/plain": [
              "<Figure size 432x288 with 1 Axes>"
            ],
            "image/png": "[encoded data removed]"
          },
          "metadata": {
            "needs_background": "light"
          }
        },
        {
          "output_type": "stream",
          "name": "stdout",
          "text": [
            "2008 60.42 91\n",
            "2015 93.58 118\n"
          ]
        }
      ]
    },
    {
      "cell_type": "markdown",
      "source": [
        "##**Laptop Sales**"
      ],
      "metadata": {
        "id": "YR4fIWD6HOz8"
      }
    },
    {
      "cell_type": "markdown",
      "source": [
        "Given data is having distribution of sales of different laptops for the year 2018 in India (it has company name and number of laptops sold).\n",
        "\n",
        "Plot a pie graph to show the %age distribution for the year 2018 and also print the value of %age distribution of individual companies.\n",
        "\n",
        "Note: Output should have company name and %age distribution (%age value should be upto 1 decimal place without the % sign) , it should be in the same order as it is given.\n",
        "\n",
        "Output Format:\n",
        "\n",
        "company_name1 percentage1\n",
        "\n",
        "company_name2 percentage2\n",
        "\n",
        ". . ."
      ],
      "metadata": {
        "id": "pFccaZrEHUIH"
      }
    },
    {
      "cell_type": "code",
      "source": [
        "import matplotlib.pyplot as plt\n",
        "\n",
        "company=['HP','Dell','Lenovo','Asus','Apple','Acer']\n",
        "sold=[20000,43000,15000,17000,22000,13000]\n",
        "\n",
        "plt.pie(sold,labels=company,autopct='%.1f%%')\n",
        "plt.show()\n",
        "print('HP 15.4')\n",
        "print('Dell 33.1')\n",
        "print('Lenovo 11.5')\n",
        "print('Asus 13.1')\n",
        "print('Apple 16.9')\n",
        "print('Acer 10.0')"
      ],
      "metadata": {
        "colab": {
          "base_uri": "https://localhost:8080/",
          "height": 352
        },
        "id": "Kwwjn98OHbqb",
        "outputId": "2334cf5c-0f4d-4fe0-d23e-1c8c87f308bd"
      },
      "execution_count": 9,
      "outputs": [
        {
          "output_type": "display_data",
          "data": {
            "text/plain": [
              "<Figure size 432x288 with 1 Axes>"
            ],
            "image/png": "[encoded data removed]"
          },
          "metadata": {}
        },
        {
          "output_type": "stream",
          "name": "stdout",
          "text": [
            "HP 15.4\n",
            "Dell 33.1\n",
            "Lenovo 11.5\n",
            "Asus 13.1\n",
            "Apple 16.9\n",
            "Acer 10.0\n"
          ]
        }
      ]
    },
    {
      "cell_type": "markdown",
      "source": [
        "##**Students data**"
      ],
      "metadata": {
        "id": "i0S1sp29HkdR"
      }
    },
    {
      "cell_type": "markdown",
      "source": [
        "Given height (in centimetre) and weight (in kilograms) of 20 students, Plot a two different histogram of height and weight. whereas divide the data in 5 bins.\n",
        "\n",
        "From histogram, find the value of the height and weight in which the value of y-axis is maximum. Print starting value of bin where y is maximum. For eg. if for height with range 50 to 55 is maximum, then print 50. Print the value as integer (after rounding off). (to answer this please look closely to the graph)\n",
        "\n",
        "Plot the histogram and print the value.\n",
        "\n",
        "Output Format\n",
        "\n",
        "height_value weight_value"
      ],
      "metadata": {
        "id": "xpYmTg2bHq8j"
      }
    },
    {
      "cell_type": "code",
      "source": [
        "import numpy as np \n",
        "import matplotlib.pyplot as plt \n",
        "height = [189,185,195,149,189,147,154,174,169,195,159,192,155,191,153,157,140,144,172,157]\n",
        "weight = [87,110,104,61,104,92,111,90,103,81,80,101,51,79,107,110,129,145,139,110] \n",
        "\n",
        "plt.hist(height,bins=5,edgecolor='black') \n",
        "# plt.xlabel('Height') \n",
        "plt.show() \n",
        "\n",
        "plt.hist(weight,bins=5,edgecolor='black') \n",
        "# plt.xlabel('Weight') \n",
        "plt.show() \n",
        " \n",
        "print(184,89)"
      ],
      "metadata": {
        "colab": {
          "base_uri": "https://localhost:8080/",
          "height": 530
        },
        "id": "g9UoR6CeH4qM",
        "outputId": "cffbcb5a-37b2-45ff-c01e-0da438163611"
      },
      "execution_count": 10,
      "outputs": [
        {
          "output_type": "display_data",
          "data": {
            "text/plain": [
              "<Figure size 432x288 with 1 Axes>"
            ],
            "image/png": "[encoded data removed]"
          },
          "metadata": {
            "needs_background": "light"
          }
        },
        {
          "output_type": "display_data",
          "data": {
            "text/plain": [
              "<Figure size 432x288 with 1 Axes>"
            ],
            "image/png": "[encoded data removed]"
          },
          "metadata": {
            "needs_background": "light"
          }
        },
        {
          "output_type": "stream",
          "name": "stdout",
          "text": [
            "184 89\n"
          ]
        }
      ]
    },
    {
      "cell_type": "markdown",
      "source": [
        "##**Plot Job_Year**"
      ],
      "metadata": {
        "id": "UYlHABT2H9wc"
      }
    },
    {
      "cell_type": "markdown",
      "source": [
        "Given File:\n",
        "\n",
        "amazon_jobs_dataset.csv\n",
        "\n",
        "It is a dataset including information on amazon job opening around the world from June 2011 to March 2018. This dataset is collected using Selenium and BeautifulSoup by scraping all of the jobs for Amazon job site.\n",
        "\n",
        "Problem Statement :\n",
        "\n",
        "Plot the line graph between no. of Job postings with respect to year.\n",
        "\n",
        "Print the year and the number of job posting as integer value.\n",
        "\n",
        "Note: Year should be in ascending order.\n",
        "\n",
        "Output Format :\n",
        "\n",
        "year1   job_posting1\n",
        "\n",
        "year2   job_posting2\n",
        "\n",
        ". . . "
      ],
      "metadata": {
        "id": "rRvkgyIsJIFb"
      }
    },
    {
      "cell_type": "code",
      "source": [
        "import pandas as pd \n",
        "import numpy as np \n",
        "import matplotlib.pyplot as plt\n",
        "df = pd.read_csv('amazon_jobs_dataset.csv')\n",
        "df['Posting_date'] = df['Posting_date'].str[-4:]\n",
        "df= df.sort_values(by='Posting_date',ascending=True)\n",
        "df = df.groupby(by='Posting_date').size()\n",
        "year = []\n",
        "No_of_job=[]\n",
        "for i in df.index:\n",
        "    year.append(i)\n",
        "    No_of_job.append(df.loc[i])\n",
        "    print(i,df.loc[i])\n",
        "    \n",
        "plt.plot(year,No_of_job)\n",
        "plt.show()"
      ],
      "metadata": {
        "id": "tRPcmhcAJvH_"
      },
      "execution_count": null,
      "outputs": []
    },
    {
      "cell_type": "markdown",
      "source": [
        "##**Plot Month_Job**"
      ],
      "metadata": {
        "id": "Rt7AN-SnJ1OR"
      }
    },
    {
      "cell_type": "markdown",
      "source": [
        "Given File:\n",
        "\n",
        "amazon_jobs_dataset.csv\n",
        "\n",
        "It is a dataset including information on amazon job opening around the world from June 2011 to March 2018. This dataset is collected using Selenium and BeautifulSoup by scraping all of the jobs for Amazon job site.\n",
        "\n",
        "Problem Statement :\n",
        "\n",
        "Plot the Bar graph between Month vs Job Openings.\n",
        "\n",
        "Print the month name and the number of job posting as integer value.\n",
        "\n",
        "Order of months doesn't matter.\n",
        "\n",
        "Output Format :\n",
        "\n",
        "month_name1 job_posting1\n",
        "\n",
        "month_name2 job_posting2\n",
        "\n",
        ". . . "
      ],
      "metadata": {
        "id": "Zdj9nO4ZJ6se"
      }
    },
    {
      "cell_type": "code",
      "source": [
        "import pandas as pd \n",
        "import numpy as np \n",
        "import matplotlib.pyplot as plt    \n",
        "\n",
        "df = pd.read_csv('amazon_jobs_dataset.csv')\n",
        "df['Posting_date'] = df['Posting_date'].str.split(' ').str[0]\n",
        "df = df.groupby(by=['Posting_date']).size()\n",
        "Month = []\n",
        "No_of_job=[]\n",
        "for i in df.index:\n",
        "    Month.append(i)\n",
        "    No_of_job.append(df.loc[i])\n",
        "    \n",
        "    print(i,df.loc[i])\n",
        "    \n",
        "plt.bar(Month,No_of_job)\n",
        "plt.xticks(rotation = 45)\n",
        "plt.show()"
      ],
      "metadata": {
        "id": "jTq_Vk8EKGMT"
      },
      "execution_count": null,
      "outputs": []
    },
    {
      "cell_type": "markdown",
      "source": [
        "##**Plot city_job**"
      ],
      "metadata": {
        "id": "0cq9yVH0KJRR"
      }
    },
    {
      "cell_type": "markdown",
      "source": [
        "Given File:\n",
        "\n",
        "amazon_jobs_dataset.csv\n",
        "\n",
        "It is a dataset including information on amazon job opening around the world from June 2011 to March 2018. This dataset is collected using Selenium and BeautifulSoup by scraping all of the jobs for Amazon job site.\n",
        "\n",
        "Problem Statement :\n",
        "\n",
        "Plot the Pie chart between Indian cities vs No. of jobs opening.\n",
        "Print the Indian cities and %age of Job distribution in India upto 2 decimal places.\n",
        "\n",
        "Note: %age of Job distribution should be in descending order.\n",
        "\n",
        "Output Format :\n",
        "\n",
        "city1 percentage1\n",
        "\n",
        "city2 percentage2\n",
        "\n",
        ". . . "
      ],
      "metadata": {
        "id": "3KLXeHpQKR2k"
      }
    },
    {
      "cell_type": "code",
      "source": [
        "import pandas as pd \n",
        "import numpy as np \n",
        "import matplotlib.pyplot as plt\n",
        "\n",
        "df = pd.read_csv('amazon_jobs_dataset.csv')\n",
        "df.location=df['IN' == df['location'].str.split(', ').str[0]].location.str.split(', ').str[2] \n",
        "df = df.dropna() \n",
        "group=df.groupby(by='location')\n",
        "dic={}\n",
        "for i,j in group:\n",
        "    dic[i]=df.location.str.count(i).sum()\n",
        "df = group.size()\n",
        "df = df.sort_values(ascending=False)\n",
        "City = []\n",
        "No_of_job=[]\n",
        "for i in df.index:\n",
        "    City.append(i)\n",
        "    No_of_job.append(df.loc[i])\n",
        "    print(i,format(df.loc[i]*100/sum(dic.values()),'.2f'))\n",
        "plt.pie(No_of_job,labels=City,autopct='%.2f%%')\n",
        "plt.show()"
      ],
      "metadata": {
        "id": "lgES7p19KinD"
      },
      "execution_count": null,
      "outputs": []
    },
    {
      "cell_type": "markdown",
      "source": [
        "##**Plot Job_Java**"
      ],
      "metadata": {
        "id": "e9KfU2eBKl6c"
      }
    },
    {
      "cell_type": "markdown",
      "source": [
        "Given File:\n",
        "\n",
        "amazon_jobs_dataset.csv\n",
        "\n",
        "It is a dataset including information on amazon job opening around the world from June 2011 to March 2018. This dataset is collected using Selenium and BeautifulSoup by scraping all of the jobs for Amazon job site.\n",
        "\n",
        "Problem Statement :\n",
        "\n",
        "Plot the scatter graph between year vs No. of jobs opening related to Java.\n",
        "\n",
        "Print the year and number of Jobs opening in Java Profile.\n",
        "\n",
        "Note: Use the Keyword 'Java' or 'java' in Basic Qualification feature for finding the job opening related to Java Profile. Print the year in ascending order.\n",
        "\n",
        "Output Format :\n",
        "\n",
        "year1 JobOpening1\n",
        "\n",
        "year2 JobOpening2\n",
        "\n",
        ". . . "
      ],
      "metadata": {
        "id": "V1kqqgw0KxiU"
      }
    },
    {
      "cell_type": "code",
      "source": [
        "import pandas as pd \n",
        "import numpy as np \n",
        "import matplotlib.pyplot as plt\n",
        "import csv\n",
        "\n",
        "with open('amazon_jobs_dataset.csv', encoding='utf8') as file_obj:\n",
        "    file_data=csv.DictReader(file_obj, skipinitialspace=True)\n",
        "    year=[]\n",
        "    for row in file_data:\n",
        "        if 'java' in row['BASIC QUALIFICATIONS'] or 'Java' in row['BASIC QUALIFICATIONS']:\n",
        "            year.append(row['Posting_date'].split()[2])\n",
        "    np_year=np.array(year, dtype='int')\n",
        "    dic=dict()\n",
        "    for i in np_year:\n",
        "        if i in dic.keys():\n",
        "            dic[i]+=1\n",
        "        else:\n",
        "            dic[i]=1\n",
        "    xaxis=list(dic.keys())\n",
        "    yaxis=list(dic.values())\n",
        "    \n",
        "    np_xaxis=np.array(xaxis)\n",
        "    np_yaxis=np.array(yaxis)\n",
        "    \n",
        "    np_xaxis=np_xaxis[::-1]\n",
        "    np_yaxis=np_yaxis[::-1]\n",
        "    \n",
        "    plt.scatter(np_xaxis, np_yaxis)\n",
        "    plt.show()\n",
        "    \n",
        "    for i in range(len(np_xaxis)):\n",
        "        print(np_xaxis[i], np_yaxis[i])"
      ],
      "metadata": {
        "id": "4coUxgiHK7Dq"
      },
      "execution_count": null,
      "outputs": []
    }
  ]
}