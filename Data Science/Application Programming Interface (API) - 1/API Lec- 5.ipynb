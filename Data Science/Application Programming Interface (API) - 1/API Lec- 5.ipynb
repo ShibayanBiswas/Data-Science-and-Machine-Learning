{
  "nbformat": 4,
  "nbformat_minor": 0,
  "metadata": {
    "colab": {
      "provenance": []
    },
    "kernelspec": {
      "name": "python3",
      "display_name": "Python 3"
    },
    "language_info": {
      "name": "python"
    }
  },
  "cells": [
    {
      "cell_type": "code",
      "execution_count": 18,
      "metadata": {
        "colab": {
          "base_uri": "https://localhost:8080/"
        },
        "id": "JfzO1p1_2-nQ",
        "outputId": "cdd42747-1618-4c88-f69d-ba3b423953ab"
      },
      "outputs": [
        {
          "output_type": "stream",
          "name": "stdout",
          "text": [
            "404\n"
          ]
        }
      ],
      "source": [
        "import requests\n",
        "import json\n",
        "\n",
        "response = requests.get('https://www.metaweather.com/api/location/search/')\n",
        "print(response.status_code)"
      ]
    },
    {
      "cell_type": "code",
      "source": [
        "# The server is not reponding to the request because according to the documentation, atleast one of the parameters must be present"
      ],
      "metadata": {
        "id": "-H-oGBjw_RmE"
      },
      "execution_count": 19,
      "outputs": []
    },
    {
      "cell_type": "code",
      "source": [
        "response = requests.get('https://www.metaweather.com/api/location/search/', params = {\"query\" : \"Delhi\"})\n",
        "print(response.status_code)\n",
        "print(response.encoding)\n",
        "print(response.text)\n",
        "print(response.url)\n",
        "print(response.headers)"
      ],
      "metadata": {
        "id": "uFIdbB7BDjDC"
      },
      "execution_count": null,
      "outputs": []
    },
    {
      "cell_type": "code",
      "source": [
        "response = requests.get('https://api.nasa.gov/planetary/apod')\n",
        "print(response.status_code)"
      ],
      "metadata": {
        "colab": {
          "base_uri": "https://localhost:8080/"
        },
        "id": "h0uW2kUlHvlY",
        "outputId": "be5672d8-2a2f-4b3c-88dd-f3fbd482e9ef"
      },
      "execution_count": 21,
      "outputs": [
        {
          "output_type": "stream",
          "name": "stdout",
          "text": [
            "403\n"
          ]
        }
      ]
    },
    {
      "cell_type": "code",
      "source": [
        "# This server expects some parameter known as \"api_key\""
      ],
      "metadata": {
        "id": "z2agzys7Jpvo"
      },
      "execution_count": 22,
      "outputs": []
    },
    {
      "cell_type": "code",
      "source": [
        "response = requests.get('https://api.nasa.gov/planetary/apod', params = {\"api_key\" : \"DEMO_KEY\"})\n",
        "print(response.status_code)\n",
        "print(response.encoding)\n",
        "print(response.text)\n",
        "print(response.url)\n",
        "print(response.headers)"
      ],
      "metadata": {
        "colab": {
          "base_uri": "https://localhost:8080/"
        },
        "id": "AFVvbU3RJ8T2",
        "outputId": "144e3cad-cd8c-4aca-85c5-b0d041aa05b8"
      },
      "execution_count": 23,
      "outputs": [
        {
          "output_type": "stream",
          "name": "stdout",
          "text": [
            "200\n",
            "None\n",
            "{\"date\":\"2022-12-31\",\"explanation\":\"Makemake (sounds like MAH-kay MAH-kay), second brightest dwarf planet of the Kuiper belt, has a moon. Nicknamed MK2, Makemake's moon reflects sunlight with a charcoal-dark surface, about 1,300 times fainter than its parent body. Still, in 2016 it was spotted in Hubble Space Telescope observations intended to search for faint companions with the same technique used to find the small satellites of Pluto. Just as for Pluto and its satellites, further observations of Makemake and orbiting moon will measure the system's mass and density and allow a broader understanding of the distant worlds. About 160 kilometers (100 miles) across compared to Makemake's 1,400 kilometer diameter, MK2's relative size and contrast are shown in this artist's vision. An imagined scene of an unexplored frontier of the Solar System, it looks back from a spacecraft's vantage as the dim Sun shines along the Milky Way. Of course, the Sun is over 50 times farther from Makemake than it is from planet Earth.\",\"hdurl\":\"https://apod.nasa.gov/apod/image/2212/Makemakemoon100mile2000px.jpg\",\"media_type\":\"image\",\"service_version\":\"v1\",\"title\":\"Moon over Makemake\",\"url\":\"https://apod.nasa.gov/apod/image/2212/Makemakemoon100mile.jpg\"}\n",
            "\n",
            "https://api.nasa.gov/planetary/apod?api_key=DEMO_KEY\n",
            "{'Date': 'Sat, 31 Dec 2022 07:56:02 GMT', 'Content-Type': 'application/json', 'Transfer-Encoding': 'chunked', 'Connection': 'keep-alive', 'Access-Control-Allow-Origin': '*', 'Access-Control-Expose-Headers': 'X-RateLimit-Limit, X-RateLimit-Remaining', 'Age': '0', 'Content-Encoding': 'gzip', 'Strict-Transport-Security': 'max-age=31536000; includeSubDomains; preload', 'Vary': 'Accept-Encoding', 'Via': 'http/1.1 api-umbrella (ApacheTrafficServer [cMsSf ])', 'X-Cache': 'MISS', 'X-Ratelimit-Limit': '40', 'X-Ratelimit-Remaining': '38', 'X-Vcap-Request-Id': 'e3a75367-b1b7-4a0e-4e07-ab93d950e380', 'X-Frame-Options': 'DENY', 'X-Content-Type-Options': 'nosniff', 'X-XSS-Protection': '1; mode=block'}\n"
          ]
        }
      ]
    }
  ]
}