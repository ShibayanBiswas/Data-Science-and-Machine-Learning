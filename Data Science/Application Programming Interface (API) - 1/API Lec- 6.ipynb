{
  "nbformat": 4,
  "nbformat_minor": 0,
  "metadata": {
    "colab": {
      "provenance": []
    },
    "kernelspec": {
      "name": "python3",
      "display_name": "Python 3"
    },
    "language_info": {
      "name": "python"
    }
  },
  "cells": [
    {
      "cell_type": "code",
      "execution_count": null,
      "metadata": {
        "id": "UnAn_E6v7iFf"
      },
      "outputs": [],
      "source": [
        "import requests\n",
        "\n",
        "response = requests.get('http://httpbin.org/post')\n",
        "print(response.status_code)\n",
        "print(response.encoding)\n",
        "print(response.text)\n",
        "print(response.url)\n",
        "print(response.headers)"
      ]
    },
    {
      "cell_type": "code",
      "source": [
        "response = requests.post('http://httpbin.org/post', data = {'key_1' : 'val_1', 'key_2' : 'val_2'})\n",
        "\n",
        "print(response.status_code)\n",
        "print(response.text)"
      ],
      "metadata": {
        "colab": {
          "base_uri": "https://localhost:8080/"
        },
        "id": "LK5is8Uf8Q5w",
        "outputId": "4ee13e81-33d2-43d7-c64b-be489aa6c2e4"
      },
      "execution_count": 2,
      "outputs": [
        {
          "output_type": "stream",
          "name": "stdout",
          "text": [
            "200\n",
            "{\n",
            "  \"args\": {}, \n",
            "  \"data\": \"\", \n",
            "  \"files\": {}, \n",
            "  \"form\": {\n",
            "    \"key_1\": \"val_1\", \n",
            "    \"key_2\": \"val_2\"\n",
            "  }, \n",
            "  \"headers\": {\n",
            "    \"Accept\": \"*/*\", \n",
            "    \"Accept-Encoding\": \"gzip, deflate\", \n",
            "    \"Content-Length\": \"23\", \n",
            "    \"Content-Type\": \"application/x-www-form-urlencoded\", \n",
            "    \"Host\": \"httpbin.org\", \n",
            "    \"User-Agent\": \"python-requests/2.23.0\", \n",
            "    \"X-Amzn-Trace-Id\": \"Root=1-63b2ad20-7dd34c091fc8b0cc05cfd391\"\n",
            "  }, \n",
            "  \"json\": null, \n",
            "  \"origin\": \"35.185.153.116\", \n",
            "  \"url\": \"http://httpbin.org/post\"\n",
            "}\n",
            "\n"
          ]
        }
      ]
    },
    {
      "cell_type": "code",
      "source": [
        "response = requests.post('http://httpbin.org/post', data = {'key_1' : ['val_1', 'val_2'], 'key_2' : 'val_3'})\n",
        "\n",
        "print(response.status_code)\n",
        "print(response.text)"
      ],
      "metadata": {
        "colab": {
          "base_uri": "https://localhost:8080/"
        },
        "id": "Zhc6ftNi9Sv2",
        "outputId": "3fc5b088-8353-4430-8f7a-1569d196db17"
      },
      "execution_count": 5,
      "outputs": [
        {
          "output_type": "stream",
          "name": "stdout",
          "text": [
            "200\n",
            "{\n",
            "  \"args\": {}, \n",
            "  \"data\": \"\", \n",
            "  \"files\": {}, \n",
            "  \"form\": {\n",
            "    \"key_1\": [\n",
            "      \"val_1\", \n",
            "      \"val_2\"\n",
            "    ], \n",
            "    \"key_2\": \"val_3\"\n",
            "  }, \n",
            "  \"headers\": {\n",
            "    \"Accept\": \"*/*\", \n",
            "    \"Accept-Encoding\": \"gzip, deflate\", \n",
            "    \"Content-Length\": \"35\", \n",
            "    \"Content-Type\": \"application/x-www-form-urlencoded\", \n",
            "    \"Host\": \"httpbin.org\", \n",
            "    \"User-Agent\": \"python-requests/2.23.0\", \n",
            "    \"X-Amzn-Trace-Id\": \"Root=1-63b2adad-4abf2b7e008c82a32d7cd37e\"\n",
            "  }, \n",
            "  \"json\": null, \n",
            "  \"origin\": \"35.185.153.116\", \n",
            "  \"url\": \"http://httpbin.org/post\"\n",
            "}\n",
            "\n"
          ]
        }
      ]
    },
    {
      "cell_type": "code",
      "source": [
        "response = requests.post('http://httpbin.org/post', data = [('key_1', 'val_1'), ('key_1', 'val_2'), ('key_3', 'val_3')])\n",
        "\n",
        "print(response.status_code)\n",
        "print(response.text)"
      ],
      "metadata": {
        "colab": {
          "base_uri": "https://localhost:8080/"
        },
        "id": "JfhR33G39onx",
        "outputId": "7f0c945d-a563-4e50-9dd3-8e3bc46d0ee4"
      },
      "execution_count": 7,
      "outputs": [
        {
          "output_type": "stream",
          "name": "stdout",
          "text": [
            "200\n",
            "{\n",
            "  \"args\": {}, \n",
            "  \"data\": \"\", \n",
            "  \"files\": {}, \n",
            "  \"form\": {\n",
            "    \"key_1\": [\n",
            "      \"val_1\", \n",
            "      \"val_2\"\n",
            "    ], \n",
            "    \"key_3\": \"val_3\"\n",
            "  }, \n",
            "  \"headers\": {\n",
            "    \"Accept\": \"*/*\", \n",
            "    \"Accept-Encoding\": \"gzip, deflate\", \n",
            "    \"Content-Length\": \"35\", \n",
            "    \"Content-Type\": \"application/x-www-form-urlencoded\", \n",
            "    \"Host\": \"httpbin.org\", \n",
            "    \"User-Agent\": \"python-requests/2.23.0\", \n",
            "    \"X-Amzn-Trace-Id\": \"Root=1-63b2ae55-46266280638f623a65f59ef5\"\n",
            "  }, \n",
            "  \"json\": null, \n",
            "  \"origin\": \"35.185.153.116\", \n",
            "  \"url\": \"http://httpbin.org/post\"\n",
            "}\n",
            "\n"
          ]
        }
      ]
    },
    {
      "cell_type": "code",
      "source": [
        "# Any kind of post request will not change the actual database of the website"
      ],
      "metadata": {
        "id": "sv3mQjoU-Ri-"
      },
      "execution_count": 8,
      "outputs": []
    },
    {
      "cell_type": "code",
      "source": [
        "response = requests.post('https://jsonplaceholder.typicode.com/posts')\n",
        "\n",
        "print(response.status_code)\n",
        "print(response.text)"
      ],
      "metadata": {
        "colab": {
          "base_uri": "https://localhost:8080/"
        },
        "id": "BoJQHctL_IRj",
        "outputId": "1564795f-ee35-40c8-c71a-65cc2baa592c"
      },
      "execution_count": 9,
      "outputs": [
        {
          "output_type": "stream",
          "name": "stdout",
          "text": [
            "201\n",
            "{\n",
            "  \"id\": 101\n",
            "}\n"
          ]
        }
      ]
    },
    {
      "cell_type": "code",
      "source": [
        "response = requests.post('https://jsonplaceholder.typicode.com/posts', data = {'User_ID' : 2, id : 202, 'Title' : 'Shibayan'})\n",
        "\n",
        "print(response.status_code)\n",
        "print(response.text)"
      ],
      "metadata": {
        "colab": {
          "base_uri": "https://localhost:8080/"
        },
        "id": "U2k9n4v8_tit",
        "outputId": "912b1900-6191-431d-dd56-d2aab7de9d6c"
      },
      "execution_count": 10,
      "outputs": [
        {
          "output_type": "stream",
          "name": "stdout",
          "text": [
            "201\n",
            "{\n",
            "  \"User_ID\": \"2\",\n",
            "  \"<built-in function id>\": \"202\",\n",
            "  \"Title\": \"Shibayan\",\n",
            "  \"id\": 101\n",
            "}\n"
          ]
        }
      ]
    }
  ]
}