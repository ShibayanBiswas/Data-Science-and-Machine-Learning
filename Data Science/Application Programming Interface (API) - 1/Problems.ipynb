{
 "cells": [
  {
   "cell_type": "markdown",
   "metadata": {
    "id": "BivkL5_aIlej"
   },
   "source": [
    "## Content type"
   ]
  },
  {
   "cell_type": "markdown",
   "metadata": {
    "id": "8dnxLnlgIlen"
   },
   "source": [
    "Print the content-type received after making a get request to url = https://codingninjas.in/api/v3/events\n",
    "\n",
    "Note : content-type can be found in header information of response object.\n"
   ]
  },
  {
   "cell_type": "code",
   "execution_count": 1,
   "metadata": {
    "colab": {
     "base_uri": "https://localhost:8080/"
    },
    "id": "1WIM4FBAIleo",
    "outputId": "23a9984b-c81d-48f2-9d8a-43605f6a3105"
   },
   "outputs": [
    {
     "name": "stdout",
     "output_type": "stream",
     "text": [
      "text/html\n"
     ]
    }
   ],
   "source": [
    "import requests\n",
    "\n",
    "response = requests.get('https://codingninjas.in/api/v3/events')\n",
    "header = response.headers\n",
    "print(header['Content-Type'])"
   ]
  },
  {
   "cell_type": "markdown",
   "metadata": {
    "id": "2QBkPgqHIleo"
   },
   "source": [
    "## Hound sub-breeds"
   ]
  },
  {
   "cell_type": "markdown",
   "metadata": {
    "id": "vbydZlBbIlep"
   },
   "source": [
    "Print all sub-breeds of hound by making a get request to given URL.\n",
    "\n",
    "URL : https://dog.ceo/api/breeds/list/all\n",
    "\n",
    "Print name of sub-breeds in different lines.\n"
   ]
  },
  {
   "cell_type": "code",
   "execution_count": 2,
   "metadata": {
    "colab": {
     "base_uri": "https://localhost:8080/"
    },
    "id": "8VtwmvNOIlep",
    "outputId": "db394a9e-9a5a-47b0-b6f8-5e1520cd5c4e"
   },
   "outputs": [
    {
     "name": "stdout",
     "output_type": "stream",
     "text": [
      "afghan\n",
      "basset\n",
      "blood\n",
      "english\n",
      "ibizan\n",
      "plott\n",
      "walker\n"
     ]
    }
   ],
   "source": [
    "import requests\n",
    "import json\n",
    "\n",
    "response = requests.get('https://dog.ceo/api/breeds/list/all')\n",
    "data = json.loads(response.text)\n",
    "all_breeds = data['message']\n",
    "hound = all_breeds['hound']\n",
    "\n",
    "for dog in hound:\n",
    "    print(dog)"
   ]
  },
  {
   "cell_type": "markdown",
   "metadata": {
    "id": "kcIoBUp9Ilep"
   },
   "source": [
    "## Poodle sub breeds count"
   ]
  },
  {
   "cell_type": "markdown",
   "metadata": {
    "id": "geDrCTfLIleq"
   },
   "source": [
    "Print the count of total sub-breeds of poodle from this URL : https://dog.ceo/api/breeds/list/all/."
   ]
  },
  {
   "cell_type": "code",
   "execution_count": 3,
   "metadata": {
    "colab": {
     "base_uri": "https://localhost:8080/"
    },
    "id": "8c4ZVfPDIleq",
    "outputId": "67a60ef1-91f5-42c1-f98e-006a4af14fec"
   },
   "outputs": [
    {
     "name": "stdout",
     "output_type": "stream",
     "text": [
      "4\n"
     ]
    }
   ],
   "source": [
    "import requests\n",
    "import json\n",
    "\n",
    "response = requests.get('https://dog.ceo/api/breeds/list/all')\n",
    "data = json.loads(response.text)\n",
    "all_breeds = data['message']\n",
    "poodle = all_breeds['poodle']\n",
    "\n",
    "print(len(poodle))"
   ]
  },
  {
   "cell_type": "markdown",
   "metadata": {
    "id": "C8ZXBlvkIler"
   },
   "source": [
    "## CN Online Courses"
   ]
  },
  {
   "cell_type": "markdown",
   "metadata": {
    "id": "TGsgyQ0IIler"
   },
   "source": [
    "Print name of all online courses offered by Coding Ninjas. You can fetch the data using their open API :\n",
    "https://api.codingninjas.com/api/v3/courses ."
   ]
  },
  {
   "cell_type": "code",
   "execution_count": 4,
   "metadata": {
    "colab": {
     "base_uri": "https://localhost:8080/"
    },
    "id": "m2llNvENIler",
    "outputId": "eb8b736a-b85c-42ff-a28d-6aa2ed892d51"
   },
   "outputs": [
    {
     "name": "stdout",
     "output_type": "stream",
     "text": [
      "Premium Competitive Programming Course\n",
      "C++ Foundation with Data Structures\n",
      "Aptitude for professionals\n",
      "Premium Data Science Course\n",
      "Premium Android App Development\n",
      "Premium Machine Learning Course\n",
      "Premium Data structures and Algorithms [C++/Java/Python]\n",
      "System Design Course\n",
      "Ninja Competitive Programmer Track\n",
      "Premium Full Stack Web Development\n",
      "Machine Learning & Deep Learning Course\n",
      "Advanced  Front-End Web Development with React\n",
      "JAVA Foundation with Data Structures\n",
      "Ninja Android Developer Career Track \n",
      "Full Stack Web Development\n",
      "Interview Preparation Course\n",
      "Data Science & Machine Learning Complete\n",
      "Grokking the Operating Systems Interview\n",
      "Ninja  Web Developer Career Track - NodeJS & ReactJs\n",
      "Ninja  Web Developer Career Track - NodeJS\n",
      "Competitive Programming Course\n",
      "Android Development with Kotlin\n",
      "Python Foundation with Data Structures\n",
      "Ninja Data Scientist Career Track\n",
      "Ninja Machine Learning Engineer Career Track\n",
      "Aptitude Preparation Course\n"
     ]
    }
   ],
   "source": [
    "import requests\n",
    "import json\n",
    "\n",
    "response = requests.get('https://api.codingninjas.com/api/v3/courses')\n",
    "data = json.loads(response.text)\n",
    "courses_info = data['data']\n",
    "all_courses = courses_info['courses']\n",
    "\n",
    "for course in all_courses:\n",
    "    if course['available_online'] == True:\n",
    "        print(course['name'])"
   ]
  },
  {
   "cell_type": "markdown",
   "metadata": {
    "id": "5hf9PhYRIler"
   },
   "source": [
    "## Workshop Events"
   ]
  },
  {
   "cell_type": "markdown",
   "metadata": {
    "id": "MTD9KyxiIles"
   },
   "source": [
    "Print description of first event from Coding Ninjas Events API\n",
    "If ther are no events in this API, then print \"No Events !\"\n",
    "Data can be fetched from this URL : https://api.codingninjas.com/api/v3/events?event_category=ALL_EVENTS&event_sub_category=All%20Time%20Favorites&tag_list=&offset=0&_ga=2.136480118.75894803.1672336533-1216179.1670174220&_gac=1.27042511.1672161890.CjwKCAiAzKqdBhAnEiwAePEjkr2u6tdZy5yEGtc1c-rEIQX3QW51MnXXJ8c3ddlXyoTfUDu_3LnKlBoCeMMQAvD_BwE\n",
    "\n"
   ]
  },
  {
   "cell_type": "code",
   "execution_count": 6,
   "metadata": {
    "colab": {
     "base_uri": "https://localhost:8080/"
    },
    "id": "5_uRR5fiIles",
    "outputId": "f5d16bb9-80cd-499b-92cf-518a49b547b9"
   },
   "outputs": [
    {
     "name": "stdout",
     "output_type": "stream",
     "text": [
      "Ready to solve fun, challenging problems?\n"
     ]
    }
   ],
   "source": [
    "import requests\n",
    "import json\n",
    "\n",
    "response = requests.get('https://api.codingninjas.com/api/v3/events?event_category=ALL_EVENTS&event_sub_category=All%20Time%20Favorites&tag_list=&offset=0&_ga=2.136480118.75894803.1672336533-1216179.1670174220&_gac=1.27042511.1672161890.CjwKCAiAzKqdBhAnEiwAePEjkr2u6tdZy5yEGtc1c-rEIQX3QW51MnXXJ8c3ddlXyoTfUDu_3LnKlBoCeMMQAvD_BwE')\n",
    "data = json.loads(response.text)\n",
    "\n",
    "events = data['data']['events']\n",
    "\n",
    "if len(events) == 0:\n",
    "    print(\"No Events !\")\n",
    "else:\n",
    "    print(events[0]['short_desc'])"
   ]
  },
  {
   "cell_type": "markdown",
   "metadata": {
    "id": "pcoaNJmUIlet"
   },
   "source": [
    "## Title of course"
   ]
  },
  {
   "cell_type": "markdown",
   "metadata": {
    "id": "YaEoFdC6Ilet"
   },
   "source": [
    "Print the title of course with id=19.\n",
    "URL : http://api.codingninjas.com/api/v3/courses"
   ]
  },
  {
   "cell_type": "code",
   "execution_count": 7,
   "metadata": {
    "colab": {
     "base_uri": "https://localhost:8080/"
    },
    "id": "3D8Ic2XGIlet",
    "outputId": "4205df22-286e-430f-d596-eae2e259bdff"
   },
   "outputs": [
    {
     "name": "stdout",
     "output_type": "stream",
     "text": [
      "Machine Learning\n"
     ]
    }
   ],
   "source": [
    "import requests\n",
    "response = requests.get('https://api.codingninjas.com/api/v3/courses')\n",
    "python_data = response.json()\n",
    "courses = python_data['data']['courses']\n",
    "\n",
    "for i in courses:\n",
    "    if i['id'] == 19:\n",
    "        print(i['title'])"
   ]
  },
  {
   "cell_type": "markdown",
   "metadata": {
    "id": "Rz7CEuLEIlet"
   },
   "source": [
    "## Total number of cities"
   ]
  },
  {
   "cell_type": "markdown",
   "metadata": {
    "id": "TmJT7U0-Ilet"
   },
   "source": [
    "Count the total number of cities of country AU from this URL :\n",
    "https://api.openaq.org/v2/cities\n",
    "\n"
   ]
  },
  {
   "cell_type": "code",
   "execution_count": 8,
   "metadata": {
    "colab": {
     "base_uri": "https://localhost:8080/"
    },
    "id": "9lw874O9Ilet",
    "outputId": "1e1bb1ff-5665-49b4-b6bd-9463798f4605"
   },
   "outputs": [
    {
     "name": "stdout",
     "output_type": "stream",
     "text": [
      "81\n"
     ]
    }
   ],
   "source": [
    "import requests\n",
    "import json\n",
    "\n",
    "response = requests.get('https://api.openaq.org/v1/cities', params = {'country' : 'AU'})\n",
    "data = response.json()\n",
    "all_cities = data['results']\n",
    "a = []\n",
    "for i in all_cities:\n",
    "    a.append(i['city'])\n",
    "\n",
    "print(len(set(a)))"
   ]
  },
  {
   "cell_type": "markdown",
   "metadata": {
    "id": "c9WtFqdXIleu"
   },
   "source": [
    "## Cities from BE"
   ]
  },
  {
   "cell_type": "markdown",
   "metadata": {
    "id": "k776_IjOIleu"
   },
   "source": [
    "Print first 5 cities from country “BE”. Fetch the result from given URL. Order the results by city.\n",
    "\n",
    "URL - https://api.openaq.org/v1/cities\n",
    "\n",
    "Documentation - https://docs.openaq.org/"
   ]
  },
  {
   "cell_type": "code",
   "execution_count": 9,
   "metadata": {
    "colab": {
     "base_uri": "https://localhost:8080/"
    },
    "id": "0WyrD68UIleu",
    "outputId": "989fbc33-8453-477e-f20e-a48de42dee69"
   },
   "outputs": [
    {
     "name": "stdout",
     "output_type": "stream",
     "text": [
      "007\n",
      "019\n",
      "037\n",
      "039\n",
      "047\n"
     ]
    }
   ],
   "source": [
    "import requests\n",
    "import json\n",
    "\n",
    "response = requests.get('https://api.openaq.org/v1/cities', params = {'Country' : 'BE', 'limit' : 5, 'order_by' : 'city'})\n",
    "data = response.json()\n",
    "all_cities = data['results']\n",
    "\n",
    "for i in all_cities:\n",
    "    print(i['city'])"
   ]
  },
  {
   "cell_type": "markdown",
   "metadata": {
    "id": "qwlrDO13Ileu"
   },
   "source": [
    "## USA WOEID"
   ]
  },
  {
   "cell_type": "markdown",
   "metadata": {
    "id": "aD6LTDHBIleu"
   },
   "source": [
    "Make an API call to -\n",
    "https://api.openweathermap.org/data/2.5/weather\n",
    "\n",
    "Search for \"Hyderabad\" and print weather report and Temperature. please go through the document to create your API Key and Print the answer.\n",
    "\n",
    "Output format:\n",
    "\n",
    "< City Name >\n",
    "\n",
    "Temperature: < >\n",
    "\n",
    "Weather Report: < >"
   ]
  },
  {
   "cell_type": "code",
   "execution_count": 10,
   "metadata": {
    "colab": {
     "base_uri": "https://localhost:8080/",
     "height": 36
    },
    "id": "p5-0FNjNIleu",
    "outputId": "cba317fe-ff15-44a5-861c-5aa9cc6e8728"
   },
   "outputs": [
    {
     "data": {
      "text/plain": [
       "'https://api.openweathermap.org/data/2.5/weather?q=Hyderabad&appid=1396ff6fc250b7c4a34f67f747eee2eb'"
      ]
     },
     "execution_count": 10,
     "metadata": {},
     "output_type": "execute_result"
    }
   ],
   "source": [
    "import requests\n",
    "import json\n",
    "\n",
    "BASE_URL = \"https://api.openweathermap.org/data/2.5/weather?\"\n",
    "CITY = \"Hyderabad\"\n",
    "API_KEY = \"1396ff6fc250b7c4a34f67f747eee2eb\"\n",
    "\n",
    "URL = BASE_URL + \"q=\" + CITY + \"&appid=\" + API_KEY\n",
    "URL"
   ]
  },
  {
   "cell_type": "code",
   "execution_count": 11,
   "metadata": {
    "colab": {
     "base_uri": "https://localhost:8080/"
    },
    "id": "Yc-RnJ1sIleu",
    "outputId": "4957a8e8-15d4-4ee9-9d06-2912b221b210"
   },
   "outputs": [
    {
     "name": "stdout",
     "output_type": "stream",
     "text": [
      "Hyderabad\n",
      "Temperature : 305.38\n",
      "Weather Report : few clouds\n"
     ]
    }
   ],
   "source": [
    "response = requests.get(URL)\n",
    "\n",
    "if response.status_code == 200:\n",
    "    data = response.json()\n",
    "    main = data['main']\n",
    "    temperature = main['temp']\n",
    "    humidity = main['humidity']\n",
    "    pressure = main['pressure']\n",
    "    report = data['weather']\n",
    "\n",
    "    print(f\"{CITY}\")\n",
    "    print(f\"Temperature : {temperature}\")\n",
    "    print(f\"Weather Report : {report[0]['description']}\")"
   ]
  },
  {
   "cell_type": "markdown",
   "metadata": {
    "id": "nVohNkXZIlev"
   },
   "source": [
    "For our purposes this endpoint takes two relevant parameters (there are other query parameters for identifying cities, but for our purposes they're not needed.\n",
    "\n",
    "appid- which takes your api key\n",
    "\n",
    "q- which takes the city name, eg london, new york, etc.\n",
    "\n",
    "We're going to use cell references which lets us pass multiple values into the connection such that the connection runs once per city name (much more efficient as it lets us have a dynamic list of cities in our spreadsheet and a single connector)"
   ]
  },
  {
   "cell_type": "markdown",
   "metadata": {
    "id": "cYIeLUrYOTUp"
   },
   "source": [
    "## Holiday"
   ]
  },
  {
   "cell_type": "markdown",
   "metadata": {
    "id": "m8Dm6p5YQg54"
   },
   "source": [
    "Find name of holiday on 2nd October 2022 in country India.\n",
    "You can read the documentation here : https://holidayapi.com/\n",
    "\n",
    "API Link to be used -\n",
    "https://holidayapi.com/v1/holidays\n",
    "\n"
   ]
  },
  {
   "cell_type": "code",
   "execution_count": null,
   "metadata": {
    "id": "ALy-nmF4SX2h"
   },
   "outputs": [],
   "source": [
    "import requests\n",
    "import json\n",
    "\n",
    "response = requests.get('https://holidayapi.com/v1/holidays', params = {'key' : 'da8c2a6e-fde1-45f3-83a5-089655f88867', 'country' : 'IN', 'year' : 2022, 'day' : 2, 'month' : 10})\n",
    "python_data = response.json()\n",
    "\n",
    "holiday = python_data['holidays']\n",
    "print(holiday[0]['name'])"
   ]
  },
  {
   "cell_type": "markdown",
   "metadata": {},
   "source": [
    "Free accounts are limited to last year's historical data only. Upgrade to premium for access to all holiday data. Hence, running this code gives us an error."
   ]
  }
 ],
 "metadata": {
  "colab": {
   "provenance": []
  },
  "kernelspec": {
   "display_name": "Python 3 (ipykernel)",
   "language": "python",
   "name": "python3"
  },
  "language_info": {
   "codemirror_mode": {
    "name": "ipython",
    "version": 3
   },
   "file_extension": ".py",
   "mimetype": "text/x-python",
   "name": "python",
   "nbconvert_exporter": "python",
   "pygments_lexer": "ipython3",
   "version": "3.9.13"
  },
  "vscode": {
   "interpreter": {
    "hash": "cfc9a42ceb155f1f125b8a4bcd2b715739f099a6e3de280bb3102a0bd9e61a77"
   }
  }
 },
 "nbformat": 4,
 "nbformat_minor": 1
}
