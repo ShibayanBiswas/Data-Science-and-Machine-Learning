{
 "cells": [
  {
   "cell_type": "markdown",
   "id": "5fe54d30",
   "metadata": {},
   "source": [
    "## Lecture - 1"
   ]
  },
  {
   "cell_type": "markdown",
   "id": "9e18c622",
   "metadata": {},
   "source": [
    "In this lecture, we will see how to make different API calls from our python code. There are many libraries available in python that allows us to ,ake API calls - httplib, urllib, requests. Out of all these, requests library is the simplest one. We will be using this library to make API calls in our code."
   ]
  },
  {
   "cell_type": "code",
   "execution_count": 33,
   "id": "4c711747",
   "metadata": {},
   "outputs": [],
   "source": [
    "# URL (Coding Ninjas API) :- https://codingninjas.in/api/v3/courses\n",
    "\n",
    "import requests\n",
    "response = requests.get('https://api.codingninjas.in/api/v3/courses')"
   ]
  },
  {
   "cell_type": "markdown",
   "id": "7fe64de8",
   "metadata": {},
   "source": [
    "Here we are making an API call to this website. This website has an open API with the help of which anyone can access the list of all the courses. To make an API call, we need to write \"requests.get()\""
   ]
  },
  {
   "cell_type": "markdown",
   "id": "7f3e5103",
   "metadata": {},
   "source": [
    "In arguments we have to pass the url of the API with which we want to connect. We should receive the answer from the website in some variable (over here response)."
   ]
  },
  {
   "cell_type": "code",
   "execution_count": 34,
   "id": "8a49141e",
   "metadata": {},
   "outputs": [
    {
     "name": "stdout",
     "output_type": "stream",
     "text": [
      "200\n"
     ]
    }
   ],
   "source": [
    "print(response.status_code)"
   ]
  },
  {
   "cell_type": "code",
   "execution_count": 35,
   "id": "2c953515",
   "metadata": {},
   "outputs": [
    {
     "name": "stdout",
     "output_type": "stream",
     "text": [
      "<class 'int'>\n"
     ]
    }
   ],
   "source": [
    "print(type(response.status_code))"
   ]
  },
  {
   "cell_type": "markdown",
   "id": "435be5f1",
   "metadata": {},
   "source": [
    "The attribute \"status_code\"is used to check whether the API call has been established successfully or not. If established successfully, it returns 200 else it return 404 (API call failed) .\n",
    "\n",
    "The return type of this attribute in \"int\".\n",
    "\n",
    "For an invalid url we get status_code = 404"
   ]
  },
  {
   "cell_type": "code",
   "execution_count": 36,
   "id": "1e995682",
   "metadata": {},
   "outputs": [
    {
     "name": "stdout",
     "output_type": "stream",
     "text": [
      "utf-8\n"
     ]
    }
   ],
   "source": [
    "print(response.encoding)"
   ]
  },
  {
   "cell_type": "code",
   "execution_count": 37,
   "id": "d43e9146",
   "metadata": {},
   "outputs": [
    {
     "name": "stdout",
     "output_type": "stream",
     "text": [
      "<class 'str'>\n"
     ]
    }
   ],
   "source": [
    "print(type(response.encoding))"
   ]
  },
  {
   "cell_type": "markdown",
   "id": "fc584c3d",
   "metadata": {},
   "source": [
    "The above attribute tells us the encoding of the data that we got in response from the website/server. The return type of this attribute is \"string\". Encoding is used when we try to access the content of the response. "
   ]
  },
  {
   "cell_type": "code",
   "execution_count": 38,
   "id": "ca90ccc3",
   "metadata": {},
   "outputs": [
    {
     "name": "stdout",
     "output_type": "stream",
     "text": [
      "{\"data\":{\"courses\":[{\"id\":41,\"title\":\"Premium Competitive Course\",\"online_title\":\"premium-competitive-course\",\"offline_title\":\"\",\"name\":\"Premium Competitive Programming Course\",\"level\":\"Foundation Courses\",\"brief_intro\":\"\",\"preview_image_url\":\"\",\"available_online\":true,\"available_offline\":false,\"is_career_track\":false,\"course_group_id\":7,\"classroom_icon_url\":\"https://files.codingninjas.in/0000000000003765.png\"},{\"id\":1,\"title\":\"C++ \\u0026 Data Structures\",\"online_title\":\"onlline-c-plus-plus-course\",\"offline_title\":\"classroom-c-plus-plus-course\",\"name\":\"C++ Foundation with Data Structures\",\"level\":\"Foundation Courses\",\"brief_intro\":\"Brief Intro\",\"preview_image_url\":\"https://files.codingninjas.in/0000000000001176.png\",\"available_online\":true,\"available_offline\":false,\"is_career_track\":false,\"course_group_id\":1,\"classroom_icon_url\":\"https://files.codingninjas.in/0000000000003771.png\"},{\"id\":103,\"title\":\"Aptitude for professionals\",\"online_title\":\"prof-aptitude-preparation\",\"offline_title\":\"\",\"name\":\"Aptitude for professionals\",\"level\":\"Foundation Courses\",\"brief_intro\":\"Develop your ability to explore the logic behind different problem-solving strategies \\u0026 learn time saving strategies to solve problems for Verbal, Logical Thinking and Data Interpretation\",\"preview_image_url\":\"\",\"available_online\":true,\"available_offline\":false,\"is_career_track\":false,\"course_group_id\":7,\"classroom_icon_url\":\"\"},{\"id\":43,\"title\":\"Premium Data Science Course\",\"online_title\":\"premium-data-science-course\",\"offline_title\":\"\",\"name\":\"Premium Data Science Course\",\"level\":\"Foundation Courses\",\"brief_intro\":\"\",\"preview_image_url\":\"\",\"available_online\":true,\"available_offline\":false,\"is_career_track\":false,\"course_group_id\":7,\"classroom_icon_url\":\"https://files.codingninjas.com/data-science-11645.png\"},{\"id\":45,\"title\":\"Premium Android Course\",\"online_title\":\"premium-android-app-development-course\",\"offline_title\":\"\",\"name\":\"Premium Android App Development\",\"level\":\"Foundation Courses\",\"brief_intro\":\"\",\"preview_image_url\":\"\",\"available_online\":true,\"available_offline\":false,\"is_career_track\":false,\"course_group_id\":7,\"classroom_icon_url\":\"https://files.codingninjas.in/0000000000003765.png\"},{\"id\":44,\"title\":\"Premium Machine Learning Course\",\"online_title\":\"premium-machine-learning-course\",\"offline_title\":\"\",\"name\":\"Premium Machine Learning Course\",\"level\":\"Foundation Courses\",\"brief_intro\":\"\",\"preview_image_url\":\"\",\"available_online\":true,\"available_offline\":false,\"is_career_track\":false,\"course_group_id\":7,\"classroom_icon_url\":\"https://files.codingninjas.in/0000000000003765.png\"},{\"id\":40,\"title\":\"Data structures and Algorithms [C++/Java/Python]\",\"online_title\":\"premium-foundation-course\",\"offline_title\":\"\",\"name\":\"Premium Data structures and Algorithms [C++/Java/Python]\",\"level\":\"Foundation Courses\",\"brief_intro\":\"\",\"preview_image_url\":\"\",\"available_online\":true,\"available_offline\":false,\"is_career_track\":false,\"course_group_id\":7,\"classroom_icon_url\":\"https://files.codingninjas.in/0000000000003765.png\"},{\"id\":73,\"title\":\"System Design Course\",\"online_title\":\"system-design-course\",\"offline_title\":\"\",\"name\":\"System Design Course\",\"level\":\"Foundation Courses\",\"brief_intro\":\"Brief Intro\",\"preview_image_url\":\"https://ninjasfiles.s3.amazonaws.com/0000000000001178.png\",\"available_online\":true,\"available_offline\":false,\"is_career_track\":false,\"course_group_id\":1,\"classroom_icon_url\":\"https://files.codingninjas.com/system-design-icon-11401.svg\"},{\"id\":16,\"title\":\"Competitive Programmer\",\"online_title\":\"online-competitive-programming-track\",\"offline_title\":\"\",\"name\":\"Ninja Competitive Programmer Track\",\"level\":\"Career Tracks\",\"brief_intro\":\"Competitive Track\",\"preview_image_url\":\"https://files.codingninjas.in/0000000000001177.png\",\"available_online\":true,\"available_offline\":false,\"is_career_track\":true,\"course_group_id\":3,\"classroom_icon_url\":\"https://files.codingninjas.com/competitive-programming-11703.svg\"},{\"id\":42,\"title\":\"Premium Web Dev Course\",\"online_title\":\"premium-full-stack-web-development-course\",\"offline_title\":\"\",\"name\":\"Premium Full Stack Web Development\",\"level\":\"Foundation Courses\",\"brief_intro\":\"\",\"preview_image_url\":\"\",\"available_online\":true,\"available_offline\":false,\"is_career_track\":false,\"course_group_id\":7,\"classroom_icon_url\":\"https://files.codingninjas.in/0000000000003765.png\"},{\"id\":6,\"title\":\"Machine Learning\",\"online_title\":\"online-machine-learning-course\",\"offline_title\":\"classroom-machine-learning-course\",\"name\":\"Machine Learning \\u0026 Deep Learning Course\",\"level\":\"Advanced Courses\",\"brief_intro\":\"Machine learning engineers build, implement, and maintain machine learning systems in technology products.\",\"preview_image_url\":\"https://ninjasfiles.s3.amazonaws.com/0000000000001181.png\",\"available_online\":true,\"available_offline\":false,\"is_career_track\":false,\"course_group_id\":2,\"classroom_icon_url\":\"https://files.codingninjas.in/0000000000003766.png\"},{\"id\":34,\"title\":\"Front End (React)\",\"online_title\":\"online-web-dev-with-react\",\"offline_title\":\"\",\"name\":\"Advanced  Front-End Web Development with React\",\"level\":\"Development Courses\",\"brief_intro\":\"Advanced  Front-End Web Development with React\",\"preview_image_url\":\"https://ninjasfiles.s3.amazonaws.com/0000000000001179.png\",\"available_online\":true,\"available_offline\":false,\"is_career_track\":false,\"course_group_id\":2,\"classroom_icon_url\":\"https://files.codingninjas.in/0000000000003769.png\"},{\"id\":2,\"title\":\"Java \\u0026 Data Structures\",\"online_title\":\"online-java-course\",\"offline_title\":\"classroom-java-course\",\"name\":\"JAVA Foundation with Data Structures\",\"level\":\"Foundation Courses\",\"brief_intro\":\"Brief Intro\",\"preview_image_url\":\"https://ninjasfiles.s3.amazonaws.com/0000000000001255.png\",\"available_online\":true,\"available_offline\":false,\"is_career_track\":false,\"course_group_id\":1,\"classroom_icon_url\":\"https://files.codingninjas.in/0000000000003772.png\"},{\"id\":35,\"title\":\"Android Developer\",\"online_title\":\"online-android-development-career-track\",\"offline_title\":\"\",\"name\":\"Ninja Android Developer Career Track \",\"level\":\"Career Tracks\",\"brief_intro\":\"beginner to pro Android Developer!\",\"preview_image_url\":\"https://ninjasfiles.s3.amazonaws.com/0000000000001175.png\",\"available_online\":true,\"available_offline\":false,\"is_career_track\":true,\"course_group_id\":3,\"classroom_icon_url\":\"https://files.codingninjas.in/0000000000003774.png\"},{\"id\":12,\"title\":\"Web Dev (Full Stack)\",\"online_title\":\"online-full-stack-node-js-web-dev-course\",\"offline_title\":\"\",\"name\":\"Full Stack Web Development\",\"level\":\"Development Courses\",\"brief_intro\":\"Web Development\",\"preview_image_url\":\"https://ninjasfiles.s3.amazonaws.com/0000000000001179.png\",\"available_online\":true,\"available_offline\":false,\"is_career_track\":false,\"course_group_id\":2,\"classroom_icon_url\":\"https://files.codingninjas.in/0000000000003764.png\"},{\"id\":4,\"title\":\"Interview Preparation\",\"online_title\":\"online-interview-preparation\",\"offline_title\":\"classroom-interview-preparation\",\"name\":\"Interview Preparation Course\",\"level\":\"Advanced Courses\",\"brief_intro\":\"Brief Intro\",\"preview_image_url\":\"https://ninjasfiles.s3.amazonaws.com/0000000000001178.png\",\"available_online\":true,\"available_offline\":false,\"is_career_track\":false,\"course_group_id\":1,\"classroom_icon_url\":\"https://files.codingninjas.in/0000000000003765.png\"},{\"id\":13,\"title\":\"Data Science\",\"online_title\":\"online-data-science-course\",\"offline_title\":\"\",\"name\":\"Data Science \\u0026 Machine Learning Complete\",\"level\":\"Advanced Courses\",\"brief_intro\":\"Brief Intro\",\"preview_image_url\":\"https://ninjasfiles.s3.amazonaws.com/0000000000001371.png\",\"available_online\":true,\"available_offline\":false,\"is_career_track\":false,\"course_group_id\":2,\"classroom_icon_url\":\"https://files.codingninjas.in/0000000000003763.png\"},{\"id\":66,\"title\":\"Grokking the Operating Systems Interview\",\"online_title\":\"operating-system\",\"offline_title\":\"\",\"name\":\"Grokking the Operating Systems Interview\",\"level\":\"Foundation Courses\",\"brief_intro\":\"Brief Intro\",\"preview_image_url\":\"https://ninjasfiles.s3.amazonaws.com/0000000000001178.png\",\"available_online\":true,\"available_offline\":false,\"is_career_track\":false,\"course_group_id\":1,\"classroom_icon_url\":\"https://files.codingninjas.in/ubuntu-brands-10404.png\"},{\"id\":36,\"title\":\"Python \\u0026 Web Dev (MERN)\",\"online_title\":\"ninja-web-developer-career-track-mern-stack\",\"offline_title\":\"\",\"name\":\"Ninja  Web Developer Career Track - NodeJS \\u0026 ReactJs\",\"level\":\"Career Tracks\",\"brief_intro\":\"Programming foundation + MERN Stack Web Development complete Career Track\",\"preview_image_url\":\"https://ninjasfiles.s3.amazonaws.com/0000000000001179.png\",\"available_online\":true,\"available_offline\":false,\"is_career_track\":true,\"course_group_id\":3,\"classroom_icon_url\":\"https://files.codingninjas.in/0000000000003777.png\"},{\"id\":17,\"title\":\"C++ \\u0026 Web Dev (Node.js)\",\"online_title\":\"web-developer-career-track\",\"offline_title\":\"\",\"name\":\"Ninja  Web Developer Career Track - NodeJS\",\"level\":\"Career Tracks\",\"brief_intro\":\"Programming foundation + Full Stack Web Development Career Track\",\"preview_image_url\":\"https://ninjasfiles.s3.amazonaws.com/0000000000001179.png\",\"available_online\":true,\"available_offline\":false,\"is_career_track\":true,\"course_group_id\":3,\"classroom_icon_url\":\"https://files.codingninjas.in/0000000000003777.png\"},{\"id\":10,\"title\":\"Competitive Programming\",\"online_title\":\"online-competitive-programming-course\",\"offline_title\":\"\",\"name\":\"Competitive Programming Course\",\"level\":\"Advanced Courses\",\"brief_intro\":\"Eminence\",\"preview_image_url\":\"https://ninjasfiles.s3.amazonaws.com/0000000000001177.png\",\"available_online\":true,\"available_offline\":false,\"is_career_track\":false,\"course_group_id\":1,\"classroom_icon_url\":\"https://files.codingninjas.in/0000000000003762.png\"},{\"id\":33,\"title\":\"Android (Kotlin)\",\"online_title\":\"online-android-Development-kotlin\",\"offline_title\":\"\",\"name\":\"Android Development with Kotlin\",\"level\":\"Development Courses\",\"brief_intro\":\"Android Development Kotlin\",\"preview_image_url\":\"https://ninjasfiles.s3.amazonaws.com/0000000000001175.png\",\"available_online\":true,\"available_offline\":false,\"is_career_track\":false,\"course_group_id\":2,\"classroom_icon_url\":\"https://files.codingninjas.in/0000000000003761.png\"},{\"id\":11,\"title\":\"Python \\u0026 Data Structures\",\"online_title\":\"online-python-course\",\"offline_title\":\"offline-python-course\",\"name\":\"Python Foundation with Data Structures\",\"level\":\"Foundation Courses\",\"brief_intro\":\"Python Foundation\",\"preview_image_url\":\"https://ninjasfiles.s3.amazonaws.com/0000000000001282.png\",\"available_online\":true,\"available_offline\":false,\"is_career_track\":false,\"course_group_id\":1,\"classroom_icon_url\":\"https://files.codingninjas.in/0000000000003773.png\"},{\"id\":18,\"title\":\"Data Scientist\",\"online_title\":\"data-Scientist-career-track\",\"offline_title\":\"\",\"name\":\"Ninja Data Scientist Career Track\",\"level\":\"Career Tracks\",\"brief_intro\":\"Programming foundation + Data Science with ML career track\",\"preview_image_url\":\"https://ninjasfiles.s3.amazonaws.com/0000000000001371.png\",\"available_online\":true,\"available_offline\":false,\"is_career_track\":true,\"course_group_id\":3,\"classroom_icon_url\":\"https://files.codingninjas.in/0000000000003778.png\"},{\"id\":19,\"title\":\"Machine Learning\",\"online_title\":\"machine-learning-engineer-career-track\",\"offline_title\":\"\",\"name\":\"Ninja Machine Learning Engineer Career Track\",\"level\":\"Career Tracks\",\"brief_intro\":\"Programming foundation + Machine Learning career track\",\"preview_image_url\":\"https://ninjasfiles.s3.amazonaws.com/0000000000001181.png\",\"available_online\":true,\"available_offline\":false,\"is_career_track\":true,\"course_group_id\":3,\"classroom_icon_url\":\"https://files.codingninjas.in/0000000000003776.png\"},{\"id\":21,\"title\":\"Aptitude Preparation\",\"online_title\":\"online-aptitude-preparation\",\"offline_title\":\"\",\"name\":\"Aptitude Preparation Course\",\"level\":\"Foundation Courses\",\"brief_intro\":\"Brief Intro\",\"preview_image_url\":\"https://ninjasfiles.s3.amazonaws.com/0000000000001178.png\",\"available_online\":true,\"available_offline\":false,\"is_career_track\":false,\"course_group_id\":1,\"classroom_icon_url\":\"https://files.codingninjas.in/0000000000003770.png\"}],\"course_groups\":[{\"id\":1,\"name\":\"Foundation, Algorithmic \\u0026 Advanced\",\"order\":1,\"course_ids\":[1,73,2,4,66,10,11,21],\"json_data\":{\"color\":\"#FFEBC2\",\"image_link\":\"https://ninjasfiles.s3.amazonaws.com/0000000000003821.png\",\"text_color\":\"#AC933C\",\"short_description\":\"Foundation courses are designed such that \\u003cstrong\\u003eno prerequisites are required.\\u003c/strong\\u003e Data Structures(DS) and Algorithms(algo.) parts build on the basics to give you a \\u003cstrong\\u003esolid programming foundation\\u003c/strong\\u003e. Competitive is where you start to \\u003cstrong\\u003epush the boundaries!\\u003c/strong\\u003e\",\"mobile_short_description\":\"Foundation courses are designed such that \\u003cspan\\u003eno prerequisites are required.\\u003c/span\\u003e\"},\"is_independent\":false},{\"id\":2,\"name\":\"Data \\u0026 Development\",\"order\":2,\"course_ids\":[6,34,12,13,33],\"json_data\":{\"color\":\"#80D4B1\",\"image_link\":\"https://files.codingninjas.in/0000000000003846.svg\",\"text_color\":\"#257D68\",\"short_description\":\"Data courses dwell in the state of the art algorithms and require good knowledge of programming fundamentals. Web development courses use modern JavaScript to build powerful and fast applications from the ground up. \\u003cstrong\\u003eNo prior development experience needed\\u003c/strong\\u003e\",\"mobile_short_description\":\"Data courses dwell in the state of the art algorithms and require good knowledge of programming fundamentals. Web development courses use modern JavaScript to build powerful and fast applications from the ground up. \\u003cspan\\u003eNo prior development experience needed\\u003c/span\\u003e\"},\"is_independent\":false},{\"id\":3,\"name\":\"Career Track\",\"order\":3,\"course_ids\":[16,35,36,17,18,19],\"json_data\":{\"color\":\"#C898FF\",\"image_link\":\"https://files.codingninjas.in/0000000000003845.svg\",\"text_color\":\"#603CAC\",\"short_description\":\"These are courses that take you from \\u003cstrong\\u003ezero to hero\\u003c/strong\\u003e. Each track is designed specifically to cater to a particular goal you can choose and \\u003cstrong\\u003ecovers everything you need to learn and assumes no prior knowledge.\\u003c/strong\\u003e\",\"mobile_short_description\":\"Each track is designed specifically to cater to a particular goal you can choose and \\u003cspan\\u003ecovers everything you need to learn and assumes no prior knowledge.\\u003c/span\\u003e\"},\"is_independent\":true},{\"id\":7,\"name\":\"Premium Course\",\"order\":null,\"course_ids\":[41,103,43,45,44,40,42],\"json_data\":null,\"is_independent\":true}]},\"message\":\"Courses\",\"status\":200,\"error\":null,\"disabled\":false,\"update\":false,\"external_rating\":null}\n"
     ]
    }
   ],
   "source": [
    "print(response.text)"
   ]
  },
  {
   "cell_type": "code",
   "execution_count": 39,
   "id": "fa4cd950",
   "metadata": {},
   "outputs": [
    {
     "name": "stdout",
     "output_type": "stream",
     "text": [
      "<class 'str'>\n"
     ]
    }
   ],
   "source": [
    "print(type(response.text))"
   ]
  },
  {
   "cell_type": "markdown",
   "id": "6a2f6947",
   "metadata": {},
   "source": [
    "We can access the content of our API response with the help of the attribute \"text\". The return type of this attribute is \"string\". With the help of this attribute, we will be able to see the data we fetched from the API call. It is using the \"utf-8\" encoding to detect this data and display it in front of us."
   ]
  },
  {
   "cell_type": "code",
   "execution_count": 40,
   "id": "53ccef9b",
   "metadata": {},
   "outputs": [
    {
     "name": "stdout",
     "output_type": "stream",
     "text": [
      "https://api.codingninjas.in/api/v3/courses\n"
     ]
    }
   ],
   "source": [
    "print(response.url)"
   ]
  },
  {
   "cell_type": "code",
   "execution_count": 41,
   "id": "81384f0f",
   "metadata": {},
   "outputs": [
    {
     "name": "stdout",
     "output_type": "stream",
     "text": [
      "<class 'str'>\n"
     ]
    }
   ],
   "source": [
    "print(type(response.url))"
   ]
  },
  {
   "cell_type": "markdown",
   "id": "1b1cc76d",
   "metadata": {},
   "source": [
    "With the help of the attribute \"url\", we can extract the url link to which we have made the API call. The return type of this attribute is \"string\"."
   ]
  },
  {
   "cell_type": "code",
   "execution_count": 42,
   "id": "e7b6cff5",
   "metadata": {},
   "outputs": [
    {
     "name": "stdout",
     "output_type": "stream",
     "text": [
      "{'Date': 'Mon, 27 Mar 2023 14:46:25 GMT', 'Content-Type': 'application/json', 'Transfer-Encoding': 'chunked', 'Connection': 'keep-alive', 'Server': 'nginx', 'Access-Control-Allow-Origin': '*', 'Access-Control-Allow-Methods': 'POST, GET, PATCH, PUT, DELETE, OPTIONS', 'Access-Control-Allow-Headers': 'Access-Control-Allow-Headers, Origin,Accept, X-Requested-With, Content-Type, Access-Control-Request-Method, Access-Control-Request-Headers, Authorization', 'Access-Control-Max-Age': '1728000', 'Vary': 'Accept-Encoding', 'Content-Encoding': 'gzip', 'ETag': 'W/\"f4ce6c383fa456d77cd909cf9c569c86\"', 'Cache-Control': 'max-age=0, private, must-revalidate', 'X-Request-Id': 'af799f8b-b96c-4117-bc70-3264bda1669b', 'X-Runtime': '0.006947', 'Strict-Transport-Security': 'max-age=31536000; includeSubDomains;'}\n"
     ]
    }
   ],
   "source": [
    "print(response.headers)"
   ]
  },
  {
   "cell_type": "code",
   "execution_count": 43,
   "id": "dce84640",
   "metadata": {},
   "outputs": [
    {
     "name": "stdout",
     "output_type": "stream",
     "text": [
      "<class 'requests.structures.CaseInsensitiveDict'>\n"
     ]
    }
   ],
   "source": [
    "print(type(response.headers))"
   ]
  },
  {
   "cell_type": "markdown",
   "id": "0f5a1aa8",
   "metadata": {},
   "source": [
    "This attribute \"header\" gives us the access to the header information of the response that we got from the website. The return type of this attribute is \"Python Dictionary\". We can access different header information using the keys of the Python Dictionary."
   ]
  },
  {
   "cell_type": "code",
   "execution_count": 44,
   "id": "48c2c521",
   "metadata": {},
   "outputs": [
    {
     "data": {
      "text/plain": [
       "'Mon, 27 Mar 2023 14:46:25 GMT'"
      ]
     },
     "execution_count": 44,
     "metadata": {},
     "output_type": "execute_result"
    }
   ],
   "source": [
    "header_info = response.headers\n",
    "header_info['Date']"
   ]
  },
  {
   "cell_type": "markdown",
   "id": "57e19aed",
   "metadata": {},
   "source": [
    "Ideally we should store \"response.headers\" in some variable as it makes simple for us to access header information."
   ]
  },
  {
   "cell_type": "code",
   "execution_count": 45,
   "id": "effa350c",
   "metadata": {},
   "outputs": [
    {
     "data": {
      "text/plain": [
       "'application/json'"
      ]
     },
     "execution_count": 45,
     "metadata": {},
     "output_type": "execute_result"
    }
   ],
   "source": [
    "header_info['Content-Type']"
   ]
  },
  {
   "cell_type": "markdown",
   "id": "1af943f3",
   "metadata": {},
   "source": [
    "The keys are case insensitive."
   ]
  },
  {
   "cell_type": "markdown",
   "id": "95df87e6",
   "metadata": {},
   "source": [
    "## Lecture - 2"
   ]
  },
  {
   "cell_type": "markdown",
   "id": "13fb302b",
   "metadata": {},
   "source": [
    "In the previous lecture, we have saw that the \"content-type\" is application/json; charset=utf-8. We will try to understand JSON file format.\n",
    "\n",
    "JSON file format is commonly used for data interchange using AI calls.\n",
    "\n",
    "JSON - JavaScript Object Notation.\n",
    "\n",
    "It can be edited with atext editor. It has 2 parts - Key, Value.\n",
    "\n",
    "JSON viewer (extension) - Prettify the JSON content in Chrome"
   ]
  },
  {
   "cell_type": "markdown",
   "id": "8417f844",
   "metadata": {},
   "source": [
    "We will be seeing how to convert JSON datatype to different Python datatypes, as it is easy to deal with them.\n",
    "\n",
    "We will use the function \"json.loads()\" which will convert JSON data to Python."
   ]
  },
  {
   "cell_type": "code",
   "execution_count": 17,
   "id": "646ed881",
   "metadata": {},
   "outputs": [
    {
     "name": "stdout",
     "output_type": "stream",
     "text": [
      "{'Student': 'Mohit'}\n",
      "<class 'dict'>\n"
     ]
    }
   ],
   "source": [
    "## String \n",
    "\n",
    "import json\n",
    "\n",
    "json_data = '{\"Student\" : \"Mohit\"}' # dummy json data (it is of type string)\n",
    "python_data = json.loads(json_data) # save python data in this variable\n",
    "print(python_data)\n",
    "print(type(python_data))"
   ]
  },
  {
   "cell_type": "markdown",
   "id": "5ac026b9",
   "metadata": {},
   "source": [
    "Ideally, JSON object is converted to a Python Dictionary.  "
   ]
  },
  {
   "cell_type": "code",
   "execution_count": 18,
   "id": "fce3e0dc",
   "metadata": {},
   "outputs": [
    {
     "name": "stdout",
     "output_type": "stream",
     "text": [
      "Mohit\n",
      "<class 'str'>\n"
     ]
    }
   ],
   "source": [
    "print(python_data['Student'])\n",
    "print(type(python_data['Student']))"
   ]
  },
  {
   "cell_type": "markdown",
   "id": "ecae61b5",
   "metadata": {},
   "source": [
    "Accessing data from \"python_data\" by using the concept of Python Dictionary (dct[key] = value)."
   ]
  },
  {
   "cell_type": "markdown",
   "id": "a8c21374",
   "metadata": {},
   "source": [
    "Similarly,"
   ]
  },
  {
   "cell_type": "code",
   "execution_count": 19,
   "id": "b72ce0a9",
   "metadata": {},
   "outputs": [
    {
     "name": "stdout",
     "output_type": "stream",
     "text": [
      "{'Roll_Number': 101}\n",
      "<class 'dict'>\n"
     ]
    }
   ],
   "source": [
    "## Integer\n",
    "\n",
    "json_data = '{\"Roll_Number\" : 101}'\n",
    "python_data = json.loads(json_data)\n",
    "print(python_data)\n",
    "print(type(python_data))"
   ]
  },
  {
   "cell_type": "code",
   "execution_count": 20,
   "id": "45ff597a",
   "metadata": {},
   "outputs": [
    {
     "name": "stdout",
     "output_type": "stream",
     "text": [
      "101\n",
      "<class 'int'>\n"
     ]
    }
   ],
   "source": [
    "print(python_data['Roll_Number'])\n",
    "print(type(python_data['Roll_Number']))"
   ]
  },
  {
   "cell_type": "markdown",
   "id": "a94d405a",
   "metadata": {},
   "source": [
    "Accessing data from \"python_data\" by using the concept of Python Dictionary (dct[key] = value)."
   ]
  },
  {
   "cell_type": "code",
   "execution_count": 21,
   "id": "4b1888f6",
   "metadata": {},
   "outputs": [
    {
     "name": "stdout",
     "output_type": "stream",
     "text": [
      "{'Marks': 89.2}\n",
      "<class 'dict'>\n"
     ]
    }
   ],
   "source": [
    "## Float\n",
    "\n",
    "json_data = '{\"Marks\" : 89.2}'\n",
    "python_data = json.loads(json_data)\n",
    "print(python_data)\n",
    "print(type(python_data))"
   ]
  },
  {
   "cell_type": "code",
   "execution_count": 22,
   "id": "f1065dd1",
   "metadata": {},
   "outputs": [
    {
     "name": "stdout",
     "output_type": "stream",
     "text": [
      "89.2\n",
      "<class 'float'>\n"
     ]
    }
   ],
   "source": [
    "print(python_data['Marks'])\n",
    "print(type(python_data['Marks']))"
   ]
  },
  {
   "cell_type": "markdown",
   "id": "4b2b7ac8",
   "metadata": {},
   "source": [
    "Accessing data from \"python_data\" by using the concept of Python Dictionary (dct[key] = value)."
   ]
  },
  {
   "cell_type": "code",
   "execution_count": 23,
   "id": "cde96a4c",
   "metadata": {},
   "outputs": [
    {
     "name": "stdout",
     "output_type": "stream",
     "text": [
      "{'Phone_Number': None}\n",
      "<class 'dict'>\n"
     ]
    }
   ],
   "source": [
    "# None\n",
    "\n",
    "json_data = '{\"Phone_Number\" : null}'\n",
    "python_data = json.loads(json_data)\n",
    "print(python_data)\n",
    "print(type(python_data))"
   ]
  },
  {
   "cell_type": "code",
   "execution_count": 24,
   "id": "e104c987",
   "metadata": {},
   "outputs": [
    {
     "name": "stdout",
     "output_type": "stream",
     "text": [
      "None\n",
      "<class 'NoneType'>\n"
     ]
    }
   ],
   "source": [
    "print(python_data['Phone_Number'])\n",
    "print(type(python_data['Phone_Number']))"
   ]
  },
  {
   "cell_type": "markdown",
   "id": "2754632a",
   "metadata": {},
   "source": [
    "Accessing data from \"python_data\" by using the concept of Python Dictionary (dct[key] = value)."
   ]
  },
  {
   "cell_type": "code",
   "execution_count": 26,
   "id": "f4eb35cc",
   "metadata": {},
   "outputs": [
    {
     "name": "stdout",
     "output_type": "stream",
     "text": [
      "{'Fruits': ['Apple', 'Guava', 'Mango', 'Orange']}\n",
      "<class 'dict'>\n"
     ]
    }
   ],
   "source": [
    "# List\n",
    "\n",
    "json_data = '{\"Fruits\" : [\"Apple\", \"Guava\", \"Mango\", \"Orange\"]}'\n",
    "python_data = json.loads(json_data)\n",
    "\n",
    "print(python_data)\n",
    "print(type(python_data))"
   ]
  },
  {
   "cell_type": "code",
   "execution_count": 27,
   "id": "a1dbb458",
   "metadata": {},
   "outputs": [
    {
     "name": "stdout",
     "output_type": "stream",
     "text": [
      "['Apple', 'Guava', 'Mango', 'Orange']\n",
      "<class 'list'>\n"
     ]
    }
   ],
   "source": [
    "print(python_data['Fruits'])\n",
    "print(type(python_data['Fruits']))"
   ]
  },
  {
   "cell_type": "markdown",
   "id": "af2b7b08",
   "metadata": {},
   "source": [
    "Accessing data from \"python_data\" by using the concept of Python Dictionary (dct[key] = value)."
   ]
  },
  {
   "cell_type": "code",
   "execution_count": 28,
   "id": "79e8f0eb",
   "metadata": {},
   "outputs": [
    {
     "name": "stdout",
     "output_type": "stream",
     "text": [
      "Apple\n",
      "Guava\n",
      "Mango\n",
      "Orange\n"
     ]
    }
   ],
   "source": [
    "for i in python_data['Fruits']:\n",
    "  print(i)"
   ]
  },
  {
   "cell_type": "markdown",
   "id": "dd614c46",
   "metadata": {},
   "source": [
    "Now we will look into a bit more complicated example : "
   ]
  },
  {
   "cell_type": "code",
   "execution_count": 25,
   "id": "24241264",
   "metadata": {},
   "outputs": [
    {
     "name": "stdout",
     "output_type": "stream",
     "text": [
      "Mohit\n",
      "101\n"
     ]
    }
   ],
   "source": [
    "json_data = '{\"Student\" : {\"Name\" : \"Mohit\", \"Roll_Number\" : 101}}'  # nested Dictionary \n",
    "python_data = json.loads(json_data)\n",
    "\n",
    "student_details = python_data['Student']  # it has 2 properties - Name, RollNumber\n",
    "\n",
    "print(student_details['Name'])\n",
    "print(student_details['Roll_Number'])"
   ]
  },
  {
   "cell_type": "markdown",
   "id": "08842b74",
   "metadata": {},
   "source": [
    "In the above example inside \"Student\", there are 2 properties - \"Name\", \"RollNumber\". We have extracted the same by converting JSON object to Python Dictionary."
   ]
  },
  {
   "cell_type": "markdown",
   "id": "443a3c9f",
   "metadata": {},
   "source": [
    "## Lecture - 3"
   ]
  },
  {
   "cell_type": "markdown",
   "id": "ea59d0bd",
   "metadata": {},
   "source": [
    "Here we will be exploring and analyzing the response from the API call that we had received in the previous lecture."
   ]
  },
  {
   "cell_type": "code",
   "execution_count": 31,
   "id": "9f41f4dd",
   "metadata": {},
   "outputs": [
    {
     "name": "stdout",
     "output_type": "stream",
     "text": [
      "200\n"
     ]
    }
   ],
   "source": [
    "# URL (Coding Ninjas API) :- https://codingninjas.in/api/v3/courses\n",
    "\n",
    "import requests\n",
    "response = requests.get('https://api.codingninjas.in/api/v3/courses')\n",
    "print(response.status_code)"
   ]
  },
  {
   "cell_type": "markdown",
   "id": "049e322d",
   "metadata": {},
   "source": [
    "We can see that our API call has been established successfully."
   ]
  },
  {
   "cell_type": "code",
   "execution_count": 32,
   "id": "3feb5285",
   "metadata": {},
   "outputs": [
    {
     "name": "stdout",
     "output_type": "stream",
     "text": [
      "{\"data\":{\"courses\":[{\"id\":41,\"title\":\"Premium Competitive Course\",\"online_title\":\"premium-competitive-course\",\"offline_title\":\"\",\"name\":\"Premium Competitive Programming Course\",\"level\":\"Foundation Courses\",\"brief_intro\":\"\",\"preview_image_url\":\"\",\"available_online\":true,\"available_offline\":false,\"is_career_track\":false,\"course_group_id\":7,\"classroom_icon_url\":\"https://files.codingninjas.in/0000000000003765.png\"},{\"id\":1,\"title\":\"C++ \\u0026 Data Structures\",\"online_title\":\"onlline-c-plus-plus-course\",\"offline_title\":\"classroom-c-plus-plus-course\",\"name\":\"C++ Foundation with Data Structures\",\"level\":\"Foundation Courses\",\"brief_intro\":\"Brief Intro\",\"preview_image_url\":\"https://files.codingninjas.in/0000000000001176.png\",\"available_online\":true,\"available_offline\":false,\"is_career_track\":false,\"course_group_id\":1,\"classroom_icon_url\":\"https://files.codingninjas.in/0000000000003771.png\"},{\"id\":103,\"title\":\"Aptitude for professionals\",\"online_title\":\"prof-aptitude-preparation\",\"offline_title\":\"\",\"name\":\"Aptitude for professionals\",\"level\":\"Foundation Courses\",\"brief_intro\":\"Develop your ability to explore the logic behind different problem-solving strategies \\u0026 learn time saving strategies to solve problems for Verbal, Logical Thinking and Data Interpretation\",\"preview_image_url\":\"\",\"available_online\":true,\"available_offline\":false,\"is_career_track\":false,\"course_group_id\":7,\"classroom_icon_url\":\"\"},{\"id\":43,\"title\":\"Premium Data Science Course\",\"online_title\":\"premium-data-science-course\",\"offline_title\":\"\",\"name\":\"Premium Data Science Course\",\"level\":\"Foundation Courses\",\"brief_intro\":\"\",\"preview_image_url\":\"\",\"available_online\":true,\"available_offline\":false,\"is_career_track\":false,\"course_group_id\":7,\"classroom_icon_url\":\"https://files.codingninjas.com/data-science-11645.png\"},{\"id\":45,\"title\":\"Premium Android Course\",\"online_title\":\"premium-android-app-development-course\",\"offline_title\":\"\",\"name\":\"Premium Android App Development\",\"level\":\"Foundation Courses\",\"brief_intro\":\"\",\"preview_image_url\":\"\",\"available_online\":true,\"available_offline\":false,\"is_career_track\":false,\"course_group_id\":7,\"classroom_icon_url\":\"https://files.codingninjas.in/0000000000003765.png\"},{\"id\":44,\"title\":\"Premium Machine Learning Course\",\"online_title\":\"premium-machine-learning-course\",\"offline_title\":\"\",\"name\":\"Premium Machine Learning Course\",\"level\":\"Foundation Courses\",\"brief_intro\":\"\",\"preview_image_url\":\"\",\"available_online\":true,\"available_offline\":false,\"is_career_track\":false,\"course_group_id\":7,\"classroom_icon_url\":\"https://files.codingninjas.in/0000000000003765.png\"},{\"id\":40,\"title\":\"Data structures and Algorithms [C++/Java/Python]\",\"online_title\":\"premium-foundation-course\",\"offline_title\":\"\",\"name\":\"Premium Data structures and Algorithms [C++/Java/Python]\",\"level\":\"Foundation Courses\",\"brief_intro\":\"\",\"preview_image_url\":\"\",\"available_online\":true,\"available_offline\":false,\"is_career_track\":false,\"course_group_id\":7,\"classroom_icon_url\":\"https://files.codingninjas.in/0000000000003765.png\"},{\"id\":73,\"title\":\"System Design Course\",\"online_title\":\"system-design-course\",\"offline_title\":\"\",\"name\":\"System Design Course\",\"level\":\"Foundation Courses\",\"brief_intro\":\"Brief Intro\",\"preview_image_url\":\"https://ninjasfiles.s3.amazonaws.com/0000000000001178.png\",\"available_online\":true,\"available_offline\":false,\"is_career_track\":false,\"course_group_id\":1,\"classroom_icon_url\":\"https://files.codingninjas.com/system-design-icon-11401.svg\"},{\"id\":16,\"title\":\"Competitive Programmer\",\"online_title\":\"online-competitive-programming-track\",\"offline_title\":\"\",\"name\":\"Ninja Competitive Programmer Track\",\"level\":\"Career Tracks\",\"brief_intro\":\"Competitive Track\",\"preview_image_url\":\"https://files.codingninjas.in/0000000000001177.png\",\"available_online\":true,\"available_offline\":false,\"is_career_track\":true,\"course_group_id\":3,\"classroom_icon_url\":\"https://files.codingninjas.com/competitive-programming-11703.svg\"},{\"id\":42,\"title\":\"Premium Web Dev Course\",\"online_title\":\"premium-full-stack-web-development-course\",\"offline_title\":\"\",\"name\":\"Premium Full Stack Web Development\",\"level\":\"Foundation Courses\",\"brief_intro\":\"\",\"preview_image_url\":\"\",\"available_online\":true,\"available_offline\":false,\"is_career_track\":false,\"course_group_id\":7,\"classroom_icon_url\":\"https://files.codingninjas.in/0000000000003765.png\"},{\"id\":6,\"title\":\"Machine Learning\",\"online_title\":\"online-machine-learning-course\",\"offline_title\":\"classroom-machine-learning-course\",\"name\":\"Machine Learning \\u0026 Deep Learning Course\",\"level\":\"Advanced Courses\",\"brief_intro\":\"Machine learning engineers build, implement, and maintain machine learning systems in technology products.\",\"preview_image_url\":\"https://ninjasfiles.s3.amazonaws.com/0000000000001181.png\",\"available_online\":true,\"available_offline\":false,\"is_career_track\":false,\"course_group_id\":2,\"classroom_icon_url\":\"https://files.codingninjas.in/0000000000003766.png\"},{\"id\":34,\"title\":\"Front End (React)\",\"online_title\":\"online-web-dev-with-react\",\"offline_title\":\"\",\"name\":\"Advanced  Front-End Web Development with React\",\"level\":\"Development Courses\",\"brief_intro\":\"Advanced  Front-End Web Development with React\",\"preview_image_url\":\"https://ninjasfiles.s3.amazonaws.com/0000000000001179.png\",\"available_online\":true,\"available_offline\":false,\"is_career_track\":false,\"course_group_id\":2,\"classroom_icon_url\":\"https://files.codingninjas.in/0000000000003769.png\"},{\"id\":2,\"title\":\"Java \\u0026 Data Structures\",\"online_title\":\"online-java-course\",\"offline_title\":\"classroom-java-course\",\"name\":\"JAVA Foundation with Data Structures\",\"level\":\"Foundation Courses\",\"brief_intro\":\"Brief Intro\",\"preview_image_url\":\"https://ninjasfiles.s3.amazonaws.com/0000000000001255.png\",\"available_online\":true,\"available_offline\":false,\"is_career_track\":false,\"course_group_id\":1,\"classroom_icon_url\":\"https://files.codingninjas.in/0000000000003772.png\"},{\"id\":35,\"title\":\"Android Developer\",\"online_title\":\"online-android-development-career-track\",\"offline_title\":\"\",\"name\":\"Ninja Android Developer Career Track \",\"level\":\"Career Tracks\",\"brief_intro\":\"beginner to pro Android Developer!\",\"preview_image_url\":\"https://ninjasfiles.s3.amazonaws.com/0000000000001175.png\",\"available_online\":true,\"available_offline\":false,\"is_career_track\":true,\"course_group_id\":3,\"classroom_icon_url\":\"https://files.codingninjas.in/0000000000003774.png\"},{\"id\":12,\"title\":\"Web Dev (Full Stack)\",\"online_title\":\"online-full-stack-node-js-web-dev-course\",\"offline_title\":\"\",\"name\":\"Full Stack Web Development\",\"level\":\"Development Courses\",\"brief_intro\":\"Web Development\",\"preview_image_url\":\"https://ninjasfiles.s3.amazonaws.com/0000000000001179.png\",\"available_online\":true,\"available_offline\":false,\"is_career_track\":false,\"course_group_id\":2,\"classroom_icon_url\":\"https://files.codingninjas.in/0000000000003764.png\"},{\"id\":4,\"title\":\"Interview Preparation\",\"online_title\":\"online-interview-preparation\",\"offline_title\":\"classroom-interview-preparation\",\"name\":\"Interview Preparation Course\",\"level\":\"Advanced Courses\",\"brief_intro\":\"Brief Intro\",\"preview_image_url\":\"https://ninjasfiles.s3.amazonaws.com/0000000000001178.png\",\"available_online\":true,\"available_offline\":false,\"is_career_track\":false,\"course_group_id\":1,\"classroom_icon_url\":\"https://files.codingninjas.in/0000000000003765.png\"},{\"id\":13,\"title\":\"Data Science\",\"online_title\":\"online-data-science-course\",\"offline_title\":\"\",\"name\":\"Data Science \\u0026 Machine Learning Complete\",\"level\":\"Advanced Courses\",\"brief_intro\":\"Brief Intro\",\"preview_image_url\":\"https://ninjasfiles.s3.amazonaws.com/0000000000001371.png\",\"available_online\":true,\"available_offline\":false,\"is_career_track\":false,\"course_group_id\":2,\"classroom_icon_url\":\"https://files.codingninjas.in/0000000000003763.png\"},{\"id\":66,\"title\":\"Grokking the Operating Systems Interview\",\"online_title\":\"operating-system\",\"offline_title\":\"\",\"name\":\"Grokking the Operating Systems Interview\",\"level\":\"Foundation Courses\",\"brief_intro\":\"Brief Intro\",\"preview_image_url\":\"https://ninjasfiles.s3.amazonaws.com/0000000000001178.png\",\"available_online\":true,\"available_offline\":false,\"is_career_track\":false,\"course_group_id\":1,\"classroom_icon_url\":\"https://files.codingninjas.in/ubuntu-brands-10404.png\"},{\"id\":36,\"title\":\"Python \\u0026 Web Dev (MERN)\",\"online_title\":\"ninja-web-developer-career-track-mern-stack\",\"offline_title\":\"\",\"name\":\"Ninja  Web Developer Career Track - NodeJS \\u0026 ReactJs\",\"level\":\"Career Tracks\",\"brief_intro\":\"Programming foundation + MERN Stack Web Development complete Career Track\",\"preview_image_url\":\"https://ninjasfiles.s3.amazonaws.com/0000000000001179.png\",\"available_online\":true,\"available_offline\":false,\"is_career_track\":true,\"course_group_id\":3,\"classroom_icon_url\":\"https://files.codingninjas.in/0000000000003777.png\"},{\"id\":17,\"title\":\"C++ \\u0026 Web Dev (Node.js)\",\"online_title\":\"web-developer-career-track\",\"offline_title\":\"\",\"name\":\"Ninja  Web Developer Career Track - NodeJS\",\"level\":\"Career Tracks\",\"brief_intro\":\"Programming foundation + Full Stack Web Development Career Track\",\"preview_image_url\":\"https://ninjasfiles.s3.amazonaws.com/0000000000001179.png\",\"available_online\":true,\"available_offline\":false,\"is_career_track\":true,\"course_group_id\":3,\"classroom_icon_url\":\"https://files.codingninjas.in/0000000000003777.png\"},{\"id\":10,\"title\":\"Competitive Programming\",\"online_title\":\"online-competitive-programming-course\",\"offline_title\":\"\",\"name\":\"Competitive Programming Course\",\"level\":\"Advanced Courses\",\"brief_intro\":\"Eminence\",\"preview_image_url\":\"https://ninjasfiles.s3.amazonaws.com/0000000000001177.png\",\"available_online\":true,\"available_offline\":false,\"is_career_track\":false,\"course_group_id\":1,\"classroom_icon_url\":\"https://files.codingninjas.in/0000000000003762.png\"},{\"id\":33,\"title\":\"Android (Kotlin)\",\"online_title\":\"online-android-Development-kotlin\",\"offline_title\":\"\",\"name\":\"Android Development with Kotlin\",\"level\":\"Development Courses\",\"brief_intro\":\"Android Development Kotlin\",\"preview_image_url\":\"https://ninjasfiles.s3.amazonaws.com/0000000000001175.png\",\"available_online\":true,\"available_offline\":false,\"is_career_track\":false,\"course_group_id\":2,\"classroom_icon_url\":\"https://files.codingninjas.in/0000000000003761.png\"},{\"id\":11,\"title\":\"Python \\u0026 Data Structures\",\"online_title\":\"online-python-course\",\"offline_title\":\"offline-python-course\",\"name\":\"Python Foundation with Data Structures\",\"level\":\"Foundation Courses\",\"brief_intro\":\"Python Foundation\",\"preview_image_url\":\"https://ninjasfiles.s3.amazonaws.com/0000000000001282.png\",\"available_online\":true,\"available_offline\":false,\"is_career_track\":false,\"course_group_id\":1,\"classroom_icon_url\":\"https://files.codingninjas.in/0000000000003773.png\"},{\"id\":18,\"title\":\"Data Scientist\",\"online_title\":\"data-Scientist-career-track\",\"offline_title\":\"\",\"name\":\"Ninja Data Scientist Career Track\",\"level\":\"Career Tracks\",\"brief_intro\":\"Programming foundation + Data Science with ML career track\",\"preview_image_url\":\"https://ninjasfiles.s3.amazonaws.com/0000000000001371.png\",\"available_online\":true,\"available_offline\":false,\"is_career_track\":true,\"course_group_id\":3,\"classroom_icon_url\":\"https://files.codingninjas.in/0000000000003778.png\"},{\"id\":19,\"title\":\"Machine Learning\",\"online_title\":\"machine-learning-engineer-career-track\",\"offline_title\":\"\",\"name\":\"Ninja Machine Learning Engineer Career Track\",\"level\":\"Career Tracks\",\"brief_intro\":\"Programming foundation + Machine Learning career track\",\"preview_image_url\":\"https://ninjasfiles.s3.amazonaws.com/0000000000001181.png\",\"available_online\":true,\"available_offline\":false,\"is_career_track\":true,\"course_group_id\":3,\"classroom_icon_url\":\"https://files.codingninjas.in/0000000000003776.png\"},{\"id\":21,\"title\":\"Aptitude Preparation\",\"online_title\":\"online-aptitude-preparation\",\"offline_title\":\"\",\"name\":\"Aptitude Preparation Course\",\"level\":\"Foundation Courses\",\"brief_intro\":\"Brief Intro\",\"preview_image_url\":\"https://ninjasfiles.s3.amazonaws.com/0000000000001178.png\",\"available_online\":true,\"available_offline\":false,\"is_career_track\":false,\"course_group_id\":1,\"classroom_icon_url\":\"https://files.codingninjas.in/0000000000003770.png\"}],\"course_groups\":[{\"id\":1,\"name\":\"Foundation, Algorithmic \\u0026 Advanced\",\"order\":1,\"course_ids\":[1,73,2,4,66,10,11,21],\"json_data\":{\"color\":\"#FFEBC2\",\"image_link\":\"https://ninjasfiles.s3.amazonaws.com/0000000000003821.png\",\"text_color\":\"#AC933C\",\"short_description\":\"Foundation courses are designed such that \\u003cstrong\\u003eno prerequisites are required.\\u003c/strong\\u003e Data Structures(DS) and Algorithms(algo.) parts build on the basics to give you a \\u003cstrong\\u003esolid programming foundation\\u003c/strong\\u003e. Competitive is where you start to \\u003cstrong\\u003epush the boundaries!\\u003c/strong\\u003e\",\"mobile_short_description\":\"Foundation courses are designed such that \\u003cspan\\u003eno prerequisites are required.\\u003c/span\\u003e\"},\"is_independent\":false},{\"id\":2,\"name\":\"Data \\u0026 Development\",\"order\":2,\"course_ids\":[6,34,12,13,33],\"json_data\":{\"color\":\"#80D4B1\",\"image_link\":\"https://files.codingninjas.in/0000000000003846.svg\",\"text_color\":\"#257D68\",\"short_description\":\"Data courses dwell in the state of the art algorithms and require good knowledge of programming fundamentals. Web development courses use modern JavaScript to build powerful and fast applications from the ground up. \\u003cstrong\\u003eNo prior development experience needed\\u003c/strong\\u003e\",\"mobile_short_description\":\"Data courses dwell in the state of the art algorithms and require good knowledge of programming fundamentals. Web development courses use modern JavaScript to build powerful and fast applications from the ground up. \\u003cspan\\u003eNo prior development experience needed\\u003c/span\\u003e\"},\"is_independent\":false},{\"id\":3,\"name\":\"Career Track\",\"order\":3,\"course_ids\":[16,35,36,17,18,19],\"json_data\":{\"color\":\"#C898FF\",\"image_link\":\"https://files.codingninjas.in/0000000000003845.svg\",\"text_color\":\"#603CAC\",\"short_description\":\"These are courses that take you from \\u003cstrong\\u003ezero to hero\\u003c/strong\\u003e. Each track is designed specifically to cater to a particular goal you can choose and \\u003cstrong\\u003ecovers everything you need to learn and assumes no prior knowledge.\\u003c/strong\\u003e\",\"mobile_short_description\":\"Each track is designed specifically to cater to a particular goal you can choose and \\u003cspan\\u003ecovers everything you need to learn and assumes no prior knowledge.\\u003c/span\\u003e\"},\"is_independent\":true},{\"id\":7,\"name\":\"Premium Course\",\"order\":null,\"course_ids\":[41,103,43,45,44,40,42],\"json_data\":null,\"is_independent\":true}]},\"message\":\"Courses\",\"status\":200,\"error\":null,\"disabled\":false,\"update\":false,\"external_rating\":null}\n"
     ]
    }
   ],
   "source": [
    "print(response.text)"
   ]
  },
  {
   "cell_type": "markdown",
   "id": "63466659",
   "metadata": {},
   "source": [
    "Here we can see that the content printed is not readable for us. We are not able to figure out the required content from the string (list of all the courses). \n",
    "\n",
    "We can convert this JSON object to python and iterate over the list and  dictionary and figure out the required result."
   ]
  },
  {
   "cell_type": "code",
   "execution_count": 46,
   "id": "ed1287f1",
   "metadata": {},
   "outputs": [],
   "source": [
    "import json\n",
    "python_data = json.loads(response.text)"
   ]
  },
  {
   "cell_type": "markdown",
   "id": "0975137a",
   "metadata": {},
   "source": [
    "Converted JSON object to Python Dictionary"
   ]
  },
  {
   "cell_type": "code",
   "execution_count": 47,
   "id": "04873cf4",
   "metadata": {},
   "outputs": [
    {
     "name": "stdout",
     "output_type": "stream",
     "text": [
      "{'data': {'courses': [{'id': 41, 'title': 'Premium Competitive Course', 'online_title': 'premium-competitive-course', 'offline_title': '', 'name': 'Premium Competitive Programming Course', 'level': 'Foundation Courses', 'brief_intro': '', 'preview_image_url': '', 'available_online': True, 'available_offline': False, 'is_career_track': False, 'course_group_id': 7, 'classroom_icon_url': 'https://files.codingninjas.in/0000000000003765.png'}, {'id': 1, 'title': 'C++ & Data Structures', 'online_title': 'onlline-c-plus-plus-course', 'offline_title': 'classroom-c-plus-plus-course', 'name': 'C++ Foundation with Data Structures', 'level': 'Foundation Courses', 'brief_intro': 'Brief Intro', 'preview_image_url': 'https://files.codingninjas.in/0000000000001176.png', 'available_online': True, 'available_offline': False, 'is_career_track': False, 'course_group_id': 1, 'classroom_icon_url': 'https://files.codingninjas.in/0000000000003771.png'}, {'id': 103, 'title': 'Aptitude for professionals', 'online_title': 'prof-aptitude-preparation', 'offline_title': '', 'name': 'Aptitude for professionals', 'level': 'Foundation Courses', 'brief_intro': 'Develop your ability to explore the logic behind different problem-solving strategies & learn time saving strategies to solve problems for Verbal, Logical Thinking and Data Interpretation', 'preview_image_url': '', 'available_online': True, 'available_offline': False, 'is_career_track': False, 'course_group_id': 7, 'classroom_icon_url': ''}, {'id': 43, 'title': 'Premium Data Science Course', 'online_title': 'premium-data-science-course', 'offline_title': '', 'name': 'Premium Data Science Course', 'level': 'Foundation Courses', 'brief_intro': '', 'preview_image_url': '', 'available_online': True, 'available_offline': False, 'is_career_track': False, 'course_group_id': 7, 'classroom_icon_url': 'https://files.codingninjas.com/data-science-11645.png'}, {'id': 45, 'title': 'Premium Android Course', 'online_title': 'premium-android-app-development-course', 'offline_title': '', 'name': 'Premium Android App Development', 'level': 'Foundation Courses', 'brief_intro': '', 'preview_image_url': '', 'available_online': True, 'available_offline': False, 'is_career_track': False, 'course_group_id': 7, 'classroom_icon_url': 'https://files.codingninjas.in/0000000000003765.png'}, {'id': 44, 'title': 'Premium Machine Learning Course', 'online_title': 'premium-machine-learning-course', 'offline_title': '', 'name': 'Premium Machine Learning Course', 'level': 'Foundation Courses', 'brief_intro': '', 'preview_image_url': '', 'available_online': True, 'available_offline': False, 'is_career_track': False, 'course_group_id': 7, 'classroom_icon_url': 'https://files.codingninjas.in/0000000000003765.png'}, {'id': 40, 'title': 'Data structures and Algorithms [C++/Java/Python]', 'online_title': 'premium-foundation-course', 'offline_title': '', 'name': 'Premium Data structures and Algorithms [C++/Java/Python]', 'level': 'Foundation Courses', 'brief_intro': '', 'preview_image_url': '', 'available_online': True, 'available_offline': False, 'is_career_track': False, 'course_group_id': 7, 'classroom_icon_url': 'https://files.codingninjas.in/0000000000003765.png'}, {'id': 73, 'title': 'System Design Course', 'online_title': 'system-design-course', 'offline_title': '', 'name': 'System Design Course', 'level': 'Foundation Courses', 'brief_intro': 'Brief Intro', 'preview_image_url': 'https://ninjasfiles.s3.amazonaws.com/0000000000001178.png', 'available_online': True, 'available_offline': False, 'is_career_track': False, 'course_group_id': 1, 'classroom_icon_url': 'https://files.codingninjas.com/system-design-icon-11401.svg'}, {'id': 16, 'title': 'Competitive Programmer', 'online_title': 'online-competitive-programming-track', 'offline_title': '', 'name': 'Ninja Competitive Programmer Track', 'level': 'Career Tracks', 'brief_intro': 'Competitive Track', 'preview_image_url': 'https://files.codingninjas.in/0000000000001177.png', 'available_online': True, 'available_offline': False, 'is_career_track': True, 'course_group_id': 3, 'classroom_icon_url': 'https://files.codingninjas.com/competitive-programming-11703.svg'}, {'id': 42, 'title': 'Premium Web Dev Course', 'online_title': 'premium-full-stack-web-development-course', 'offline_title': '', 'name': 'Premium Full Stack Web Development', 'level': 'Foundation Courses', 'brief_intro': '', 'preview_image_url': '', 'available_online': True, 'available_offline': False, 'is_career_track': False, 'course_group_id': 7, 'classroom_icon_url': 'https://files.codingninjas.in/0000000000003765.png'}, {'id': 6, 'title': 'Machine Learning', 'online_title': 'online-machine-learning-course', 'offline_title': 'classroom-machine-learning-course', 'name': 'Machine Learning & Deep Learning Course', 'level': 'Advanced Courses', 'brief_intro': 'Machine learning engineers build, implement, and maintain machine learning systems in technology products.', 'preview_image_url': 'https://ninjasfiles.s3.amazonaws.com/0000000000001181.png', 'available_online': True, 'available_offline': False, 'is_career_track': False, 'course_group_id': 2, 'classroom_icon_url': 'https://files.codingninjas.in/0000000000003766.png'}, {'id': 34, 'title': 'Front End (React)', 'online_title': 'online-web-dev-with-react', 'offline_title': '', 'name': 'Advanced  Front-End Web Development with React', 'level': 'Development Courses', 'brief_intro': 'Advanced  Front-End Web Development with React', 'preview_image_url': 'https://ninjasfiles.s3.amazonaws.com/0000000000001179.png', 'available_online': True, 'available_offline': False, 'is_career_track': False, 'course_group_id': 2, 'classroom_icon_url': 'https://files.codingninjas.in/0000000000003769.png'}, {'id': 2, 'title': 'Java & Data Structures', 'online_title': 'online-java-course', 'offline_title': 'classroom-java-course', 'name': 'JAVA Foundation with Data Structures', 'level': 'Foundation Courses', 'brief_intro': 'Brief Intro', 'preview_image_url': 'https://ninjasfiles.s3.amazonaws.com/0000000000001255.png', 'available_online': True, 'available_offline': False, 'is_career_track': False, 'course_group_id': 1, 'classroom_icon_url': 'https://files.codingninjas.in/0000000000003772.png'}, {'id': 35, 'title': 'Android Developer', 'online_title': 'online-android-development-career-track', 'offline_title': '', 'name': 'Ninja Android Developer Career Track ', 'level': 'Career Tracks', 'brief_intro': 'beginner to pro Android Developer!', 'preview_image_url': 'https://ninjasfiles.s3.amazonaws.com/0000000000001175.png', 'available_online': True, 'available_offline': False, 'is_career_track': True, 'course_group_id': 3, 'classroom_icon_url': 'https://files.codingninjas.in/0000000000003774.png'}, {'id': 12, 'title': 'Web Dev (Full Stack)', 'online_title': 'online-full-stack-node-js-web-dev-course', 'offline_title': '', 'name': 'Full Stack Web Development', 'level': 'Development Courses', 'brief_intro': 'Web Development', 'preview_image_url': 'https://ninjasfiles.s3.amazonaws.com/0000000000001179.png', 'available_online': True, 'available_offline': False, 'is_career_track': False, 'course_group_id': 2, 'classroom_icon_url': 'https://files.codingninjas.in/0000000000003764.png'}, {'id': 4, 'title': 'Interview Preparation', 'online_title': 'online-interview-preparation', 'offline_title': 'classroom-interview-preparation', 'name': 'Interview Preparation Course', 'level': 'Advanced Courses', 'brief_intro': 'Brief Intro', 'preview_image_url': 'https://ninjasfiles.s3.amazonaws.com/0000000000001178.png', 'available_online': True, 'available_offline': False, 'is_career_track': False, 'course_group_id': 1, 'classroom_icon_url': 'https://files.codingninjas.in/0000000000003765.png'}, {'id': 13, 'title': 'Data Science', 'online_title': 'online-data-science-course', 'offline_title': '', 'name': 'Data Science & Machine Learning Complete', 'level': 'Advanced Courses', 'brief_intro': 'Brief Intro', 'preview_image_url': 'https://ninjasfiles.s3.amazonaws.com/0000000000001371.png', 'available_online': True, 'available_offline': False, 'is_career_track': False, 'course_group_id': 2, 'classroom_icon_url': 'https://files.codingninjas.in/0000000000003763.png'}, {'id': 66, 'title': 'Grokking the Operating Systems Interview', 'online_title': 'operating-system', 'offline_title': '', 'name': 'Grokking the Operating Systems Interview', 'level': 'Foundation Courses', 'brief_intro': 'Brief Intro', 'preview_image_url': 'https://ninjasfiles.s3.amazonaws.com/0000000000001178.png', 'available_online': True, 'available_offline': False, 'is_career_track': False, 'course_group_id': 1, 'classroom_icon_url': 'https://files.codingninjas.in/ubuntu-brands-10404.png'}, {'id': 36, 'title': 'Python & Web Dev (MERN)', 'online_title': 'ninja-web-developer-career-track-mern-stack', 'offline_title': '', 'name': 'Ninja  Web Developer Career Track - NodeJS & ReactJs', 'level': 'Career Tracks', 'brief_intro': 'Programming foundation + MERN Stack Web Development complete Career Track', 'preview_image_url': 'https://ninjasfiles.s3.amazonaws.com/0000000000001179.png', 'available_online': True, 'available_offline': False, 'is_career_track': True, 'course_group_id': 3, 'classroom_icon_url': 'https://files.codingninjas.in/0000000000003777.png'}, {'id': 17, 'title': 'C++ & Web Dev (Node.js)', 'online_title': 'web-developer-career-track', 'offline_title': '', 'name': 'Ninja  Web Developer Career Track - NodeJS', 'level': 'Career Tracks', 'brief_intro': 'Programming foundation + Full Stack Web Development Career Track', 'preview_image_url': 'https://ninjasfiles.s3.amazonaws.com/0000000000001179.png', 'available_online': True, 'available_offline': False, 'is_career_track': True, 'course_group_id': 3, 'classroom_icon_url': 'https://files.codingninjas.in/0000000000003777.png'}, {'id': 10, 'title': 'Competitive Programming', 'online_title': 'online-competitive-programming-course', 'offline_title': '', 'name': 'Competitive Programming Course', 'level': 'Advanced Courses', 'brief_intro': 'Eminence', 'preview_image_url': 'https://ninjasfiles.s3.amazonaws.com/0000000000001177.png', 'available_online': True, 'available_offline': False, 'is_career_track': False, 'course_group_id': 1, 'classroom_icon_url': 'https://files.codingninjas.in/0000000000003762.png'}, {'id': 33, 'title': 'Android (Kotlin)', 'online_title': 'online-android-Development-kotlin', 'offline_title': '', 'name': 'Android Development with Kotlin', 'level': 'Development Courses', 'brief_intro': 'Android Development Kotlin', 'preview_image_url': 'https://ninjasfiles.s3.amazonaws.com/0000000000001175.png', 'available_online': True, 'available_offline': False, 'is_career_track': False, 'course_group_id': 2, 'classroom_icon_url': 'https://files.codingninjas.in/0000000000003761.png'}, {'id': 11, 'title': 'Python & Data Structures', 'online_title': 'online-python-course', 'offline_title': 'offline-python-course', 'name': 'Python Foundation with Data Structures', 'level': 'Foundation Courses', 'brief_intro': 'Python Foundation', 'preview_image_url': 'https://ninjasfiles.s3.amazonaws.com/0000000000001282.png', 'available_online': True, 'available_offline': False, 'is_career_track': False, 'course_group_id': 1, 'classroom_icon_url': 'https://files.codingninjas.in/0000000000003773.png'}, {'id': 18, 'title': 'Data Scientist', 'online_title': 'data-Scientist-career-track', 'offline_title': '', 'name': 'Ninja Data Scientist Career Track', 'level': 'Career Tracks', 'brief_intro': 'Programming foundation + Data Science with ML career track', 'preview_image_url': 'https://ninjasfiles.s3.amazonaws.com/0000000000001371.png', 'available_online': True, 'available_offline': False, 'is_career_track': True, 'course_group_id': 3, 'classroom_icon_url': 'https://files.codingninjas.in/0000000000003778.png'}, {'id': 19, 'title': 'Machine Learning', 'online_title': 'machine-learning-engineer-career-track', 'offline_title': '', 'name': 'Ninja Machine Learning Engineer Career Track', 'level': 'Career Tracks', 'brief_intro': 'Programming foundation + Machine Learning career track', 'preview_image_url': 'https://ninjasfiles.s3.amazonaws.com/0000000000001181.png', 'available_online': True, 'available_offline': False, 'is_career_track': True, 'course_group_id': 3, 'classroom_icon_url': 'https://files.codingninjas.in/0000000000003776.png'}, {'id': 21, 'title': 'Aptitude Preparation', 'online_title': 'online-aptitude-preparation', 'offline_title': '', 'name': 'Aptitude Preparation Course', 'level': 'Foundation Courses', 'brief_intro': 'Brief Intro', 'preview_image_url': 'https://ninjasfiles.s3.amazonaws.com/0000000000001178.png', 'available_online': True, 'available_offline': False, 'is_career_track': False, 'course_group_id': 1, 'classroom_icon_url': 'https://files.codingninjas.in/0000000000003770.png'}], 'course_groups': [{'id': 1, 'name': 'Foundation, Algorithmic & Advanced', 'order': 1, 'course_ids': [1, 73, 2, 4, 66, 10, 11, 21], 'json_data': {'color': '#FFEBC2', 'image_link': 'https://ninjasfiles.s3.amazonaws.com/0000000000003821.png', 'text_color': '#AC933C', 'short_description': 'Foundation courses are designed such that\\xa0<strong>no prerequisites are required.</strong>\\xa0Data Structures(DS) and Algorithms(algo.) parts build on the basics to give you a\\xa0<strong>solid programming foundation</strong>.\\xa0Competitive is where you start to\\xa0<strong>push the boundaries!</strong>', 'mobile_short_description': 'Foundation courses are designed such that\\xa0<span>no prerequisites are required.</span>'}, 'is_independent': False}, {'id': 2, 'name': 'Data & Development', 'order': 2, 'course_ids': [6, 34, 12, 13, 33], 'json_data': {'color': '#80D4B1', 'image_link': 'https://files.codingninjas.in/0000000000003846.svg', 'text_color': '#257D68', 'short_description': 'Data courses dwell in the state of the art algorithms and require good knowledge of programming fundamentals. Web development courses use modern JavaScript to build powerful and fast applications from the ground up.\\xa0<strong>No prior development experience needed</strong>', 'mobile_short_description': 'Data courses dwell in the state of the art algorithms and require good knowledge of programming fundamentals. Web development courses use modern JavaScript to build powerful and fast applications from the ground up.\\xa0<span>No prior development experience needed</span>'}, 'is_independent': False}, {'id': 3, 'name': 'Career Track', 'order': 3, 'course_ids': [16, 35, 36, 17, 18, 19], 'json_data': {'color': '#C898FF', 'image_link': 'https://files.codingninjas.in/0000000000003845.svg', 'text_color': '#603CAC', 'short_description': 'These are courses that take you from\\xa0<strong>zero to hero</strong>. Each track is designed specifically to cater to a particular goal you can choose and\\xa0<strong>covers everything you need to learn and assumes no prior knowledge.</strong>', 'mobile_short_description': 'Each track is designed specifically to cater to a particular goal you can choose and\\xa0<span>covers everything you need to learn and assumes no prior knowledge.</span>'}, 'is_independent': True}, {'id': 7, 'name': 'Premium Course', 'order': None, 'course_ids': [41, 103, 43, 45, 44, 40, 42], 'json_data': None, 'is_independent': True}]}, 'message': 'Courses', 'status': 200, 'error': None, 'disabled': False, 'update': False, 'external_rating': None}\n",
      "<class 'dict'>\n"
     ]
    }
   ],
   "source": [
    "print(python_data)\n",
    "print(type(python_data))"
   ]
  },
  {
   "cell_type": "markdown",
   "id": "d2dec348",
   "metadata": {},
   "source": [
    "We carefully observe the JSON object and see that the list is inside \"key - courses\" which is further inside \"key - data\".\n",
    "\n",
    "To access the JSON object click on the link generated by \"response.url\""
   ]
  },
  {
   "cell_type": "code",
   "execution_count": 48,
   "id": "a6006c4f",
   "metadata": {},
   "outputs": [
    {
     "name": "stdout",
     "output_type": "stream",
     "text": [
      "[{'id': 41, 'title': 'Premium Competitive Course', 'online_title': 'premium-competitive-course', 'offline_title': '', 'name': 'Premium Competitive Programming Course', 'level': 'Foundation Courses', 'brief_intro': '', 'preview_image_url': '', 'available_online': True, 'available_offline': False, 'is_career_track': False, 'course_group_id': 7, 'classroom_icon_url': 'https://files.codingninjas.in/0000000000003765.png'}, {'id': 1, 'title': 'C++ & Data Structures', 'online_title': 'onlline-c-plus-plus-course', 'offline_title': 'classroom-c-plus-plus-course', 'name': 'C++ Foundation with Data Structures', 'level': 'Foundation Courses', 'brief_intro': 'Brief Intro', 'preview_image_url': 'https://files.codingninjas.in/0000000000001176.png', 'available_online': True, 'available_offline': False, 'is_career_track': False, 'course_group_id': 1, 'classroom_icon_url': 'https://files.codingninjas.in/0000000000003771.png'}, {'id': 103, 'title': 'Aptitude for professionals', 'online_title': 'prof-aptitude-preparation', 'offline_title': '', 'name': 'Aptitude for professionals', 'level': 'Foundation Courses', 'brief_intro': 'Develop your ability to explore the logic behind different problem-solving strategies & learn time saving strategies to solve problems for Verbal, Logical Thinking and Data Interpretation', 'preview_image_url': '', 'available_online': True, 'available_offline': False, 'is_career_track': False, 'course_group_id': 7, 'classroom_icon_url': ''}, {'id': 43, 'title': 'Premium Data Science Course', 'online_title': 'premium-data-science-course', 'offline_title': '', 'name': 'Premium Data Science Course', 'level': 'Foundation Courses', 'brief_intro': '', 'preview_image_url': '', 'available_online': True, 'available_offline': False, 'is_career_track': False, 'course_group_id': 7, 'classroom_icon_url': 'https://files.codingninjas.com/data-science-11645.png'}, {'id': 45, 'title': 'Premium Android Course', 'online_title': 'premium-android-app-development-course', 'offline_title': '', 'name': 'Premium Android App Development', 'level': 'Foundation Courses', 'brief_intro': '', 'preview_image_url': '', 'available_online': True, 'available_offline': False, 'is_career_track': False, 'course_group_id': 7, 'classroom_icon_url': 'https://files.codingninjas.in/0000000000003765.png'}, {'id': 44, 'title': 'Premium Machine Learning Course', 'online_title': 'premium-machine-learning-course', 'offline_title': '', 'name': 'Premium Machine Learning Course', 'level': 'Foundation Courses', 'brief_intro': '', 'preview_image_url': '', 'available_online': True, 'available_offline': False, 'is_career_track': False, 'course_group_id': 7, 'classroom_icon_url': 'https://files.codingninjas.in/0000000000003765.png'}, {'id': 40, 'title': 'Data structures and Algorithms [C++/Java/Python]', 'online_title': 'premium-foundation-course', 'offline_title': '', 'name': 'Premium Data structures and Algorithms [C++/Java/Python]', 'level': 'Foundation Courses', 'brief_intro': '', 'preview_image_url': '', 'available_online': True, 'available_offline': False, 'is_career_track': False, 'course_group_id': 7, 'classroom_icon_url': 'https://files.codingninjas.in/0000000000003765.png'}, {'id': 73, 'title': 'System Design Course', 'online_title': 'system-design-course', 'offline_title': '', 'name': 'System Design Course', 'level': 'Foundation Courses', 'brief_intro': 'Brief Intro', 'preview_image_url': 'https://ninjasfiles.s3.amazonaws.com/0000000000001178.png', 'available_online': True, 'available_offline': False, 'is_career_track': False, 'course_group_id': 1, 'classroom_icon_url': 'https://files.codingninjas.com/system-design-icon-11401.svg'}, {'id': 16, 'title': 'Competitive Programmer', 'online_title': 'online-competitive-programming-track', 'offline_title': '', 'name': 'Ninja Competitive Programmer Track', 'level': 'Career Tracks', 'brief_intro': 'Competitive Track', 'preview_image_url': 'https://files.codingninjas.in/0000000000001177.png', 'available_online': True, 'available_offline': False, 'is_career_track': True, 'course_group_id': 3, 'classroom_icon_url': 'https://files.codingninjas.com/competitive-programming-11703.svg'}, {'id': 42, 'title': 'Premium Web Dev Course', 'online_title': 'premium-full-stack-web-development-course', 'offline_title': '', 'name': 'Premium Full Stack Web Development', 'level': 'Foundation Courses', 'brief_intro': '', 'preview_image_url': '', 'available_online': True, 'available_offline': False, 'is_career_track': False, 'course_group_id': 7, 'classroom_icon_url': 'https://files.codingninjas.in/0000000000003765.png'}, {'id': 6, 'title': 'Machine Learning', 'online_title': 'online-machine-learning-course', 'offline_title': 'classroom-machine-learning-course', 'name': 'Machine Learning & Deep Learning Course', 'level': 'Advanced Courses', 'brief_intro': 'Machine learning engineers build, implement, and maintain machine learning systems in technology products.', 'preview_image_url': 'https://ninjasfiles.s3.amazonaws.com/0000000000001181.png', 'available_online': True, 'available_offline': False, 'is_career_track': False, 'course_group_id': 2, 'classroom_icon_url': 'https://files.codingninjas.in/0000000000003766.png'}, {'id': 34, 'title': 'Front End (React)', 'online_title': 'online-web-dev-with-react', 'offline_title': '', 'name': 'Advanced  Front-End Web Development with React', 'level': 'Development Courses', 'brief_intro': 'Advanced  Front-End Web Development with React', 'preview_image_url': 'https://ninjasfiles.s3.amazonaws.com/0000000000001179.png', 'available_online': True, 'available_offline': False, 'is_career_track': False, 'course_group_id': 2, 'classroom_icon_url': 'https://files.codingninjas.in/0000000000003769.png'}, {'id': 2, 'title': 'Java & Data Structures', 'online_title': 'online-java-course', 'offline_title': 'classroom-java-course', 'name': 'JAVA Foundation with Data Structures', 'level': 'Foundation Courses', 'brief_intro': 'Brief Intro', 'preview_image_url': 'https://ninjasfiles.s3.amazonaws.com/0000000000001255.png', 'available_online': True, 'available_offline': False, 'is_career_track': False, 'course_group_id': 1, 'classroom_icon_url': 'https://files.codingninjas.in/0000000000003772.png'}, {'id': 35, 'title': 'Android Developer', 'online_title': 'online-android-development-career-track', 'offline_title': '', 'name': 'Ninja Android Developer Career Track ', 'level': 'Career Tracks', 'brief_intro': 'beginner to pro Android Developer!', 'preview_image_url': 'https://ninjasfiles.s3.amazonaws.com/0000000000001175.png', 'available_online': True, 'available_offline': False, 'is_career_track': True, 'course_group_id': 3, 'classroom_icon_url': 'https://files.codingninjas.in/0000000000003774.png'}, {'id': 12, 'title': 'Web Dev (Full Stack)', 'online_title': 'online-full-stack-node-js-web-dev-course', 'offline_title': '', 'name': 'Full Stack Web Development', 'level': 'Development Courses', 'brief_intro': 'Web Development', 'preview_image_url': 'https://ninjasfiles.s3.amazonaws.com/0000000000001179.png', 'available_online': True, 'available_offline': False, 'is_career_track': False, 'course_group_id': 2, 'classroom_icon_url': 'https://files.codingninjas.in/0000000000003764.png'}, {'id': 4, 'title': 'Interview Preparation', 'online_title': 'online-interview-preparation', 'offline_title': 'classroom-interview-preparation', 'name': 'Interview Preparation Course', 'level': 'Advanced Courses', 'brief_intro': 'Brief Intro', 'preview_image_url': 'https://ninjasfiles.s3.amazonaws.com/0000000000001178.png', 'available_online': True, 'available_offline': False, 'is_career_track': False, 'course_group_id': 1, 'classroom_icon_url': 'https://files.codingninjas.in/0000000000003765.png'}, {'id': 13, 'title': 'Data Science', 'online_title': 'online-data-science-course', 'offline_title': '', 'name': 'Data Science & Machine Learning Complete', 'level': 'Advanced Courses', 'brief_intro': 'Brief Intro', 'preview_image_url': 'https://ninjasfiles.s3.amazonaws.com/0000000000001371.png', 'available_online': True, 'available_offline': False, 'is_career_track': False, 'course_group_id': 2, 'classroom_icon_url': 'https://files.codingninjas.in/0000000000003763.png'}, {'id': 66, 'title': 'Grokking the Operating Systems Interview', 'online_title': 'operating-system', 'offline_title': '', 'name': 'Grokking the Operating Systems Interview', 'level': 'Foundation Courses', 'brief_intro': 'Brief Intro', 'preview_image_url': 'https://ninjasfiles.s3.amazonaws.com/0000000000001178.png', 'available_online': True, 'available_offline': False, 'is_career_track': False, 'course_group_id': 1, 'classroom_icon_url': 'https://files.codingninjas.in/ubuntu-brands-10404.png'}, {'id': 36, 'title': 'Python & Web Dev (MERN)', 'online_title': 'ninja-web-developer-career-track-mern-stack', 'offline_title': '', 'name': 'Ninja  Web Developer Career Track - NodeJS & ReactJs', 'level': 'Career Tracks', 'brief_intro': 'Programming foundation + MERN Stack Web Development complete Career Track', 'preview_image_url': 'https://ninjasfiles.s3.amazonaws.com/0000000000001179.png', 'available_online': True, 'available_offline': False, 'is_career_track': True, 'course_group_id': 3, 'classroom_icon_url': 'https://files.codingninjas.in/0000000000003777.png'}, {'id': 17, 'title': 'C++ & Web Dev (Node.js)', 'online_title': 'web-developer-career-track', 'offline_title': '', 'name': 'Ninja  Web Developer Career Track - NodeJS', 'level': 'Career Tracks', 'brief_intro': 'Programming foundation + Full Stack Web Development Career Track', 'preview_image_url': 'https://ninjasfiles.s3.amazonaws.com/0000000000001179.png', 'available_online': True, 'available_offline': False, 'is_career_track': True, 'course_group_id': 3, 'classroom_icon_url': 'https://files.codingninjas.in/0000000000003777.png'}, {'id': 10, 'title': 'Competitive Programming', 'online_title': 'online-competitive-programming-course', 'offline_title': '', 'name': 'Competitive Programming Course', 'level': 'Advanced Courses', 'brief_intro': 'Eminence', 'preview_image_url': 'https://ninjasfiles.s3.amazonaws.com/0000000000001177.png', 'available_online': True, 'available_offline': False, 'is_career_track': False, 'course_group_id': 1, 'classroom_icon_url': 'https://files.codingninjas.in/0000000000003762.png'}, {'id': 33, 'title': 'Android (Kotlin)', 'online_title': 'online-android-Development-kotlin', 'offline_title': '', 'name': 'Android Development with Kotlin', 'level': 'Development Courses', 'brief_intro': 'Android Development Kotlin', 'preview_image_url': 'https://ninjasfiles.s3.amazonaws.com/0000000000001175.png', 'available_online': True, 'available_offline': False, 'is_career_track': False, 'course_group_id': 2, 'classroom_icon_url': 'https://files.codingninjas.in/0000000000003761.png'}, {'id': 11, 'title': 'Python & Data Structures', 'online_title': 'online-python-course', 'offline_title': 'offline-python-course', 'name': 'Python Foundation with Data Structures', 'level': 'Foundation Courses', 'brief_intro': 'Python Foundation', 'preview_image_url': 'https://ninjasfiles.s3.amazonaws.com/0000000000001282.png', 'available_online': True, 'available_offline': False, 'is_career_track': False, 'course_group_id': 1, 'classroom_icon_url': 'https://files.codingninjas.in/0000000000003773.png'}, {'id': 18, 'title': 'Data Scientist', 'online_title': 'data-Scientist-career-track', 'offline_title': '', 'name': 'Ninja Data Scientist Career Track', 'level': 'Career Tracks', 'brief_intro': 'Programming foundation + Data Science with ML career track', 'preview_image_url': 'https://ninjasfiles.s3.amazonaws.com/0000000000001371.png', 'available_online': True, 'available_offline': False, 'is_career_track': True, 'course_group_id': 3, 'classroom_icon_url': 'https://files.codingninjas.in/0000000000003778.png'}, {'id': 19, 'title': 'Machine Learning', 'online_title': 'machine-learning-engineer-career-track', 'offline_title': '', 'name': 'Ninja Machine Learning Engineer Career Track', 'level': 'Career Tracks', 'brief_intro': 'Programming foundation + Machine Learning career track', 'preview_image_url': 'https://ninjasfiles.s3.amazonaws.com/0000000000001181.png', 'available_online': True, 'available_offline': False, 'is_career_track': True, 'course_group_id': 3, 'classroom_icon_url': 'https://files.codingninjas.in/0000000000003776.png'}, {'id': 21, 'title': 'Aptitude Preparation', 'online_title': 'online-aptitude-preparation', 'offline_title': '', 'name': 'Aptitude Preparation Course', 'level': 'Foundation Courses', 'brief_intro': 'Brief Intro', 'preview_image_url': 'https://ninjasfiles.s3.amazonaws.com/0000000000001178.png', 'available_online': True, 'available_offline': False, 'is_career_track': False, 'course_group_id': 1, 'classroom_icon_url': 'https://files.codingninjas.in/0000000000003770.png'}]\n"
     ]
    }
   ],
   "source": [
    "all_courses = python_data['data']['courses']\n",
    "print(all_courses)"
   ]
  },
  {
   "cell_type": "code",
   "execution_count": 49,
   "id": "d9b4f839",
   "metadata": {},
   "outputs": [
    {
     "name": "stdout",
     "output_type": "stream",
     "text": [
      "<class 'list'>\n"
     ]
    }
   ],
   "source": [
    "print(type(all_courses))"
   ]
  },
  {
   "cell_type": "markdown",
   "id": "2a491ffd",
   "metadata": {},
   "source": [
    "We can see that the datatype of the variable \"all_courses\" is a list. We can iterate over this list and print the \"title\" of each and every element of the list to get the course names."
   ]
  },
  {
   "cell_type": "code",
   "execution_count": 50,
   "id": "d3a4a5c2",
   "metadata": {},
   "outputs": [
    {
     "name": "stdout",
     "output_type": "stream",
     "text": [
      "Premium Competitive Course\n",
      "C++ & Data Structures\n",
      "Aptitude for professionals\n",
      "Premium Data Science Course\n",
      "Premium Android Course\n",
      "Premium Machine Learning Course\n",
      "Data structures and Algorithms [C++/Java/Python]\n",
      "System Design Course\n",
      "Competitive Programmer\n",
      "Premium Web Dev Course\n",
      "Machine Learning\n",
      "Front End (React)\n",
      "Java & Data Structures\n",
      "Android Developer\n",
      "Web Dev (Full Stack)\n",
      "Interview Preparation\n",
      "Data Science\n",
      "Grokking the Operating Systems Interview\n",
      "Python & Web Dev (MERN)\n",
      "C++ & Web Dev (Node.js)\n",
      "Competitive Programming\n",
      "Android (Kotlin)\n",
      "Python & Data Structures\n",
      "Data Scientist\n",
      "Machine Learning\n",
      "Aptitude Preparation\n"
     ]
    }
   ],
   "source": [
    "for index in all_courses:\n",
    "    print(index['title'])"
   ]
  },
  {
   "cell_type": "markdown",
   "id": "bb85782b",
   "metadata": {},
   "source": [
    "Let's try to access some different API : 'https://dog.ceo/api/breeds/list/all'. This API shows different dog pictures.\n",
    "\n",
    "We can get access to all the breeds of the dogs from the API link by reading the API documentation.\n",
    "\n",
    "Let's try to print the list of all the breeds that the API provides us with."
   ]
  },
  {
   "cell_type": "code",
   "execution_count": 51,
   "id": "a389a38b",
   "metadata": {},
   "outputs": [],
   "source": [
    "response = requests.get('https://dog.ceo/api/breeds/list/all')\n",
    "python_data = response.json()"
   ]
  },
  {
   "cell_type": "markdown",
   "id": "4257b462",
   "metadata": {},
   "source": [
    "The requests library has in inbuilt decoder - \"requests.json()\". We can use this instead of \"json.loads()\". We can write : \n",
    "\n",
    "#### python_data = response.json()\n",
    "\n"
   ]
  },
  {
   "cell_type": "markdown",
   "id": "6c36a2d7",
   "metadata": {},
   "source": [
    "\n",
    "This will give us the same result. Ths method will fail if the content is not of JSON type."
   ]
  },
  {
   "cell_type": "code",
   "execution_count": 52,
   "id": "543912a1",
   "metadata": {},
   "outputs": [
    {
     "name": "stdout",
     "output_type": "stream",
     "text": [
      "{'message': {'affenpinscher': [], 'african': [], 'airedale': [], 'akita': [], 'appenzeller': [], 'australian': ['shepherd'], 'basenji': [], 'beagle': [], 'bluetick': [], 'borzoi': [], 'bouvier': [], 'boxer': [], 'brabancon': [], 'briard': [], 'buhund': ['norwegian'], 'bulldog': ['boston', 'english', 'french'], 'bullterrier': ['staffordshire'], 'cattledog': ['australian'], 'chihuahua': [], 'chow': [], 'clumber': [], 'cockapoo': [], 'collie': ['border'], 'coonhound': [], 'corgi': ['cardigan'], 'cotondetulear': [], 'dachshund': [], 'dalmatian': [], 'dane': ['great'], 'deerhound': ['scottish'], 'dhole': [], 'dingo': [], 'doberman': [], 'elkhound': ['norwegian'], 'entlebucher': [], 'eskimo': [], 'finnish': ['lapphund'], 'frise': ['bichon'], 'germanshepherd': [], 'greyhound': ['italian'], 'groenendael': [], 'havanese': [], 'hound': ['afghan', 'basset', 'blood', 'english', 'ibizan', 'plott', 'walker'], 'husky': [], 'keeshond': [], 'kelpie': [], 'komondor': [], 'kuvasz': [], 'labradoodle': [], 'labrador': [], 'leonberg': [], 'lhasa': [], 'malamute': [], 'malinois': [], 'maltese': [], 'mastiff': ['bull', 'english', 'tibetan'], 'mexicanhairless': [], 'mix': [], 'mountain': ['bernese', 'swiss'], 'newfoundland': [], 'otterhound': [], 'ovcharka': ['caucasian'], 'papillon': [], 'pekinese': [], 'pembroke': [], 'pinscher': ['miniature'], 'pitbull': [], 'pointer': ['german', 'germanlonghair'], 'pomeranian': [], 'poodle': ['medium', 'miniature', 'standard', 'toy'], 'pug': [], 'puggle': [], 'pyrenees': [], 'redbone': [], 'retriever': ['chesapeake', 'curly', 'flatcoated', 'golden'], 'ridgeback': ['rhodesian'], 'rottweiler': [], 'saluki': [], 'samoyed': [], 'schipperke': [], 'schnauzer': ['giant', 'miniature'], 'segugio': ['italian'], 'setter': ['english', 'gordon', 'irish'], 'sharpei': [], 'sheepdog': ['english', 'shetland'], 'shiba': [], 'shihtzu': [], 'spaniel': ['blenheim', 'brittany', 'cocker', 'irish', 'japanese', 'sussex', 'welsh'], 'spitz': ['japanese'], 'springer': ['english'], 'stbernard': [], 'terrier': ['american', 'australian', 'bedlington', 'border', 'cairn', 'dandie', 'fox', 'irish', 'kerryblue', 'lakeland', 'norfolk', 'norwich', 'patterdale', 'russell', 'scottish', 'sealyham', 'silky', 'tibetan', 'toy', 'welsh', 'westhighland', 'wheaten', 'yorkshire'], 'tervuren': [], 'vizsla': [], 'waterdog': ['spanish'], 'weimaraner': [], 'whippet': [], 'wolfhound': ['irish']}, 'status': 'success'}\n",
      "<class 'dict'>\n"
     ]
    }
   ],
   "source": [
    "print(python_data)\n",
    "print(type(python_data))"
   ]
  },
  {
   "cell_type": "markdown",
   "id": "38b3114f",
   "metadata": {},
   "source": [
    "We can see the breeds and the sub - breeds of the dogs. We iterate over the python dictionary to print the list of breeds and the numer of sub - breeds."
   ]
  },
  {
   "cell_type": "code",
   "execution_count": 53,
   "id": "a6c50897",
   "metadata": {},
   "outputs": [
    {
     "name": "stdout",
     "output_type": "stream",
     "text": [
      "affenpinscher : 0\n",
      "african : 0\n",
      "airedale : 0\n",
      "akita : 0\n",
      "appenzeller : 0\n",
      "australian : 1\n",
      "basenji : 0\n",
      "beagle : 0\n",
      "bluetick : 0\n",
      "borzoi : 0\n",
      "bouvier : 0\n",
      "boxer : 0\n",
      "brabancon : 0\n",
      "briard : 0\n",
      "buhund : 1\n",
      "bulldog : 3\n",
      "bullterrier : 1\n",
      "cattledog : 1\n",
      "chihuahua : 0\n",
      "chow : 0\n",
      "clumber : 0\n",
      "cockapoo : 0\n",
      "collie : 1\n",
      "coonhound : 0\n",
      "corgi : 1\n",
      "cotondetulear : 0\n",
      "dachshund : 0\n",
      "dalmatian : 0\n",
      "dane : 1\n",
      "deerhound : 1\n",
      "dhole : 0\n",
      "dingo : 0\n",
      "doberman : 0\n",
      "elkhound : 1\n",
      "entlebucher : 0\n",
      "eskimo : 0\n",
      "finnish : 1\n",
      "frise : 1\n",
      "germanshepherd : 0\n",
      "greyhound : 1\n",
      "groenendael : 0\n",
      "havanese : 0\n",
      "hound : 7\n",
      "husky : 0\n",
      "keeshond : 0\n",
      "kelpie : 0\n",
      "komondor : 0\n",
      "kuvasz : 0\n",
      "labradoodle : 0\n",
      "labrador : 0\n",
      "leonberg : 0\n",
      "lhasa : 0\n",
      "malamute : 0\n",
      "malinois : 0\n",
      "maltese : 0\n",
      "mastiff : 3\n",
      "mexicanhairless : 0\n",
      "mix : 0\n",
      "mountain : 2\n",
      "newfoundland : 0\n",
      "otterhound : 0\n",
      "ovcharka : 1\n",
      "papillon : 0\n",
      "pekinese : 0\n",
      "pembroke : 0\n",
      "pinscher : 1\n",
      "pitbull : 0\n",
      "pointer : 2\n",
      "pomeranian : 0\n",
      "poodle : 4\n",
      "pug : 0\n",
      "puggle : 0\n",
      "pyrenees : 0\n",
      "redbone : 0\n",
      "retriever : 4\n",
      "ridgeback : 1\n",
      "rottweiler : 0\n",
      "saluki : 0\n",
      "samoyed : 0\n",
      "schipperke : 0\n",
      "schnauzer : 2\n",
      "segugio : 1\n",
      "setter : 3\n",
      "sharpei : 0\n",
      "sheepdog : 2\n",
      "shiba : 0\n",
      "shihtzu : 0\n",
      "spaniel : 7\n",
      "spitz : 1\n",
      "springer : 1\n",
      "stbernard : 0\n",
      "terrier : 23\n",
      "tervuren : 0\n",
      "vizsla : 0\n",
      "waterdog : 1\n",
      "weimaraner : 0\n",
      "whippet : 0\n",
      "wolfhound : 1\n"
     ]
    }
   ],
   "source": [
    "for key, val in python_data['message'].items():\n",
    "    print(key, \":\", len(val))"
   ]
  },
  {
   "cell_type": "markdown",
   "id": "c83bdc15",
   "metadata": {},
   "source": [
    "Here we will be printing the sub - breeds for the breed \"spaniel\", for example : "
   ]
  },
  {
   "cell_type": "code",
   "execution_count": 54,
   "id": "b9166833",
   "metadata": {},
   "outputs": [
    {
     "name": "stdout",
     "output_type": "stream",
     "text": [
      "blenheim\n",
      "brittany\n",
      "cocker\n",
      "irish\n",
      "japanese\n",
      "sussex\n",
      "welsh\n"
     ]
    }
   ],
   "source": [
    "for i in python_data['message']['spaniel']:\n",
    "    print(i)"
   ]
  },
  {
   "cell_type": "markdown",
   "id": "985c4060",
   "metadata": {},
   "source": [
    "## Lecture - 4 (Passing Parameters)"
   ]
  },
  {
   "cell_type": "markdown",
   "id": "8f5b41ac",
   "metadata": {},
   "source": [
    "Let's have a look into another API which provides the air quality data. \n",
    "\n",
    "APIs are designed in such a way where we need to make any get/post request on a specific url to get our things done. "
   ]
  },
  {
   "cell_type": "markdown",
   "id": "4af7f3a5",
   "metadata": {},
   "source": [
    "There are may endpoints associated with any particular url that we will be using according to our needs in order to get the required results. \n",
    "\n",
    "At times there is a need to send extra parameters with the url by making engage requests. For example :\n",
    "\n",
    "1) We want to sort our result on the basis of some specific parameter.\n",
    "\n",
    "2) The API that we want to call needs some authentication/authorisation information before allowing the access."
   ]
  },
  {
   "cell_type": "code",
   "execution_count": 56,
   "id": "660032b2",
   "metadata": {},
   "outputs": [
    {
     "name": "stdout",
     "output_type": "stream",
     "text": [
      "200\n"
     ]
    }
   ],
   "source": [
    "import requests\n",
    "import json\n",
    "\n",
    "response = requests.get('https://api.openaq.org/v1/cities')\n",
    "print(response.status_code)"
   ]
  },
  {
   "cell_type": "markdown",
   "id": "475b6444",
   "metadata": {},
   "source": [
    "We can see that our API call has been established successfully."
   ]
  },
  {
   "cell_type": "code",
   "execution_count": 57,
   "id": "b547f93f",
   "metadata": {},
   "outputs": [
    {
     "data": {
      "text/plain": [
       "{'meta': {'name': 'openaq-api',\n",
       "  'license': 'CC BY 4.0d',\n",
       "  'website': 'api.openaq.org',\n",
       "  'page': 1,\n",
       "  'limit': 100,\n",
       "  'found': 3275},\n",
       " 'results': [{'country': 'US',\n",
       "   'name': '007',\n",
       "   'city': '007',\n",
       "   'count': 55842,\n",
       "   'locations': 7},\n",
       "  {'country': 'US',\n",
       "   'name': '019',\n",
       "   'city': '019',\n",
       "   'count': 2112,\n",
       "   'locations': 1},\n",
       "  {'country': 'US',\n",
       "   'name': '037',\n",
       "   'city': '037',\n",
       "   'count': 48624,\n",
       "   'locations': 23},\n",
       "  {'country': 'US',\n",
       "   'name': '039',\n",
       "   'city': '039',\n",
       "   'count': 1140,\n",
       "   'locations': 1},\n",
       "  {'country': 'US',\n",
       "   'name': '047',\n",
       "   'city': '047',\n",
       "   'count': 47430,\n",
       "   'locations': 4},\n",
       "  {'country': 'US',\n",
       "   'name': '051',\n",
       "   'city': '051',\n",
       "   'count': 990,\n",
       "   'locations': 7},\n",
       "  {'country': 'US',\n",
       "   'name': '077',\n",
       "   'city': '077',\n",
       "   'count': 9982,\n",
       "   'locations': 1},\n",
       "  {'country': 'CH',\n",
       "   'name': 'Aargau',\n",
       "   'city': 'Aargau',\n",
       "   'count': 12162,\n",
       "   'locations': 1},\n",
       "  {'country': 'MX',\n",
       "   'name': 'Abasolo',\n",
       "   'city': 'Abasolo',\n",
       "   'count': 1095,\n",
       "   'locations': 1},\n",
       "  {'country': 'US',\n",
       "   'name': 'ABBEVILLE',\n",
       "   'city': 'ABBEVILLE',\n",
       "   'count': 4619,\n",
       "   'locations': 1},\n",
       "  {'country': 'US',\n",
       "   'name': 'Aberdeen',\n",
       "   'city': 'Aberdeen',\n",
       "   'count': 180934,\n",
       "   'locations': 2},\n",
       "  {'country': 'GB',\n",
       "   'name': 'Aberdeen',\n",
       "   'city': 'Aberdeen',\n",
       "   'count': 646208,\n",
       "   'locations': 3},\n",
       "  {'country': 'CI',\n",
       "   'name': 'Abidjan',\n",
       "   'city': 'Abidjan',\n",
       "   'count': 75201,\n",
       "   'locations': 1},\n",
       "  {'country': 'AE',\n",
       "   'name': 'Abu Al Abyad',\n",
       "   'city': 'Abu Al Abyad',\n",
       "   'count': 12939,\n",
       "   'locations': 1},\n",
       "  {'country': 'AE',\n",
       "   'name': 'Abu Dhabi',\n",
       "   'city': 'Abu Dhabi',\n",
       "   'count': 321016,\n",
       "   'locations': 10},\n",
       "  {'country': 'GH',\n",
       "   'name': 'Accra',\n",
       "   'city': 'Accra',\n",
       "   'count': 73576,\n",
       "   'locations': 12},\n",
       "  {'country': 'ES',\n",
       "   'name': 'A Coruña',\n",
       "   'city': 'A Coruña',\n",
       "   'count': 2284543,\n",
       "   'locations': 24},\n",
       "  {'country': 'US',\n",
       "   'name': 'ADA',\n",
       "   'city': 'ADA',\n",
       "   'count': 91960,\n",
       "   'locations': 1},\n",
       "  {'country': 'US',\n",
       "   'name': 'ADAIR',\n",
       "   'city': 'ADAIR',\n",
       "   'count': 512636,\n",
       "   'locations': 1},\n",
       "  {'country': 'US',\n",
       "   'name': 'ADAMS',\n",
       "   'city': 'ADAMS',\n",
       "   'count': 186946,\n",
       "   'locations': 2},\n",
       "  {'country': 'TR',\n",
       "   'name': 'Adana',\n",
       "   'city': 'Adana',\n",
       "   'count': 925354,\n",
       "   'locations': 10},\n",
       "  {'country': 'ET',\n",
       "   'name': 'Addis Ababa',\n",
       "   'city': 'Addis Ababa',\n",
       "   'count': 244970,\n",
       "   'locations': 2},\n",
       "  {'country': 'AU',\n",
       "   'name': 'Adelaide',\n",
       "   'city': 'Adelaide',\n",
       "   'count': 516319,\n",
       "   'locations': 8},\n",
       "  {'country': 'TR',\n",
       "   'name': 'Adıyaman',\n",
       "   'city': 'Adıyaman',\n",
       "   'count': 17361,\n",
       "   'locations': 1},\n",
       "  {'country': 'US',\n",
       "   'name': 'Adrian',\n",
       "   'city': 'Adrian',\n",
       "   'count': 201851,\n",
       "   'locations': 1},\n",
       "  {'country': 'GB',\n",
       "   'name': 'Adur',\n",
       "   'city': 'Adur',\n",
       "   'count': 29061,\n",
       "   'locations': 1},\n",
       "  {'country': 'MK',\n",
       "   'name': 'Aerodrom Municipality',\n",
       "   'city': 'Aerodrom Municipality',\n",
       "   'count': 554048,\n",
       "   'locations': 1},\n",
       "  {'country': 'TR',\n",
       "   'name': 'Afyonkarahisar',\n",
       "   'city': 'Afyonkarahisar',\n",
       "   'count': 97080,\n",
       "   'locations': 3},\n",
       "  {'country': 'IN',\n",
       "   'name': 'Agartala',\n",
       "   'city': 'Agartala',\n",
       "   'count': 212295,\n",
       "   'locations': 4},\n",
       "  {'country': 'IN',\n",
       "   'name': 'Agra',\n",
       "   'city': 'Agra',\n",
       "   'count': 1290629,\n",
       "   'locations': 10},\n",
       "  {'country': 'TR',\n",
       "   'name': 'Ağrı',\n",
       "   'city': 'Ağrı',\n",
       "   'count': 493452,\n",
       "   'locations': 5},\n",
       "  {'country': 'MX',\n",
       "   'name': 'Aguascalientes',\n",
       "   'city': 'Aguascalientes',\n",
       "   'count': 116724,\n",
       "   'locations': 3},\n",
       "  {'country': 'IN',\n",
       "   'name': 'Ahmedabad',\n",
       "   'city': 'Ahmedabad',\n",
       "   'count': 1516674,\n",
       "   'locations': 18},\n",
       "  {'country': 'FR',\n",
       "   'name': 'Ain',\n",
       "   'city': 'Ain',\n",
       "   'count': 657975,\n",
       "   'locations': 2},\n",
       "  {'country': 'FR',\n",
       "   'name': 'AIR BREIZH',\n",
       "   'city': 'AIR BREIZH',\n",
       "   'count': 158918,\n",
       "   'locations': 5},\n",
       "  {'country': 'FR',\n",
       "   'name': 'AIR NORMAND',\n",
       "   'city': 'AIR NORMAND',\n",
       "   'count': 364,\n",
       "   'locations': 2},\n",
       "  {'country': 'FR',\n",
       "   'name': 'AIR PACA',\n",
       "   'city': 'AIR PACA',\n",
       "   'count': 16494,\n",
       "   'locations': 5},\n",
       "  {'country': 'FR',\n",
       "   'name': 'AIRPARIF',\n",
       "   'city': 'AIRPARIF',\n",
       "   'count': 170398,\n",
       "   'locations': 3},\n",
       "  {'country': 'FR',\n",
       "   'name': 'AIR PAYS DE LA LOIRE',\n",
       "   'city': 'AIR PAYS DE LA LOIRE',\n",
       "   'count': 924,\n",
       "   'locations': 1},\n",
       "  {'country': 'FR',\n",
       "   'name': 'AIR RHONE ALPES',\n",
       "   'city': 'AIR RHONE ALPES',\n",
       "   'count': 71,\n",
       "   'locations': 4},\n",
       "  {'country': 'FR',\n",
       "   'name': 'Aisne',\n",
       "   'city': 'Aisne',\n",
       "   'count': 431738,\n",
       "   'locations': 3},\n",
       "  {'country': 'IN',\n",
       "   'name': 'Aizawl',\n",
       "   'city': 'Aizawl',\n",
       "   'count': 239586,\n",
       "   'locations': 2},\n",
       "  {'country': 'IN',\n",
       "   'name': 'Ajmer',\n",
       "   'city': 'Ajmer',\n",
       "   'count': 831131,\n",
       "   'locations': 4},\n",
       "  {'country': 'US',\n",
       "   'name': 'Akron',\n",
       "   'city': 'Akron',\n",
       "   'count': 555844,\n",
       "   'locations': 4},\n",
       "  {'country': 'TR',\n",
       "   'name': 'Aksaray',\n",
       "   'city': 'Aksaray',\n",
       "   'count': 49677,\n",
       "   'locations': 1},\n",
       "  {'country': 'IS',\n",
       "   'name': 'Akureyri',\n",
       "   'city': 'Akureyri',\n",
       "   'count': 121797,\n",
       "   'locations': 1},\n",
       "  {'country': 'AE',\n",
       "   'name': 'Al Ain',\n",
       "   'city': 'Al Ain',\n",
       "   'count': 81123,\n",
       "   'locations': 6},\n",
       "  {'country': 'US',\n",
       "   'name': 'ALAMEDA',\n",
       "   'city': 'ALAMEDA',\n",
       "   'count': 390669,\n",
       "   'locations': 1},\n",
       "  {'country': 'RO',\n",
       "   'name': 'Alba',\n",
       "   'city': 'Alba',\n",
       "   'count': 260843,\n",
       "   'locations': 3},\n",
       "  {'country': 'ES',\n",
       "   'name': 'Albacete',\n",
       "   'city': 'Albacete',\n",
       "   'count': 278586,\n",
       "   'locations': 1},\n",
       "  {'country': 'US',\n",
       "   'name': 'Albany',\n",
       "   'city': 'Albany',\n",
       "   'count': 96572,\n",
       "   'locations': 1},\n",
       "  {'country': 'US',\n",
       "   'name': 'Albany-Lebanon',\n",
       "   'city': 'Albany-Lebanon',\n",
       "   'count': 234441,\n",
       "   'locations': 2},\n",
       "  {'country': 'US',\n",
       "   'name': 'Albany-Schenectady-Troy',\n",
       "   'city': 'Albany-Schenectady-Troy',\n",
       "   'count': 294306,\n",
       "   'locations': 3},\n",
       "  {'country': 'CA',\n",
       "   'name': 'ALBERTA',\n",
       "   'city': 'ALBERTA',\n",
       "   'count': 5809740,\n",
       "   'locations': 42},\n",
       "  {'country': 'US',\n",
       "   'name': 'Albuquerque',\n",
       "   'city': 'Albuquerque',\n",
       "   'count': 2131157,\n",
       "   'locations': 7},\n",
       "  {'country': 'IT',\n",
       "   'name': 'Alessandria',\n",
       "   'city': 'Alessandria',\n",
       "   'count': 323008,\n",
       "   'locations': 3},\n",
       "  {'country': 'NO',\n",
       "   'name': 'Ålesund',\n",
       "   'city': 'Ålesund',\n",
       "   'count': 364916,\n",
       "   'locations': 3},\n",
       "  {'country': 'US',\n",
       "   'name': 'ALEXANDER',\n",
       "   'city': 'ALEXANDER',\n",
       "   'count': 124736,\n",
       "   'locations': 1},\n",
       "  {'country': 'IT',\n",
       "   'name': 'ALFONSINE',\n",
       "   'city': 'ALFONSINE',\n",
       "   'count': 105236,\n",
       "   'locations': 1},\n",
       "  {'country': 'ZA',\n",
       "   'name': 'Alfred Nzo',\n",
       "   'city': 'Alfred Nzo',\n",
       "   'count': 92154,\n",
       "   'locations': 87},\n",
       "  {'country': 'AU',\n",
       "   'name': 'Alfredton Fire',\n",
       "   'city': 'Alfredton Fire',\n",
       "   'count': 294,\n",
       "   'locations': 2},\n",
       "  {'country': 'ES',\n",
       "   'name': 'Alicante/Alacant',\n",
       "   'city': 'Alicante/Alacant',\n",
       "   'count': 2185077,\n",
       "   'locations': 10},\n",
       "  {'country': 'US',\n",
       "   'name': 'Allegan',\n",
       "   'city': 'Allegan',\n",
       "   'count': 133079,\n",
       "   'locations': 1},\n",
       "  {'country': 'US',\n",
       "   'name': 'ALLEGANY',\n",
       "   'city': 'ALLEGANY',\n",
       "   'count': 92984,\n",
       "   'locations': 2},\n",
       "  {'country': 'US',\n",
       "   'name': 'Allentown-Bethlehem-Easton',\n",
       "   'city': 'Allentown-Bethlehem-Easton',\n",
       "   'count': 462831,\n",
       "   'locations': 3},\n",
       "  {'country': 'FR',\n",
       "   'name': 'Allier',\n",
       "   'city': 'Allier',\n",
       "   'count': 424105,\n",
       "   'locations': 3},\n",
       "  {'country': 'ES',\n",
       "   'name': 'Almeria',\n",
       "   'city': 'Almeria',\n",
       "   'count': 3119958,\n",
       "   'locations': 1},\n",
       "  {'country': 'ES',\n",
       "   'name': 'Almería',\n",
       "   'city': 'Almería',\n",
       "   'count': 3060730,\n",
       "   'locations': 14},\n",
       "  {'country': 'MX',\n",
       "   'name': 'Almoloya de Juárez',\n",
       "   'city': 'Almoloya de Juárez',\n",
       "   'count': 25005,\n",
       "   'locations': 1},\n",
       "  {'country': 'FR',\n",
       "   'name': 'Alpes-de-Haute-Provence',\n",
       "   'city': 'Alpes-de-Haute-Provence',\n",
       "   'count': 607208,\n",
       "   'locations': 2},\n",
       "  {'country': 'FR',\n",
       "   'name': 'Alpes-Maritimes',\n",
       "   'city': 'Alpes-Maritimes',\n",
       "   'count': 1805245,\n",
       "   'locations': 10},\n",
       "  {'country': 'AE',\n",
       "   'name': 'Al Ruways Industrial City',\n",
       "   'city': 'Al Ruways Industrial City',\n",
       "   'count': 16137,\n",
       "   'locations': 1},\n",
       "  {'country': 'CL',\n",
       "   'name': 'Alto Hospicio',\n",
       "   'city': 'Alto Hospicio',\n",
       "   'count': 122200,\n",
       "   'locations': 3},\n",
       "  {'country': 'AU',\n",
       "   'name': 'Altona North',\n",
       "   'city': 'Altona North',\n",
       "   'count': 121059,\n",
       "   'locations': 1},\n",
       "  {'country': 'AU',\n",
       "   'name': 'Altona North 1',\n",
       "   'city': 'Altona North 1',\n",
       "   'count': 243,\n",
       "   'locations': 1},\n",
       "  {'country': 'AU',\n",
       "   'name': 'Altona North 2',\n",
       "   'city': 'Altona North 2',\n",
       "   'count': 234,\n",
       "   'locations': 1},\n",
       "  {'country': 'US',\n",
       "   'name': 'Altoona',\n",
       "   'city': 'Altoona',\n",
       "   'count': 220908,\n",
       "   'locations': 1},\n",
       "  {'country': 'MX',\n",
       "   'name': 'Álvaro Obregón',\n",
       "   'city': 'Álvaro Obregón',\n",
       "   'count': 92002,\n",
       "   'locations': 1},\n",
       "  {'country': 'IN',\n",
       "   'name': 'Alwar',\n",
       "   'city': 'Alwar',\n",
       "   'count': 867965,\n",
       "   'locations': 3},\n",
       "  {'country': 'LT',\n",
       "   'name': 'Alytus',\n",
       "   'city': 'Alytus',\n",
       "   'count': 30824,\n",
       "   'locations': 1},\n",
       "  {'country': 'US',\n",
       "   'name': 'AMADOR',\n",
       "   'city': 'AMADOR',\n",
       "   'count': 113148,\n",
       "   'locations': 2},\n",
       "  {'country': 'IN',\n",
       "   'name': 'Amaravati',\n",
       "   'city': 'Amaravati',\n",
       "   'count': 700882,\n",
       "   'locations': 2},\n",
       "  {'country': 'US',\n",
       "   'name': 'Amarillo',\n",
       "   'city': 'Amarillo',\n",
       "   'count': 123607,\n",
       "   'locations': 2},\n",
       "  {'country': 'TR',\n",
       "   'name': 'Amasya',\n",
       "   'city': 'Amasya',\n",
       "   'count': 505523,\n",
       "   'locations': 5},\n",
       "  {'country': 'IN',\n",
       "   'name': 'Ambala',\n",
       "   'city': 'Ambala',\n",
       "   'count': 555836,\n",
       "   'locations': 2},\n",
       "  {'country': 'BR',\n",
       "   'name': 'Americana',\n",
       "   'city': 'Americana',\n",
       "   'count': 137365,\n",
       "   'locations': 2},\n",
       "  {'country': 'US',\n",
       "   'name': 'Americus',\n",
       "   'city': 'Americus',\n",
       "   'count': 85214,\n",
       "   'locations': 1},\n",
       "  {'country': 'US',\n",
       "   'name': 'Ames',\n",
       "   'city': 'Ames',\n",
       "   'count': 4773,\n",
       "   'locations': 1},\n",
       "  {'country': 'JO',\n",
       "   'name': 'Amman',\n",
       "   'city': 'Amman',\n",
       "   'count': 93450,\n",
       "   'locations': 1},\n",
       "  {'country': 'TH',\n",
       "   'name': 'Amnat Charoen',\n",
       "   'city': 'Amnat Charoen',\n",
       "   'count': 49728,\n",
       "   'locations': 3},\n",
       "  {'country': 'IN',\n",
       "   'name': 'Amritsar',\n",
       "   'city': 'Amritsar',\n",
       "   'count': 984244,\n",
       "   'locations': 2},\n",
       "  {'country': 'NL',\n",
       "   'name': 'Amsterdam',\n",
       "   'city': 'Amsterdam',\n",
       "   'count': 4445328,\n",
       "   'locations': 14},\n",
       "  {'country': 'AT',\n",
       "   'name': 'Amt der K�rntner Landesregierung',\n",
       "   'city': 'Amt der K�rntner Landesregierung',\n",
       "   'count': 6050,\n",
       "   'locations': 4},\n",
       "  {'country': 'AT',\n",
       "   'name': 'Amt der Nieder�sterreichischen Landesregierung',\n",
       "   'city': 'Amt der Nieder�sterreichischen Landesregierung',\n",
       "   'count': 7584,\n",
       "   'locations': 1},\n",
       "  {'country': 'AT',\n",
       "   'name': 'Amt der Ober�sterreichischen Landesregierung',\n",
       "   'city': 'Amt der Ober�sterreichischen Landesregierung',\n",
       "   'count': 13233,\n",
       "   'locations': 1},\n",
       "  {'country': 'AT',\n",
       "   'name': 'Amt der Salzburger Landesregierung',\n",
       "   'city': 'Amt der Salzburger Landesregierung',\n",
       "   'count': 11376,\n",
       "   'locations': 1},\n",
       "  {'country': 'AT',\n",
       "   'name': 'Amt der Steierm�rkischen Landesregierung',\n",
       "   'city': 'Amt der Steierm�rkischen Landesregierung',\n",
       "   'count': 34109,\n",
       "   'locations': 3},\n",
       "  {'country': 'IN',\n",
       "   'name': 'Anantapur',\n",
       "   'city': 'Anantapur',\n",
       "   'count': 10044,\n",
       "   'locations': 2},\n",
       "  {'country': 'US',\n",
       "   'name': 'Anchorage',\n",
       "   'city': 'Anchorage',\n",
       "   'count': 498286,\n",
       "   'locations': 3},\n",
       "  {'country': 'US',\n",
       "   'name': 'ANCHORAGE',\n",
       "   'city': 'ANCHORAGE',\n",
       "   'count': 2484,\n",
       "   'locations': 1}]}"
      ]
     },
     "execution_count": 57,
     "metadata": {},
     "output_type": "execute_result"
    }
   ],
   "source": [
    "data = response.json()\n",
    "data"
   ]
  },
  {
   "cell_type": "markdown",
   "id": "d905c19d",
   "metadata": {},
   "source": [
    "In the response we can see alist of cities along with other values such as : country, location, etc."
   ]
  },
  {
   "cell_type": "markdown",
   "id": "1aae6b4d",
   "metadata": {},
   "source": [
    "Check the API documentaion (for the given url) to see the parameters that we can pass along with the url to limit, filter, order, etc. our results. "
   ]
  },
  {
   "cell_type": "markdown",
   "id": "b58669d8",
   "metadata": {},
   "source": [
    "We can pass parameters by the syntax : \n",
    "####  requests.get('url', params = {})\n"
   ]
  },
  {
   "cell_type": "markdown",
   "id": "c9c0b979",
   "metadata": {},
   "source": [
    "The values to be passed inside the argument \"params\" should be in key, value pairs. "
   ]
  },
  {
   "cell_type": "code",
   "execution_count": 60,
   "id": "5cd154ab",
   "metadata": {},
   "outputs": [
    {
     "name": "stdout",
     "output_type": "stream",
     "text": [
      "200\n"
     ]
    }
   ],
   "source": [
    "response = requests.get('https://api.openaq.org/v1/cities', params = {\"country\" : \"AE\"})\n",
    "print(response.status_code)"
   ]
  },
  {
   "cell_type": "markdown",
   "id": "aaacf864",
   "metadata": {},
   "source": [
    "We can see that our API call has been established successfully."
   ]
  },
  {
   "cell_type": "code",
   "execution_count": 61,
   "id": "1abada09",
   "metadata": {},
   "outputs": [
    {
     "data": {
      "text/plain": [
       "{'meta': {'name': 'openaq-api',\n",
       "  'license': 'CC BY 4.0d',\n",
       "  'website': 'api.openaq.org',\n",
       "  'page': 1,\n",
       "  'limit': 100,\n",
       "  'found': 9},\n",
       " 'results': [{'country': 'AE',\n",
       "   'name': 'Abu Al Abyad',\n",
       "   'city': 'Abu Al Abyad',\n",
       "   'count': 12939,\n",
       "   'locations': 1},\n",
       "  {'country': 'AE',\n",
       "   'name': 'Abu Dhabi',\n",
       "   'city': 'Abu Dhabi',\n",
       "   'count': 321022,\n",
       "   'locations': 10},\n",
       "  {'country': 'AE',\n",
       "   'name': 'Al Ain',\n",
       "   'city': 'Al Ain',\n",
       "   'count': 81123,\n",
       "   'locations': 6},\n",
       "  {'country': 'AE',\n",
       "   'name': 'Al Ruways Industrial City',\n",
       "   'city': 'Al Ruways Industrial City',\n",
       "   'count': 16137,\n",
       "   'locations': 1},\n",
       "  {'country': 'AE',\n",
       "   'name': 'Dubai',\n",
       "   'city': 'Dubai',\n",
       "   'count': 202309,\n",
       "   'locations': 1},\n",
       "  {'country': 'AE',\n",
       "   'name': 'Ghiyathi',\n",
       "   'city': 'Ghiyathi',\n",
       "   'count': 13050,\n",
       "   'locations': 1},\n",
       "  {'country': 'AE',\n",
       "   'name': 'Habshan',\n",
       "   'city': 'Habshan',\n",
       "   'count': 12918,\n",
       "   'locations': 1},\n",
       "  {'country': 'AE',\n",
       "   'name': 'Liwa',\n",
       "   'city': 'Liwa',\n",
       "   'count': 13008,\n",
       "   'locations': 1},\n",
       "  {'country': 'AE',\n",
       "   'name': 'N/A',\n",
       "   'city': 'N/A',\n",
       "   'count': 101154,\n",
       "   'locations': 1}]}"
      ]
     },
     "execution_count": 61,
     "metadata": {},
     "output_type": "execute_result"
    }
   ],
   "source": [
    "data = response.json()\n",
    "data"
   ]
  },
  {
   "cell_type": "markdown",
   "id": "3edc9543",
   "metadata": {},
   "source": [
    "In the resonse we can see only those cities, for which the value of \"country\" is \"AE\"."
   ]
  },
  {
   "cell_type": "code",
   "execution_count": 62,
   "id": "c78933cf",
   "metadata": {},
   "outputs": [
    {
     "name": "stdout",
     "output_type": "stream",
     "text": [
      "200\n"
     ]
    }
   ],
   "source": [
    "response = requests.get('https://api.openaq.org/v1/cities', params = {\"country\" : \"AE\", \"limit\" : 1})\n",
    "print(response.status_code)"
   ]
  },
  {
   "cell_type": "markdown",
   "id": "8164975d",
   "metadata": {},
   "source": [
    "We can see that our API call has been established successfully."
   ]
  },
  {
   "cell_type": "code",
   "execution_count": 63,
   "id": "d795050c",
   "metadata": {},
   "outputs": [
    {
     "data": {
      "text/plain": [
       "{'meta': {'name': 'openaq-api',\n",
       "  'license': 'CC BY 4.0d',\n",
       "  'website': 'api.openaq.org',\n",
       "  'page': 1,\n",
       "  'limit': 1,\n",
       "  'found': 9},\n",
       " 'results': [{'country': 'AE',\n",
       "   'name': 'Abu Al Abyad',\n",
       "   'city': 'Abu Al Abyad',\n",
       "   'count': 12939,\n",
       "   'locations': 1}]}"
      ]
     },
     "execution_count": 63,
     "metadata": {},
     "output_type": "execute_result"
    }
   ],
   "source": [
    "data = response.json()\n",
    "data"
   ]
  },
  {
   "cell_type": "markdown",
   "id": "e5d71e5e",
   "metadata": {},
   "source": [
    "In the resonse we can see only those cities, for which the value of \"country\" is \"AE\" and \"limit\" is 1 (number of cities)"
   ]
  },
  {
   "cell_type": "markdown",
   "id": "acc15106",
   "metadata": {},
   "source": [
    "Now let's try a different example with the website : 'https://www.metaweather.com/api/location/search/'\n",
    "\n",
    "This website provides the details about the weather of any particular location. \n",
    "\n",
    "There are 3 methods - Location Search, Location, Location Day. In our case we have used (Location Search)\n",
    "\n",
    "We should read the complete API documentation inorder to proceed with the code. \n",
    "\n",
    "In the API documentation, there are 2 arguments (query, lattlong) out of which one of them has to be present, otherwise the API call will not be established successfully and status_code = 403 (the server where we are making the API call is not providing the required information due to some reason)."
   ]
  },
  {
   "cell_type": "code",
   "execution_count": null,
   "id": "580f133e",
   "metadata": {},
   "outputs": [],
   "source": [
    "response = requests.get('https://www.metaweather.com/api/location/search/', params = {\"query\" : \"Delhi\"})\n",
    "print(response.status_code)"
   ]
  },
  {
   "cell_type": "markdown",
   "id": "d808ae32",
   "metadata": {},
   "source": [
    "We can see that our API call has been established successfully."
   ]
  },
  {
   "cell_type": "code",
   "execution_count": null,
   "id": "c13f1523",
   "metadata": {},
   "outputs": [],
   "source": [
    "data = response.json()\n",
    "data"
   ]
  },
  {
   "cell_type": "markdown",
   "id": "ff3ec99f",
   "metadata": {},
   "source": [
    "In the response we get the attributes -  title, location_type, woeid, latt_long"
   ]
  },
  {
   "cell_type": "markdown",
   "id": "9e34f83e",
   "metadata": {},
   "source": [
    "Let's use the NASA API (most popular website at NASA which features APOD). The url : 'https://api.nasa.gov/planetary/apod'.\n",
    "\n",
    "According to the API documentation, the url expects some parameter \"api_key\". If the parameter is not provided the we get status_code = 404. The parameter \"api_key\" is a compulsory parameter.\n",
    "\n",
    "In the API documentation, the parameters are - date, hd (for high resolution of the image), api_key.\n",
    "\n",
    "The default value for the parameter \"api_key\" is \"DEMO_KEY\"."
   ]
  },
  {
   "cell_type": "code",
   "execution_count": 67,
   "id": "3cf45a35",
   "metadata": {},
   "outputs": [
    {
     "name": "stdout",
     "output_type": "stream",
     "text": [
      "200\n"
     ]
    }
   ],
   "source": [
    "response = requests.get('https://api.nasa.gov/planetary/apod', params = {\"api_key\" : \"DEMO_KEY\"})\n",
    "print(response.status_code)"
   ]
  },
  {
   "cell_type": "markdown",
   "id": "540d9d0c",
   "metadata": {},
   "source": [
    "We can see that our API call has been established successfully."
   ]
  },
  {
   "cell_type": "code",
   "execution_count": 68,
   "id": "bcd1c24a",
   "metadata": {},
   "outputs": [
    {
     "data": {
      "text/plain": [
       "{'copyright': 'Cari Letelier',\n",
       " 'date': '2023-03-27',\n",
       " 'explanation': 'Reports of powerful solar flares started a seven-hour quest north to capture modern monuments against an aurora-filled sky.  The peaks of iconic Arctic Henge in Raufarhöfn in northern Iceland were already aligned with the stars: some are lined up toward the exact north from one side and toward exact south from the other. The featured image, taken after sunset late last month, looks directly south, but since the composite image covers so much of the sky, the north star Polaris is actually visible at the very top of the frame. Also visible are familiar constellations including the Great Bear (Ursa Major) on the left, and the Hunter (Orion) on the lower right. The quest was successful.  The sky lit up dramatically with bright and memorable auroras that shimmered with amazing colors including red, pink, yellow, and green -- sometimes several at once.',\n",
       " 'hdurl': 'https://apod.nasa.gov/apod/image/2303/ArcticHenge_Letelier_1765.jpg',\n",
       " 'media_type': 'image',\n",
       " 'service_version': 'v1',\n",
       " 'title': 'Aurora Over Arctic Henge',\n",
       " 'url': 'https://apod.nasa.gov/apod/image/2303/ArcticHenge_Letelier_960.jpg'}"
      ]
     },
     "execution_count": 68,
     "metadata": {},
     "output_type": "execute_result"
    }
   ],
   "source": [
    "data = response.json()\n",
    "data"
   ]
  },
  {
   "cell_type": "markdown",
   "id": "bfb93981",
   "metadata": {},
   "source": [
    "In the response, we can see attributes -  \"copyright\", \"date\", \"explanation\", etc.\n",
    "\n",
    "The most important thing is that the url for the APOD (image) is provided at the end of the response. If we open this link in our browser, we can see the APOD (image)."
   ]
  },
  {
   "cell_type": "markdown",
   "id": "0b9bb185",
   "metadata": {},
   "source": [
    "The parameter \"api_key\" is used to detremine the identity of an user. It helps us know the source of our request. If we know the origin of a request, we can control the access --> prevent any malacious activity if it is happening at any point of time, if required. It acts as a basic authentication system."
   ]
  },
  {
   "cell_type": "markdown",
   "id": "a851c1dd",
   "metadata": {},
   "source": [
    "We can go to their homopage and signup to get our own API key. For future purposes, we can use our own API key."
   ]
  },
  {
   "cell_type": "markdown",
   "id": "a6d9da41",
   "metadata": {},
   "source": [
    "## Lecture - 5 (Post Requests)"
   ]
  },
  {
   "cell_type": "markdown",
   "id": "9f93486c",
   "metadata": {},
   "source": [
    "There are different kinds of requests with which we can make API calls to perform our desired actions. They are - get(), post(), put(), delete(), patch().\n",
    "\n",
    "Out of these get(), post() is most important. \n",
    "\n",
    "get() is a kind of read request with which we can fetch data from any particular API.\n",
    "\n",
    "post() is a kind of write request with which update/send desired data to an API. \n",
    "\n",
    "We will see how to make a post request to a very simple API. \n",
    "\n",
    "We have the dummy website : 'http://httpbin.org/post'\n",
    "\n",
    "In real life we cannot perform post() requests on any random API.\n",
    "\n",
    "In this website, while making the post() request, we do not require any parameter. "
   ]
  },
  {
   "cell_type": "code",
   "execution_count": 69,
   "id": "e9b1efc3",
   "metadata": {},
   "outputs": [
    {
     "name": "stdout",
     "output_type": "stream",
     "text": [
      "200\n"
     ]
    }
   ],
   "source": [
    "import requests\n",
    "response = requests.post('http://httpbin.org/post')\n",
    "print(response.status_code)"
   ]
  },
  {
   "cell_type": "markdown",
   "id": "94c67ee6",
   "metadata": {},
   "source": [
    "We can see that our API call has been established successfully."
   ]
  },
  {
   "cell_type": "code",
   "execution_count": 70,
   "id": "918d9212",
   "metadata": {},
   "outputs": [
    {
     "name": "stdout",
     "output_type": "stream",
     "text": [
      "{\n",
      "  \"args\": {}, \n",
      "  \"data\": \"\", \n",
      "  \"files\": {}, \n",
      "  \"form\": {}, \n",
      "  \"headers\": {\n",
      "    \"Accept\": \"*/*\", \n",
      "    \"Accept-Encoding\": \"gzip, deflate, br\", \n",
      "    \"Content-Length\": \"0\", \n",
      "    \"Host\": \"httpbin.org\", \n",
      "    \"User-Agent\": \"python-requests/2.28.1\", \n",
      "    \"X-Amzn-Trace-Id\": \"Root=1-6421cd8d-6d99bb5e1180654f5ce8b38b\"\n",
      "  }, \n",
      "  \"json\": null, \n",
      "  \"origin\": \"152.58.213.85\", \n",
      "  \"url\": \"http://httpbin.org/post\"\n",
      "}\n",
      "\n"
     ]
    }
   ],
   "source": [
    "print(response.text)"
   ]
  },
  {
   "cell_type": "markdown",
   "id": "2049ceea",
   "metadata": {},
   "source": [
    "This is the dummy data that we are getting after making post() request to this dummy website."
   ]
  },
  {
   "cell_type": "markdown",
   "id": "8cf39acf",
   "metadata": {},
   "source": [
    "With the help of post() requests, we can update/ pass data but over here we haven't done it yet. So, let's do it !!\n",
    "\n",
    "This can be done using the syntax : \n",
    "\n",
    "#### requests.post('url', data = {})\n"
   ]
  },
  {
   "cell_type": "markdown",
   "id": "68686466",
   "metadata": {},
   "source": [
    "The data to be  passed inside the argument \"data\" should be in key, value pairs. "
   ]
  },
  {
   "cell_type": "code",
   "execution_count": 71,
   "id": "c1976aaf",
   "metadata": {},
   "outputs": [
    {
     "name": "stdout",
     "output_type": "stream",
     "text": [
      "200\n"
     ]
    }
   ],
   "source": [
    "response = requests.post('http://httpbin.org/post', data = {'key_1' : 'val_1', 'key_2' : 'val_2'})\n",
    "print(response.status_code)"
   ]
  },
  {
   "cell_type": "markdown",
   "id": "ebe86c89",
   "metadata": {},
   "source": [
    "We can see that our API call has been established successfully."
   ]
  },
  {
   "cell_type": "code",
   "execution_count": 72,
   "id": "427e0ae2",
   "metadata": {},
   "outputs": [
    {
     "name": "stdout",
     "output_type": "stream",
     "text": [
      "{\n",
      "  \"args\": {}, \n",
      "  \"data\": \"\", \n",
      "  \"files\": {}, \n",
      "  \"form\": {\n",
      "    \"key_1\": \"val_1\", \n",
      "    \"key_2\": \"val_2\"\n",
      "  }, \n",
      "  \"headers\": {\n",
      "    \"Accept\": \"*/*\", \n",
      "    \"Accept-Encoding\": \"gzip, deflate, br\", \n",
      "    \"Content-Length\": \"23\", \n",
      "    \"Content-Type\": \"application/x-www-form-urlencoded\", \n",
      "    \"Host\": \"httpbin.org\", \n",
      "    \"User-Agent\": \"python-requests/2.28.1\", \n",
      "    \"X-Amzn-Trace-Id\": \"Root=1-6421cee1-6e68fe30621e3fb918f71c76\"\n",
      "  }, \n",
      "  \"json\": null, \n",
      "  \"origin\": \"152.58.213.85\", \n",
      "  \"url\": \"http://httpbin.org/post\"\n",
      "}\n",
      "\n"
     ]
    }
   ],
   "source": [
    "print(response.text)"
   ]
  },
  {
   "cell_type": "markdown",
   "id": "173e34ef",
   "metadata": {},
   "source": [
    "In the section \"form\" we see the data that we have passed. Previously, the \"form\" section was empty."
   ]
  },
  {
   "cell_type": "markdown",
   "id": "d8256561",
   "metadata": {},
   "source": [
    "Suppose that we want to pass 2 different values for a key: "
   ]
  },
  {
   "cell_type": "code",
   "execution_count": 73,
   "id": "27f2657e",
   "metadata": {},
   "outputs": [
    {
     "name": "stdout",
     "output_type": "stream",
     "text": [
      "200\n"
     ]
    }
   ],
   "source": [
    "## Method - 1 (passing a list as value for a given key in the key, value pair)\n",
    "\n",
    "response = requests.post('http://httpbin.org/post', data = {'key_1' : ['val_1', 'val_2'], 'key_2' : 'val_3'})\n",
    "print(response.status_code)"
   ]
  },
  {
   "cell_type": "code",
   "execution_count": 76,
   "id": "562a079c",
   "metadata": {},
   "outputs": [
    {
     "name": "stdout",
     "output_type": "stream",
     "text": [
      "{\n",
      "  \"args\": {}, \n",
      "  \"data\": \"\", \n",
      "  \"files\": {}, \n",
      "  \"form\": {\n",
      "    \"key_1\": [\n",
      "      \"val_1\", \n",
      "      \"val_2\"\n",
      "    ], \n",
      "    \"key_2\": \"val_3\"\n",
      "  }, \n",
      "  \"headers\": {\n",
      "    \"Accept\": \"*/*\", \n",
      "    \"Accept-Encoding\": \"gzip, deflate, br\", \n",
      "    \"Content-Length\": \"35\", \n",
      "    \"Content-Type\": \"application/x-www-form-urlencoded\", \n",
      "    \"Host\": \"httpbin.org\", \n",
      "    \"User-Agent\": \"python-requests/2.28.1\", \n",
      "    \"X-Amzn-Trace-Id\": \"Root=1-6421d117-6356b04d0079ab5c757dbc14\"\n",
      "  }, \n",
      "  \"json\": null, \n",
      "  \"origin\": \"152.58.213.85\", \n",
      "  \"url\": \"http://httpbin.org/post\"\n",
      "}\n",
      "\n"
     ]
    }
   ],
   "source": [
    "print(response.text)"
   ]
  },
  {
   "cell_type": "code",
   "execution_count": 77,
   "id": "87b5ab6b",
   "metadata": {},
   "outputs": [
    {
     "name": "stdout",
     "output_type": "stream",
     "text": [
      "200\n"
     ]
    }
   ],
   "source": [
    "## Method - 2 (passing a list of tuples where 1 tuple will contain 1 key, value pair)\n",
    "\n",
    "response = requests.post('http://httpbin.org/post', data = [('key_1', 'val_1'), ('key_1', 'val_2'), ('key_2', 'val_3')])\n",
    "print(response.status_code)"
   ]
  },
  {
   "cell_type": "code",
   "execution_count": 78,
   "id": "57301f28",
   "metadata": {},
   "outputs": [
    {
     "name": "stdout",
     "output_type": "stream",
     "text": [
      "{\n",
      "  \"args\": {}, \n",
      "  \"data\": \"\", \n",
      "  \"files\": {}, \n",
      "  \"form\": {\n",
      "    \"key_1\": [\n",
      "      \"val_1\", \n",
      "      \"val_2\"\n",
      "    ], \n",
      "    \"key_2\": \"val_3\"\n",
      "  }, \n",
      "  \"headers\": {\n",
      "    \"Accept\": \"*/*\", \n",
      "    \"Accept-Encoding\": \"gzip, deflate, br\", \n",
      "    \"Content-Length\": \"35\", \n",
      "    \"Content-Type\": \"application/x-www-form-urlencoded\", \n",
      "    \"Host\": \"httpbin.org\", \n",
      "    \"User-Agent\": \"python-requests/2.28.1\", \n",
      "    \"X-Amzn-Trace-Id\": \"Root=1-6421d127-61cd490034e401f5206cd771\"\n",
      "  }, \n",
      "  \"json\": null, \n",
      "  \"origin\": \"152.58.213.85\", \n",
      "  \"url\": \"http://httpbin.org/post\"\n",
      "}\n",
      "\n"
     ]
    }
   ],
   "source": [
    "print(response.text)"
   ]
  },
  {
   "cell_type": "markdown",
   "id": "49e1dd85",
   "metadata": {},
   "source": [
    "For both the methods, we obtain the same result !!\n",
    "\n",
    "Any kind of post request will not change the actual database of the website.\n",
    "\n",
    "Let's try another dummy website : 'https://jsonplaceholder.typicode.com/posts' where we can make post() requests (dummy)."
   ]
  },
  {
   "cell_type": "markdown",
   "id": "5703dd92",
   "metadata": {},
   "source": [
    "Initially let's try to make this post() request without passing any kind of data :"
   ]
  },
  {
   "cell_type": "code",
   "execution_count": 79,
   "id": "8de5b57c",
   "metadata": {},
   "outputs": [
    {
     "name": "stdout",
     "output_type": "stream",
     "text": [
      "201\n"
     ]
    }
   ],
   "source": [
    "response = requests.post('https://jsonplaceholder.typicode.com/posts')\n",
    "print(response.status_code)"
   ]
  },
  {
   "cell_type": "markdown",
   "id": "afe39109",
   "metadata": {},
   "source": [
    "We can see that our API call has been established successfully."
   ]
  },
  {
   "cell_type": "code",
   "execution_count": 80,
   "id": "b80f861c",
   "metadata": {},
   "outputs": [
    {
     "name": "stdout",
     "output_type": "stream",
     "text": [
      "{\n",
      "  \"id\": 101\n",
      "}\n"
     ]
    }
   ],
   "source": [
    "print(response.text)"
   ]
  },
  {
   "cell_type": "markdown",
   "id": "67868eaf",
   "metadata": {},
   "source": [
    "Here 1 new post is created with \"id\" = 101. We know that 100 posts were present by default in this website and  \"id\" = 100 for the last post (present by default).\n",
    "\n",
    "For dummy websites, passing data is not mandatory, it's optional."
   ]
  },
  {
   "cell_type": "markdown",
   "id": "309b294c",
   "metadata": {},
   "source": [
    "Now let's make a post() request to this website by passing required data."
   ]
  },
  {
   "cell_type": "code",
   "execution_count": 81,
   "id": "9a7a52f2",
   "metadata": {},
   "outputs": [
    {
     "name": "stdout",
     "output_type": "stream",
     "text": [
      "201\n"
     ]
    }
   ],
   "source": [
    "response = requests.post('https://jsonplaceholder.typicode.com/posts', data = {'User_ID' : 1, id : 102, 'Title' : 'Shibayan'})\n",
    "print(response.status_code)"
   ]
  },
  {
   "cell_type": "code",
   "execution_count": 82,
   "id": "44d25580",
   "metadata": {},
   "outputs": [
    {
     "name": "stdout",
     "output_type": "stream",
     "text": [
      "{\n",
      "  \"User_ID\": \"1\",\n",
      "  \"<built-in function id>\": \"102\",\n",
      "  \"Title\": \"Shibayan\",\n",
      "  \"id\": 101\n",
      "}\n"
     ]
    }
   ],
   "source": [
    "print(response.text)"
   ]
  },
  {
   "cell_type": "markdown",
   "id": "11f5faab",
   "metadata": {},
   "source": [
    "For the above examples, we have made 2 different post() requests, but \"id\" = 101 for both because, any kind of post() requests will not change the actual database of the website. The changes we are making here is temporary (for our learning purpose). In the original dataase there will be 100 posts by default."
   ]
  },
  {
   "cell_type": "markdown",
   "id": "52691752",
   "metadata": {},
   "source": [
    "Irrespective of how many times we make a post() request, the post created will be awarded \"id\" = 101 everytime."
   ]
  }
 ],
 "metadata": {
  "kernelspec": {
   "display_name": "Python 3 (ipykernel)",
   "language": "python",
   "name": "python3"
  },
  "language_info": {
   "codemirror_mode": {
    "name": "ipython",
    "version": 3
   },
   "file_extension": ".py",
   "mimetype": "text/x-python",
   "name": "python",
   "nbconvert_exporter": "python",
   "pygments_lexer": "ipython3",
   "version": "3.9.13"
  }
 },
 "nbformat": 4,
 "nbformat_minor": 5
}
