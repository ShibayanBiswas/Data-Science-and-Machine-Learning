{
  "nbformat": 4,
  "nbformat_minor": 0,
  "metadata": {
    "colab": {
      "provenance": []
    },
    "kernelspec": {
      "name": "python3",
      "display_name": "Python 3"
    },
    "language_info": {
      "name": "python"
    }
  },
  "cells": [
    {
      "cell_type": "code",
      "execution_count": 28,
      "metadata": {
        "colab": {
          "base_uri": "https://localhost:8080/"
        },
        "id": "emRBGxhAukLL",
        "outputId": "2d80fe5c-cb5d-4a04-d3d4-784c1fad3bc4"
      },
      "outputs": [
        {
          "output_type": "stream",
          "name": "stdout",
          "text": [
            "{'Student': 'Mohit'}\n",
            "<class 'dict'>\n"
          ]
        }
      ],
      "source": [
        "import json\n",
        "json_data = '{\"Student\" : \"Mohit\"}'\n",
        "python_data = json.loads(json_data)\n",
        "print(python_data)\n",
        "print(type(python_data))"
      ]
    },
    {
      "cell_type": "code",
      "source": [
        "print(python_data['Student'])\n",
        "print(type(python_data['Student']))"
      ],
      "metadata": {
        "colab": {
          "base_uri": "https://localhost:8080/"
        },
        "id": "kexU9QM8vpxP",
        "outputId": "20be516c-97c5-4d57-dde0-6e53e49990e6"
      },
      "execution_count": 29,
      "outputs": [
        {
          "output_type": "stream",
          "name": "stdout",
          "text": [
            "Mohit\n",
            "<class 'str'>\n"
          ]
        }
      ]
    },
    {
      "cell_type": "code",
      "source": [
        "json_data = '{\"Roll_Number\" : 101}'\n",
        "python_data = json.loads(json_data)\n",
        "print(python_data)\n",
        "print(type(python_data))"
      ],
      "metadata": {
        "colab": {
          "base_uri": "https://localhost:8080/"
        },
        "id": "-jLveb24vyKO",
        "outputId": "aad4579e-30c8-4f8f-e6f0-00e3644e88fe"
      },
      "execution_count": 30,
      "outputs": [
        {
          "output_type": "stream",
          "name": "stdout",
          "text": [
            "{'Roll_Number': 101}\n",
            "<class 'dict'>\n"
          ]
        }
      ]
    },
    {
      "cell_type": "code",
      "source": [
        "print(python_data['Roll_Number'])\n",
        "print(type(python_data['Roll_Number']))"
      ],
      "metadata": {
        "colab": {
          "base_uri": "https://localhost:8080/"
        },
        "id": "rgI5JnsUxWTr",
        "outputId": "b99f6a35-6c6c-43da-ae76-510f65a7b585"
      },
      "execution_count": 31,
      "outputs": [
        {
          "output_type": "stream",
          "name": "stdout",
          "text": [
            "101\n",
            "<class 'int'>\n"
          ]
        }
      ]
    },
    {
      "cell_type": "code",
      "source": [
        "json_data = '{\"Marks\" : 89.2}'\n",
        "python_data = json.loads(json_data)\n",
        "print(python_data)\n",
        "print(type(python_data))"
      ],
      "metadata": {
        "colab": {
          "base_uri": "https://localhost:8080/"
        },
        "id": "fJeKdg2NxWVG",
        "outputId": "9a5568b0-3ac6-4570-d676-1fe566b551ec"
      },
      "execution_count": 32,
      "outputs": [
        {
          "output_type": "stream",
          "name": "stdout",
          "text": [
            "{'Marks': 89.2}\n",
            "<class 'dict'>\n"
          ]
        }
      ]
    },
    {
      "cell_type": "code",
      "source": [
        "print(python_data['Marks'])\n",
        "print(type(python_data['Marks']))"
      ],
      "metadata": {
        "colab": {
          "base_uri": "https://localhost:8080/"
        },
        "id": "b6CShhf57Px6",
        "outputId": "d365afc3-0086-4efd-951b-363806076256"
      },
      "execution_count": 33,
      "outputs": [
        {
          "output_type": "stream",
          "name": "stdout",
          "text": [
            "89.2\n",
            "<class 'float'>\n"
          ]
        }
      ]
    },
    {
      "cell_type": "code",
      "source": [
        "json_data = '{\"Phone_Number\" : null}'\n",
        "python_data = json.loads(json_data)\n",
        "print(python_data)\n",
        "print(type(python_data))"
      ],
      "metadata": {
        "colab": {
          "base_uri": "https://localhost:8080/"
        },
        "id": "8pZitOto8B2p",
        "outputId": "bcba2de6-0990-4fe2-8aaf-96d14f1275a1"
      },
      "execution_count": 34,
      "outputs": [
        {
          "output_type": "stream",
          "name": "stdout",
          "text": [
            "{'Phone_Number': None}\n",
            "<class 'dict'>\n"
          ]
        }
      ]
    },
    {
      "cell_type": "code",
      "source": [
        "print(python_data['Phone_Number'])\n",
        "print(type(python_data['Phone_Number']))"
      ],
      "metadata": {
        "colab": {
          "base_uri": "https://localhost:8080/"
        },
        "id": "DkE1CyjU8wnx",
        "outputId": "921958c5-3d62-4f33-ffe6-a210e50cd4f4"
      },
      "execution_count": 35,
      "outputs": [
        {
          "output_type": "stream",
          "name": "stdout",
          "text": [
            "None\n",
            "<class 'NoneType'>\n"
          ]
        }
      ]
    },
    {
      "cell_type": "code",
      "source": [
        "json_data = '{\"Student\" : {\"Name\" : \"Mohit\", \"Roll_Number\" : 101}}'\n",
        "python_data = json.loads(json_data)\n",
        "\n",
        "student_details = python_data['Student']\n",
        "\n",
        "print(student_details['Name'])\n",
        "print(student_details['Roll_Number'])"
      ],
      "metadata": {
        "id": "AQMfWec185-u",
        "colab": {
          "base_uri": "https://localhost:8080/"
        },
        "outputId": "c02407ea-f358-495c-f03b-9a434668d0e5"
      },
      "execution_count": 36,
      "outputs": [
        {
          "output_type": "stream",
          "name": "stdout",
          "text": [
            "Mohit\n",
            "101\n"
          ]
        }
      ]
    },
    {
      "cell_type": "code",
      "source": [
        "json_data = '{\"Fruits\" : [\"Apple\", \"Guava\", \"Mango\", \"Orange\"]}'\n",
        "python_data = json.loads(json_data)\n",
        "\n",
        "print(python_data)\n",
        "print(type(python_data))"
      ],
      "metadata": {
        "colab": {
          "base_uri": "https://localhost:8080/"
        },
        "id": "iGoaGl2D_p_b",
        "outputId": "83ecc067-750f-4362-e26a-b76c5d36510c"
      },
      "execution_count": 38,
      "outputs": [
        {
          "output_type": "stream",
          "name": "stdout",
          "text": [
            "{'Fruits': ['Apple', 'Guava', 'Mango', 'Orange']}\n",
            "<class 'dict'>\n"
          ]
        }
      ]
    },
    {
      "cell_type": "code",
      "source": [
        "print(python_data['Fruits'])\n",
        "print(type(python_data['Fruits']))\n",
        "print(len(python_data['Fruits']))\n",
        "\n",
        "for i in python_data['Fruits']:\n",
        "  print(i)"
      ],
      "metadata": {
        "colab": {
          "base_uri": "https://localhost:8080/"
        },
        "id": "nX3frSW2A5W7",
        "outputId": "91489451-062a-4068-b8bf-a62a52ac5daa"
      },
      "execution_count": 41,
      "outputs": [
        {
          "output_type": "stream",
          "name": "stdout",
          "text": [
            "['Apple', 'Guava', 'Mango', 'Orange']\n",
            "<class 'list'>\n",
            "4\n",
            "Apple\n",
            "Guava\n",
            "Mango\n",
            "Orange\n"
          ]
        }
      ]
    }
  ]
}