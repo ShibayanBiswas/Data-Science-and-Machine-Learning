{
  "nbformat": 4,
  "nbformat_minor": 0,
  "metadata": {
    "colab": {
      "provenance": [],
      "collapsed_sections": []
    },
    "kernelspec": {
      "name": "python3",
      "display_name": "Python 3"
    },
    "language_info": {
      "name": "python"
    }
  },
  "cells": [
    {
      "cell_type": "code",
      "execution_count": 2,
      "metadata": {
        "colab": {
          "base_uri": "https://localhost:8080/"
        },
        "id": "ImsK-X4mxxJa",
        "outputId": "e48e8ea2-83fc-42d8-cb4b-edc04e8ad08d"
      },
      "outputs": [
        {
          "output_type": "stream",
          "name": "stdout",
          "text": [
            "<class 'dict'>\n",
            "{'the': 1, 'a': 5, 10000: 'abc'}\n"
          ]
        },
        {
          "output_type": "execute_result",
          "data": {
            "text/plain": [
              "3"
            ]
          },
          "metadata": {},
          "execution_count": 2
        }
      ],
      "source": [
        "a={\"the\" : 1, \"a\" : 5, 10000 : \"abc\"}\n",
        "print(type(a))\n",
        "print(a)\n",
        "len(a)"
      ]
    },
    {
      "cell_type": "code",
      "source": [
        "b = a.copy()\n",
        "b"
      ],
      "metadata": {
        "colab": {
          "base_uri": "https://localhost:8080/"
        },
        "id": "JRM5DfiUyi2B",
        "outputId": "a64f17c1-9090-4e33-a345-8d7565aeff49"
      },
      "execution_count": 3,
      "outputs": [
        {
          "output_type": "execute_result",
          "data": {
            "text/plain": [
              "{'the': 1, 'a': 5, 10000: 'abc'}"
            ]
          },
          "metadata": {},
          "execution_count": 3
        }
      ]
    },
    {
      "cell_type": "code",
      "source": [
        "c = dict([{\"the\", 3}, {\"a\", 10}, {2, 3}])\n",
        "c"
      ],
      "metadata": {
        "colab": {
          "base_uri": "https://localhost:8080/"
        },
        "id": "MoaiUKOfyok8",
        "outputId": "fd66c56f-325d-4e7a-d00f-6ad1f26c6c9e"
      },
      "execution_count": 6,
      "outputs": [
        {
          "output_type": "execute_result",
          "data": {
            "text/plain": [
              "{3: 'the', 10: 'a', 2: 3}"
            ]
          },
          "metadata": {},
          "execution_count": 6
        }
      ]
    },
    {
      "cell_type": "code",
      "source": [
        "d = dict.fromkeys([\"abc\", 32, 4], 10)\n",
        "d"
      ],
      "metadata": {
        "colab": {
          "base_uri": "https://localhost:8080/"
        },
        "id": "wCX3hPhWy4lf",
        "outputId": "cd1814be-50fd-4396-c8e8-51bd72f14992"
      },
      "execution_count": 7,
      "outputs": [
        {
          "output_type": "execute_result",
          "data": {
            "text/plain": [
              "{'abc': 10, 32: 10, 4: 10}"
            ]
          },
          "metadata": {},
          "execution_count": 7
        }
      ]
    }
  ]
}