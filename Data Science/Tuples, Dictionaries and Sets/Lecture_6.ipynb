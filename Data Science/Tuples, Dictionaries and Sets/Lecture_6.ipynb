{
  "nbformat": 4,
  "nbformat_minor": 0,
  "metadata": {
    "colab": {
      "provenance": [],
      "collapsed_sections": []
    },
    "kernelspec": {
      "name": "python3",
      "display_name": "Python 3"
    },
    "language_info": {
      "name": "python"
    }
  },
  "cells": [
    {
      "cell_type": "code",
      "execution_count": 1,
      "metadata": {
        "id": "LPoWuEZm6yGE"
      },
      "outputs": [],
      "source": [
        "s=\"this is a word string having many many word\""
      ]
    },
    {
      "cell_type": "code",
      "source": [
        "words=s.split()\n",
        "words"
      ],
      "metadata": {
        "colab": {
          "base_uri": "https://localhost:8080/"
        },
        "id": "eYVXbRDn6___",
        "outputId": "40fe579a-1c5e-4b92-d71b-2e5954f0257a"
      },
      "execution_count": 3,
      "outputs": [
        {
          "output_type": "execute_result",
          "data": {
            "text/plain": [
              "['this', 'is', 'a', 'word', 'string', 'having', 'many', 'many', 'word']"
            ]
          },
          "metadata": {},
          "execution_count": 3
        }
      ]
    },
    {
      "cell_type": "code",
      "source": [
        "d = {}\n",
        "for w in words:\n",
        "    if w in d:\n",
        "        d[w] = d[w] + 1\n",
        "    else:\n",
        "        d[w] = 1\n",
        "d"
      ],
      "metadata": {
        "colab": {
          "base_uri": "https://localhost:8080/"
        },
        "id": "UfH6JQKy7CVC",
        "outputId": "734c4167-a38a-4322-f660-0af13cfdb5ea"
      },
      "execution_count": 4,
      "outputs": [
        {
          "output_type": "execute_result",
          "data": {
            "text/plain": [
              "{'this': 1, 'is': 1, 'a': 1, 'word': 2, 'string': 1, 'having': 1, 'many': 2}"
            ]
          },
          "metadata": {},
          "execution_count": 4
        }
      ]
    },
    {
      "cell_type": "code",
      "source": [
        "d = {}\n",
        "for w in words:\n",
        "    d[w] = d.get(w, 0) + 1\n",
        "d"
      ],
      "metadata": {
        "colab": {
          "base_uri": "https://localhost:8080/"
        },
        "id": "p9pkLZMM7J0J",
        "outputId": "e69aaa18-4f3e-4ceb-95a7-4e270be0968f"
      },
      "execution_count": 6,
      "outputs": [
        {
          "output_type": "execute_result",
          "data": {
            "text/plain": [
              "{'this': 1, 'is': 1, 'a': 1, 'word': 2, 'string': 1, 'having': 1, 'many': 2}"
            ]
          },
          "metadata": {},
          "execution_count": 6
        }
      ]
    },
    {
      "cell_type": "code",
      "source": [
        "k = int(input())\n",
        "for w in d:\n",
        "    if d[w]==k:\n",
        "        print(w)"
      ],
      "metadata": {
        "colab": {
          "base_uri": "https://localhost:8080/"
        },
        "id": "W_rLUeIe7pUx",
        "outputId": "ff4219b4-9baa-4a68-e022-417fb714d254"
      },
      "execution_count": 8,
      "outputs": [
        {
          "output_type": "stream",
          "name": "stdout",
          "text": [
            "2\n",
            "word\n",
            "many\n"
          ]
        }
      ]
    },
    {
      "cell_type": "code",
      "source": [
        "def printKFreqWords(s,k):\n",
        "    words = s.split()\n",
        "    d = {}\n",
        "    for w in words:\n",
        "        d[w] = d.get(w,0) + 1\n",
        "    for w in d:\n",
        "        if d[w] == k:\n",
        "            print(w)\n",
        "k = int(input())\n",
        "printKFreqWords(s, k)"
      ],
      "metadata": {
        "colab": {
          "base_uri": "https://localhost:8080/"
        },
        "id": "dv_uiWRj8E3R",
        "outputId": "9d4a469d-d20e-4076-d776-faf7ff255504"
      },
      "execution_count": 9,
      "outputs": [
        {
          "output_type": "stream",
          "name": "stdout",
          "text": [
            "1\n",
            "this\n",
            "is\n",
            "a\n",
            "string\n",
            "having\n"
          ]
        }
      ]
    }
  ]
}