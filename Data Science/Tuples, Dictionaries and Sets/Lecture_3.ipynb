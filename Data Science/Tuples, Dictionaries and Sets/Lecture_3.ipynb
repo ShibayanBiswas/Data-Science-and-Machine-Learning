{
  "nbformat": 4,
  "nbformat_minor": 0,
  "metadata": {
    "colab": {
      "provenance": [],
      "collapsed_sections": []
    },
    "kernelspec": {
      "name": "python3",
      "display_name": "Python 3"
    },
    "language_info": {
      "name": "python"
    }
  },
  "cells": [
    {
      "cell_type": "code",
      "execution_count": 5,
      "metadata": {
        "colab": {
          "base_uri": "https://localhost:8080/"
        },
        "id": "uF-OigWJttFA",
        "outputId": "a8ebbb14-0b75-43dd-de2d-441836a6e7f3"
      },
      "outputs": [
        {
          "output_type": "execute_result",
          "data": {
            "text/plain": [
              "15"
            ]
          },
          "metadata": {},
          "execution_count": 5
        }
      ],
      "source": [
        "def sum(a, b, c=0, d=0, e=0):\n",
        "    return a + b + c + d + e\n",
        "sum(1, 2, 3, 4, 5)"
      ]
    },
    {
      "cell_type": "code",
      "source": [
        "def sum2(a,b,*more):\n",
        "    print(a)\n",
        "    print(b)\n",
        "    print(type(more))\n",
        "    ans = a + b\n",
        "    for i in more:\n",
        "        ans = ans + i\n",
        "    return ans\n",
        "sum2(2,3,4,5)"
      ],
      "metadata": {
        "colab": {
          "base_uri": "https://localhost:8080/"
        },
        "id": "HBlaOpALuAy5",
        "outputId": "23306fd6-e636-4290-fbf7-17932ba80181"
      },
      "execution_count": 2,
      "outputs": [
        {
          "output_type": "stream",
          "name": "stdout",
          "text": [
            "2\n",
            "3\n",
            "<class 'tuple'>\n"
          ]
        },
        {
          "output_type": "execute_result",
          "data": {
            "text/plain": [
              "14"
            ]
          },
          "metadata": {},
          "execution_count": 2
        }
      ]
    },
    {
      "cell_type": "code",
      "source": [
        "def calc(a, b):\n",
        "    return a + b, a - b, a * b\n",
        "c = calc(4, 1)\n",
        "c"
      ],
      "metadata": {
        "colab": {
          "base_uri": "https://localhost:8080/"
        },
        "id": "NjOEQqUduYpb",
        "outputId": "edf2deec-e491-47f8-cbe8-73178cfdb873"
      },
      "execution_count": 8,
      "outputs": [
        {
          "output_type": "execute_result",
          "data": {
            "text/plain": [
              "(5, 3, 4)"
            ]
          },
          "metadata": {},
          "execution_count": 8
        }
      ]
    },
    {
      "cell_type": "code",
      "source": [
        "d, e, f = calc(5, 2)\n",
        "print(d)\n",
        "print(e)\n",
        "print(f)"
      ],
      "metadata": {
        "colab": {
          "base_uri": "https://localhost:8080/"
        },
        "id": "tZlcOGu3uxTV",
        "outputId": "fe42594d-daac-4a9d-e306-e236d758c8be"
      },
      "execution_count": 11,
      "outputs": [
        {
          "output_type": "stream",
          "name": "stdout",
          "text": [
            "7\n",
            "3\n",
            "10\n"
          ]
        }
      ]
    }
  ]
}