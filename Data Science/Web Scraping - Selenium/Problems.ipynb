{
 "cells": [
  {
   "cell_type": "markdown",
   "metadata": {
    "id": "dqsIeVIsI52Z"
   },
   "source": [
    "## Click on Advanced Algorithms"
   ]
  },
  {
   "cell_type": "code",
   "execution_count": 4,
   "metadata": {
    "executionInfo": {
     "elapsed": 5,
     "status": "ok",
     "timestamp": 1674809223505,
     "user": {
      "displayName": "Shibayan Biswas ae21b109",
      "userId": "01927854800575603337"
     },
     "user_tz": -330
    },
    "id": "ONwbXJ_PI0rg"
   },
   "outputs": [
    {
     "name": "stderr",
     "output_type": "stream",
     "text": [
      "C:\\Users\\SHIBAYAN BISWAS\\AppData\\Local\\Temp\\ipykernel_25364\\2039538345.py:5: DeprecationWarning: executable_path has been deprecated, please pass in a Service object\n",
      "  driver = webdriver.Chrome(executable_path=\"/path/to/chromedriver\")\n"
     ]
    }
   ],
   "source": [
    "import selenium\n",
    "from selenium import webdriver\n",
    "import time\n",
    "\n",
    "driver = webdriver.Chrome(executable_path=\"/path/to/chromedriver\")\n",
    "driver.get('https://codezen.codingninjas.in/dashboard')\n",
    "\n",
    "from selenium.webdriver.common.by import By\n",
    "button = driver.find_element(By.XPATH, '/html/body/codingninjas-root/codingninjas-publicsection-app/div[1]/div/div[2]/codingninjas-home/codingninjas-user-logout-dashboard/div/div/div[1]/div[1]/div[2]/codingninjas-problem-topics/div/div/div[3]')\n",
    "button.click()\n",
    "\n",
    "time.sleep(5)\n",
    "driver.close()"
   ]
  },
  {
   "cell_type": "markdown",
   "metadata": {},
   "source": [
    "## Title of Google"
   ]
  },
  {
   "cell_type": "code",
   "execution_count": 5,
   "metadata": {},
   "outputs": [
    {
     "name": "stderr",
     "output_type": "stream",
     "text": [
      "C:\\Users\\SHIBAYAN BISWAS\\AppData\\Local\\Temp\\ipykernel_20784\\1420404898.py:5: DeprecationWarning: executable_path has been deprecated, please pass in a Service object\n",
      "  driver = webdriver.Chrome(executable_path=\"/path/to/chromedriver\")\n"
     ]
    },
    {
     "name": "stdout",
     "output_type": "stream",
     "text": [
      "Google Images\n"
     ]
    }
   ],
   "source": [
    "import selenium\n",
    "from selenium import webdriver\n",
    "import time\n",
    "\n",
    "driver = webdriver.Chrome(executable_path=\"/path/to/chromedriver\")\n",
    "driver.get('https://www.google.com/')\n",
    "\n",
    "from selenium.webdriver.common.by import By\n",
    "driver.find_element(By.PARTIAL_LINK_TEXT, 'ges').click()\n",
    "print(driver.title)\n",
    "\n",
    "driver.back()\n",
    "driver.close()"
   ]
  },
  {
   "cell_type": "markdown",
   "metadata": {},
   "source": [
    "## Select Female"
   ]
  },
  {
   "cell_type": "code",
   "execution_count": 8,
   "metadata": {},
   "outputs": [
    {
     "name": "stderr",
     "output_type": "stream",
     "text": [
      "C:\\Users\\SHIBAYAN BISWAS\\AppData\\Local\\Temp\\ipykernel_20784\\3487197725.py:5: DeprecationWarning: executable_path has been deprecated, please pass in a Service object\n",
      "  driver = webdriver.Chrome(executable_path=\"/path/to/chromedriver\")\n"
     ]
    },
    {
     "name": "stdout",
     "output_type": "stream",
     "text": [
      "False\n",
      "True\n"
     ]
    }
   ],
   "source": [
    "import selenium\n",
    "from selenium import webdriver\n",
    "import time\n",
    "\n",
    "driver = webdriver.Chrome(executable_path=\"/path/to/chromedriver\")\n",
    "driver.get('https://www.facebook.com/r.php')\n",
    "\n",
    "from selenium.webdriver.common.by import By\n",
    "print(driver.find_element(By.NAME, 'sex').is_selected())\n",
    "driver.find_element(By.NAME, 'sex').click()\n",
    "print(driver.find_element(By.NAME, 'sex').is_selected())\n",
    "\n",
    "time.sleep(5)\n",
    "driver.close()"
   ]
  }
 ],
 "metadata": {
  "colab": {
   "authorship_tag": "ABX9TyN8KbLOMLi3kmNctXmcoZQA",
   "provenance": []
  },
  "kernelspec": {
   "display_name": "Python 3 (ipykernel)",
   "language": "python",
   "name": "python3"
  },
  "language_info": {
   "codemirror_mode": {
    "name": "ipython",
    "version": 3
   },
   "file_extension": ".py",
   "mimetype": "text/x-python",
   "name": "python",
   "nbconvert_exporter": "python",
   "pygments_lexer": "ipython3",
   "version": "3.9.13"
  },
  "vscode": {
   "interpreter": {
    "hash": "cfc9a42ceb155f1f125b8a4bcd2b715739f099a6e3de280bb3102a0bd9e61a77"
   }
  }
 },
 "nbformat": 4,
 "nbformat_minor": 1
}
