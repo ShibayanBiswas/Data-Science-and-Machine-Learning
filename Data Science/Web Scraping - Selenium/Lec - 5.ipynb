{
 "cells": [
  {
   "cell_type": "code",
   "execution_count": null,
   "metadata": {},
   "outputs": [],
   "source": [
    "from selenium import webdriver\n",
    "from selenium.webdriver.common.by import By"
   ]
  },
  {
   "cell_type": "code",
   "execution_count": null,
   "metadata": {},
   "outputs": [],
   "source": [
    "driver = webdriver.Chrome(executable_path=\"/path/to/chromedriver\")\n",
    "driver"
   ]
  },
  {
   "cell_type": "code",
   "execution_count": null,
   "metadata": {},
   "outputs": [],
   "source": [
    "driver.get('http://kanview.ks.gov/PayRates/PayRates_Agency.aspx')"
   ]
  },
  {
   "attachments": {},
   "cell_type": "markdown",
   "metadata": {},
   "source": [
    "Suppose we want to find the details of all the employees that come under the agency - Adjutant General"
   ]
  },
  {
   "cell_type": "code",
   "execution_count": null,
   "metadata": {},
   "outputs": [],
   "source": [
    "agency = driver.find_element(By.LINK_TEXT, 'Adjutant General')\n",
    "agency"
   ]
  },
  {
   "cell_type": "code",
   "execution_count": null,
   "metadata": {},
   "outputs": [],
   "source": [
    "agency.click()"
   ]
  },
  {
   "cell_type": "code",
   "execution_count": null,
   "metadata": {},
   "outputs": [],
   "source": [
    "from bs4 import BeautifulSoup\n",
    "import pandas as pd\n",
    "\n",
    "dataFrameList = []\n",
    "\n",
    "for i in range(73): # There are a total of 72 jobs (inspect the webpage)\n",
    "    link = driver.find_element(By.ID, 'MainContent_uxLevel2_JobTitles_uxJobTitleBtn_' + str(i))\n",
    "    link.click()\n",
    "\n",
    "    data = BeautifulSoup(driver.page_source, 'lxml')\n",
    "    emp_table = data.table\n",
    "    df = pd.read_html(str(emp_table), header = 0)\n",
    "    dataFrameList.append(df[0]) # df[0] is actually containing the desired table\n",
    "    driver.back()"
   ]
  },
  {
   "cell_type": "code",
   "execution_count": null,
   "metadata": {},
   "outputs": [],
   "source": [
    "dataFrameList"
   ]
  },
  {
   "cell_type": "code",
   "execution_count": null,
   "metadata": {},
   "outputs": [],
   "source": [
    "from selenium.common.exceptions import NoSuchElementException\n",
    "\n",
    "dataFrameList = []\n",
    "i = 0\n",
    "\n",
    "while True:\n",
    "    try:\n",
    "        link = driver.find_element(By.ID, 'MainContent_uxLevel2_JobTitles_uxJobTitleBtn_' + str(i))\n",
    "        link.clic()\n",
    "\n",
    "        data = BeautifulSoup(driver.page_source, 'lxml')\n",
    "        emp_table = data.table\n",
    "        df = pd.read_html(str(emp_table), header = 0)\n",
    "        dataFrameList.append(df[0])\n",
    "        driver.back()\n",
    "        i += 1\n",
    "    \n",
    "    except NoSuchElementException:\n",
    "        break"
   ]
  },
  {
   "cell_type": "code",
   "execution_count": null,
   "metadata": {},
   "outputs": [],
   "source": [
    "dataFrameList"
   ]
  }
 ],
 "metadata": {
  "kernelspec": {
   "display_name": "Python 3",
   "language": "python",
   "name": "python3"
  },
  "language_info": {
   "codemirror_mode": {
    "name": "ipython",
    "version": 3
   },
   "file_extension": ".py",
   "mimetype": "text/x-python",
   "name": "python",
   "nbconvert_exporter": "python",
   "pygments_lexer": "ipython3",
   "version": "3.11.0 (main, Oct 24 2022, 18:26:48) [MSC v.1933 64 bit (AMD64)]"
  },
  "orig_nbformat": 4,
  "vscode": {
   "interpreter": {
    "hash": "cfc9a42ceb155f1f125b8a4bcd2b715739f099a6e3de280bb3102a0bd9e61a77"
   }
  }
 },
 "nbformat": 4,
 "nbformat_minor": 2
}
