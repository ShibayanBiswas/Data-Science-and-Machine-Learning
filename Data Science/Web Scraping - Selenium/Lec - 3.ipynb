{
 "cells": [
  {
   "cell_type": "code",
   "execution_count": 32,
   "metadata": {},
   "outputs": [],
   "source": [
    "from selenium import webdriver"
   ]
  },
  {
   "cell_type": "code",
   "execution_count": 33,
   "metadata": {},
   "outputs": [
    {
     "name": "stderr",
     "output_type": "stream",
     "text": [
      "C:\\Users\\SHIBAYAN BISWAS\\AppData\\Local\\Temp\\ipykernel_10800\\2017256349.py:1: DeprecationWarning: executable_path has been deprecated, please pass in a Service object\n",
      "  driver = webdriver.Chrome(executable_path=\"/path/to/chromedriver\")\n"
     ]
    },
    {
     "data": {
      "text/plain": [
       "<selenium.webdriver.chrome.webdriver.WebDriver (session=\"fb36fcacb0abed143df0c690be88cfa5\")>"
      ]
     },
     "execution_count": 33,
     "metadata": {},
     "output_type": "execute_result"
    }
   ],
   "source": [
    "driver = webdriver.Chrome(executable_path=\"/path/to/chromedriver\")\n",
    "driver"
   ]
  },
  {
   "cell_type": "code",
   "execution_count": 34,
   "metadata": {},
   "outputs": [],
   "source": [
    "driver.get('https://books.toscrape.com/')"
   ]
  },
  {
   "cell_type": "code",
   "execution_count": 35,
   "metadata": {},
   "outputs": [
    {
     "data": {
      "text/plain": [
       "<selenium.webdriver.remote.webelement.WebElement (session=\"fb36fcacb0abed143df0c690be88cfa5\", element=\"36cbacff-b6d5-49ad-8cf2-695c7b6731ca\")>"
      ]
     },
     "execution_count": 35,
     "metadata": {},
     "output_type": "execute_result"
    }
   ],
   "source": [
    "from selenium.webdriver.common.by import By\n",
    "cat_1 = driver.find_element(By.LINK_TEXT, 'Music')\n",
    "cat_1"
   ]
  },
  {
   "cell_type": "code",
   "execution_count": 36,
   "metadata": {},
   "outputs": [],
   "source": [
    "cat_1.click()"
   ]
  },
  {
   "cell_type": "code",
   "execution_count": 37,
   "metadata": {},
   "outputs": [],
   "source": [
    "from selenium.webdriver.common.by import By\n",
    "book_1 = driver.find_element(By.PARTIAL_LINK_TEXT, 'Kill')"
   ]
  },
  {
   "cell_type": "code",
   "execution_count": 38,
   "metadata": {},
   "outputs": [],
   "source": [
    "book_1.click()"
   ]
  },
  {
   "cell_type": "code",
   "execution_count": 39,
   "metadata": {},
   "outputs": [
    {
     "data": {
      "text/plain": [
       "<selenium.webdriver.remote.webelement.WebElement (session=\"fb36fcacb0abed143df0c690be88cfa5\", element=\"8c44cdbc-81ef-4362-acad-a815d3f7c509\")>"
      ]
     },
     "execution_count": 39,
     "metadata": {},
     "output_type": "execute_result"
    }
   ],
   "source": [
    "img_cont_1 = driver.find_element(By.CLASS_NAME, 'image_container')\n",
    "img_cont_1"
   ]
  },
  {
   "cell_type": "code",
   "execution_count": 40,
   "metadata": {},
   "outputs": [],
   "source": [
    "img_cont_1.click()"
   ]
  },
  {
   "cell_type": "code",
   "execution_count": 41,
   "metadata": {},
   "outputs": [
    {
     "data": {
      "text/plain": [
       "[<selenium.webdriver.remote.webelement.WebElement (session=\"fb36fcacb0abed143df0c690be88cfa5\", element=\"89c6dede-c44d-4183-b9de-bd63843ce70b\")>,\n",
       " <selenium.webdriver.remote.webelement.WebElement (session=\"fb36fcacb0abed143df0c690be88cfa5\", element=\"f038b4ab-4b0c-4219-8c63-6d50e8791674\")>,\n",
       " <selenium.webdriver.remote.webelement.WebElement (session=\"fb36fcacb0abed143df0c690be88cfa5\", element=\"3893da4e-125e-4a2c-b892-b8ce4161d03c\")>,\n",
       " <selenium.webdriver.remote.webelement.WebElement (session=\"fb36fcacb0abed143df0c690be88cfa5\", element=\"d842155b-1d8d-497b-b4f1-6956028f1259\")>,\n",
       " <selenium.webdriver.remote.webelement.WebElement (session=\"fb36fcacb0abed143df0c690be88cfa5\", element=\"8b2ea7e0-f206-4860-aa0d-6842eaa25a7a\")>,\n",
       " <selenium.webdriver.remote.webelement.WebElement (session=\"fb36fcacb0abed143df0c690be88cfa5\", element=\"df1429c9-51cf-4cb9-ad05-4e479c1f1518\")>]"
      ]
     },
     "execution_count": 41,
     "metadata": {},
     "output_type": "execute_result"
    }
   ],
   "source": [
    "li = driver.find_elements(By.CLASS_NAME, 'image_container')\n",
    "li"
   ]
  },
  {
   "cell_type": "code",
   "execution_count": 42,
   "metadata": {},
   "outputs": [
    {
     "name": "stdout",
     "output_type": "stream",
     "text": [
      "6\n"
     ]
    }
   ],
   "source": [
    "print(len(li))"
   ]
  }
 ],
 "metadata": {
  "kernelspec": {
   "display_name": "Python 3",
   "language": "python",
   "name": "python3"
  },
  "language_info": {
   "codemirror_mode": {
    "name": "ipython",
    "version": 3
   },
   "file_extension": ".py",
   "mimetype": "text/x-python",
   "name": "python",
   "nbconvert_exporter": "python",
   "pygments_lexer": "ipython3",
   "version": "3.11.0"
  },
  "orig_nbformat": 4,
  "vscode": {
   "interpreter": {
    "hash": "cfc9a42ceb155f1f125b8a4bcd2b715739f099a6e3de280bb3102a0bd9e61a77"
   }
  }
 },
 "nbformat": 4,
 "nbformat_minor": 2
}
