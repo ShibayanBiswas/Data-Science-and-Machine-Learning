{
 "cells": [
  {
   "cell_type": "code",
   "execution_count": null,
   "metadata": {},
   "outputs": [],
   "source": [
    "import csv\n",
    "\n",
    "with open('Datasets/year2017.csv') as file_obj :\n",
    "    file_data = csv.DictReader(file_obj, skipinitialspace = True)\n",
    "    file_list = list(file_data) \n",
    "\n",
    "country_killed = {}\n",
    "for row in file_list :\n",
    "    key = row['Country']\n",
    "    value = row['Killed']\n",
    "    \n",
    "    if value != '' :\n",
    "        value = int(float(value))\n",
    "    else :\n",
    "        value = 0\n",
    "        \n",
    "    if key in country_killed :\n",
    "        country_killed[key] += value\n",
    "    else :\n",
    "        country_killed[key] = value"
   ]
  }
 ],
 "metadata": {
  "kernelspec": {
   "display_name": "Python 3",
   "language": "python",
   "name": "python3"
  },
  "language_info": {
   "codemirror_mode": {
    "name": "ipython",
    "version": 3
   },
   "file_extension": ".py",
   "mimetype": "text/x-python",
   "name": "python",
   "nbconvert_exporter": "python",
   "pygments_lexer": "ipython3",
   "version": "3.6.3"
  }
 },
 "nbformat": 4,
 "nbformat_minor": 2
}
