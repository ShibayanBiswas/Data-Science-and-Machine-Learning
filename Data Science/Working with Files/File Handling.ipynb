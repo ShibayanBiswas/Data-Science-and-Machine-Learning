{
  "nbformat": 4,
  "nbformat_minor": 0,
  "metadata": {
    "colab": {
      "name": "Working with Files notes.ipynb",
      "provenance": [],
      "collapsed_sections": []
    },
    "kernelspec": {
      "name": "python3",
      "display_name": "Python 3"
    }
  },
  "cells": [
    {
      "cell_type": "markdown",
      "metadata": {
        "id": "ZUOinR4_gOu4"
      },
      "source": [
        "#**Working with Files**"
      ]
    },
    {
      "cell_type": "markdown",
      "metadata": {
        "id": "RF0dpOcU4x5W"
      },
      "source": [
        "**What will you learn?**\r\n",
        "1. **Text Files** : Opening, Reading and Writing\r\n",
        "2. **CSV Files** : Opening, Reading and Writing"
      ]
    },
    {
      "cell_type": "markdown",
      "metadata": {
        "id": "AdeVeoTSgSt-"
      },
      "source": [
        "##**Text Files**"
      ]
    },
    {
      "cell_type": "markdown",
      "metadata": {
        "id": "gS1K7OAQm2hl"
      },
      "source": [
        "###**Opening Text Files**"
      ]
    },
    {
      "cell_type": "markdown",
      "metadata": {
        "id": "nEiX7POnh6tN"
      },
      "source": [
        "####**open()**"
      ]
    },
    {
      "cell_type": "markdown",
      "metadata": {
        "id": "1-dZHwMoh3um"
      },
      "source": [
        "The key function for working with files in Python is the open() function.\r\n",
        "\r\n",
        "The open() function takes two parameters; filename, and mode.\r\n",
        "\r\n",
        "There are four different methods (modes) for opening a file:\r\n",
        "\r\n",
        "1. **\"r\"** - Read - Default value. Opens a file for reading, error if the file does not exist\r\n",
        "2. **\"a\"** - Append - Opens a file for appending, creates the file if it does not exist\r\n",
        "3. **\"w\"** - Write - Opens a file for writing, creates the file if it does not exist\r\n",
        "4. **\"x\"** - Create - Creates the specified file, returns an error if the file exists\r\n",
        "\r\n",
        "In addition you can specify if the file should be handled as binary or text mode\r\n",
        "\r\n",
        "1. **\"t\"** - Text - Default value. Text mode\r\n",
        "2. **\"b\"** - Binary - Binary mode (e.g. images)"
      ]
    },
    {
      "cell_type": "code",
      "metadata": {
        "colab": {
          "base_uri": "https://localhost:8080/"
        },
        "id": "RujR1-BAi1d6",
        "outputId": "c4d3d6a4-73be-441f-f9c9-c5eb5196d10b"
      },
      "source": [
        "!wget https://files.codingninjas.in/sample-7766.txt                            ## Downloading the sample text file from our server"
      ],
      "execution_count": null,
      "outputs": [
        {
          "output_type": "stream",
          "text": [
            "--2021-02-01 19:14:31--  https://files.codingninjas.in/sample-7766.txt\n",
            "Resolving files.codingninjas.in (files.codingninjas.in)... 52.84.161.83, 52.84.161.68, 52.84.161.34, ...\n",
            "Connecting to files.codingninjas.in (files.codingninjas.in)|52.84.161.83|:443... connected.\n",
            "HTTP request sent, awaiting response... 200 OK\n",
            "Length: 6737 (6.6K)\n",
            "Saving to: ‘sample-7766.txt’\n",
            "\n",
            "sample-7766.txt     100%[===================>]   6.58K  --.-KB/s    in 0s      \n",
            "\n",
            "2021-02-01 19:14:32 (642 MB/s) - ‘sample-7766.txt’ saved [6737/6737]\n",
            "\n"
          ],
          "name": "stdout"
        }
      ]
    },
    {
      "cell_type": "code",
      "metadata": {
        "id": "GFz2nN2EhdJ_"
      },
      "source": [
        "file_obj = open('sample-7766.txt', 'r')                    ## If you want to open a file saved on your PC, you need to define its path"
      ],
      "execution_count": null,
      "outputs": []
    },
    {
      "cell_type": "markdown",
      "metadata": {
        "id": "jBNb5_wagT1p"
      },
      "source": [
        "###**Reading Text Files**"
      ]
    },
    {
      "cell_type": "markdown",
      "metadata": {
        "id": "lfZfDwBhjNlS"
      },
      "source": [
        "####**read()**"
      ]
    },
    {
      "cell_type": "markdown",
      "metadata": {
        "id": "cwMCx2zfjkbQ"
      },
      "source": [
        "By default the read() method returns the whole text"
      ]
    },
    {
      "cell_type": "code",
      "metadata": {
        "colab": {
          "base_uri": "https://localhost:8080/",
          "height": 137
        },
        "id": "ji3F0KCzhnrw",
        "outputId": "c5ba690d-b735-4981-b8aa-4e5d88cc2e54"
      },
      "source": [
        "file_data = file_obj.read()\r\n",
        "print(type(file_data))\r\n",
        "file_data"
      ],
      "execution_count": null,
      "outputs": [
        {
          "output_type": "stream",
          "text": [
            "<class 'str'>\n"
          ],
          "name": "stdout"
        },
        {
          "output_type": "execute_result",
          "data": {
            "application/vnd.google.colaboratory.intrinsic+json": {
              "type": "string"
            },
            "text/plain": [
              "'Lorem ipsum dolor sit amet, consectetur adipiscing elit. Vivamus condimentum sagittis lacus, laoreet luctus ligula laoreet ut. Vestibulum ullamcorper accumsan velit vel vehicula. Proin tempor lacus arcu. Nunc at elit condimentum, semper nisi et, condimentum mi. In venenatis blandit nibh at sollicitudin. Vestibulum dapibus mauris at orci maximus pellentesque. Nullam id elementum ipsum. Suspendisse cursus lobortis viverra. Proin et erat at mauris tincidunt porttitor vitae ac dui.\\nDonec vulputate lorem tortor, nec fermentum nibh bibendum vel. Lorem ipsum dolor sit amet, consectetur adipiscing elit. Praesent dictum luctus massa, non euismod lacus. Pellentesque condimentum dolor est, ut dapibus lectus luctus ac. Ut sagittis commodo arcu. Integer nisi nulla, facilisis sit amet nulla quis, eleifend suscipit purus. Class aptent taciti sociosqu ad litora torquent per conubia nostra, per inceptos himenaeos. Aliquam euismod ultrices lorem, sit amet imperdiet est tincidunt vel. Phasellus dictum justo sit amet ligula varius aliquet auctor et metus. Fusce vitae tortor et nisi pulvinar vestibulum eget in risus. Donec ante ex, placerat a lorem eget, ultricies bibendum purus. Nam sit amet neque non ante laoreet rutrum. Nullam aliquet commodo urna, sed ullamcorper odio feugiat id. Mauris nisi sapien, porttitor in condimentum nec, venenatis eu urna. Pellentesque feugiat diam est, at rhoncus orci porttitor non.\\nNulla luctus sem sit amet nisi consequat, id ornare ipsum dignissim. Sed elementum elit nibh, eu condimentum orci viverra quis. Aenean suscipit vitae felis non suscipit. Suspendisse pharetra turpis non eros semper dictum. Etiam tincidunt venenatis venenatis. Praesent eget gravida lorem, ut congue diam. Etiam facilisis elit at porttitor egestas. Praesent consequat, velit non vulputate convallis, ligula diam sagittis urna, in venenatis nisi justo ut mauris. Vestibulum posuere sollicitudin mi, et vulputate nisl fringilla non. Nulla ornare pretium velit a euismod. Nunc sagittis venenatis vestibulum. Nunc sodales libero a est ornare ultricies. Sed sed leo sed orci pellentesque ultrices. Mauris sollicitudin, sem quis placerat ornare, velit arcu convallis ligula, pretium finibus nisl sapien vel sem. Vivamus sit amet tortor id lorem consequat hendrerit. Nullam at dui risus.\\nVestibulum ante ipsum primis in faucibus orci luctus et ultrices posuere cubilia Curae; Lorem ipsum dolor sit amet, consectetur adipiscing elit. Sed feugiat semper velit consequat facilisis. Etiam facilisis justo non iaculis dictum. Fusce turpis neque, pharetra ut odio eu, hendrerit rhoncus lacus. Nunc orci felis, imperdiet vel interdum quis, porta eu ipsum. Pellentesque dictum sem lacinia, auctor dui in, malesuada nunc. Maecenas sit amet mollis eros. Proin fringilla viverra ligula, sollicitudin viverra ante sollicitudin congue. Donec mollis felis eu libero malesuada, et lacinia risus interdum.\\nEtiam vitae accumsan augue. Ut urna orci, malesuada ut nisi a, condimentum gravida magna. Nulla bibendum ex in vulputate sagittis. Nulla facilisi. Nullam faucibus et metus ac consequat. Quisque tempor eros velit, id mattis nibh aliquet a. Aenean tempor elit ut finibus auctor. Sed at imperdiet mauris. Vestibulum pharetra non lacus sed pulvinar. Sed pellentesque magna a eros volutpat ullamcorper. In hac habitasse platea dictumst. Donec ipsum mi, feugiat in eros sed, varius lacinia turpis. Donec vulputate tincidunt dui ac laoreet. Sed in eros dui. Pellentesque placerat tristique ligula eu finibus. Proin nec faucibus felis, eu commodo ipsum.\\nInteger eu hendrerit diam, sed consectetur nunc. Aliquam a sem vitae leo fermentum faucibus quis at sem. Etiam blandit, quam quis fermentum varius, ante urna ultricies lectus, vel pellentesque ligula arcu nec elit. Donec placerat ante in enim scelerisque pretium. Donec et rhoncus erat. Aenean tempor nisi vitae augue tincidunt luctus. Nam condimentum dictum ante, et laoreet neque pellentesque id. Curabitur consectetur cursus neque aliquam porta. Ut interdum nunc nec nibh vestibulum, in sagittis metus facilisis. Pellentesque feugiat condimentum metus. Etiam venenatis quam at ante rhoncus vestibulum. Maecenas suscipit congue pellentesque. Vestibulum suscipit scelerisque fermentum. Nulla iaculis risus ac vulputate porttitor.\\n\\nMauris nec metus vel dolor blandit faucibus et vel magna. Ut tincidunt ipsum non nunc dapibus, sed blandit mi condimentum. Quisque pharetra interdum quam nec feugiat. Sed pellentesque nulla et turpis blandit interdum. Curabitur at metus vitae augue elementum viverra. Sed mattis lorem non enim fermentum finibus. Sed at dui in magna dignissim accumsan. Proin tincidunt ultricies cursus. Maecenas tincidunt magna at urna faucibus lacinia.\\n\\nQuisque venenatis justo sit amet tortor condimentum, nec tincidunt tellus viverra. Morbi risus ipsum, consequat convallis malesuada non, fermentum non velit. Nulla facilisis orci eget ligula mattis fermentum. Aliquam vel velit ultricies, sollicitudin nibh eu, congue velit. Donec nulla lorem, euismod id cursus at, sollicitudin et arcu. Proin vitae tincidunt ipsum. Vivamus elementum eleifend justo, placerat interdum nulla rutrum id.\\n\\nPhasellus fringilla luctus magna, a finibus justo dapibus a. Nam risus felis, rhoncus eget diam sit amet, congue facilisis nibh. Interdum et malesuada fames ac ante ipsum primis in faucibus. Praesent consequat euismod diam, eget volutpat magna convallis at. Mauris placerat pellentesque imperdiet. Nulla porta scelerisque enim, et scelerisque neque bibendum in. Proin eget turpis nisi. Suspendisse ut est a erat egestas eleifend at euismod arcu. Donec aliquet, nisi sed faucibus condimentum, nisi metus dictum eros, nec dignissim justo odio id nulla. Pellentesque habitant morbi tristique senectus et netus et malesuada fames ac turpis egestas. Maecenas sollicitudin, justo id elementum eleifend, justo neque aliquet nibh, finibus malesuada metus erat eget neque. Suspendisse nec auctor orci. Aenean et vestibulum nulla. Nullam hendrerit augue tristique, commodo metus id, sodales lorem. Etiam feugiat dui est, vitae auctor risus convallis non.\\n\\nMaecenas turpis enim, consectetur eget lectus eu, hendrerit posuere lacus. Praesent efficitur, felis eget dapibus consectetur, nisi massa dignissim enim, nec semper dolor est eu urna. Nullam ut sodales lorem. Aliquam dapibus faucibus diam. Vestibulum vel magna et dolor gravida imperdiet ut sit amet sem. Lorem ipsum dolor sit amet, consectetur adipiscing elit. Curabitur elementum metus tincidunt nulla euismod ultricies. Duis elementum nec neque in porttitor. Nulla sagittis lorem elit, et consectetur ante laoreet eu. Maecenas nulla tellus, scelerisque ac erat sed, fermentum dapibus metus. Donec tincidunt fermentum molestie.'"
            ]
          },
          "metadata": {
            "tags": []
          },
          "execution_count": 3
        }
      ]
    },
    {
      "cell_type": "markdown",
      "metadata": {
        "id": "CYBpLQS6jbzC"
      },
      "source": [
        "But you can also specify how many characters you want to return:"
      ]
    },
    {
      "cell_type": "code",
      "metadata": {
        "colab": {
          "base_uri": "https://localhost:8080/",
          "height": 35
        },
        "id": "Om1T6JBhjENT",
        "outputId": "3ccf012a-8041-482d-e6c3-d0c1d213922e"
      },
      "source": [
        "file_obj = open('sample-7766.txt', 'r')     \r\n",
        "file_data = file_obj.read(100)\r\n",
        "file_data"
      ],
      "execution_count": null,
      "outputs": [
        {
          "output_type": "execute_result",
          "data": {
            "application/vnd.google.colaboratory.intrinsic+json": {
              "type": "string"
            },
            "text/plain": [
              "'Lorem ipsum dolor sit amet, consectetur adipiscing elit. Vivamus condimentum sagittis lacus, laoreet'"
            ]
          },
          "metadata": {
            "tags": []
          },
          "execution_count": 4
        }
      ]
    },
    {
      "cell_type": "markdown",
      "metadata": {
        "id": "nJf8CbyIkl1M"
      },
      "source": [
        "####**readline()**"
      ]
    },
    {
      "cell_type": "markdown",
      "metadata": {
        "id": "EKKy3bMIkpMh"
      },
      "source": [
        "You can return one line by using the readline() method:"
      ]
    },
    {
      "cell_type": "code",
      "metadata": {
        "colab": {
          "base_uri": "https://localhost:8080/"
        },
        "id": "cn3Byo8Zjvax",
        "outputId": "b7f32d1c-bf13-478e-c370-468c6dbb5365"
      },
      "source": [
        "file_obj = open('sample-7766.txt', 'r')     \r\n",
        "file_data = file_obj.readline()     ## Reads first line\r\n",
        "print(file_data)\r\n",
        "\r\n",
        "## Reads next two lines\r\n",
        "print('Next Two Lines')\r\n",
        "print()\r\n",
        "print(file_obj.readline())          ## Second Line\r\n",
        "print(file_obj.readline())          ## Third"
      ],
      "execution_count": null,
      "outputs": [
        {
          "output_type": "stream",
          "text": [
            "Lorem ipsum dolor sit amet, consectetur adipiscing elit. Vivamus condimentum sagittis lacus, laoreet luctus ligula laoreet ut. Vestibulum ullamcorper accumsan velit vel vehicula. Proin tempor lacus arcu. Nunc at elit condimentum, semper nisi et, condimentum mi. In venenatis blandit nibh at sollicitudin. Vestibulum dapibus mauris at orci maximus pellentesque. Nullam id elementum ipsum. Suspendisse cursus lobortis viverra. Proin et erat at mauris tincidunt porttitor vitae ac dui.\n",
            "\n",
            "Next Two Lines\n",
            "\n",
            "Donec vulputate lorem tortor, nec fermentum nibh bibendum vel. Lorem ipsum dolor sit amet, consectetur adipiscing elit. Praesent dictum luctus massa, non euismod lacus. Pellentesque condimentum dolor est, ut dapibus lectus luctus ac. Ut sagittis commodo arcu. Integer nisi nulla, facilisis sit amet nulla quis, eleifend suscipit purus. Class aptent taciti sociosqu ad litora torquent per conubia nostra, per inceptos himenaeos. Aliquam euismod ultrices lorem, sit amet imperdiet est tincidunt vel. Phasellus dictum justo sit amet ligula varius aliquet auctor et metus. Fusce vitae tortor et nisi pulvinar vestibulum eget in risus. Donec ante ex, placerat a lorem eget, ultricies bibendum purus. Nam sit amet neque non ante laoreet rutrum. Nullam aliquet commodo urna, sed ullamcorper odio feugiat id. Mauris nisi sapien, porttitor in condimentum nec, venenatis eu urna. Pellentesque feugiat diam est, at rhoncus orci porttitor non.\n",
            "\n",
            "Nulla luctus sem sit amet nisi consequat, id ornare ipsum dignissim. Sed elementum elit nibh, eu condimentum orci viverra quis. Aenean suscipit vitae felis non suscipit. Suspendisse pharetra turpis non eros semper dictum. Etiam tincidunt venenatis venenatis. Praesent eget gravida lorem, ut congue diam. Etiam facilisis elit at porttitor egestas. Praesent consequat, velit non vulputate convallis, ligula diam sagittis urna, in venenatis nisi justo ut mauris. Vestibulum posuere sollicitudin mi, et vulputate nisl fringilla non. Nulla ornare pretium velit a euismod. Nunc sagittis venenatis vestibulum. Nunc sodales libero a est ornare ultricies. Sed sed leo sed orci pellentesque ultrices. Mauris sollicitudin, sem quis placerat ornare, velit arcu convallis ligula, pretium finibus nisl sapien vel sem. Vivamus sit amet tortor id lorem consequat hendrerit. Nullam at dui risus.\n",
            "\n"
          ],
          "name": "stdout"
        }
      ]
    },
    {
      "cell_type": "markdown",
      "metadata": {
        "id": "sUt2fOK9lVrg"
      },
      "source": [
        "####**readlines()**"
      ]
    },
    {
      "cell_type": "markdown",
      "metadata": {
        "id": "gJcBp3NWlj1H"
      },
      "source": [
        "You can return all lines by using the readline() method:"
      ]
    },
    {
      "cell_type": "code",
      "metadata": {
        "colab": {
          "base_uri": "https://localhost:8080/"
        },
        "id": "eaBsExeOk4yw",
        "outputId": "6e035db5-c347-4bfe-b8e7-fa18bf6fb769"
      },
      "source": [
        "file_obj = open('sample-7766.txt', 'r')   \r\n",
        "file_data = file_obj.readlines()\r\n",
        "print(type(file_data))\r\n",
        "print(len(file_data))\r\n",
        "print(file_data[3])       ## Printing the 3rd line from list of lines\r\n",
        "file_obj.close()          ## Closing the file"
      ],
      "execution_count": null,
      "outputs": [
        {
          "output_type": "stream",
          "text": [
            "<class 'list'>\n",
            "14\n",
            "Vestibulum ante ipsum primis in faucibus orci luctus et ultrices posuere cubilia Curae; Lorem ipsum dolor sit amet, consectetur adipiscing elit. Sed feugiat semper velit consequat facilisis. Etiam facilisis justo non iaculis dictum. Fusce turpis neque, pharetra ut odio eu, hendrerit rhoncus lacus. Nunc orci felis, imperdiet vel interdum quis, porta eu ipsum. Pellentesque dictum sem lacinia, auctor dui in, malesuada nunc. Maecenas sit amet mollis eros. Proin fringilla viverra ligula, sollicitudin viverra ante sollicitudin congue. Donec mollis felis eu libero malesuada, et lacinia risus interdum.\n",
            "\n"
          ],
          "name": "stdout"
        }
      ]
    },
    {
      "cell_type": "code",
      "metadata": {
        "colab": {
          "base_uri": "https://localhost:8080/",
          "height": 162
        },
        "id": "2-V5YyGJlabH",
        "outputId": "14cffb8b-b25f-49ec-e11e-fe5f624b5c46"
      },
      "source": [
        "file_data = file_obj.readlines(100)        ## Error generator because we closed the file"
      ],
      "execution_count": null,
      "outputs": [
        {
          "output_type": "error",
          "ename": "ValueError",
          "evalue": "ignored",
          "traceback": [
            "\u001b[0;31m---------------------------------------------------------------------------\u001b[0m",
            "\u001b[0;31mValueError\u001b[0m                                Traceback (most recent call last)",
            "\u001b[0;32m<ipython-input-7-a2980293ae0f>\u001b[0m in \u001b[0;36m<module>\u001b[0;34m()\u001b[0m\n\u001b[0;32m----> 1\u001b[0;31m \u001b[0mfile_data\u001b[0m \u001b[0;34m=\u001b[0m \u001b[0mfile_obj\u001b[0m\u001b[0;34m.\u001b[0m\u001b[0mreadlines\u001b[0m\u001b[0;34m(\u001b[0m\u001b[0;36m100\u001b[0m\u001b[0;34m)\u001b[0m        \u001b[0;31m## Error generator because we closed the file\u001b[0m\u001b[0;34m\u001b[0m\u001b[0;34m\u001b[0m\u001b[0m\n\u001b[0m",
            "\u001b[0;31mValueError\u001b[0m: I/O operation on closed file."
          ]
        }
      ]
    },
    {
      "cell_type": "markdown",
      "metadata": {
        "id": "KqVTDxRVl6bh"
      },
      "source": [
        "###**Shorthand for files**"
      ]
    },
    {
      "cell_type": "markdown",
      "metadata": {
        "id": "UrN-wUzVl9YD"
      },
      "source": [
        "Using this shorthand, we avoid using the close() function with the file objects."
      ]
    },
    {
      "cell_type": "code",
      "metadata": {
        "id": "WGQ8hwEdlgmA"
      },
      "source": [
        "with open('sample-7766.txt', 'r') as file_obj :\r\n",
        "    file_data = file_obj.readlines()\r\n",
        "    \r\n",
        "print(file_data[1])"
      ],
      "execution_count": null,
      "outputs": []
    },
    {
      "cell_type": "markdown",
      "metadata": {
        "id": "W3LWyaQGmIHj"
      },
      "source": [
        "The scope of the file object is inside the 'with' block only. Hence we need not use the close() function separately now."
      ]
    },
    {
      "cell_type": "markdown",
      "metadata": {
        "id": "KCVcnX7km-lt"
      },
      "source": [
        "##**CSV Files**"
      ]
    },
    {
      "cell_type": "markdown",
      "metadata": {
        "id": "9va5MAYhm-jg"
      },
      "source": [
        "We may use the readlines() functions to read a CSV file too, but the problem with that is, it retreives each row as one bit string. Hence separating the columns becomes a difficult task."
      ]
    },
    {
      "cell_type": "code",
      "metadata": {
        "id": "H0NdwHp9nhww"
      },
      "source": [
        "!wget https://files.codingninjas.in/year2017-7767.csv"
      ],
      "execution_count": null,
      "outputs": []
    },
    {
      "cell_type": "code",
      "metadata": {
        "id": "vYXYseKqnbWQ"
      },
      "source": [
        "with open('year2017-7767.csv', 'r') as file_obj :\r\n",
        "    file_data = file_obj.readlines()\r\n",
        "    \r\n",
        "print(file_data[:5])"
      ],
      "execution_count": null,
      "outputs": []
    },
    {
      "cell_type": "markdown",
      "metadata": {
        "id": "-3vTQOs9m-hX"
      },
      "source": [
        "To open and read in a more efficient manner, we use the CSV module of python."
      ]
    },
    {
      "cell_type": "markdown",
      "metadata": {
        "id": "py7pu6KXm-fV"
      },
      "source": [
        "###**Opening and Reading CSV Files**"
      ]
    },
    {
      "cell_type": "markdown",
      "metadata": {
        "id": "w4_9Na-gt3So"
      },
      "source": [
        "####**csv.reader()**"
      ]
    },
    {
      "cell_type": "code",
      "metadata": {
        "id": "d5U9YU9DtiqG"
      },
      "source": [
        "import csv\r\n",
        "with open('year2017-7767.csv') as file_obj :\r\n",
        "    file_data = csv.reader(file_obj)\r\n",
        "    \r\n",
        "    for row in file_data :\r\n",
        "        print(row)\r\n",
        "    \r\n",
        "print(type(file_data))"
      ],
      "execution_count": null,
      "outputs": []
    },
    {
      "cell_type": "markdown",
      "metadata": {
        "id": "8XqEGByStoZd"
      },
      "source": [
        "Now, we are getting each row as a separate list, with each column as a different element inside that list."
      ]
    },
    {
      "cell_type": "markdown",
      "metadata": {
        "id": "BC9x22oguqZJ"
      },
      "source": [
        "####**CSV files with Custom Delimiters**"
      ]
    },
    {
      "cell_type": "markdown",
      "metadata": {
        "id": "l4akAX-8uoHl"
      },
      "source": [
        "By default, a comma is used as a delimiter in a CSV file. However, some CSV files can use delimiters other than a comma. Few popular ones are | and \\t."
      ]
    },
    {
      "cell_type": "code",
      "metadata": {
        "colab": {
          "base_uri": "https://localhost:8080/"
        },
        "id": "XTPA2wwbEH6L",
        "outputId": "20ccffaf-ce45-4da9-ff71-d9725673250f"
      },
      "source": [
        "!wget https://files.codingninjas.in/sample_delim-7772.csv"
      ],
      "execution_count": null,
      "outputs": [
        {
          "output_type": "stream",
          "text": [
            "--2021-02-01 19:27:36--  https://files.codingninjas.in/sample_delim-7772.csv\n",
            "Resolving files.codingninjas.in (files.codingninjas.in)... 52.84.161.83, 52.84.161.34, 52.84.161.46, ...\n",
            "Connecting to files.codingninjas.in (files.codingninjas.in)|52.84.161.83|:443... connected.\n",
            "HTTP request sent, awaiting response... 200 OK\n",
            "Length: 326\n",
            "Saving to: ‘sample_delim-7772.csv’\n",
            "\n",
            "sample_delim-7772.c 100%[===================>]     326  --.-KB/s    in 0s      \n",
            "\n",
            "2021-02-01 19:27:37 (77.3 MB/s) - ‘sample_delim-7772.csv’ saved [326/326]\n",
            "\n"
          ],
          "name": "stdout"
        }
      ]
    },
    {
      "cell_type": "markdown",
      "metadata": {
        "id": "9VD5u79xEQmR"
      },
      "source": [
        "**Without Delimiter**"
      ]
    },
    {
      "cell_type": "code",
      "metadata": {
        "colab": {
          "base_uri": "https://localhost:8080/"
        },
        "id": "4_UnsogCEL0y",
        "outputId": "a6d53457-8e14-4961-b94e-06778f490355"
      },
      "source": [
        "import csv\r\n",
        "with open('sample_delim-7772.csv') as file:\r\n",
        "    reader = csv.reader(file)\r\n",
        "    for row in reader:\r\n",
        "        print(row)"
      ],
      "execution_count": null,
      "outputs": [
        {
          "output_type": "stream",
          "text": [
            "['Year|   Month|    Day|    Country|    Region|    City']\n",
            "['2017|   1|    2|    Afghanistan|    Region|    Takhta Pul']\n",
            "['2017|   1|    3|    Sudan|    Sub-Saharan Africa|    Fantaga']\n",
            "['2017|   1|    1|    Democratic Republic of the Congo|    Region|    Sabako']\n",
            "['2017|   1|    1|    Democratic Republic of the Congo|    Region|    Bialee']\n"
          ],
          "name": "stdout"
        }
      ]
    },
    {
      "cell_type": "markdown",
      "metadata": {
        "id": "a2aTRrCHEe1Z"
      },
      "source": [
        "Each column is retrieved as a single string, we do not want that."
      ]
    },
    {
      "cell_type": "markdown",
      "metadata": {
        "id": "mUVS0PG_EUCv"
      },
      "source": [
        "**With Delimiter**"
      ]
    },
    {
      "cell_type": "code",
      "metadata": {
        "id": "plN2MyPitioK",
        "colab": {
          "base_uri": "https://localhost:8080/"
        },
        "outputId": "4f5c3bc7-c344-431f-d8e1-426f09efb171"
      },
      "source": [
        "import csv\r\n",
        "with open('sample_delim-7772.csv') as file:\r\n",
        "    reader = csv.reader(file, delimiter = '|')\r\n",
        "    for row in reader:\r\n",
        "        print(row)"
      ],
      "execution_count": null,
      "outputs": [
        {
          "output_type": "stream",
          "text": [
            "['Year', '   Month', '    Day', '    Country', '    Region', '    City']\n",
            "['2017', '   1', '    2', '    Afghanistan', '    Region', '    Takhta Pul']\n",
            "['2017', '   1', '    3', '    Sudan', '    Sub-Saharan Africa', '    Fantaga']\n",
            "['2017', '   1', '    1', '    Democratic Republic of the Congo', '    Region', '    Sabako']\n",
            "['2017', '   1', '    1', '    Democratic Republic of the Congo', '    Region', '    Bialee']\n"
          ],
          "name": "stdout"
        }
      ]
    },
    {
      "cell_type": "markdown",
      "metadata": {
        "id": "ptCR3174EbCw"
      },
      "source": [
        "Now, we have separated each column successfully. But did you notice that there is some initial space before each column entry. Lets see how we can remove that."
      ]
    },
    {
      "cell_type": "markdown",
      "metadata": {
        "id": "iTVb1yy6m-da"
      },
      "source": [
        "####**CSV files with initial spaces**"
      ]
    },
    {
      "cell_type": "markdown",
      "metadata": {
        "id": "BTJ2l2GCvTua"
      },
      "source": [
        "Some CSV files can have a space character after a delimiter. When we use the default csv.reader() function to read these CSV files, we will get spaces in the output as well.\r\n",
        "\r\n",
        "To remove these initial spaces, we need to pass an additional parameter called skipinitialspace."
      ]
    },
    {
      "cell_type": "code",
      "metadata": {
        "id": "oOTOqRAdu8fD",
        "colab": {
          "base_uri": "https://localhost:8080/"
        },
        "outputId": "51875e52-dc05-447c-efe3-4a7e4afda5a5"
      },
      "source": [
        "import csv\r\n",
        "with open('sample_delim-7772.csv', ) as csvfile:\r\n",
        "    reader = csv.reader(csvfile, delimiter = '|', skipinitialspace=True)\r\n",
        "    for row in reader:\r\n",
        "        print(row)"
      ],
      "execution_count": null,
      "outputs": [
        {
          "output_type": "stream",
          "text": [
            "['Year', 'Month', 'Day', 'Country', 'Region', 'City']\n",
            "['2017', '1', '2', 'Afghanistan', 'Region', 'Takhta Pul']\n",
            "['2017', '1', '3', 'Sudan', 'Sub-Saharan Africa', 'Fantaga']\n",
            "['2017', '1', '1', 'Democratic Republic of the Congo', 'Region', 'Sabako']\n",
            "['2017', '1', '1', 'Democratic Republic of the Congo', 'Region', 'Bialee']\n"
          ],
          "name": "stdout"
        }
      ]
    },
    {
      "cell_type": "markdown",
      "metadata": {
        "id": "Votn0tcAu89t"
      },
      "source": [
        "####**Dialects in CSV module**"
      ]
    },
    {
      "cell_type": "markdown",
      "metadata": {
        "id": "MkMqXZ32vgPj"
      },
      "source": [
        "We have passed multiple parameters (quoting and skipinitialspace) to the csv.reader() function.\r\n",
        "\r\n",
        "This practice is acceptable when dealing with one or two files. But it will make the code more redundant and ugly once we start working with multiple CSV files with similar formats.\r\n",
        "\r\n",
        "As a solution to this, the csv module offers dialect as an optional parameter.\r\n",
        "\r\n",
        "Dialect helps in grouping together many specific formatting patterns like delimiter, skipinitialspace, quoting, escapechar into a single dialect name.\r\n",
        "\r\n",
        "It can then be passed as a parameter to multiple writer or reader instances."
      ]
    },
    {
      "cell_type": "code",
      "metadata": {
        "id": "2QpELWrXvNYx",
        "colab": {
          "base_uri": "https://localhost:8080/"
        },
        "outputId": "9452985f-c04d-4acf-9044-c0883f2ad849"
      },
      "source": [
        "import csv\r\n",
        "csv.register_dialect('myDialect',\r\n",
        "                     delimiter='|',\r\n",
        "                     skipinitialspace=True)\r\n",
        "\r\n",
        "with open('sample_delim-7772.csv', 'r') as csvfile:\r\n",
        "    reader = csv.reader(csvfile, dialect='myDialect')\r\n",
        "    for row in reader:\r\n",
        "        print(row)"
      ],
      "execution_count": null,
      "outputs": [
        {
          "output_type": "stream",
          "text": [
            "['Year', 'Month', 'Day', 'Country', 'Region', 'City']\n",
            "['2017', '1', '2', 'Afghanistan', 'Region', 'Takhta Pul']\n",
            "['2017', '1', '3', 'Sudan', 'Sub-Saharan Africa', 'Fantaga']\n",
            "['2017', '1', '1', 'Democratic Republic of the Congo', 'Region', 'Sabako']\n",
            "['2017', '1', '1', 'Democratic Republic of the Congo', 'Region', 'Bialee']\n"
          ],
          "name": "stdout"
        }
      ]
    },
    {
      "cell_type": "markdown",
      "metadata": {
        "id": "WwGOTUOfvNpz"
      },
      "source": [
        "####**csv.DictReader()**"
      ]
    },
    {
      "cell_type": "markdown",
      "metadata": {
        "id": "YG9wWzsnvSgS"
      },
      "source": [
        "The objects of a csv.DictReader() class can be used to read a CSV file as a dictionary."
      ]
    },
    {
      "cell_type": "code",
      "metadata": {
        "colab": {
          "base_uri": "https://localhost:8080/"
        },
        "id": "qlWPAwCKGOzx",
        "outputId": "a668935c-3bbf-49f9-c5d7-d0deee92894a"
      },
      "source": [
        "import csv\r\n",
        "with open('sample_delim-7772.csv', 'r') as file:\r\n",
        "    csv_file = csv.DictReader(file, dialect='myDialect')\r\n",
        "    for row in csv_file:\r\n",
        "        print(dict(row))"
      ],
      "execution_count": null,
      "outputs": [
        {
          "output_type": "stream",
          "text": [
            "{'Year': '2017', 'Month': '1', 'Day': '2', 'Country': 'Afghanistan', 'Region': 'Region', 'City': 'Takhta Pul'}\n",
            "{'Year': '2017', 'Month': '1', 'Day': '3', 'Country': 'Sudan', 'Region': 'Sub-Saharan Africa', 'City': 'Fantaga'}\n",
            "{'Year': '2017', 'Month': '1', 'Day': '1', 'Country': 'Democratic Republic of the Congo', 'Region': 'Region', 'City': 'Sabako'}\n",
            "{'Year': '2017', 'Month': '1', 'Day': '1', 'Country': 'Democratic Republic of the Congo', 'Region': 'Region', 'City': 'Bialee'}\n"
          ],
          "name": "stdout"
        }
      ]
    }
  ]
}