{
 "cells": [
  {
   "cell_type": "code",
   "execution_count": 28,
   "metadata": {},
   "outputs": [],
   "source": [
    "class Student :\n",
    "    ## Class attributes\n",
    "    __totalStudents = 20\n",
    "    classTeacherName = 'Komal'\n",
    "    \n",
    "    @classmethod\n",
    "    def getTotalStudents(cls) :\n",
    "        return Student.__totalStudents\n",
    "    \n",
    "    def __init__(self, name, age, rn = 101) :\n",
    "        self.__name = name\n",
    "        self.age = age\n",
    "        self.rollNumber = rn\n",
    "        \n",
    "    def getName(self) :\n",
    "        return self.__name\n",
    "    \n",
    "    def setName(self, name) :\n",
    "        if name == '' :\n",
    "            return\n",
    "        self.__name = name\n",
    "    \n",
    "s1 = Student('Mohit', 20, 101)\n",
    "s2 = Student('Aman', 21, 102)\n",
    "s3 = Student('Nikhil', 23)"
   ]
  },
  {
   "cell_type": "code",
   "execution_count": 29,
   "metadata": {},
   "outputs": [
    {
     "name": "stdout",
     "output_type": "stream",
     "text": [
      "20\n"
     ]
    }
   ],
   "source": [
    "\n",
    "print(Student.getTotalStudents())"
   ]
  }
 ],
 "metadata": {
  "kernelspec": {
   "display_name": "Python 3",
   "language": "python",
   "name": "python3"
  },
  "language_info": {
   "codemirror_mode": {
    "name": "ipython",
    "version": 3
   },
   "file_extension": ".py",
   "mimetype": "text/x-python",
   "name": "python",
   "nbconvert_exporter": "python",
   "pygments_lexer": "ipython3",
   "version": "3.6.3"
  }
 },
 "nbformat": 4,
 "nbformat_minor": 2
}
