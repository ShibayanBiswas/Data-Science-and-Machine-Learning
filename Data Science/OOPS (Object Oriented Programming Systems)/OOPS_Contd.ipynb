{
  "nbformat": 4,
  "nbformat_minor": 0,
  "metadata": {
    "colab": {
      "provenance": [],
      "collapsed_sections": []
    },
    "kernelspec": {
      "name": "python3",
      "display_name": "Python 3"
    },
    "language_info": {
      "name": "python"
    }
  },
  "cells": [
    {
      "cell_type": "code",
      "execution_count": null,
      "metadata": {
        "id": "gq4ZQe7r4Vy-"
      },
      "outputs": [],
      "source": [
        "# Constructor- It is a special type of instance method that is used to initialise the properties of our object and this method is called by default as we create our object.  It is present by default in each and every class. "
      ]
    },
    {
      "cell_type": "code",
      "source": [
        "class student:\n",
        "  # Class attributes\n",
        "  total_student = 20\n",
        "  class_teacher = \"Arjun Singh\"\n",
        "  # Default Constructor- Present by default inside the class\n",
        "  def __init__(self):\n",
        "    pass\n",
        "  # Instance Methods\n",
        "  def print(self, str):\n",
        "    print(str)\n",
        "  def printName(self):\n",
        "    print(self.name)\n",
        "  def addName(self, name):\n",
        "    self.name = name\n",
        "  def test(self):\n",
        "    student.total_student = 25\n",
        "    print(student.total_student)\n",
        "student_1 = student()\n",
        "student_2 = student()"
      ],
      "metadata": {
        "id": "joQ5uKu3D_hQ"
      },
      "execution_count": 1,
      "outputs": []
    },
    {
      "cell_type": "code",
      "source": [
        "class student:\n",
        "  # Class attributes\n",
        "  total_student = 20\n",
        "  class_teacher = \"Arjun Singh\"\n",
        "  # Default Constructor- Present by default inside the class\n",
        "  def __init__(self):\n",
        "    print(\"Constructor is called\")\n",
        "    pass\n",
        "  # Instance Methods\n",
        "  def print(self, str):\n",
        "    print(str)\n",
        "  def printName(self):\n",
        "    print(self.name)\n",
        "  def addName(self, name):\n",
        "    self.name = name\n",
        "  def test(self):   # This is not a very good way to create attributes inside a method because we have to remember the order of function calling\n",
        "    student.total_student = 25\n",
        "    print(student.total_student)\n",
        "student_1 = student()\n",
        "student_2 = student()"
      ],
      "metadata": {
        "colab": {
          "base_uri": "https://localhost:8080/"
        },
        "id": "0MvR24NbIGU3",
        "outputId": "ca60aed4-d470-4af5-a3de-d1c23da5612e"
      },
      "execution_count": 3,
      "outputs": [
        {
          "output_type": "stream",
          "name": "stdout",
          "text": [
            "Constructor is called\n",
            "Constructor is called\n"
          ]
        }
      ]
    },
    {
      "cell_type": "code",
      "source": [
        "# In order to remove the above problem we use constructors. We can use constuctors to create and initialise our properties and attributes for any aprticular instance."
      ],
      "metadata": {
        "id": "34L3nOlXIOJB"
      },
      "execution_count": 4,
      "outputs": []
    },
    {
      "cell_type": "code",
      "source": [
        "class student:\n",
        "  # Class attributes\n",
        "  total_student = 20\n",
        "  class_teacher = \"Arjun Singh\"\n",
        "  # Default Constructor- Present by default inside the class\n",
        "  def __init__(self):\n",
        "    self.name = 'Mohit'\n",
        "    self.age = 20\n",
        "    self.roll_no = 101\n",
        "  # Instance Methods\n",
        "  def print(self, str):\n",
        "    print(str)\n",
        "  def printName(self):\n",
        "    print(self.name)\n",
        "  def addName(self, name):\n",
        "    self.name = name\n",
        "  def test(self):   # This is not a very good way to create attributes inside a method because we have to remember the order of function calling\n",
        "    student.total_student = 25\n",
        "    print(student.total_student)\n",
        "student_1 = student()\n",
        "student_2 = student()"
      ],
      "metadata": {
        "id": "ZufIo6G9mJ2G"
      },
      "execution_count": 5,
      "outputs": []
    },
    {
      "cell_type": "code",
      "source": [
        "print(student_1.__dict__)\n",
        "print(student_2.__dict__)"
      ],
      "metadata": {
        "colab": {
          "base_uri": "https://localhost:8080/"
        },
        "id": "RfL1XmhCmqw-",
        "outputId": "5402645f-c10b-4cd8-edf6-2a47aeec6435"
      },
      "execution_count": 6,
      "outputs": [
        {
          "output_type": "stream",
          "name": "stdout",
          "text": [
            "{'name': 'Mohit', 'age': 20, 'roll_no': 101}\n",
            "{'name': 'Mohit', 'age': 20, 'roll_no': 101}\n"
          ]
        }
      ]
    },
    {
      "cell_type": "code",
      "source": [
        "class student:\n",
        "  # Class attributes\n",
        "  total_student = 20\n",
        "  class_teacher = \"Arjun Singh\"\n",
        "  # Default Constructor- Present by default inside the class\n",
        "  def __init__(self, name, age, rn):\n",
        "    self.name = name\n",
        "    self.age = age\n",
        "    self.roll_no = rn\n",
        "  # Instance Methods\n",
        "  def print(self, str):\n",
        "    print(str)\n",
        "  def printName(self):\n",
        "    print(self.name)\n",
        "  def addName(self, name):\n",
        "    self.name = name\n",
        "  def test(self):   # This is not a very good way to create attributes inside a method because we have to remember the order of function calling\n",
        "    student.total_student = 25\n",
        "    print(student.total_student)\n",
        "student_1 = student('Mohit', 20, 101)\n",
        "student_2 = student('Aman', 20, 102)"
      ],
      "metadata": {
        "id": "a-nXu0a2m1gc"
      },
      "execution_count": 8,
      "outputs": []
    },
    {
      "cell_type": "code",
      "source": [
        "print(student_1.__dict__)\n",
        "print(student_2.__dict__)"
      ],
      "metadata": {
        "colab": {
          "base_uri": "https://localhost:8080/"
        },
        "id": "d3QNLOmRnhdP",
        "outputId": "aedc3281-59c8-4610-ab9c-cc04b55769a5"
      },
      "execution_count": 9,
      "outputs": [
        {
          "output_type": "stream",
          "name": "stdout",
          "text": [
            "{'name': 'Mohit', 'age': 20, 'roll_no': 101}\n",
            "{'name': 'Aman', 'age': 20, 'roll_no': 102}\n"
          ]
        }
      ]
    },
    {
      "cell_type": "code",
      "source": [
        "class student:\n",
        "  # Class attributes\n",
        "  total_student = 20\n",
        "  class_teacher = \"Arjun Singh\"\n",
        "  # Default Constructor- Present by default inside the class\n",
        "  def __init__(self, name, age, rn = 100):\n",
        "    self.name = name\n",
        "    self.age = age\n",
        "    self.roll_no = rn\n",
        "  # Instance Methods\n",
        "  def print(self, str):\n",
        "    print(str)\n",
        "  def printName(self):\n",
        "    print(self.name)\n",
        "  def addName(self, name):\n",
        "    self.name = name\n",
        "  def test(self):   # This is not a very good way to create attributes inside a method because we have to remember the order of function calling\n",
        "    student.total_student = 25\n",
        "    print(student.total_student)\n",
        "student_1 = student('Mohit', 20, 101)\n",
        "student_2 = student('Aman', 20, 102)\n",
        "student_3 = student('Nikhil', 21)"
      ],
      "metadata": {
        "id": "nI-hp820oAWW"
      },
      "execution_count": 10,
      "outputs": []
    },
    {
      "cell_type": "code",
      "source": [
        "print(student_1.__dict__)\n",
        "print(student_2.__dict__)\n",
        "print(student_3.__dict__)"
      ],
      "metadata": {
        "colab": {
          "base_uri": "https://localhost:8080/"
        },
        "id": "RaOevultoLrz",
        "outputId": "18f03023-da43-4d91-cbde-c2fa81c0f8e1"
      },
      "execution_count": 11,
      "outputs": [
        {
          "output_type": "stream",
          "name": "stdout",
          "text": [
            "{'name': 'Mohit', 'age': 20, 'roll_no': 101}\n",
            "{'name': 'Aman', 'age': 20, 'roll_no': 102}\n",
            "{'name': 'Nikhil', 'age': 21, 'roll_no': 100}\n"
          ]
        }
      ]
    },
    {
      "cell_type": "code",
      "source": [
        "# We cannot add more than one constructor for our class unlike in java and C++ baause in Python we can pass variable number of arguments inside a method."
      ],
      "metadata": {
        "id": "c3UF8M9VoZJA"
      },
      "execution_count": null,
      "outputs": []
    },
    {
      "cell_type": "code",
      "source": [
        "# Access Modifiers defines the accessiblity of any property or method inside the class. The types are private(inside the class), public(everywhere), protected(between public and private). By default everything in python is public. To make any property private we use __ before that property. To make any property protected we use _ before that property. "
      ],
      "metadata": {
        "id": "hxIjAS_Jphdu"
      },
      "execution_count": 17,
      "outputs": []
    },
    {
      "cell_type": "code",
      "source": [
        "# Two use cases of making any property as private- abstraction(hiding irrelevant information), security(not allow access of crucial data). We access private properties through any public method present inside the class. In this process we can add more validation checks."
      ],
      "metadata": {
        "id": "Ns3gOJgj_lk9"
      },
      "execution_count": 16,
      "outputs": []
    },
    {
      "cell_type": "code",
      "source": [
        "# Python follows 'Name Mangling' -> __name = _student__name"
      ],
      "metadata": {
        "id": "3O_XmINDBdwG"
      },
      "execution_count": 18,
      "outputs": []
    },
    {
      "cell_type": "code",
      "source": [
        "class student :\n",
        "    # Class attributes\n",
        "    total_students = 20\n",
        "    class_teacher = 'Piyush Kumar'\n",
        "    def __init__(self, name, age, rn = 100) :\n",
        "        self.__name = name\n",
        "        self.age = age\n",
        "        self.roll_no = rn\n",
        "    def getName(self) :\n",
        "        return self.__name\n",
        "    def setName(self, name, pwd) :\n",
        "        if pwd != 123 :\n",
        "            return\n",
        "        if name == '' :\n",
        "            return\n",
        "        self.__name = name\n",
        "    \n",
        "student_1 = student('Mohit', 20, 101)"
      ],
      "metadata": {
        "id": "VAIK3EbCBy0l"
      },
      "execution_count": 24,
      "outputs": []
    },
    {
      "cell_type": "code",
      "source": [
        "print(student_1.getName(), student_1.age, student_1.roll_no)\n",
        "student_1.setName('Arjun',321)\n",
        "print(student_1.getName(), student_1.age, student_1.roll_no)"
      ],
      "metadata": {
        "colab": {
          "base_uri": "https://localhost:8080/"
        },
        "id": "Xd7_sLt1D2eF",
        "outputId": "6bb4a591-6431-49c8-eae6-387714979845"
      },
      "execution_count": 28,
      "outputs": [
        {
          "output_type": "stream",
          "name": "stdout",
          "text": [
            "Mohit 20 101\n",
            "Mohit 20 101\n"
          ]
        }
      ]
    },
    {
      "cell_type": "code",
      "source": [
        "print(student_1.getName(), student_1.age, student_1.roll_no)\n",
        "student_1.setName('Arjun',123)\n",
        "print(student_1.getName(), student_1.age, student_1.roll_no)"
      ],
      "metadata": {
        "colab": {
          "base_uri": "https://localhost:8080/"
        },
        "id": "Rzpj9AFqEtD8",
        "outputId": "b91d5bb8-2d17-49c0-a303-bfce92f5f9ba"
      },
      "execution_count": 29,
      "outputs": [
        {
          "output_type": "stream",
          "name": "stdout",
          "text": [
            "Mohit 20 101\n",
            "Arjun 20 101\n"
          ]
        }
      ]
    },
    {
      "cell_type": "code",
      "source": [
        "print(student_1.getName(), student_1.age, student_1.roll_no)\n",
        "student_1.setName('', 123)\n",
        "print(student_1.getName(), student_1.age, student_1.roll_no)"
      ],
      "metadata": {
        "colab": {
          "base_uri": "https://localhost:8080/"
        },
        "id": "oip4o5kzEx4u",
        "outputId": "fd07344b-5960-423c-df00-65c59adbcc5c"
      },
      "execution_count": 30,
      "outputs": [
        {
          "output_type": "stream",
          "name": "stdout",
          "text": [
            "Arjun 20 101\n",
            "Arjun 20 101\n"
          ]
        }
      ]
    },
    {
      "cell_type": "code",
      "source": [
        "print(student_1._student__name)"
      ],
      "metadata": {
        "colab": {
          "base_uri": "https://localhost:8080/"
        },
        "id": "0l-Ebm1yE_TQ",
        "outputId": "aaeaa910-72cc-4b25-d133-b9c8bca1e102"
      },
      "execution_count": 31,
      "outputs": [
        {
          "output_type": "stream",
          "name": "stdout",
          "text": [
            "Arjun\n"
          ]
        }
      ]
    }
  ]
}