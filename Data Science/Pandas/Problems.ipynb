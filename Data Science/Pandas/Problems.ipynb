{
 "cells": [
  {
   "cell_type": "markdown",
   "id": "0a88d1ef",
   "metadata": {},
   "source": [
    "## Count of Flower"
   ]
  },
  {
   "cell_type": "markdown",
   "id": "49a4f4e0",
   "metadata": {},
   "source": [
    "Find and print count of each kind of flower (separated by space)?\n",
    "\n",
    "Note: Get the dataset from here\n",
    "\n",
    "Print the count as Integer Value.\n",
    "\n",
    "Output Format\n",
    "\n",
    "count1 count2 count3 ....."
   ]
  },
  {
   "cell_type": "code",
   "execution_count": 2,
   "id": "1bf42cd5",
   "metadata": {},
   "outputs": [
    {
     "name": "stdout",
     "output_type": "stream",
     "text": [
      "50 50 50 "
     ]
    }
   ],
   "source": [
    "import pandas as pd\n",
    "\n",
    "column_name = ['SeapalLength', 'SepalWidth', 'PetalLength', 'PetalWidth', 'Species']\n",
    "iris = pd.read_csv('https://archive.ics.uci.edu/ml/machine-learning-databases/iris/iris.data', names = column_name)\n",
    "\n",
    "for i in iris['Species'].value_counts():  # value_counts() - return a series containing counts of unique values\n",
    "    print(i, end = \" \")"
   ]
  },
  {
   "cell_type": "markdown",
   "id": "268d7aaf",
   "metadata": {},
   "source": [
    "## Iris Virginica"
   ]
  },
  {
   "cell_type": "markdown",
   "id": "d047abd1",
   "metadata": {},
   "source": [
    "Find the data of flower “Iris-virginica” type where petal-length > 1.5?\n",
    "\n",
    "Note: Get the dataset from here\n",
    "\n",
    "Print the all the feature values.\n",
    "\n",
    "Output Format\n",
    "\n",
    "feature1 feature2 feature3 feature4 feature5\n",
    "\n",
    "feature1 feature2 feature3 feature4 feature5\n",
    "\n",
    "feature1 feature2 feature3 feature4 feature5\n",
    "\n",
    "feature1 feature2 feature3 feature4 feature5\n",
    "\n",
    ". . .\n",
    "\n",
    ". . .\n",
    "\n",
    ". . ."
   ]
  },
  {
   "cell_type": "code",
   "execution_count": 5,
   "id": "5334e25d",
   "metadata": {},
   "outputs": [
    {
     "name": "stdout",
     "output_type": "stream",
     "text": [
      "6.3 3.3 6.0 2.5 Iris-virginica \n",
      "5.8 2.7 5.1 1.9 Iris-virginica \n",
      "7.1 3.0 5.9 2.1 Iris-virginica \n",
      "6.3 2.9 5.6 1.8 Iris-virginica \n",
      "6.5 3.0 5.8 2.2 Iris-virginica \n",
      "7.6 3.0 6.6 2.1 Iris-virginica \n",
      "4.9 2.5 4.5 1.7 Iris-virginica \n",
      "7.3 2.9 6.3 1.8 Iris-virginica \n",
      "6.7 2.5 5.8 1.8 Iris-virginica \n",
      "7.2 3.6 6.1 2.5 Iris-virginica \n",
      "6.5 3.2 5.1 2.0 Iris-virginica \n",
      "6.4 2.7 5.3 1.9 Iris-virginica \n",
      "6.8 3.0 5.5 2.1 Iris-virginica \n",
      "5.7 2.5 5.0 2.0 Iris-virginica \n",
      "5.8 2.8 5.1 2.4 Iris-virginica \n",
      "6.4 3.2 5.3 2.3 Iris-virginica \n",
      "6.5 3.0 5.5 1.8 Iris-virginica \n",
      "7.7 3.8 6.7 2.2 Iris-virginica \n",
      "7.7 2.6 6.9 2.3 Iris-virginica \n",
      "6.0 2.2 5.0 1.5 Iris-virginica \n",
      "6.9 3.2 5.7 2.3 Iris-virginica \n",
      "5.6 2.8 4.9 2.0 Iris-virginica \n",
      "7.7 2.8 6.7 2.0 Iris-virginica \n",
      "6.3 2.7 4.9 1.8 Iris-virginica \n",
      "6.7 3.3 5.7 2.1 Iris-virginica \n",
      "7.2 3.2 6.0 1.8 Iris-virginica \n",
      "6.2 2.8 4.8 1.8 Iris-virginica \n",
      "6.1 3.0 4.9 1.8 Iris-virginica \n",
      "6.4 2.8 5.6 2.1 Iris-virginica \n",
      "7.2 3.0 5.8 1.6 Iris-virginica \n",
      "7.4 2.8 6.1 1.9 Iris-virginica \n",
      "7.9 3.8 6.4 2.0 Iris-virginica \n",
      "6.4 2.8 5.6 2.2 Iris-virginica \n",
      "6.3 2.8 5.1 1.5 Iris-virginica \n",
      "6.1 2.6 5.6 1.4 Iris-virginica \n",
      "7.7 3.0 6.1 2.3 Iris-virginica \n",
      "6.3 3.4 5.6 2.4 Iris-virginica \n",
      "6.4 3.1 5.5 1.8 Iris-virginica \n",
      "6.0 3.0 4.8 1.8 Iris-virginica \n",
      "6.9 3.1 5.4 2.1 Iris-virginica \n",
      "6.7 3.1 5.6 2.4 Iris-virginica \n",
      "6.9 3.1 5.1 2.3 Iris-virginica \n",
      "5.8 2.7 5.1 1.9 Iris-virginica \n",
      "6.8 3.2 5.9 2.3 Iris-virginica \n",
      "6.7 3.3 5.7 2.5 Iris-virginica \n",
      "6.7 3.0 5.2 2.3 Iris-virginica \n",
      "6.3 2.5 5.0 1.9 Iris-virginica \n",
      "6.5 3.0 5.2 2.0 Iris-virginica \n",
      "6.2 3.4 5.4 2.3 Iris-virginica \n",
      "5.9 3.0 5.1 1.8 Iris-virginica \n"
     ]
    }
   ],
   "source": [
    "import pandas as pd\n",
    "\n",
    "column_name = ['SeapalLength', 'SepalWidth', 'PetalLength', 'PetalWidth', 'Species']\n",
    "iris = pd.read_csv('https://archive.ics.uci.edu/ml/machine-learning-databases/iris/iris.data', names = column_name)\n",
    "\n",
    "iris = iris[iris['Species'] == 'Iris-virginica']\n",
    "iris = iris[iris['PetalLength'] > 1.5]\n",
    "x = iris.values   # df.values - only the values in the DataFrame will be returned, the axes labels will be removed\n",
    "\n",
    "for i in range(iris.shape[0]):  # df.shape - return a tuple representing the dimensionality of the DataFrame\n",
    "    for j in range(iris.shape[1]):\n",
    "        print(x[i][j], end = \" \")\n",
    "    print()"
   ]
  },
  {
   "cell_type": "markdown",
   "id": "15b873b2",
   "metadata": {},
   "source": [
    "## Iris Values"
   ]
  },
  {
   "cell_type": "markdown",
   "id": "1bba9341",
   "metadata": {},
   "source": [
    "Find and print the minimum, maximum and average value of the feature for each kind of flower ?\n",
    "\n",
    "Note: Get the dataset from here\n",
    "    \n",
    "Print the value with two decimal places.\n",
    "\n",
    "Note: Order for flower is Iris-setosa, Iris-versicolor and Iris-virginica.\n",
    "    \n",
    "Output Format:\n",
    "\n",
    "minSL minSW minPL minPW Iris-setosa\n",
    "\n",
    "maxSL maxSW maxPL maxPW Iris-setosa\n",
    "\n",
    "avgSL avgSW avgPL avgPW Iris-setosa\n",
    "\n",
    ". . .\n",
    "\n",
    ". . .\n",
    "\n",
    ". . ."
   ]
  },
  {
   "cell_type": "code",
   "execution_count": 11,
   "id": "542944b9",
   "metadata": {},
   "outputs": [
    {
     "name": "stdout",
     "output_type": "stream",
     "text": [
      "4.30 2.30 1.00 0.10 Iris-setosa\n",
      "5.80 4.40 1.90 0.60 Iris-setosa\n",
      "5.01 3.42 1.46 0.24 Iris-setosa\n",
      "4.90 2.00 3.00 1.00 Iris-versicolor\n",
      "7.00 3.40 5.10 1.80 Iris-versicolor\n",
      "5.94 2.77 4.26 1.33 Iris-versicolor\n",
      "4.90 2.20 4.50 1.40 Iris-virginica\n",
      "7.90 3.80 6.90 2.50 Iris-virginica\n",
      "6.59 2.97 5.55 2.03 Iris-virginica\n"
     ]
    }
   ],
   "source": [
    "import pandas as pd\n",
    "\n",
    "column_name = ['SeapalLength', 'SepalWidth', 'PetalLength', 'PetalWidth', 'Species']\n",
    "iris = pd.read_csv('https://archive.ics.uci.edu/ml/machine-learning-databases/iris/iris.data', names = column_name)\n",
    "\n",
    "species1 = 'Iris-setosa'\n",
    "species2 = 'Iris-versicolor'\n",
    "species3 = 'Iris-virginica'\n",
    "\n",
    "speciesdetail1 = iris[iris['Species'] == species1].describe()\n",
    "speciesdetail2 = iris[iris['Species'] == species2].describe()\n",
    "speciesdetail3 = iris[iris['Species'] == species3].describe()\n",
    "\n",
    "## Print the details of first species\n",
    "for i in speciesdetail1.iloc[[3]].values[0]:\n",
    "    print(format(i, '.2f'), end = \" \")\n",
    "print(species1)\n",
    "for i in speciesdetail1.iloc[[7]].values[0]:\n",
    "    print(format(i, '.2f'), end = \" \")\n",
    "print(species1)\n",
    "for i in speciesdetail1.iloc[[1]].values[0]:\n",
    "    print(format(i, '.2f'), end = \" \")\n",
    "print(species1)\n",
    "\n",
    "## Print the details of second species\n",
    "for i in speciesdetail2.iloc[[3]].values[0]:\n",
    "    print(format(i, '.2f'), end = \" \")\n",
    "print(species2)\n",
    "for i in speciesdetail2.iloc[[7]].values[0]:\n",
    "    print(format(i, '.2f'), end = \" \")\n",
    "print(species2)\n",
    "for i in speciesdetail2.iloc[[1]].values[0]:\n",
    "    print(format(i, '.2f'), end = \" \")\n",
    "print(species2)\n",
    "\n",
    "## Print the details of third species\n",
    "for i in speciesdetail3.iloc[[3]].values[0]:\n",
    "    print(format(i, '.2f'), end = \" \")\n",
    "print(species3)\n",
    "for i in speciesdetail3.iloc[[7]].values[0]:\n",
    "    print(format(i, '.2f'), end = \" \")\n",
    "print(species3)\n",
    "for i in speciesdetail3.iloc[[1]].values[0]:\n",
    "    print(format(i, '.2f'), end = \" \")\n",
    "print(species3)"
   ]
  },
  {
   "cell_type": "markdown",
   "id": "8184f56f",
   "metadata": {},
   "source": [
    "## Terror Attack City"
   ]
  },
  {
   "cell_type": "markdown",
   "id": "0461c6ef",
   "metadata": {},
   "source": [
    "The Most Dangerous city in Jammu and Kashmir and the terrorist group which is most active in that city?\n",
    "\n",
    "Print count of number of attacks in that city as integer value.\n",
    "\n",
    "Note : Ignoring the Unknown Terrorist Group.Here Dangerous related with the number of terrorist attacks.\n",
    "\n",
    "Output Format :\n",
    "\n",
    "City NumberOfAttack Group"
   ]
  },
  {
   "cell_type": "code",
   "execution_count": 17,
   "id": "cd7b8c2d",
   "metadata": {},
   "outputs": [
    {
     "name": "stdout",
     "output_type": "stream",
     "text": [
      "Srinagar 657 Muslim Separatists\n"
     ]
    }
   ],
   "source": [
    "import pandas as pd\n",
    "\n",
    "path = 'terrorismData.csv'\n",
    "\n",
    "df = pd.read_csv(path, encoding = 'utf8')\n",
    "df = df[df['State'] == 'Jammu and Kashmir']\n",
    "\n",
    "city_list = df['City'].value_counts()\n",
    "city = city_list.index[0]\n",
    "attack = city_list.values[0]\n",
    "\n",
    "df = df[df['City'] == city]\n",
    "group = df['Group'].value_counts().index[1]  # the group at first position is unknown\n",
    "\n",
    "print(city, attack, group)"
   ]
  },
  {
   "cell_type": "markdown",
   "id": "dcf661e8",
   "metadata": {},
   "source": [
    "## Terror Government"
   ]
  },
  {
   "cell_type": "markdown",
   "id": "06926786",
   "metadata": {},
   "source": [
    "There was formation of new government in India on 26 May 2014. So current government's span is from 26th May 2014 to current. Find out two things from this period-\n",
    "\n",
    "1. Total number of attacks done in this period in India. Find this count as integer.\n",
    "\n",
    "2. Which Terrorist group was most active in this period in India. Most active means, group which has done maximum number of attacks. \n",
    "\n",
    "3.Ignore the Unknown group. \n",
    "\n",
    "Output Format :\n",
    "\n",
    "TotalAttacks MostActiveTerroristGroup"
   ]
  },
  {
   "cell_type": "code",
   "execution_count": 20,
   "id": "39a5750d",
   "metadata": {},
   "outputs": [
    {
     "name": "stdout",
     "output_type": "stream",
     "text": [
      "3336 Maoists\n"
     ]
    }
   ],
   "source": [
    "import pandas as pd\n",
    "\n",
    "path = 'terrorismData.csv'\n",
    "\n",
    "df = pd.read_csv(path, encoding = 'utf8')\n",
    "df = df[df['Country'] == 'India']\n",
    "df = df[df['Year'] >= 2014]\n",
    "\n",
    "index1 = df[(df['Year'] == 2014) & (df['Month'] < 5)].index\n",
    "index2 = df[(df['Year'] == 2014) & (df['Month'] == 5) & (df['Day'] < 26)].index\n",
    "\n",
    "# delete these row indexes from dataFrame\n",
    "df.drop(index1, inplace = True)\n",
    "df.drop(index2, inplace = True)\n",
    "\n",
    "attack = df.shape[0]  # number of rows\n",
    "group = df['Group'].value_counts().index[1]\n",
    "print(attack, group)"
   ]
  },
  {
   "cell_type": "markdown",
   "id": "96172344",
   "metadata": {},
   "source": [
    "## Terror Frequency"
   ]
  },
  {
   "cell_type": "markdown",
   "id": "69a3dc5a",
   "metadata": {},
   "source": [
    "Find the frequency of the Casualty in Red Corridor states and in Jammu and Kashmir ?Here Frequency is (Total Casualty/Total Number of a year)\n",
    "\n",
    "Print frequency as integer value.\n",
    "\n",
    "Note : Red Corridor state includes Jharkhand, Odisha, Andhra Pradesh, and Chhattisgarh. Here Casualty=Killed +Wounded.Don't fill the nan value present in Killed and Wounded feature.\n",
    "    \n",
    "Output Format :\n",
    "    \n",
    "Frequency1 Frequency2 \n"
   ]
  },
  {
   "cell_type": "code",
   "execution_count": 24,
   "id": "330c2fd6",
   "metadata": {},
   "outputs": [
    {
     "name": "stdout",
     "output_type": "stream",
     "text": [
      "115 261\n"
     ]
    }
   ],
   "source": [
    "import pandas as pd\n",
    "import numpy as np\n",
    "\n",
    "df = pd.read_csv('terrorismData.csv')\n",
    "year = len(set(df['Year']))\n",
    "\n",
    "df = df[df['Country'] == 'India']\n",
    "df['Casualty'] = df['Killed'] + df['Wounded']\n",
    "\n",
    "Jammu_state = df[df['State'] == 'Jammu and Kashmir']\n",
    "red_state = df[(df['State'] == 'Jharkhand') | (df['State'] == 'Odisha') | (df['State'] == 'Andhra Pradesh') | (df['State'] == 'Chhattisgarh')]\n",
    "red_casualty = int(np.sum(red_state['Casualty']))\n",
    "Jammu_casualty = int(np.sum(Jammu_state['Casualty']))\n",
    "\n",
    "print(red_casualty // year, Jammu_casualty // year)"
   ]
  },
  {
   "cell_type": "markdown",
   "id": "3556040c",
   "metadata": {},
   "source": [
    "## Terror DeadliestAttack"
   ]
  },
  {
   "cell_type": "markdown",
   "id": "ac3f3dcf",
   "metadata": {},
   "source": [
    "Most Deadliest attack in a history of HumanKind?\n",
    "\n",
    "Print count of Killed people as integer value.\n",
    "\n",
    "Note : Here Deadliest attack means, in which the most number of people killed.\n",
    "\n",
    "Output Format :\n",
    "\n",
    "NumberOfPeopleKilled Country TerroristGroup"
   ]
  },
  {
   "cell_type": "code",
   "execution_count": 27,
   "id": "603da14a",
   "metadata": {},
   "outputs": [
    {
     "name": "stdout",
     "output_type": "stream",
     "text": [
      "1570 Iraq Islamic State of Iraq and the Levant (ISIL)\n"
     ]
    }
   ],
   "source": [
    "import pandas as pd\n",
    "\n",
    "path = 'terrorismData.csv'\n",
    "\n",
    "df = pd.read_csv(path, encoding = 'utf8')\n",
    "maxKilled = max(df['Killed'])\n",
    "group = df[df['Killed'] == maxKilled]['Group'].values[0]\n",
    "country = df[df['Killed'] == maxKilled]['Country'].values[0]\n",
    "\n",
    "print(int(maxKilled), country, group)"
   ]
  },
  {
   "cell_type": "markdown",
   "id": "436de304",
   "metadata": {},
   "source": [
    "## Terror Attack"
   ]
  },
  {
   "cell_type": "markdown",
   "id": "3604be70",
   "metadata": {},
   "source": [
    "Find out the Country with Highest Number of Terror Attack and in which year the most number of terrorist attack happened in that country ?\n",
    "\n",
    "Print count of terror attacks as integer value.\n",
    "\n",
    "Output Format :\n",
    "\n",
    "Country NumberOfAttack Year"
   ]
  },
  {
   "cell_type": "code",
   "execution_count": 28,
   "id": "df90b282",
   "metadata": {},
   "outputs": [
    {
     "name": "stdout",
     "output_type": "stream",
     "text": [
      "Iraq 24636 2014\n"
     ]
    }
   ],
   "source": [
    "import pandas as pd\n",
    "\n",
    "path = 'terrorismData.csv'\n",
    "\n",
    "df = pd.read_csv(path, encoding = 'utf8')\n",
    "country_list = df['Country'].value_counts()\n",
    "country = country_list.index[0]\n",
    "attack = country_list.values[0]\n",
    "\n",
    "df = df[df['Country'] == country]\n",
    "year = df['Year'].value_counts().index[0]\n",
    "\n",
    "print(country, attack, year)"
   ]
  }
 ],
 "metadata": {
  "kernelspec": {
   "display_name": "Python 3 (ipykernel)",
   "language": "python",
   "name": "python3"
  },
  "language_info": {
   "codemirror_mode": {
    "name": "ipython",
    "version": 3
   },
   "file_extension": ".py",
   "mimetype": "text/x-python",
   "name": "python",
   "nbconvert_exporter": "python",
   "pygments_lexer": "ipython3",
   "version": "3.9.13"
  }
 },
 "nbformat": 4,
 "nbformat_minor": 5
}
