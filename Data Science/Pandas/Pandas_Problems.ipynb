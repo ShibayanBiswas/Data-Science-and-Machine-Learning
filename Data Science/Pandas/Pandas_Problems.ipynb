{
  "nbformat": 4,
  "nbformat_minor": 0,
  "metadata": {
    "colab": {
      "provenance": [],
      "collapsed_sections": []
    },
    "kernelspec": {
      "name": "python3",
      "display_name": "Python 3"
    },
    "language_info": {
      "name": "python"
    }
  },
  "cells": [
    {
      "cell_type": "markdown",
      "source": [
        "##**Count of Flower**"
      ],
      "metadata": {
        "id": "VEg-iEcBGLx_"
      }
    },
    {
      "cell_type": "markdown",
      "source": [
        "Problem Statement\n",
        "\n",
        "Find and print count of each kind of flower (separated by space)?\n",
        "\n",
        "Note: Get the dataset from here\n",
        "\n",
        "Print the count as Integer Value.\n",
        "\n",
        "Output Format\n",
        "\n",
        "count1 count2 count3 ....."
      ],
      "metadata": {
        "id": "Iq3h-S5pGTBc"
      }
    },
    {
      "cell_type": "code",
      "source": [
        "import pandas as pd   \n",
        "df=pd.read_csv('https://gist.githubusercontent.com/netj/8836201/raw/6f9306ad21398ea43cba4f7d537619d0e07d5ae3/iris.csv')\n",
        "print(int(df.variety.value_counts()['Setosa']),int(df.variety.value_counts()['Versicolor']),int(df.variety.value_counts()['Virginica']))"
      ],
      "metadata": {
        "colab": {
          "base_uri": "https://localhost:8080/"
        },
        "id": "y_cYZUOPNQ2E",
        "outputId": "b3e5a05f-e059-4e04-a1e8-b98c9e3461ef"
      },
      "execution_count": 1,
      "outputs": [
        {
          "output_type": "stream",
          "name": "stdout",
          "text": [
            "50 50 50\n"
          ]
        }
      ]
    },
    {
      "cell_type": "markdown",
      "source": [
        "##**Iris Virginica**"
      ],
      "metadata": {
        "id": "EpxvkIXyNY99"
      }
    },
    {
      "cell_type": "markdown",
      "source": [
        "Problem Statement\n",
        "\n",
        "Find the data of flower “Iris-virginica” type where petal-length > 1.5?\n",
        "\n",
        "Note: Get the dataset from here\n",
        "\n",
        "Print the all the feature values.\n",
        "\n",
        "Output Format\n",
        "\n",
        "feature1 feature2 feature3 feature4 feature5\n",
        "\n",
        "feature1 feature2 feature3 feature4 feature5\n",
        "\n",
        "feature1 feature2 feature3 feature4 feature5\n",
        "\n",
        "feature1 feature2 feature3 feature4 feature5\n"
      ],
      "metadata": {
        "id": "XMuxXW8SNdVE"
      }
    },
    {
      "cell_type": "code",
      "source": [
        "import pandas as pd   \n",
        "df=pd.read_csv('https://files.codingninjas.in/iris-8116.csv?_ga=2.147866740.234039453.1659624921-456271772.1655977586')\n",
        "\n",
        "df = df[(df.variety == 'Iris-virginica') & (df['petal.length'] > 1.5)]\n",
        "for i in df.values:\n",
        "    print(i[0],i[1],i[2],i[3],i[4])"
      ],
      "metadata": {
        "colab": {
          "base_uri": "https://localhost:8080/"
        },
        "id": "D8j6C6IONlIw",
        "outputId": "df440e83-fe09-4223-edcf-c22182871a8d"
      },
      "execution_count": 2,
      "outputs": [
        {
          "output_type": "stream",
          "name": "stdout",
          "text": [
            "6.3 3.3 6.0 2.5 Iris-virginica\n",
            "5.8 2.7 5.1 1.9 Iris-virginica\n",
            "7.1 3.0 5.9 2.1 Iris-virginica\n",
            "6.3 2.9 5.6 1.8 Iris-virginica\n",
            "6.5 3.0 5.8 2.2 Iris-virginica\n",
            "7.6 3.0 6.6 2.1 Iris-virginica\n",
            "4.9 2.5 4.5 1.7 Iris-virginica\n",
            "7.3 2.9 6.3 1.8 Iris-virginica\n",
            "6.7 2.5 5.8 1.8 Iris-virginica\n",
            "7.2 3.6 6.1 2.5 Iris-virginica\n",
            "6.5 3.2 5.1 2.0 Iris-virginica\n",
            "6.4 2.7 5.3 1.9 Iris-virginica\n",
            "6.8 3.0 5.5 2.1 Iris-virginica\n",
            "5.7 2.5 5.0 2.0 Iris-virginica\n",
            "5.8 2.8 5.1 2.4 Iris-virginica\n",
            "6.4 3.2 5.3 2.3 Iris-virginica\n",
            "6.5 3.0 5.5 1.8 Iris-virginica\n",
            "7.7 3.8 6.7 2.2 Iris-virginica\n",
            "7.7 2.6 6.9 2.3 Iris-virginica\n",
            "6.0 2.2 5.0 1.5 Iris-virginica\n",
            "6.9 3.2 5.7 2.3 Iris-virginica\n",
            "5.6 2.8 4.9 2.0 Iris-virginica\n",
            "7.7 2.8 6.7 2.0 Iris-virginica\n",
            "6.3 2.7 4.9 1.8 Iris-virginica\n",
            "6.7 3.3 5.7 2.1 Iris-virginica\n",
            "7.2 3.2 6.0 1.8 Iris-virginica\n",
            "6.2 2.8 4.8 1.8 Iris-virginica\n",
            "6.1 3.0 4.9 1.8 Iris-virginica\n",
            "6.4 2.8 5.6 2.1 Iris-virginica\n",
            "7.2 3.0 5.8 1.6 Iris-virginica\n",
            "7.4 2.8 6.1 1.9 Iris-virginica\n",
            "7.9 3.8 6.4 2.0 Iris-virginica\n",
            "6.4 2.8 5.6 2.2 Iris-virginica\n",
            "6.3 2.8 5.1 1.5 Iris-virginica\n",
            "6.1 2.6 5.6 1.4 Iris-virginica\n",
            "7.7 3.0 6.1 2.3 Iris-virginica\n",
            "6.3 3.4 5.6 2.4 Iris-virginica\n",
            "6.4 3.1 5.5 1.8 Iris-virginica\n",
            "6.0 3.0 4.8 1.8 Iris-virginica\n",
            "6.9 3.1 5.4 2.1 Iris-virginica\n",
            "6.7 3.1 5.6 2.4 Iris-virginica\n",
            "6.9 3.1 5.1 2.3 Iris-virginica\n",
            "5.8 2.7 5.1 1.9 Iris-virginica\n",
            "6.8 3.2 5.9 2.3 Iris-virginica\n",
            "6.7 3.3 5.7 2.5 Iris-virginica\n",
            "6.7 3.0 5.2 2.3 Iris-virginica\n",
            "6.3 2.5 5.0 1.9 Iris-virginica\n",
            "6.5 3.0 5.2 2.0 Iris-virginica\n",
            "6.2 3.4 5.4 2.3 Iris-virginica\n",
            "5.9 3.0 5.1 1.8 Iris-virginica\n"
          ]
        }
      ]
    },
    {
      "cell_type": "markdown",
      "source": [
        "##**Iris Values**"
      ],
      "metadata": {
        "id": "vMrCoKdrNsEM"
      }
    },
    {
      "cell_type": "markdown",
      "source": [
        "Problem Statement\n",
        "\n",
        "Find and print the minimum, maximum and average value of the feature for each kind of flower ?\n",
        "\n",
        "Note: Get the dataset from here\n",
        "\n",
        "Print the value with two decimal places.\n",
        "\n",
        "Note: Order for flower is Iris-setosa, Iris-versicolor and Iris-virginica.\n",
        "\n",
        "Output Format\n",
        "\n",
        "minSL minSW minPL minPW Iris-setosa\n",
        "\n",
        "maxSL maxSW maxPL maxPW Iris-setosa\n",
        "\n",
        "avgSL avgSW avgPL avgPW Iris-setosa\n",
        "\n",
        ". . ."
      ],
      "metadata": {
        "id": "ftHl4O5HNzBw"
      }
    },
    {
      "cell_type": "code",
      "source": [
        "import pandas as pd   \n",
        "data_file=pd.read_csv('https://archive.ics.uci.edu/ml/machine-learning-databases/iris/iris.data',header=None)\n",
        "data_file.columns = ['sl', 'sw', 'pl', 'pw', 'flower_type']\n",
        "\n",
        "for n in ['Iris-setosa','Iris-versicolor','Iris-virginica']:\n",
        "    file=data_file[data_file.flower_type==n]\n",
        "    data=file.describe()\n",
        "    data.loc['avg']=[sum(file.sl)/50.0,sum(file.sw)/50.0,sum(file.pl)/50.0,sum(file.pw)/50.0]\n",
        "    \n",
        "    for i in ['min','max','avg']:\n",
        "        for j in ['sl','sw','pl','pw']:\n",
        "            print('%.2f'%data[j][i],end=\" \")\n",
        "        print(n)"
      ],
      "metadata": {
        "colab": {
          "base_uri": "https://localhost:8080/"
        },
        "id": "0fLdv4eeOBS0",
        "outputId": "99ba7110-6835-438c-f80d-891a49cd7982"
      },
      "execution_count": 3,
      "outputs": [
        {
          "output_type": "stream",
          "name": "stdout",
          "text": [
            "4.30 2.30 1.00 0.10 Iris-setosa\n",
            "5.80 4.40 1.90 0.60 Iris-setosa\n",
            "5.01 3.42 1.46 0.24 Iris-setosa\n",
            "4.90 2.00 3.00 1.00 Iris-versicolor\n",
            "7.00 3.40 5.10 1.80 Iris-versicolor\n",
            "5.94 2.77 4.26 1.33 Iris-versicolor\n",
            "4.90 2.20 4.50 1.40 Iris-virginica\n",
            "7.90 3.80 6.90 2.50 Iris-virginica\n",
            "6.59 2.97 5.55 2.03 Iris-virginica\n"
          ]
        }
      ]
    },
    {
      "cell_type": "markdown",
      "source": [
        "##**Terror Attack City**"
      ],
      "metadata": {
        "id": "n7Ltfdg1OSJX"
      }
    },
    {
      "cell_type": "markdown",
      "source": [
        "Given file \"terrorismData.csv\"\n",
        "\n",
        "It is an open-source database including information on terrorist attacks around the world from 1970 through 2017. This dataset includes systematic data on domestic as well as international terrorist incidents that have occurred during this time period\n",
        "\n",
        "Problem Statement :\n",
        "\n",
        "The Most Dangerous city in Jammu and Kashmir and the terrorist group which is most active in that city?\n",
        "\n",
        "Print count of number of attacks in that city as integer value.\n",
        "\n",
        "Note:Ignoring the Unknown Terrorist Group.Here Dangerous related with the number of terrorist attacks.\n",
        "\n",
        "Output Format :\n",
        "\n",
        "City NumberOfAttack Group"
      ],
      "metadata": {
        "id": "VoC5dWtbOt0l"
      }
    },
    {
      "cell_type": "code",
      "source": [
        "import pandas as pd  \n",
        "\n",
        "df=pd.read_csv(r\"terrorismData.csv\")\n",
        "df=df[df.State=='Jammu and Kashmir']\n",
        "df=df[df.City==df.City.describe().top]\n",
        "\n",
        "count=df.shape[0]\n",
        "df=df[df.Group!='Unknown']\n",
        "\n",
        "city=df.City.describe().top\n",
        "group=df.Group.describe().top\n",
        "\n",
        "print(city, count, group)"
      ],
      "metadata": {
        "id": "8bxBP2bcn9DX"
      },
      "execution_count": null,
      "outputs": []
    },
    {
      "cell_type": "markdown",
      "source": [
        "##**Terror Government**"
      ],
      "metadata": {
        "id": "MpHo6cfbsOES"
      }
    },
    {
      "cell_type": "markdown",
      "source": [
        "Given file \"terrorismData.csv\"\n",
        "\n",
        "It is an open-source database including information on terrorist attacks around the world from 1970 through 2017. This dataset includes systematic data on domestic as well as international terrorist incidents that have occurred during this time period\n",
        "\n",
        "Problem Statement :\n",
        "\n",
        "There was formation of new government in India on 26 May 2014. So current government's span is from 26th May 2014 to current. Find out two things from this period-\n",
        "\n",
        "1. Total number of attacks done in this period in India. Find this count as integer.\n",
        "\n",
        "2. Which Terrorist group was most active in this period in India. Most active means, group which has done maximum number of attacks. \n",
        "\n",
        "3. Ignore the Unknown group. \n",
        "\n",
        "Output Format :\n",
        "\n",
        "TotalAttacks MostActiveTerroristGroup"
      ],
      "metadata": {
        "id": "_vgfYrDMDQwn"
      }
    },
    {
      "cell_type": "code",
      "source": [
        "import pandas as pd   \n",
        "\n",
        "df = pd.read_csv(r\"terrorismData.csv\")\n",
        "a = df[df.Day >= 26]\n",
        "b = a[a.Year == 2014]\n",
        "c = b[b.Country=='India']\n",
        "ans1 = c[c.Month==5]\n",
        "\n",
        "del a\n",
        "del b\n",
        "del c\n",
        "\n",
        "a = df[df.Year == 2014]\n",
        "b = a[a.Country == 'India']\n",
        "ans2 = b[b.Month > 5]\n",
        "\n",
        "del a\n",
        "del b\n",
        "\n",
        "a = df[df.Country == 'India']\n",
        "ans3 = a[a.Year > 2014]\n",
        "\n",
        "count = ans1.shape[0] + ans2.shape[0] + ans3.shape[0]\n",
        "print(count, end=' ')\n",
        "\n",
        "ans1=ans1[ans1.Group!='Unknown']\n",
        "ans2=ans2[ans2.Group!='Unknown']\n",
        "ans3=ans3[ans3.Group!='Unknown']\n",
        "print(ans3.Group.describe().top)"
      ],
      "metadata": {
        "id": "CUvKl7Q-DmDX"
      },
      "execution_count": null,
      "outputs": []
    },
    {
      "cell_type": "markdown",
      "source": [
        "##**Terror Frequency**"
      ],
      "metadata": {
        "id": "CqswLFJMK1H_"
      }
    },
    {
      "cell_type": "markdown",
      "source": [
        "Given file \"terrorismData.csv\"\n",
        "\n",
        "It is an open-source database including information on terrorist attacks around the world from 1970 through 2017. This dataset includes systematic data on domestic as well as international terrorist incidents that have occurred during this time period\n",
        "\n",
        "Problem Statement :\n",
        "\n",
        "Find the frequency of the Casualty in Red Corridor states and in Jammu and Kashmir ? Here Frequency is (Total Casualty/Total Number of a year)\n",
        "\n",
        "Print frequency as integer value.\n",
        "\n",
        "Note: Red Corridor state includes Jharkhand, Odisha, Andhra Pradesh, and Chhattisgarh. Here Casualty = Killed + Wounded. Don't fill the nan value present in Killed and Wounded feature.\n",
        "\n",
        "Output Format :\n",
        "\n",
        "Frequency1 Frequency2 "
      ],
      "metadata": {
        "id": "Sp2hfLYALAcK"
      }
    },
    {
      "cell_type": "code",
      "source": [
        "import pandas as pd \n",
        "import numpy as np\n",
        "df_terrorism=pd.read_csv(r\"terrorismData.csv\")\n",
        "year=len(set(df_terrorism['Year']))\n",
        "\n",
        "df_terrorism=df_terrorism[df_terrorism['Country']=='India']\n",
        "\n",
        "df_terrorism['Casualty']=df_terrorism['Killed']+df_terrorism['Wounded']\n",
        "\n",
        "Jammu_state=df_terrorism[df_terrorism['State']=='Jammu and Kashmir']\n",
        "\n",
        "red_state=df_terrorism[(df_terrorism['State']=='Jharkhand')|(df_terrorism['State']=='Odisha')|(df_terrorism['State']=='Andhra Pradesh')|(df_terrorism['State']=='Chhattisgarh')]\n",
        "\n",
        "red_casualty=int(np.sum(red_state['Casualty']))\n",
        "\n",
        "Jammu_casualty=int(np.sum(Jammu_state['Casualty']))\n",
        "\n",
        "print(red_casualty//year,Jammu_casualty//year)"
      ],
      "metadata": {
        "id": "Gs0v4iafLlHb"
      },
      "execution_count": null,
      "outputs": []
    },
    {
      "cell_type": "markdown",
      "source": [
        "##**Terror DeadliestAttack**"
      ],
      "metadata": {
        "id": "rY8VV1SzLwXS"
      }
    },
    {
      "cell_type": "markdown",
      "source": [
        "Given file \"terrorismData.csv\"\n",
        "\n",
        "It is an open-source database including information on terrorist attacks around the world from 1970 through 2017. This dataset includes systematic data on domestic as well as international terrorist incidents that have occurred during this time period\n",
        "\n",
        "Problem Statement :\n",
        "\n",
        "Most Deadliest attack in a history of HumanKind?\n",
        "\n",
        "Print count of Killed people as integer value.\n",
        "\n",
        "Note: Here Deadliest attack means, in which the most number of people killed.\n",
        "\n",
        "Output Format :\n",
        "\n",
        "NumberOfPeopleKilled Country TerroristGroup"
      ],
      "metadata": {
        "id": "PxvX2VFuL9md"
      }
    },
    {
      "cell_type": "code",
      "source": [
        "import pandas as pd \n",
        "import numpy as np\n",
        "\n",
        "df = pd.read_csv(r\"terrorismData.csv\")\n",
        "df = df[df.Killed == df.Killed.max()]\n",
        "\n",
        "killed = df.Killed.iloc[0]\n",
        "country = df.Country.iloc[0]\n",
        "group = df.Group.iloc[0]\n",
        "\n",
        "print(int(killed), country, group)"
      ],
      "metadata": {
        "id": "0UP80frNMNmb"
      },
      "execution_count": null,
      "outputs": []
    },
    {
      "cell_type": "markdown",
      "source": [
        "##**Terror Attack**"
      ],
      "metadata": {
        "id": "CGDuQX9vMd4s"
      }
    },
    {
      "cell_type": "markdown",
      "source": [
        "Given file \"terrorismData.csv\"\n",
        "\n",
        "It is an open-source database including information on terrorist attacks around the world from 1970 through 2017. This dataset includes systematic data on domestic as well as international terrorist incidents that have occurred during this time period\n",
        "\n",
        "Problem Statement :\n",
        "\n",
        "Find out the Country with Highest Number of Terror Attack and in which year the most number of terrorist attack happened in that country ?\n",
        "\n",
        "Print count of terror attacks as integer value.\n",
        "\n",
        "Output Format :\n",
        "\n",
        "Country NumberOfAttack Year"
      ],
      "metadata": {
        "id": "9q4--gmEMj9R"
      }
    },
    {
      "cell_type": "code",
      "source": [
        "import pandas as pd \n",
        "import numpy as np\n",
        "\n",
        "df = pd.read_csv(r\"terrorismData.csv\")\n",
        "df = df[df.Country == df.Country.describe().top]\n",
        "count = df.shape[0]\n",
        "country = df.Country.describe().top\n",
        "\n",
        "y = {}\n",
        "\n",
        "for i in df.Year:\n",
        "    if i in y.keys():\n",
        "        y[i] += 1\n",
        "    else:\n",
        "        y[i] = 1\n",
        "\n",
        "cnt = 0\n",
        "year = 0\n",
        "\n",
        "for i in y.keys():\n",
        "    if cnt < y[i]:\n",
        "        cnt = y[i]\n",
        "        year = i\n",
        "\n",
        "print(country, count, year)"
      ],
      "metadata": {
        "id": "BWOBuw1pMs5f"
      },
      "execution_count": null,
      "outputs": []
    }
  ]
}