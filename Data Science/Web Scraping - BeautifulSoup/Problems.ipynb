{
  "nbformat": 4,
  "nbformat_minor": 0,
  "metadata": {
    "colab": {
      "provenance": []
    },
    "kernelspec": {
      "name": "python3",
      "display_name": "Python 3"
    },
    "language_info": {
      "name": "python"
    }
  },
  "cells": [
    {
      "cell_type": "markdown",
      "source": [
        "##Print Body tag##"
      ],
      "metadata": {
        "id": "OLHLcm3curll"
      }
    },
    {
      "cell_type": "markdown",
      "source": [
        "You are given the HTML content of a webpage, your task is to :\n",
        "\n",
        "Print all the contents of the body tag(including body tag)\n",
        "\n",
        "NOTE : You are provided the HTML content inside variable html"
      ],
      "metadata": {
        "id": "-eDqll1cutzV"
      }
    },
    {
      "cell_type": "code",
      "execution_count": 1,
      "metadata": {
        "id": "mukB4IT5ukA1"
      },
      "outputs": [],
      "source": [
        "html = '<!DOCTYPE html><html><head><title>Learning Beautiful Soup</title></head>\\\n",
        "<body><h1> About Us </h1><div class = \"first_div\"><p>Coding Ninjas Website</p>\\\n",
        "<a href=\"https://www.codingninjas.in/\">Link to Coding Ninjas Website</a>\\\n",
        "<ul><li>This</li><li>is</li><li>an</li><li>unordered</li><li>list.</li></ul>\\\n",
        "</div><p id = \"template_p\">This is a template paragraph tag</p>\\\n",
        "<a href = \"https://www.facebook.com/codingninjas/\">\\\n",
        "This is the link of our Facebook Page</a></body></html>'"
      ]
    },
    {
      "cell_type": "code",
      "source": [
        "from bs4 import BeautifulSoup\n",
        "soup = BeautifulSoup(html, 'html.parser')\n",
        "print(soup.body)"
      ],
      "metadata": {
        "colab": {
          "base_uri": "https://localhost:8080/"
        },
        "id": "1ti-P6yku7O4",
        "outputId": "8d772ec2-517f-44f4-c9ff-47eb54eee8bd"
      },
      "execution_count": 2,
      "outputs": [
        {
          "output_type": "stream",
          "name": "stdout",
          "text": [
            "<body><h1> About Us </h1><div class=\"first_div\"><p>Coding Ninjas Website</p><a href=\"https://www.codingninjas.in/\">Link to Coding Ninjas Website</a><ul><li>This</li><li>is</li><li>an</li><li>unordered</li><li>list.</li></ul></div><p id=\"template_p\">This is a template paragraph tag</p><a href=\"https://www.facebook.com/codingninjas/\">This is the link of our Facebook Page</a></body>\n"
          ]
        }
      ]
    },
    {
      "cell_type": "markdown",
      "source": [
        "##Attributes of div tag##"
      ],
      "metadata": {
        "id": "if32Xx1nvR3x"
      }
    },
    {
      "cell_type": "markdown",
      "source": [
        "You are given the HTML content of a webpage, your task is to :\n",
        "\n",
        "Print the name of all attributes of first div tag of the page\n",
        "\n",
        "NOTE : You are provided the HTML content inside variable html"
      ],
      "metadata": {
        "id": "YKO9nPv9vZH2"
      }
    },
    {
      "cell_type": "code",
      "source": [
        "html = '<!DOCTYPE html><html><head><title>Learning Beautiful Soup</title></head>\\\n",
        "<body><h1> About Us </h1><div class = \"first_div\"><p>Coding Ninjas Website</p>\\\n",
        "<a href=\"https://www.codingninjas.in/\">Link to Coding Ninjas Website</a>\\\n",
        "<ul><li>This</li><li>is</li><li>an</li><li>unordered</li><li>list.</li></ul>\\\n",
        "</div><p id = \"template_p\">This is a template paragraph tag</p>\\\n",
        "<a href = \"https://www.facebook.com/codingninjas/\">\\\n",
        "This is the link of our Facebook Page</a></body></html>'"
      ],
      "metadata": {
        "id": "i4oePcs3vfBE"
      },
      "execution_count": 3,
      "outputs": []
    },
    {
      "cell_type": "code",
      "source": [
        "from bs4 import BeautifulSoup\n",
        "soup = BeautifulSoup(html, 'html.parser')\n",
        "first_div_tag = soup.div\n",
        "for i in first_div_tag.attrs:\n",
        "  print(i)"
      ],
      "metadata": {
        "colab": {
          "base_uri": "https://localhost:8080/"
        },
        "id": "2HYVbyQDvkAM",
        "outputId": "5a10f055-568d-4d0c-895f-3c4c40e86ecb"
      },
      "execution_count": 4,
      "outputs": [
        {
          "output_type": "stream",
          "name": "stdout",
          "text": [
            "class\n"
          ]
        }
      ]
    },
    {
      "cell_type": "markdown",
      "source": [
        "##Strings of li##"
      ],
      "metadata": {
        "id": "CvdpNCIjwQ6s"
      }
    },
    {
      "cell_type": "markdown",
      "source": [
        "You are given the HTML content of a webpage, your task is to :\n",
        "\n",
        "Print the strings(only text without tag names) of all li tags separated by a space\n",
        "\n",
        "NOTE : You are provided the HTML content inside variable html"
      ],
      "metadata": {
        "id": "Mf1geij8wUFs"
      }
    },
    {
      "cell_type": "code",
      "source": [
        "html = '<!DOCTYPE html><html><head><title>Learning Beautiful Soup</title></head>\\\n",
        "<body><h1> About Us </h1><div class = \"first_div\"><p>Coding Ninjas Website</p>\\\n",
        "<a href=\"https://www.codingninjas.in/\">Link to Coding Ninjas Website</a>\\\n",
        "<ul><li>This</li><li>is</li><li>an</li><li>unordered</li><li>list.</li></ul>\\\n",
        "</div><p id = \"template_p\">This is a template paragraph tag</p>\\\n",
        "<a href = \"https://www.facebook.com/codingninjas/\">\\\n",
        "This is the link of our Facebook Page</a></body></html>'"
      ],
      "metadata": {
        "id": "FOPIxuIOwfd8"
      },
      "execution_count": 5,
      "outputs": []
    },
    {
      "cell_type": "code",
      "source": [
        "from bs4 import BeautifulSoup\n",
        "soup = BeautifulSoup(html, 'html.parser')\n",
        "li_tags = soup.find_all('li')\n",
        "ans = ''\n",
        "for i in li_tags:\n",
        "  ans = ans + i.string + ' '\n",
        "print(ans[0 : len(ans) - 1])"
      ],
      "metadata": {
        "colab": {
          "base_uri": "https://localhost:8080/"
        },
        "id": "46FDbf57wj-f",
        "outputId": "0412c898-7537-439e-a127-96f1a963c2d7"
      },
      "execution_count": 6,
      "outputs": [
        {
          "output_type": "stream",
          "name": "stdout",
          "text": [
            "This is an unordered list.\n"
          ]
        }
      ]
    },
    {
      "cell_type": "markdown",
      "source": [
        "##href of A tag##"
      ],
      "metadata": {
        "id": "0157CaABxSF2"
      }
    },
    {
      "cell_type": "markdown",
      "source": [
        "You are given the HTML content of a webpage, your task is to :\n",
        "\n",
        "Print the href of all the anchor tags on the page in different lines\n",
        "\n",
        "NOTE : You are provided the HTML content inside variable html"
      ],
      "metadata": {
        "id": "QHMh-HAhxcaN"
      }
    },
    {
      "cell_type": "code",
      "source": [
        "html = '<!DOCTYPE html><html><head><title>Learning Beautiful Soup</title></head>\\\n",
        "<body><h1> About Us </h1><div class = \"first_div\"><p>Coding Ninjas Website</p>\\\n",
        "<a href=\"https://www.codingninjas.in/\">Link to Coding Ninjas Website</a>\\\n",
        "<ul><li>This</li><li>is</li><li>an</li><li>unordered</li><li>list.</li></ul>\\\n",
        "</div><p id = \"template_p\">This is a template paragraph tag</p>\\\n",
        "<a href = \"https://www.facebook.com/codingninjas/\">\\\n",
        "This is the link of our Facebook Page</a></body></html>'"
      ],
      "metadata": {
        "id": "40CUwLouxlnh"
      },
      "execution_count": 7,
      "outputs": []
    },
    {
      "cell_type": "code",
      "source": [
        "from bs4 import BeautifulSoup\n",
        "soup = BeautifulSoup(html, 'html.parser')\n",
        "a_tags = soup.find_all('a')\n",
        "for i in a_tags:\n",
        "  print(i['href'])"
      ],
      "metadata": {
        "colab": {
          "base_uri": "https://localhost:8080/"
        },
        "id": "DtBsL3N8xoxE",
        "outputId": "f502f9e2-813b-45dd-dfd7-1ec754b870a9"
      },
      "execution_count": 11,
      "outputs": [
        {
          "output_type": "stream",
          "name": "stdout",
          "text": [
            "https://www.codingninjas.in/\n",
            "https://www.facebook.com/codingninjas/\n"
          ]
        }
      ]
    },
    {
      "cell_type": "markdown",
      "source": [
        "##Descendants and children##"
      ],
      "metadata": {
        "id": "5EYi604AEkDL"
      }
    },
    {
      "cell_type": "markdown",
      "source": [
        "You are given the HTML content of a webpage, your task is to :\n",
        "\n",
        "Print the difference between the number of descendants and the number of children of the html tag\n",
        "\n",
        "NOTE : You are provided the HTML content inside variable html"
      ],
      "metadata": {
        "id": "B5COAQGJEncy"
      }
    },
    {
      "cell_type": "code",
      "source": [
        "html = '<!DOCTYPE html><html><head><title>Navigate Parse Tree</title></head>\\\n",
        "<body><h1>This is your Assignment</h1><a href = \"https://www.google.com\">This is a link that will take you to Google</a>\\\n",
        "<ul><li><p> This question is given to test your knowledge of <b>Web Scraping</b></p>\\\n",
        "<p>Web scraping is a term used to describe the use of a program or algorithm to extract and process large amounts of data from the web.</p></li>\\\n",
        "<li id = \"li2\">This is an li tag given to you for scraping</li>\\\n",
        "<li>This li tag gives you the various ways to get data from a website\\\n",
        "<ol><li class = \"list_or\">Using API of the website</li><li>Scrape data using BeautifulSoup</li><li>Scrape data using Selenium</li>\\\n",
        "<li>Scrape data using Scrapy</li></ol></li>\\\n",
        "<li class = \"list_or\"><a href=\"https://www.crummy.com/software/BeautifulSoup/bs4/doc/\">\\\n",
        "Clicking on this takes you to the documentation of BeautifulSoup</a>\\\n",
        "<a href=\"https://selenium-python.readthedocs.io/\" id=\"anchor\">Clicking on this takes you to the documentation of Selenium</a>\\\n",
        "</li></ul></body></html>'"
      ],
      "metadata": {
        "id": "G-bqzMIcErJv"
      },
      "execution_count": 1,
      "outputs": []
    },
    {
      "cell_type": "code",
      "source": [
        "from bs4 import BeautifulSoup\n",
        "soup = BeautifulSoup(html, 'html.parser')\n",
        "print(len(list(soup.html.descendants)) - len(list(soup.html.children)))"
      ],
      "metadata": {
        "colab": {
          "base_uri": "https://localhost:8080/"
        },
        "id": "9k5PnXOIEtzc",
        "outputId": "7e00d05b-653a-4f08-e11d-ab0a81543623"
      },
      "execution_count": 2,
      "outputs": [
        {
          "output_type": "stream",
          "name": "stdout",
          "text": [
            "32\n"
          ]
        }
      ]
    },
    {
      "cell_type": "markdown",
      "source": [
        "##Name of tags with ID##"
      ],
      "metadata": {
        "id": "4Q5qMascFPzX"
      }
    },
    {
      "cell_type": "markdown",
      "source": [
        "You are given the HTML content of a webpage, your task is to :\n",
        "\n",
        "Print the name of all the tags in different lines that have an id attribute.\n",
        "\n",
        "NOTE : You are provided the HTML content inside variable html"
      ],
      "metadata": {
        "id": "7oJzYhG4FTrp"
      }
    },
    {
      "cell_type": "code",
      "source": [
        "html = '<!DOCTYPE html><html><head><title>Navigate Parse Tree</title></head>\\\n",
        "<body><h1>This is your Assignment</h1><a href = \"https://www.google.com\">This is a link that will take you to Google</a>\\\n",
        "<ul><li><p> This question is given to test your knowledge of <b>Web Scraping</b></p>\\\n",
        "<p>Web scraping is a term used to describe the use of a program or algorithm to extract and process large amounts of data from the web.</p></li>\\\n",
        "<li id = \"li2\">This is an li tag given to you for scraping</li>\\\n",
        "<li>This li tag gives you the various ways to get data from a website\\\n",
        "<ol><li class = \"list_or\">Using API of the website</li><li>Scrape data using BeautifulSoup</li><li>Scrape data using Selenium</li>\\\n",
        "<li>Scrape data using Scrapy</li></ol></li>\\\n",
        "<li class = \"list_or\"><a href=\"https://www.crummy.com/software/BeautifulSoup/bs4/doc/\">\\\n",
        "Clicking on this takes you to the documentation of BeautifulSoup</a>\\\n",
        "<a href=\"https://selenium-python.readthedocs.io/\" id=\"anchor\">Clicking on this takes you to the documentation of Selenium</a>\\\n",
        "</li></ul></body></html>'"
      ],
      "metadata": {
        "id": "I0e-IFuYFW0n"
      },
      "execution_count": 3,
      "outputs": []
    },
    {
      "cell_type": "code",
      "source": [
        "from bs4 import BeautifulSoup\n",
        "soup = BeautifulSoup(html, 'html.parser')\n",
        "for i in soup.find_all(id = True):\n",
        "  print(i.name)"
      ],
      "metadata": {
        "colab": {
          "base_uri": "https://localhost:8080/"
        },
        "id": "5l8MJA2_FZRE",
        "outputId": "04c06d39-e94a-4746-8523-c8e43fea4ab0"
      },
      "execution_count": 4,
      "outputs": [
        {
          "output_type": "stream",
          "name": "stdout",
          "text": [
            "li\n",
            "a\n"
          ]
        }
      ]
    },
    {
      "cell_type": "markdown",
      "source": [
        "##Next Sibling##"
      ],
      "metadata": {
        "id": "g5hyeIz0GCeV"
      }
    },
    {
      "cell_type": "markdown",
      "source": [
        "You are given the HTML content of a webpage, your task is to :\n",
        "\n",
        "Print all content of the next siblings of the tag that have id as “li2”(in different lines)\n",
        "\n",
        "NOTE : Content includes the complete html of tag"
      ],
      "metadata": {
        "id": "azFJEqpTGSb8"
      }
    },
    {
      "cell_type": "code",
      "source": [
        "html = '<!DOCTYPE html><html><head><title>Navigate Parse Tree</title></head>\\\n",
        "<body><h1>This is your Assignment</h1><a href = \"https://www.google.com\">This is a link that will take you to Google</a>\\\n",
        "<ul><li><p> This question is given to test your knowledge of <b>Web Scraping</b></p>\\\n",
        "<p>Web scraping is a term used to describe the use of a program or algorithm to extract and process large amounts of data from the web.</p></li>\\\n",
        "<li id = \"li2\">This is an li tag given to you for scraping</li>\\\n",
        "<li>This li tag gives you the various ways to get data from a website\\\n",
        "<ol><li class = \"list_or\">Using API of the website</li><li>Scrape data using BeautifulSoup</li><li>Scrape data using Selenium</li>\\\n",
        "<li>Scrape data using Scrapy</li></ol></li>\\\n",
        "<li class = \"list_or\"><a href=\"https://www.crummy.com/software/BeautifulSoup/bs4/doc/\">\\\n",
        "Clicking on this takes you to the documentation of BeautifulSoup</a>\\\n",
        "<a href=\"https://selenium-python.readthedocs.io/\" id=\"anchor\">Clicking on this takes you to the documentation of Selenium</a>\\\n",
        "</li></ul></body></html>'"
      ],
      "metadata": {
        "id": "xt8TA6nvGWSb"
      },
      "execution_count": 5,
      "outputs": []
    },
    {
      "cell_type": "code",
      "source": [
        "from bs4 import BeautifulSoup\n",
        "soup = BeautifulSoup(html, 'html.parser')\n",
        "sibl = soup.find(id = \"li2\").next_siblings\n",
        "for i in sibl:\n",
        "  print(i)"
      ],
      "metadata": {
        "colab": {
          "base_uri": "https://localhost:8080/"
        },
        "id": "l6yBDvZbGZA7",
        "outputId": "60b082a8-1a2d-4352-dcd4-56cc9f22f23c"
      },
      "execution_count": 6,
      "outputs": [
        {
          "output_type": "stream",
          "name": "stdout",
          "text": [
            "<li>This li tag gives you the various ways to get data from a website<ol><li class=\"list_or\">Using API of the website</li><li>Scrape data using BeautifulSoup</li><li>Scrape data using Selenium</li><li>Scrape data using Scrapy</li></ol></li>\n",
            "<li class=\"list_or\"><a href=\"https://www.crummy.com/software/BeautifulSoup/bs4/doc/\">Clicking on this takes you to the documentation of BeautifulSoup</a><a href=\"https://selenium-python.readthedocs.io/\" id=\"anchor\">Clicking on this takes you to the documentation of Selenium</a></li>\n"
          ]
        }
      ]
    },
    {
      "cell_type": "markdown",
      "source": [
        "##Parents of title##"
      ],
      "metadata": {
        "id": "Hf3L4Lc_HNkQ"
      }
    },
    {
      "cell_type": "markdown",
      "source": [
        "You are given the HTML content of a webpage, your task is to :\n",
        "\n",
        "Print content of all the parents of the title tag(linewise)\n",
        "\n",
        "NOTE : Content includes the whole HTML of the tag"
      ],
      "metadata": {
        "id": "fPXicYgaHPVd"
      }
    },
    {
      "cell_type": "code",
      "source": [
        "html = '<!DOCTYPE html><html><head><title>Navigate Parse Tree</title></head>\\\n",
        "<body><h1>This is your Assignment</h1><a href = \"https://www.google.com\">This is a link that will take you to Google</a>\\\n",
        "<ul><li><p> This question is given to test your knowledge of <b>Web Scraping</b></p>\\\n",
        "<p>Web scraping is a term used to describe the use of a program or algorithm to extract and process large amounts of data from the web.</p></li>\\\n",
        "<li id = \"li2\">This is an li tag given to you for scraping</li>\\\n",
        "<li>This li tag gives you the various ways to get data from a website\\\n",
        "<ol><li class = \"list_or\">Using API of the website</li><li>Scrape data using BeautifulSoup</li><li>Scrape data using Selenium</li>\\\n",
        "<li>Scrape data using Scrapy</li></ol></li>\\\n",
        "<li class = \"list_or\"><a href=\"https://www.crummy.com/software/BeautifulSoup/bs4/doc/\">\\\n",
        "Clicking on this takes you to the documentation of BeautifulSoup</a>\\\n",
        "<a href=\"https://selenium-python.readthedocs.io/\" id=\"anchor\">Clicking on this takes you to the documentation of Selenium</a>\\\n",
        "</li></ul></body></html>'"
      ],
      "metadata": {
        "id": "KShAF_Z7HTMv"
      },
      "execution_count": 7,
      "outputs": []
    },
    {
      "cell_type": "code",
      "source": [
        "from bs4 import BeautifulSoup\n",
        "soup = BeautifulSoup(html, 'html.parser')\n",
        "par = soup.title.parents\n",
        "for i in par:\n",
        "  print(i)"
      ],
      "metadata": {
        "colab": {
          "base_uri": "https://localhost:8080/"
        },
        "id": "xvhGxhpmHW-9",
        "outputId": "7aa58990-841d-477d-b8ae-22807fbd2e45"
      },
      "execution_count": 8,
      "outputs": [
        {
          "output_type": "stream",
          "name": "stdout",
          "text": [
            "<head><title>Navigate Parse Tree</title></head>\n",
            "<html><head><title>Navigate Parse Tree</title></head><body><h1>This is your Assignment</h1><a href=\"https://www.google.com\">This is a link that will take you to Google</a><ul><li><p> This question is given to test your knowledge of <b>Web Scraping</b></p><p>Web scraping is a term used to describe the use of a program or algorithm to extract and process large amounts of data from the web.</p></li><li id=\"li2\">This is an li tag given to you for scraping</li><li>This li tag gives you the various ways to get data from a website<ol><li class=\"list_or\">Using API of the website</li><li>Scrape data using BeautifulSoup</li><li>Scrape data using Selenium</li><li>Scrape data using Scrapy</li></ol></li><li class=\"list_or\"><a href=\"https://www.crummy.com/software/BeautifulSoup/bs4/doc/\">Clicking on this takes you to the documentation of BeautifulSoup</a><a href=\"https://selenium-python.readthedocs.io/\" id=\"anchor\">Clicking on this takes you to the documentation of Selenium</a></li></ul></body></html>\n",
            "<!DOCTYPE html>\n",
            "<html><head><title>Navigate Parse Tree</title></head><body><h1>This is your Assignment</h1><a href=\"https://www.google.com\">This is a link that will take you to Google</a><ul><li><p> This question is given to test your knowledge of <b>Web Scraping</b></p><p>Web scraping is a term used to describe the use of a program or algorithm to extract and process large amounts of data from the web.</p></li><li id=\"li2\">This is an li tag given to you for scraping</li><li>This li tag gives you the various ways to get data from a website<ol><li class=\"list_or\">Using API of the website</li><li>Scrape data using BeautifulSoup</li><li>Scrape data using Selenium</li><li>Scrape data using Scrapy</li></ol></li><li class=\"list_or\"><a href=\"https://www.crummy.com/software/BeautifulSoup/bs4/doc/\">Clicking on this takes you to the documentation of BeautifulSoup</a><a href=\"https://selenium-python.readthedocs.io/\" id=\"anchor\">Clicking on this takes you to the documentation of Selenium</a></li></ul></body></html>\n"
          ]
        }
      ]
    },
    {
      "cell_type": "markdown",
      "source": [
        "##Next Element##"
      ],
      "metadata": {
        "id": "JabgF44nIBzo"
      }
    },
    {
      "cell_type": "markdown",
      "source": [
        "You are given the HTML content of a webpage, your task is to :\n",
        "\n",
        "Print the string which is present inside the isecond anchor tag using BeautifulSoup's next_element property"
      ],
      "metadata": {
        "id": "SYc2VG2CIGQC"
      }
    },
    {
      "cell_type": "code",
      "source": [
        "html = '<!DOCTYPE html><html><head><title>Navigate Parse Tree</title></head>\\\n",
        "<body><h1>This is your Assignment</h1><a href = \"https://www.google.com\">This is a link that will take you to Google</a>\\\n",
        "<ul><li><p> This question is given to test your knowledge of <b>Web Scraping</b></p>\\\n",
        "<p>Web scraping is a term used to describe the use of a program or algorithm to extract and process large amounts of data from the web.</p></li>\\\n",
        "<li id = \"li2\">This is an li tag given to you for scraping</li>\\\n",
        "<li>This li tag gives you the various ways to get data from a website\\\n",
        "<ol><li class = \"list_or\">Using API of the website</li><li>Scrape data using BeautifulSoup</li><li>Scrape data using Selenium</li>\\\n",
        "<li>Scrape data using Scrapy</li></ol></li>\\\n",
        "<li class = \"list_or\"><a href=\"https://www.crummy.com/software/BeautifulSoup/bs4/doc/\">\\\n",
        "Clicking on this takes you to the documentation of BeautifulSoup</a>\\\n",
        "<a href=\"https://selenium-python.readthedocs.io/\" id=\"anchor\">Clicking on this takes you to the documentation of Selenium</a>\\\n",
        "</li></ul></body></html>'"
      ],
      "metadata": {
        "id": "ptC5ZnXfINvE"
      },
      "execution_count": 9,
      "outputs": []
    },
    {
      "cell_type": "code",
      "source": [
        "from bs4 import BeautifulSoup\n",
        "soup = BeautifulSoup(html, 'html.parser')\n",
        "second_a = soup.find_all('a')[1]\n",
        "print(second_a.next_element)"
      ],
      "metadata": {
        "colab": {
          "base_uri": "https://localhost:8080/"
        },
        "id": "TRjyMNHYIO4c",
        "outputId": "49d8105e-1fac-4bb4-92f7-b9d2e3fdf780"
      },
      "execution_count": 10,
      "outputs": [
        {
          "output_type": "stream",
          "name": "stdout",
          "text": [
            "Clicking on this takes you to the documentation of BeautifulSoup\n"
          ]
        }
      ]
    },
    {
      "cell_type": "markdown",
      "source": [
        "##Book Names from First Page##"
      ],
      "metadata": {
        "id": "81_LwO7NabjF"
      }
    },
    {
      "cell_type": "markdown",
      "source": [
        "Print the title of all 20 books which are present on first page of this website."
      ],
      "metadata": {
        "id": "BvHpUe4iadx8"
      }
    },
    {
      "cell_type": "code",
      "source": [
        "import requests\n",
        "from bs4 import BeautifulSoup\n",
        "\n",
        "response = requests.get('http://books.toscrape.com/')\n",
        "data = BeautifulSoup(response.text, 'html.parser')\n",
        "li = data.find_all(class_ = 'product_pod')\n",
        "\n",
        "for i in li:\n",
        "  print(i.h3.a['title'])"
      ],
      "metadata": {
        "colab": {
          "base_uri": "https://localhost:8080/"
        },
        "id": "VW_BmO8jagtW",
        "outputId": "864d49a1-9d06-4e57-dc6c-3ec72619430e"
      },
      "execution_count": 1,
      "outputs": [
        {
          "output_type": "stream",
          "name": "stdout",
          "text": [
            "A Light in the Attic\n",
            "Tipping the Velvet\n",
            "Soumission\n",
            "Sharp Objects\n",
            "Sapiens: A Brief History of Humankind\n",
            "The Requiem Red\n",
            "The Dirty Little Secrets of Getting Your Dream Job\n",
            "The Coming Woman: A Novel Based on the Life of the Infamous Feminist, Victoria Woodhull\n",
            "The Boys in the Boat: Nine Americans and Their Epic Quest for Gold at the 1936 Berlin Olympics\n",
            "The Black Maria\n",
            "Starving Hearts (Triangular Trade Trilogy, #1)\n",
            "Shakespeare's Sonnets\n",
            "Set Me Free\n",
            "Scott Pilgrim's Precious Little Life (Scott Pilgrim #1)\n",
            "Rip it Up and Start Again\n",
            "Our Band Could Be Your Life: Scenes from the American Indie Underground, 1981-1991\n",
            "Olio\n",
            "Mesaerion: The Best Science Fiction Stories 1800-1849\n",
            "Libertarianism for Beginners\n",
            "It's Only the Himalayas\n"
          ]
        }
      ]
    },
    {
      "cell_type": "markdown",
      "source": [
        "##All Categories##"
      ],
      "metadata": {
        "id": "eeyC4yYaeRlz"
      }
    },
    {
      "cell_type": "markdown",
      "source": [
        "Print the name of all categories which are present this website."
      ],
      "metadata": {
        "id": "FsYFxBmvecfB"
      }
    },
    {
      "cell_type": "code",
      "source": [
        "import requests\n",
        "from bs4 import BeautifulSoup\n",
        "\n",
        "response = requests.get('http://books.toscrape.com/')\n",
        "data = BeautifulSoup(response.text, 'html.parser')\n",
        "li = data.find(class_ = 'nav nav-list').ul\n",
        "\n",
        "a = li.find_all('li')\n",
        "\n",
        "for i in a:\n",
        "  print(i.a.string.strip())"
      ],
      "metadata": {
        "colab": {
          "base_uri": "https://localhost:8080/"
        },
        "id": "6r4Tpwhree_h",
        "outputId": "5013cd8b-54f8-49b6-b7c6-ca3b1aa56743"
      },
      "execution_count": 2,
      "outputs": [
        {
          "output_type": "stream",
          "name": "stdout",
          "text": [
            "Travel\n",
            "Mystery\n",
            "Historical Fiction\n",
            "Sequential Art\n",
            "Classics\n",
            "Philosophy\n",
            "Romance\n",
            "Womens Fiction\n",
            "Fiction\n",
            "Childrens\n",
            "Religion\n",
            "Nonfiction\n",
            "Music\n",
            "Default\n",
            "Science Fiction\n",
            "Sports and Games\n",
            "Add a comment\n",
            "Fantasy\n",
            "New Adult\n",
            "Young Adult\n",
            "Science\n",
            "Poetry\n",
            "Paranormal\n",
            "Art\n",
            "Psychology\n",
            "Autobiography\n",
            "Parenting\n",
            "Adult Fiction\n",
            "Humor\n",
            "Horror\n",
            "History\n",
            "Food and Drink\n",
            "Christian Fiction\n",
            "Business\n",
            "Biography\n",
            "Thriller\n",
            "Contemporary\n",
            "Spirituality\n",
            "Academic\n",
            "Self Help\n",
            "Historical\n",
            "Christian\n",
            "Suspense\n",
            "Short Stories\n",
            "Novels\n",
            "Health\n",
            "Politics\n",
            "Cultural\n",
            "Erotica\n",
            "Crime\n"
          ]
        }
      ]
    },
    {
      "cell_type": "markdown",
      "source": [
        "##All Book Names##"
      ],
      "metadata": {
        "id": "ZdmZeUoY1f7s"
      }
    },
    {
      "cell_type": "markdown",
      "source": [
        "Print the title of all books which are present on first 10 pages of this website."
      ],
      "metadata": {
        "id": "o-N5Ad1x1hyD"
      }
    },
    {
      "cell_type": "code",
      "source": [
        "import requests\n",
        "from bs4 import BeautifulSoup\n",
        "\n",
        "def getBookNames(url):\n",
        "  books = []\n",
        "  response = requests.get(url)\n",
        "  data = BeautifulSoup(response.text, 'html.parser')\n",
        "  li = data.find_all(class_ = 'product_pod')\n",
        "  for i in li:\n",
        "    books.append(i.h3.a['title'])\n",
        "  return books\n",
        "\n",
        "allPages = ['http://books.toscrape.com/catalogue/page-1.html',\n",
        "            'http://books.toscrape.com/catalogue/page-2.html',\n",
        "            'http://books.toscrape.com/catalogue/page-3.html',\n",
        "            'http://books.toscrape.com/catalogue/page-4.html',\n",
        "            'http://books.toscrape.com/catalogue/page-5.html',\n",
        "            'http://books.toscrape.com/catalogue/page-6.html',\n",
        "            'http://books.toscrape.com/catalogue/page-7.html',\n",
        "            'http://books.toscrape.com/catalogue/page-8.html',\n",
        "            'http://books.toscrape.com/catalogue/page-9.html',\n",
        "            'http://books.toscrape.com/catalogue/page-10.html']\n",
        "\n",
        "allBooks = []\n",
        "for page in allPages:\n",
        "  allBooks.append(getBookNames(page))\n",
        "\n",
        "for i in range(len(allBooks)):\n",
        "  for book in allBooks[i]:\n",
        "    print(book)"
      ],
      "metadata": {
        "colab": {
          "base_uri": "https://localhost:8080/"
        },
        "id": "TMkjGnZz1kQu",
        "outputId": "270beb94-e0cc-455a-9f2f-57ca0585932a"
      },
      "execution_count": 4,
      "outputs": [
        {
          "output_type": "stream",
          "name": "stdout",
          "text": [
            "A Light in the Attic\n",
            "Tipping the Velvet\n",
            "Soumission\n",
            "Sharp Objects\n",
            "Sapiens: A Brief History of Humankind\n",
            "The Requiem Red\n",
            "The Dirty Little Secrets of Getting Your Dream Job\n",
            "The Coming Woman: A Novel Based on the Life of the Infamous Feminist, Victoria Woodhull\n",
            "The Boys in the Boat: Nine Americans and Their Epic Quest for Gold at the 1936 Berlin Olympics\n",
            "The Black Maria\n",
            "Starving Hearts (Triangular Trade Trilogy, #1)\n",
            "Shakespeare's Sonnets\n",
            "Set Me Free\n",
            "Scott Pilgrim's Precious Little Life (Scott Pilgrim #1)\n",
            "Rip it Up and Start Again\n",
            "Our Band Could Be Your Life: Scenes from the American Indie Underground, 1981-1991\n",
            "Olio\n",
            "Mesaerion: The Best Science Fiction Stories 1800-1849\n",
            "Libertarianism for Beginners\n",
            "It's Only the Himalayas\n",
            "In Her Wake\n",
            "How Music Works\n",
            "Foolproof Preserving: A Guide to Small Batch Jams, Jellies, Pickles, Condiments, and More: A Foolproof Guide to Making Small Batch Jams, Jellies, Pickles, Condiments, and More\n",
            "Chase Me (Paris Nights #2)\n",
            "Black Dust\n",
            "Birdsong: A Story in Pictures\n",
            "America's Cradle of Quarterbacks: Western Pennsylvania's Football Factory from Johnny Unitas to Joe Montana\n",
            "Aladdin and His Wonderful Lamp\n",
            "Worlds Elsewhere: Journeys Around Shakespeareâs Globe\n",
            "Wall and Piece\n",
            "The Four Agreements: A Practical Guide to Personal Freedom\n",
            "The Five Love Languages: How to Express Heartfelt Commitment to Your Mate\n",
            "The Elephant Tree\n",
            "The Bear and the Piano\n",
            "Sophie's World\n",
            "Penny Maybe\n",
            "Maude (1883-1993):She Grew Up with the country\n",
            "In a Dark, Dark Wood\n",
            "Behind Closed Doors\n",
            "You can't bury them all: Poems\n",
            "Slow States of Collapse: Poems\n",
            "Reasons to Stay Alive\n",
            "Private Paris (Private #10)\n",
            "#HigherSelfie: Wake Up Your Life. Free Your Soul. Find Your Tribe.\n",
            "Without Borders (Wanderlove #1)\n",
            "When We Collided\n",
            "We Love You, Charlie Freeman\n",
            "Untitled Collection: Sabbath Poems 2014\n",
            "Unseen City: The Majesty of Pigeons, the Discreet Charm of Snails & Other Wonders of the Urban Wilderness\n",
            "Unicorn Tracks\n",
            "Unbound: How Eight Technologies Made Us Human, Transformed Society, and Brought Our World to the Brink\n",
            "Tsubasa: WoRLD CHRoNiCLE 2 (Tsubasa WoRLD CHRoNiCLE #2)\n",
            "Throwing Rocks at the Google Bus: How Growth Became the Enemy of Prosperity\n",
            "This One Summer\n",
            "Thirst\n",
            "The Torch Is Passed: A Harding Family Story\n",
            "The Secret of Dreadwillow Carse\n",
            "The Pioneer Woman Cooks: Dinnertime: Comfort Classics, Freezer Food, 16-Minute Meals, and Other Delicious Ways to Solve Supper!\n",
            "The Past Never Ends\n",
            "The Natural History of Us (The Fine Art of Pretending #2)\n",
            "The Nameless City (The Nameless City #1)\n",
            "The Murder That Never Was (Forensic Instincts #5)\n",
            "The Most Perfect Thing: Inside (and Outside) a Bird's Egg\n",
            "The Mindfulness and Acceptance Workbook for Anxiety: A Guide to Breaking Free from Anxiety, Phobias, and Worry Using Acceptance and Commitment Therapy\n",
            "The Life-Changing Magic of Tidying Up: The Japanese Art of Decluttering and Organizing\n",
            "The Inefficiency Assassin: Time Management Tactics for Working Smarter, Not Longer\n",
            "The Gutsy Girl: Escapades for Your Life of Epic Adventure\n",
            "The Electric Pencil: Drawings from Inside State Hospital No. 3\n",
            "The Death of Humanity: and the Case for Life\n",
            "The Bulletproof Diet: Lose up to a Pound a Day, Reclaim Energy and Focus, Upgrade Your Life\n",
            "The Art Forger\n",
            "The Age of Genius: The Seventeenth Century and the Birth of the Modern Mind\n",
            "The Activist's Tao Te Ching: Ancient Advice for a Modern Revolution\n",
            "Spark Joy: An Illustrated Master Class on the Art of Organizing and Tidying Up\n",
            "Soul Reader\n",
            "Security\n",
            "Saga, Volume 6 (Saga (Collected Editions) #6)\n",
            "Saga, Volume 5 (Saga (Collected Editions) #5)\n",
            "Reskilling America: Learning to Labor in the Twenty-First Century\n",
            "Rat Queens, Vol. 3: Demons (Rat Queens (Collected Editions) #11-15)\n",
            "Princess Jellyfish 2-in-1 Omnibus, Vol. 01 (Princess Jellyfish 2-in-1 Omnibus #1)\n",
            "Princess Between Worlds (Wide-Awake Princess #5)\n",
            "Pop Gun War, Volume 1: Gift\n",
            "Political Suicide: Missteps, Peccadilloes, Bad Calls, Backroom Hijinx, Sordid Pasts, Rotten Breaks, and Just Plain Dumb Mistakes in the Annals of American Politics\n",
            "Patience\n",
            "Outcast, Vol. 1: A Darkness Surrounds Him (Outcast #1)\n",
            "orange: The Complete Collection 1 (orange: The Complete Collection #1)\n",
            "Online Marketing for Busy Authors: A Step-By-Step Guide\n",
            "On a Midnight Clear\n",
            "Obsidian (Lux #1)\n",
            "My Paris Kitchen: Recipes and Stories\n",
            "Masks and Shadows\n",
            "Mama Tried: Traditional Italian Cooking for the Screwed, Crude, Vegan, and Tattooed\n",
            "Lumberjanes, Vol. 2: Friendship to the Max (Lumberjanes #5-8)\n",
            "Lumberjanes, Vol. 1: Beware the Kitten Holy (Lumberjanes #1-4)\n",
            "Lumberjanes Vol. 3: A Terrible Plan (Lumberjanes #9-12)\n",
            "Layered: Baking, Building, and Styling Spectacular Cakes\n",
            "Judo: Seven Steps to Black Belt (an Introductory Guide for Beginners)\n",
            "Join\n",
            "In the Country We Love: My Family Divided\n",
            "Immunity: How Elie Metchnikoff Changed the Course of Modern Medicine\n",
            "I Hate Fairyland, Vol. 1: Madly Ever After (I Hate Fairyland (Compilations) #1-5)\n",
            "I am a Hero Omnibus Volume 1\n",
            "How to Be Miserable: 40 Strategies You Already Use\n",
            "Her Backup Boyfriend (The Sorensen Family #1)\n",
            "Giant Days, Vol. 2 (Giant Days #5-8)\n",
            "Forever and Forever: The Courtship of Henry Longfellow and Fanny Appleton\n",
            "First and First (Five Boroughs #3)\n",
            "Fifty Shades Darker (Fifty Shades #2)\n",
            "Everydata: The Misinformation Hidden in the Little Data You Consume Every Day\n",
            "Don't Be a Jerk: And Other Practical Advice from Dogen, Japan's Greatest Zen Master\n",
            "Danganronpa Volume 1\n",
            "Crown of Midnight (Throne of Glass #2)\n",
            "Codename Baboushka, Volume 1: The Conclave of Death\n",
            "Camp Midnight\n",
            "Call the Nurse: True Stories of a Country Nurse on a Scottish Isle\n",
            "Burning\n",
            "Bossypants\n",
            "Bitch Planet, Vol. 1: Extraordinary Machine (Bitch Planet (Collected Editions))\n",
            "Avatar: The Last Airbender: Smoke and Shadow, Part 3 (Smoke and Shadow #3)\n",
            "Algorithms to Live By: The Computer Science of Human Decisions\n",
            "A World of Flavor: Your Gluten Free Passport\n",
            "A Piece of Sky, a Grain of Rice: A Memoir in Four Meditations\n",
            "A Murder in Time\n",
            "A Flight of Arrows (The Pathfinders #2)\n",
            "A Fierce and Subtle Poison\n",
            "A Court of Thorns and Roses (A Court of Thorns and Roses #1)\n",
            "(Un)Qualified: How God Uses Broken People to Do Big Things\n",
            "You Are What You Love: The Spiritual Power of Habit\n",
            "William Shakespeare's Star Wars: Verily, A New Hope (William Shakespeare's Star Wars #4)\n",
            "Tuesday Nights in 1980\n",
            "Tracing Numbers on a Train\n",
            "Throne of Glass (Throne of Glass #1)\n",
            "Thomas Jefferson and the Tripoli Pirates: The Forgotten War That Changed American History\n",
            "Thirteen Reasons Why\n",
            "The White Cat and the Monk: A Retelling of the Poem âPangur BÃ¡nâ\n",
            "The Wedding Dress\n",
            "The Vacationers\n",
            "The Third Wave: An Entrepreneurâs Vision of the Future\n",
            "The Stranger\n",
            "The Shadow Hero (The Shadow Hero)\n",
            "The Secret (The Secret #1)\n",
            "The Regional Office Is Under Attack!\n",
            "The Psychopath Test: A Journey Through the Madness Industry\n",
            "The Project\n",
            "The Power of Now: A Guide to Spiritual Enlightenment\n",
            "The Omnivore's Dilemma: A Natural History of Four Meals\n",
            "The Nerdy Nummies Cookbook: Sweet Treats for the Geek in All of Us\n",
            "The Murder of Roger Ackroyd (Hercule Poirot #4)\n",
            "The Mistake (Off-Campus #2)\n",
            "The Matchmaker's Playbook (Wingmen Inc. #1)\n",
            "The Love and Lemons Cookbook: An Apple-to-Zucchini Celebration of Impromptu Cooking\n",
            "The Long Shadow of Small Ghosts: Murder and Memory in an American City\n",
            "The Kite Runner\n",
            "The House by the Lake\n",
            "The Glittering Court (The Glittering Court #1)\n",
            "The Girl on the Train\n",
            "The Genius of Birds\n",
            "The Emerald Mystery\n",
            "The Cookies & Cups Cookbook: 125+ sweet & savory recipes reminding you to Always Eat Dessert First\n",
            "The Bridge to Consciousness: I'm Writing the Bridge Between Science and Our Old and New Beliefs.\n",
            "The Artist's Way: A Spiritual Path to Higher Creativity\n",
            "The Art of War\n",
            "The Argonauts\n",
            "The 10% Entrepreneur: Live Your Startup Dream Without Quitting Your Day Job\n",
            "Suddenly in Love (Lake Haven #1)\n",
            "Something More Than This\n",
            "Soft Apocalypse\n",
            "So You've Been Publicly Shamed\n",
            "Shoe Dog: A Memoir by the Creator of NIKE\n",
            "Shobu Samurai, Project Aryoku (#3)\n",
            "Secrets and Lace (Fatal Hearts #1)\n",
            "Scarlett Epstein Hates It Here\n",
            "Romero and Juliet: A Tragic Tale of Love and Zombies\n",
            "Redeeming Love\n",
            "Poses for Artists Volume 1 - Dynamic and Sitting Poses: An Essential Reference for Figure Drawing and the Human Form\n",
            "Poems That Make Grown Women Cry\n",
            "Nightingale, Sing\n",
            "Night Sky with Exit Wounds\n",
            "Mrs. Houdini\n",
            "Modern Romance\n",
            "Miss Peregrineâs Home for Peculiar Children (Miss Peregrineâs Peculiar Children #1)\n",
            "Louisa: The Extraordinary Life of Mrs. Adams\n",
            "Little Red\n",
            "Library of Souls (Miss Peregrineâs Peculiar Children #3)\n",
            "Large Print Heart of the Pride\n",
            "I Had a Nice Time And Other Lies...: How to find love & sh*t like that\n",
            "Hollow City (Miss Peregrineâs Peculiar Children #2)\n",
            "Grumbles\n",
            "Full Moon over Noahâs Ark: An Odyssey to Mount Ararat and Beyond\n",
            "Frostbite (Vampire Academy #2)\n",
            "Follow You Home\n",
            "First Steps for New Christians (Print Edition)\n",
            "Finders Keepers (Bill Hodges Trilogy #2)\n",
            "Fables, Vol. 1: Legends in Exile (Fables #1)\n",
            "Eureka Trivia 6.0\n",
            "Drive: The Surprising Truth About What Motivates Us\n",
            "Done Rubbed Out (Reightman & Bailey #1)\n",
            "Doing It Over (Most Likely To #1)\n",
            "Deliciously Ella Every Day: Quick and Easy Recipes for Gluten-Free Snacks, Packed Lunches, and Simple Meals\n"
          ]
        }
      ]
    },
    {
      "cell_type": "markdown",
      "source": [
        "##Book Details##"
      ],
      "metadata": {
        "id": "7lcR6GwE38Ei"
      }
    },
    {
      "cell_type": "markdown",
      "source": [
        "Find and print the details of all books which are present on first 2 pages of this website.\n",
        "\n",
        "All details include - Title of the book, book page url, Price (in float, without any currency or extra symbol), and quantity in stock (in integer). Save all the details in a dataframe and print in the required format.\n"
      ],
      "metadata": {
        "id": "coBumlygohtd"
      }
    },
    {
      "cell_type": "code",
      "source": [
        "from requests.api import get\n",
        "import requests\n",
        "from bs4 import BeautifulSoup\n",
        "import re\n",
        "import pandas as pd\n",
        "\n",
        "def getBookURLs(pageURL):\n",
        "  response = requests.get(pageURL)\n",
        "  data = BeautifulSoup(response.text, 'html.parser')\n",
        "  books = data.find_all(class_ = 'product_pod')\n",
        "  base_url = 'http://books.toscrape.com/catalogue/'\n",
        "  books_urls = []\n",
        "  for i in books:\n",
        "    books_urls.append(base_url + i.h3.a['href'])\n",
        "  return books_urls\n",
        "\n",
        "def saveBookDetails(url, AllBookDetails):\n",
        "  bookURLs = getBookURLs(url)\n",
        "  for bookLink in bookURLs:\n",
        "    response = requests.get(bookLink)\n",
        "    data = BeautifulSoup(response.text, 'html.parser')\n",
        "    title = data.find('h1').string\n",
        "    price_string = data.find(class_ = 'price_color').string\n",
        "    price = float(re.search('[\\d.]+', price_string).group())\n",
        "    qty_string = data.find(class_ = 'instock availability').contents[-1].strip()\n",
        "    qty = int(re.search('\\d+', qty_string).group())\n",
        "    detail = [title, bookLink, price, qty]\n",
        "    AllBookDetails.append(detail)\n",
        "\n",
        "allPages = ['http://books.toscrape.com/catalogue/page-1.html',\n",
        "            'http://books.toscrape.com/catalogue/page-2.html']\n",
        "\n",
        "AllBookDetails = []\n",
        "for page in allPages:\n",
        "  saveBookDetails(page, AllBookDetails)\n",
        "\n",
        "AllBookDetails_df = pd.DataFrame(AllBookDetails, columns = ['Title', 'Link', 'Price', 'Quantity in Stock'])\n",
        "for i in range(len(AllBookDetails_df)):\n",
        "  print(AllBookDetails_df['Title'][i], AllBookDetails_df['Link'][i], AllBookDetails_df['Price'][i], AllBookDetails_df['Quantity in Stock'][i])"
      ],
      "metadata": {
        "colab": {
          "base_uri": "https://localhost:8080/"
        },
        "id": "RZEm3b5KopNn",
        "outputId": "5745ea38-8261-4bec-900c-2729522cfbad"
      },
      "execution_count": 5,
      "outputs": [
        {
          "output_type": "stream",
          "name": "stdout",
          "text": [
            "A Light in the Attic http://books.toscrape.com/catalogue/a-light-in-the-attic_1000/index.html 51.77 22\n",
            "Tipping the Velvet http://books.toscrape.com/catalogue/tipping-the-velvet_999/index.html 53.74 20\n",
            "Soumission http://books.toscrape.com/catalogue/soumission_998/index.html 50.1 20\n",
            "Sharp Objects http://books.toscrape.com/catalogue/sharp-objects_997/index.html 47.82 20\n",
            "Sapiens: A Brief History of Humankind http://books.toscrape.com/catalogue/sapiens-a-brief-history-of-humankind_996/index.html 54.23 20\n",
            "The Requiem Red http://books.toscrape.com/catalogue/the-requiem-red_995/index.html 22.65 19\n",
            "The Dirty Little Secrets of Getting Your Dream Job http://books.toscrape.com/catalogue/the-dirty-little-secrets-of-getting-your-dream-job_994/index.html 33.34 19\n",
            "The Coming Woman: A Novel Based on the Life of the Infamous Feminist, Victoria Woodhull http://books.toscrape.com/catalogue/the-coming-woman-a-novel-based-on-the-life-of-the-infamous-feminist-victoria-woodhull_993/index.html 17.93 19\n",
            "The Boys in the Boat: Nine Americans and Their Epic Quest for Gold at the 1936 Berlin Olympics http://books.toscrape.com/catalogue/the-boys-in-the-boat-nine-americans-and-their-epic-quest-for-gold-at-the-1936-berlin-olympics_992/index.html 22.6 19\n",
            "The Black Maria http://books.toscrape.com/catalogue/the-black-maria_991/index.html 52.15 19\n",
            "Starving Hearts (Triangular Trade Trilogy, #1) http://books.toscrape.com/catalogue/starving-hearts-triangular-trade-trilogy-1_990/index.html 13.99 19\n",
            "Shakespeare's Sonnets http://books.toscrape.com/catalogue/shakespeares-sonnets_989/index.html 20.66 19\n",
            "Set Me Free http://books.toscrape.com/catalogue/set-me-free_988/index.html 17.46 19\n",
            "Scott Pilgrim's Precious Little Life (Scott Pilgrim #1) http://books.toscrape.com/catalogue/scott-pilgrims-precious-little-life-scott-pilgrim-1_987/index.html 52.29 19\n",
            "Rip it Up and Start Again http://books.toscrape.com/catalogue/rip-it-up-and-start-again_986/index.html 35.02 19\n",
            "Our Band Could Be Your Life: Scenes from the American Indie Underground, 1981-1991 http://books.toscrape.com/catalogue/our-band-could-be-your-life-scenes-from-the-american-indie-underground-1981-1991_985/index.html 57.25 19\n",
            "Olio http://books.toscrape.com/catalogue/olio_984/index.html 23.88 19\n",
            "Mesaerion: The Best Science Fiction Stories 1800-1849 http://books.toscrape.com/catalogue/mesaerion-the-best-science-fiction-stories-1800-1849_983/index.html 37.59 19\n",
            "Libertarianism for Beginners http://books.toscrape.com/catalogue/libertarianism-for-beginners_982/index.html 51.33 19\n",
            "It's Only the Himalayas http://books.toscrape.com/catalogue/its-only-the-himalayas_981/index.html 45.17 19\n",
            "In Her Wake http://books.toscrape.com/catalogue/in-her-wake_980/index.html 12.84 19\n",
            "How Music Works http://books.toscrape.com/catalogue/how-music-works_979/index.html 37.32 19\n",
            "Foolproof Preserving: A Guide to Small Batch Jams, Jellies, Pickles, Condiments, and More: A Foolproof Guide to Making Small Batch Jams, Jellies, Pickles, Condiments, and More http://books.toscrape.com/catalogue/foolproof-preserving-a-guide-to-small-batch-jams-jellies-pickles-condiments-and-more-a-foolproof-guide-to-making-small-batch-jams-jellies-pickles-condiments-and-more_978/index.html 30.52 19\n",
            "Chase Me (Paris Nights #2) http://books.toscrape.com/catalogue/chase-me-paris-nights-2_977/index.html 25.27 19\n",
            "Black Dust http://books.toscrape.com/catalogue/black-dust_976/index.html 34.53 19\n",
            "Birdsong: A Story in Pictures http://books.toscrape.com/catalogue/birdsong-a-story-in-pictures_975/index.html 54.64 19\n",
            "America's Cradle of Quarterbacks: Western Pennsylvania's Football Factory from Johnny Unitas to Joe Montana http://books.toscrape.com/catalogue/americas-cradle-of-quarterbacks-western-pennsylvanias-football-factory-from-johnny-unitas-to-joe-montana_974/index.html 22.5 19\n",
            "Aladdin and His Wonderful Lamp http://books.toscrape.com/catalogue/aladdin-and-his-wonderful-lamp_973/index.html 53.13 19\n",
            "Worlds Elsewhere: Journeys Around Shakespeareâs Globe http://books.toscrape.com/catalogue/worlds-elsewhere-journeys-around-shakespeares-globe_972/index.html 40.3 18\n",
            "Wall and Piece http://books.toscrape.com/catalogue/wall-and-piece_971/index.html 44.18 18\n",
            "The Four Agreements: A Practical Guide to Personal Freedom http://books.toscrape.com/catalogue/the-four-agreements-a-practical-guide-to-personal-freedom_970/index.html 17.66 18\n",
            "The Five Love Languages: How to Express Heartfelt Commitment to Your Mate http://books.toscrape.com/catalogue/the-five-love-languages-how-to-express-heartfelt-commitment-to-your-mate_969/index.html 31.05 18\n",
            "The Elephant Tree http://books.toscrape.com/catalogue/the-elephant-tree_968/index.html 23.82 18\n",
            "The Bear and the Piano http://books.toscrape.com/catalogue/the-bear-and-the-piano_967/index.html 36.89 18\n",
            "Sophie's World http://books.toscrape.com/catalogue/sophies-world_966/index.html 15.94 18\n",
            "Penny Maybe http://books.toscrape.com/catalogue/penny-maybe_965/index.html 33.29 18\n",
            "Maude (1883-1993):She Grew Up with the country http://books.toscrape.com/catalogue/maude-1883-1993she-grew-up-with-the-country_964/index.html 18.02 18\n",
            "In a Dark, Dark Wood http://books.toscrape.com/catalogue/in-a-dark-dark-wood_963/index.html 19.63 18\n",
            "Behind Closed Doors http://books.toscrape.com/catalogue/behind-closed-doors_962/index.html 52.22 18\n",
            "You can't bury them all: Poems http://books.toscrape.com/catalogue/you-cant-bury-them-all-poems_961/index.html 33.63 17\n"
          ]
        }
      ]
    }
  ]
}