{
  "nbformat": 4,
  "nbformat_minor": 0,
  "metadata": {
    "colab": {
      "provenance": []
    },
    "kernelspec": {
      "name": "python3",
      "display_name": "Python 3"
    },
    "language_info": {
      "name": "python"
    }
  },
  "cells": [
    {
      "cell_type": "code",
      "execution_count": 1,
      "metadata": {
        "id": "KxqAPata7Q8t"
      },
      "outputs": [],
      "source": [
        "html = '<!DOCTYPE html>\\\n",
        "<html>\\\n",
        "<head>\\\n",
        "<title> Testing Web Page </title>\\\n",
        "</head>\\\n",
        "<body>\\\n",
        "<h1> Web Scraping </h1>\\\n",
        "<p class = \"abc\" id = \"first_para\">\\\n",
        "Let \\'s start learning\\\n",
        "<b>\\\n",
        "Web Scraping\\\n",
        "</b>\\\n",
        "</p>\\\n",
        "<p id = \"def\">\\\n",
        "You can read more about BeautifulSoup from <a href = \"https://www.crummy.com/software/BeautifulSoup/bs4/doc/\"> here </a>\\\n",
        "</p>\\\n",
        "<p class = \"abc\">\\\n",
        "<a href = \"https://codingninjas.in/\"> Coding Ninjas </a>\\\n",
        "</p>\\\n",
        "</body>\\\n",
        "</html>'"
      ]
    },
    {
      "cell_type": "code",
      "source": [
        "from bs4 import BeautifulSoup\n",
        "data = BeautifulSoup(html, 'html.parser')\n",
        "data.find_all(['p', 'a'])"
      ],
      "metadata": {
        "colab": {
          "base_uri": "https://localhost:8080/"
        },
        "id": "j7PtI1uh7zXp",
        "outputId": "1a0def30-fa81-45ba-aee4-f8529cf74730"
      },
      "execution_count": 2,
      "outputs": [
        {
          "output_type": "execute_result",
          "data": {
            "text/plain": [
              "[<p class=\"abc\" id=\"first_para\">Let 's start learning<b>Web Scraping</b></p>,\n",
              " <p id=\"def\">You can read more about BeautifulSoup from <a href=\"https://www.crummy.com/software/BeautifulSoup/bs4/doc/\"> here </a></p>,\n",
              " <a href=\"https://www.crummy.com/software/BeautifulSoup/bs4/doc/\"> here </a>,\n",
              " <p class=\"abc\"><a href=\"https://codingninjas.in/\"> Coding Ninjas </a></p>,\n",
              " <a href=\"https://codingninjas.in/\"> Coding Ninjas </a>]"
            ]
          },
          "metadata": {},
          "execution_count": 2
        }
      ]
    },
    {
      "cell_type": "code",
      "source": [
        "data.find_all(True) # To find out each and every tag present in my document"
      ],
      "metadata": {
        "colab": {
          "base_uri": "https://localhost:8080/"
        },
        "id": "xZuQWbIQ8Ud6",
        "outputId": "79ac3e85-daf1-4dca-ae15-b7c6361186e0"
      },
      "execution_count": 3,
      "outputs": [
        {
          "output_type": "execute_result",
          "data": {
            "text/plain": [
              "[<html><head><title> Testing Web Page </title></head><body><h1> Web Scraping </h1><p class=\"abc\" id=\"first_para\">Let 's start learning<b>Web Scraping</b></p><p id=\"def\">You can read more about BeautifulSoup from <a href=\"https://www.crummy.com/software/BeautifulSoup/bs4/doc/\"> here </a></p><p class=\"abc\"><a href=\"https://codingninjas.in/\"> Coding Ninjas </a></p></body></html>,\n",
              " <head><title> Testing Web Page </title></head>,\n",
              " <title> Testing Web Page </title>,\n",
              " <body><h1> Web Scraping </h1><p class=\"abc\" id=\"first_para\">Let 's start learning<b>Web Scraping</b></p><p id=\"def\">You can read more about BeautifulSoup from <a href=\"https://www.crummy.com/software/BeautifulSoup/bs4/doc/\"> here </a></p><p class=\"abc\"><a href=\"https://codingninjas.in/\"> Coding Ninjas </a></p></body>,\n",
              " <h1> Web Scraping </h1>,\n",
              " <p class=\"abc\" id=\"first_para\">Let 's start learning<b>Web Scraping</b></p>,\n",
              " <b>Web Scraping</b>,\n",
              " <p id=\"def\">You can read more about BeautifulSoup from <a href=\"https://www.crummy.com/software/BeautifulSoup/bs4/doc/\"> here </a></p>,\n",
              " <a href=\"https://www.crummy.com/software/BeautifulSoup/bs4/doc/\"> here </a>,\n",
              " <p class=\"abc\"><a href=\"https://codingninjas.in/\"> Coding Ninjas </a></p>,\n",
              " <a href=\"https://codingninjas.in/\"> Coding Ninjas </a>]"
            ]
          },
          "metadata": {},
          "execution_count": 3
        }
      ]
    },
    {
      "cell_type": "code",
      "source": [
        "data.find_all(id = 'first_para')"
      ],
      "metadata": {
        "colab": {
          "base_uri": "https://localhost:8080/"
        },
        "id": "i7_tLmSB8iwp",
        "outputId": "159d6786-de89-4a36-f337-36d513671205"
      },
      "execution_count": 4,
      "outputs": [
        {
          "output_type": "execute_result",
          "data": {
            "text/plain": [
              "[<p class=\"abc\" id=\"first_para\">Let 's start learning<b>Web Scraping</b></p>]"
            ]
          },
          "metadata": {},
          "execution_count": 4
        }
      ]
    },
    {
      "cell_type": "code",
      "source": [
        "data.find_all(class_ = 'abc')"
      ],
      "metadata": {
        "colab": {
          "base_uri": "https://localhost:8080/"
        },
        "id": "V0AxXrmN8lc3",
        "outputId": "e9e8c281-2948-4c79-d939-d0b739be546a"
      },
      "execution_count": 5,
      "outputs": [
        {
          "output_type": "execute_result",
          "data": {
            "text/plain": [
              "[<p class=\"abc\" id=\"first_para\">Let 's start learning<b>Web Scraping</b></p>,\n",
              " <p class=\"abc\"><a href=\"https://codingninjas.in/\"> Coding Ninjas </a></p>]"
            ]
          },
          "metadata": {},
          "execution_count": 5
        }
      ]
    },
    {
      "cell_type": "code",
      "source": [
        "# We can pass CSS selectors by : data.select('selector_value')"
      ],
      "metadata": {
        "id": "TfCazR4-81qz"
      },
      "execution_count": 6,
      "outputs": []
    },
    {
      "cell_type": "code",
      "source": [
        "print(data.prettify())"
      ],
      "metadata": {
        "colab": {
          "base_uri": "https://localhost:8080/"
        },
        "id": "hHMmZKnP9KUS",
        "outputId": "1c771159-91c4-4517-933b-9922db119e13"
      },
      "execution_count": 7,
      "outputs": [
        {
          "output_type": "stream",
          "name": "stdout",
          "text": [
            "<!DOCTYPE html>\n",
            "<html>\n",
            " <head>\n",
            "  <title>\n",
            "   Testing Web Page\n",
            "  </title>\n",
            " </head>\n",
            " <body>\n",
            "  <h1>\n",
            "   Web Scraping\n",
            "  </h1>\n",
            "  <p class=\"abc\" id=\"first_para\">\n",
            "   Let 's start learning\n",
            "   <b>\n",
            "    Web Scraping\n",
            "   </b>\n",
            "  </p>\n",
            "  <p id=\"def\">\n",
            "   You can read more about BeautifulSoup from\n",
            "   <a href=\"https://www.crummy.com/software/BeautifulSoup/bs4/doc/\">\n",
            "    here\n",
            "   </a>\n",
            "  </p>\n",
            "  <p class=\"abc\">\n",
            "   <a href=\"https://codingninjas.in/\">\n",
            "    Coding Ninjas\n",
            "   </a>\n",
            "  </p>\n",
            " </body>\n",
            "</html>\n"
          ]
        }
      ]
    },
    {
      "cell_type": "code",
      "source": [
        "data.head"
      ],
      "metadata": {
        "colab": {
          "base_uri": "https://localhost:8080/"
        },
        "id": "rlXBIJLO9VES",
        "outputId": "f32d7280-7de9-4951-80b7-470be95346ae"
      },
      "execution_count": 8,
      "outputs": [
        {
          "output_type": "execute_result",
          "data": {
            "text/plain": [
              "<head><title> Testing Web Page </title></head>"
            ]
          },
          "metadata": {},
          "execution_count": 8
        }
      ]
    },
    {
      "cell_type": "code",
      "source": [
        "data.head.title # For nested tags"
      ],
      "metadata": {
        "colab": {
          "base_uri": "https://localhost:8080/"
        },
        "id": "HvjaFPpD9Y9P",
        "outputId": "23eba3a8-f640-4f8e-97d6-b0a0731eeeea"
      },
      "execution_count": 9,
      "outputs": [
        {
          "output_type": "execute_result",
          "data": {
            "text/plain": [
              "<title> Testing Web Page </title>"
            ]
          },
          "metadata": {},
          "execution_count": 9
        }
      ]
    },
    {
      "cell_type": "code",
      "source": [
        "data.title"
      ],
      "metadata": {
        "colab": {
          "base_uri": "https://localhost:8080/"
        },
        "id": "NtivCi589eTw",
        "outputId": "aa02207f-34e7-49e3-9925-655e4920f569"
      },
      "execution_count": 10,
      "outputs": [
        {
          "output_type": "execute_result",
          "data": {
            "text/plain": [
              "<title> Testing Web Page </title>"
            ]
          },
          "metadata": {},
          "execution_count": 10
        }
      ]
    },
    {
      "cell_type": "code",
      "source": [
        "data.title.string"
      ],
      "metadata": {
        "colab": {
          "base_uri": "https://localhost:8080/",
          "height": 36
        },
        "id": "OI6hLDAK-5RD",
        "outputId": "6844c1ed-7753-4701-c516-ded851779a9c"
      },
      "execution_count": 11,
      "outputs": [
        {
          "output_type": "execute_result",
          "data": {
            "text/plain": [
              "' Testing Web Page '"
            ],
            "application/vnd.google.colaboratory.intrinsic+json": {
              "type": "string"
            }
          },
          "metadata": {},
          "execution_count": 11
        }
      ]
    },
    {
      "cell_type": "code",
      "source": [
        "li = data.find_all('p')\n",
        "for i in li:\n",
        "  print(i)"
      ],
      "metadata": {
        "colab": {
          "base_uri": "https://localhost:8080/"
        },
        "id": "d3xbKKRA_Apw",
        "outputId": "7554e88f-98af-4938-a26c-45fc3484b20b"
      },
      "execution_count": 12,
      "outputs": [
        {
          "output_type": "stream",
          "name": "stdout",
          "text": [
            "<p class=\"abc\" id=\"first_para\">Let 's start learning<b>Web Scraping</b></p>\n",
            "<p id=\"def\">You can read more about BeautifulSoup from <a href=\"https://www.crummy.com/software/BeautifulSoup/bs4/doc/\"> here </a></p>\n",
            "<p class=\"abc\"><a href=\"https://codingninjas.in/\"> Coding Ninjas </a></p>\n"
          ]
        }
      ]
    },
    {
      "cell_type": "code",
      "source": [
        "for i in li:\n",
        "  print(list(i.strings))"
      ],
      "metadata": {
        "colab": {
          "base_uri": "https://localhost:8080/"
        },
        "id": "h3wmgXIi_SDD",
        "outputId": "296e2c98-2aca-4164-cc43-74b1175b7cd4"
      },
      "execution_count": 13,
      "outputs": [
        {
          "output_type": "stream",
          "name": "stdout",
          "text": [
            "[\"Let 's start learning\", 'Web Scraping']\n",
            "['You can read more about BeautifulSoup from ', ' here ']\n",
            "[' Coding Ninjas ']\n"
          ]
        }
      ]
    },
    {
      "cell_type": "markdown",
      "source": [
        "The above method is used to print all the strings present in each paragraph tag."
      ],
      "metadata": {
        "id": "ADTtjXCU_u72"
      }
    },
    {
      "cell_type": "code",
      "source": [
        "for i in li:\n",
        "  print(list(i.stripped_strings))"
      ],
      "metadata": {
        "colab": {
          "base_uri": "https://localhost:8080/"
        },
        "id": "KRGW_CDS_7NM",
        "outputId": "12c709c4-36ae-469e-8663-3a5ba4af766a"
      },
      "execution_count": 14,
      "outputs": [
        {
          "output_type": "stream",
          "name": "stdout",
          "text": [
            "[\"Let 's start learning\", 'Web Scraping']\n",
            "['You can read more about BeautifulSoup from', 'here']\n",
            "['Coding Ninjas']\n"
          ]
        }
      ]
    },
    {
      "cell_type": "code",
      "source": [
        "arr = data.html.contents  # This gives a list\n",
        "print(arr)\n",
        "print(len(arr))"
      ],
      "metadata": {
        "colab": {
          "base_uri": "https://localhost:8080/"
        },
        "id": "Y_fiUVDaAIsL",
        "outputId": "ec2cd78c-18b4-4036-cdeb-60f3b2d41dc3"
      },
      "execution_count": 15,
      "outputs": [
        {
          "output_type": "stream",
          "name": "stdout",
          "text": [
            "[<head><title> Testing Web Page </title></head>, <body><h1> Web Scraping </h1><p class=\"abc\" id=\"first_para\">Let 's start learning<b>Web Scraping</b></p><p id=\"def\">You can read more about BeautifulSoup from <a href=\"https://www.crummy.com/software/BeautifulSoup/bs4/doc/\"> here </a></p><p class=\"abc\"><a href=\"https://codingninjas.in/\"> Coding Ninjas </a></p></body>]\n",
            "2\n"
          ]
        }
      ]
    },
    {
      "cell_type": "code",
      "source": [
        "arr_1 = data.html.children  # This gives an iterator object\n",
        "for i in arr_1:\n",
        "  print(i)"
      ],
      "metadata": {
        "colab": {
          "base_uri": "https://localhost:8080/"
        },
        "id": "_b2tgky4AkJJ",
        "outputId": "48080200-7798-43b8-ee13-d485ed914bc9"
      },
      "execution_count": 16,
      "outputs": [
        {
          "output_type": "stream",
          "name": "stdout",
          "text": [
            "<head><title> Testing Web Page </title></head>\n",
            "<body><h1> Web Scraping </h1><p class=\"abc\" id=\"first_para\">Let 's start learning<b>Web Scraping</b></p><p id=\"def\">You can read more about BeautifulSoup from <a href=\"https://www.crummy.com/software/BeautifulSoup/bs4/doc/\"> here </a></p><p class=\"abc\"><a href=\"https://codingninjas.in/\"> Coding Ninjas </a></p></body>\n"
          ]
        }
      ]
    },
    {
      "cell_type": "code",
      "source": [
        "arr_2 = list(data.html.descendants)\n",
        "print(arr_2)\n",
        "print(len(arr_2))"
      ],
      "metadata": {
        "colab": {
          "base_uri": "https://localhost:8080/"
        },
        "id": "xOx1EJapB9d7",
        "outputId": "59393cb2-40d0-4129-9c57-2279022049db"
      },
      "execution_count": 18,
      "outputs": [
        {
          "output_type": "stream",
          "name": "stdout",
          "text": [
            "[<head><title> Testing Web Page </title></head>, <title> Testing Web Page </title>, ' Testing Web Page ', <body><h1> Web Scraping </h1><p class=\"abc\" id=\"first_para\">Let 's start learning<b>Web Scraping</b></p><p id=\"def\">You can read more about BeautifulSoup from <a href=\"https://www.crummy.com/software/BeautifulSoup/bs4/doc/\"> here </a></p><p class=\"abc\"><a href=\"https://codingninjas.in/\"> Coding Ninjas </a></p></body>, <h1> Web Scraping </h1>, ' Web Scraping ', <p class=\"abc\" id=\"first_para\">Let 's start learning<b>Web Scraping</b></p>, \"Let 's start learning\", <b>Web Scraping</b>, 'Web Scraping', <p id=\"def\">You can read more about BeautifulSoup from <a href=\"https://www.crummy.com/software/BeautifulSoup/bs4/doc/\"> here </a></p>, 'You can read more about BeautifulSoup from ', <a href=\"https://www.crummy.com/software/BeautifulSoup/bs4/doc/\"> here </a>, ' here ', <p class=\"abc\"><a href=\"https://codingninjas.in/\"> Coding Ninjas </a></p>, <a href=\"https://codingninjas.in/\"> Coding Ninjas </a>, ' Coding Ninjas ']\n",
            "17\n"
          ]
        }
      ]
    },
    {
      "cell_type": "markdown",
      "source": [
        "HTML has two children and seventeen descendants. Children will return direct children of HTML only. Descendant will return all children and their children."
      ],
      "metadata": {
        "id": "HSFgvgGSDywR"
      }
    }
  ]
}