{
  "nbformat": 4,
  "nbformat_minor": 0,
  "metadata": {
    "colab": {
      "provenance": []
    },
    "kernelspec": {
      "name": "python3",
      "display_name": "Python 3"
    },
    "language_info": {
      "name": "python"
    }
  },
  "cells": [
    {
      "cell_type": "markdown",
      "source": [
        "##Print the data of first 3 movies##"
      ],
      "metadata": {
        "id": "f3sJaZscT-0E"
      }
    },
    {
      "cell_type": "markdown",
      "source": [
        "From this link, find and print the name and genre of the first 3 titles\n"
      ],
      "metadata": {
        "id": "KK_Z59bxUGgm"
      }
    },
    {
      "cell_type": "code",
      "execution_count": 1,
      "metadata": {
        "colab": {
          "base_uri": "https://localhost:8080/"
        },
        "id": "3po4onH5T8jm",
        "outputId": "27e6d603-ac9a-47bd-88b6-90b6adea5ef0"
      },
      "outputs": [
        {
          "output_type": "stream",
          "name": "stdout",
          "text": [
            "Avengers: Infinity War ; Action, Adventure, Sci-Fi\n",
            "Black Panther ; Action, Adventure, Sci-Fi\n",
            "Deadpool 2 ; Action, Adventure, Comedy\n"
          ]
        }
      ],
      "source": [
        "import requests\n",
        "from bs4 import BeautifulSoup\n",
        "import time\n",
        "\n",
        "page = requests.get(\"https://www.imdb.com/search/title/?release_date=2018&sort=num_votes,desc&page=1&ref_=adv_nxt\")\n",
        "soup = BeautifulSoup(page.text, 'html.parser')\n",
        "names = []\n",
        "genre = []\n",
        "c = 0\n",
        "for i in soup.select(\".lister-item\"):\n",
        "  if c < 3:\n",
        "    name_title = i.select(\".lister-item-header a\")[0].text.strip()\n",
        "    names.append(name_title)\n",
        "    gr = i.find(\"span\", class_ = \"genre\").text.strip()\n",
        "    genre.append(gr)\n",
        "    c = c + 1\n",
        "  else:\n",
        "    break\n",
        "\n",
        "for i in range(len(names)):\n",
        "  print(names[i], \";\", genre[i])"
      ]
    },
    {
      "cell_type": "markdown",
      "source": [
        "##titles with most votes##"
      ],
      "metadata": {
        "id": "RKc4NMR7YvZr"
      }
    },
    {
      "cell_type": "markdown",
      "source": [
        "Link to use. Print the names of movies with highest number of votes from year 2010 to 2014"
      ],
      "metadata": {
        "id": "USH_Z2vtY78d"
      }
    },
    {
      "cell_type": "code",
      "source": [
        "import time\n",
        "import requests\n",
        "names = []\n",
        "from bs4 import BeautifulSoup\n",
        "from random import randint\n",
        "\n",
        "for i in range(2010, 2015):\n",
        "  page = requests.get(\"https://www.imdb.com/search/title?release_date=\" + str(i) + \"&sort=num_votes,desc&page=1&ref_=adv_nxt\")\n",
        "  soup = BeautifulSoup(page.text, 'html.parser')\n",
        "  head = soup.find(\"h3\", class_ = \"lister-item-header\")\n",
        "  names.append(head.a.string)\n",
        "\n",
        "for i in names:\n",
        "  print(i)"
      ],
      "metadata": {
        "colab": {
          "base_uri": "https://localhost:8080/"
        },
        "id": "6p-3yOc1ZA71",
        "outputId": "6fdcc92a-a98b-4c14-9682-04c2ae40ad40"
      },
      "execution_count": 2,
      "outputs": [
        {
          "output_type": "stream",
          "name": "stdout",
          "text": [
            "Inception\n",
            "Game of Thrones\n",
            "The Dark Knight Rises\n",
            "The Wolf of Wall Street\n",
            "Interstellar\n"
          ]
        }
      ]
    },
    {
      "cell_type": "markdown",
      "source": [
        "##title with maximum duration##"
      ],
      "metadata": {
        "id": "Qve-BQJ7Csg1"
      }
    },
    {
      "cell_type": "markdown",
      "source": [
        "Out of the first 250 titles with highest number of votes in 2018, find which title has the maximum duration."
      ],
      "metadata": {
        "id": "Naqk3KiNCy0K"
      }
    },
    {
      "cell_type": "code",
      "source": [
        "import requests\n",
        "import time\n",
        "from bs4 import BeautifulSoup\n",
        "from random import randint\n",
        "\n",
        "dict = {}\n",
        "\n",
        "for i in range(1, 202, 50): # The page starts from 1 to 201 : it contains all 250 titles where each page has 50 items\n",
        "  page = requests.get(\"https://www.imdb.com/search/title?release_date=2018-01-01,2018-12-31&sort=num_votes,desc&start=\" + str(i) + \"&ref_=adv_nxt\")\n",
        "  soup = BeautifulSoup(page.text, 'html.parser')\n",
        "  tags = soup.find_all(\"div\", class_ = \"lister-item\")\n",
        "  for j in tags:\n",
        "    if j.find(\"span\", class_ = \"runtime\"):\n",
        "      head = j.find(\"h3\", class_ = \"lister-item-header\")\n",
        "      dur = j.find(\"span\", class_ = \"runtime\")\n",
        "      t = int(dur.text.strip().split(\" \")[0])\n",
        "      dict[head.a.string] = t\n",
        "  time.sleep(randint(0, 3))\n",
        "\n",
        "maxdur = -1\n",
        "maxname = \"\"\n",
        "for k,v in dict.items():\n",
        "  if v > maxdur:\n",
        "    maxdur = v\n",
        "    maxname = k\n",
        "print(maxname, maxdur)"
      ],
      "metadata": {
        "colab": {
          "base_uri": "https://localhost:8080/"
        },
        "id": "Mcnt7ejWDNRN",
        "outputId": "a76b573e-e2f5-4758-ec22-2a2dc37ab24c"
      },
      "execution_count": 1,
      "outputs": [
        {
          "output_type": "stream",
          "name": "stdout",
          "text": [
            "The Haunting of Hill House 572\n"
          ]
        }
      ]
    },
    {
      "cell_type": "markdown",
      "source": [
        "##Image with maximum area##"
      ],
      "metadata": {
        "id": "8AnMw5owvEZI"
      }
    },
    {
      "cell_type": "markdown",
      "source": [
        "\n",
        "Find and print the src of the image tag which occupies the maximum area on the page.\n",
        "\n",
        "Note :\n",
        "Ignore images which doesn't have height or width attributes"
      ],
      "metadata": {
        "id": "x-SGcPSdvKgB"
      }
    },
    {
      "cell_type": "code",
      "source": [
        "import requests\n",
        "import time\n",
        "from bs4 import BeautifulSoup\n",
        "from random import randint\n",
        "\n",
        "page = requests.get(\"https://en.wikipedia.org/wiki/Artificial_intelligence\")\n",
        "soup = BeautifulSoup(page.text, 'html.parser')\n",
        "all_tags = soup.find_all(\"img\")\n",
        "max_area = -1\n",
        "url = \"\"\n",
        "\n",
        "for i in all_tags:\n",
        "  if i.has_attr('height') and i.has_attr('width'):\n",
        "    if int(i[\"height\"]) * int(i[\"width\"]) > max_area:\n",
        "      max_area = int(i[\"height\"]) * int(i[\"width\"])\n",
        "      url = i[\"src\"]\n",
        "\n",
        "print(url)"
      ],
      "metadata": {
        "colab": {
          "base_uri": "https://localhost:8080/"
        },
        "id": "7LGVl_bNvRFa",
        "outputId": "d2c8c4a1-e285-4746-a42c-d11f444fda6a"
      },
      "execution_count": 5,
      "outputs": [
        {
          "output_type": "stream",
          "name": "stdout",
          "text": [
            "//upload.wikimedia.org/wikipedia/commons/6/69/EM_Clustering_of_Old_Faithful_data.gif\n"
          ]
        }
      ]
    },
    {
      "cell_type": "markdown",
      "source": [
        "##Quotes with tag humor##"
      ],
      "metadata": {
        "id": "7v9t2nAW22g_"
      }
    },
    {
      "cell_type": "markdown",
      "source": [
        "Find all the quotes that have the tag as \"humor\" from this website"
      ],
      "metadata": {
        "id": "ySuRXvAD2_8Y"
      }
    },
    {
      "cell_type": "code",
      "source": [
        "import requests\n",
        "import time\n",
        "from bs4 import BeautifulSoup\n",
        "\n",
        "for i in range(1, 3): # Only 2 pages with tag as \"humor\"\n",
        "  page = requests.get(\"http://quotes.toscrape.com/tag/humor/page/\" + str(i) + \"/\")\n",
        "  soup = BeautifulSoup(page.text, 'html.parser')\n",
        "  for quote in soup.select(\".text\"):\n",
        "    print(quote.text)"
      ],
      "metadata": {
        "colab": {
          "base_uri": "https://localhost:8080/"
        },
        "id": "izlJ6Omp3COx",
        "outputId": "6f9a5b3e-953f-4c2e-a2d1-c8c07846d3be"
      },
      "execution_count": 6,
      "outputs": [
        {
          "output_type": "stream",
          "name": "stdout",
          "text": [
            "“The person, be it gentleman or lady, who has not pleasure in a good novel, must be intolerably stupid.”\n",
            "“A day without sunshine is like, you know, night.”\n",
            "“Anyone who thinks sitting in church can make you a Christian must also think that sitting in a garage can make you a car.”\n",
            "“Beauty is in the eye of the beholder and it may be necessary from time to time to give a stupid or misinformed beholder a black eye.”\n",
            "“All you need is love. But a little chocolate now and then doesn't hurt.”\n",
            "“Remember, we're madly in love, so it's all right to kiss me anytime you feel like it.”\n",
            "“Some people never go crazy. What truly horrible lives they must lead.”\n",
            "“The trouble with having an open mind, of course, is that people will insist on coming along and trying to put things in it.”\n",
            "“Think left and think right and think low and think high. Oh, the thinks you can think up if only you try!”\n",
            "“The reason I talk to myself is because I’m the only one whose answers I accept.”\n",
            "“I am free of all prejudice. I hate everyone equally. ”\n",
            "“A lady's imagination is very rapid; it jumps from admiration to love, from love to matrimony in a moment.”\n"
          ]
        }
      ]
    },
    {
      "cell_type": "markdown",
      "source": [
        "##Print all authors##"
      ],
      "metadata": {
        "id": "ABJCFBzR5BSB"
      }
    },
    {
      "cell_type": "markdown",
      "source": [
        "Find and print the names of all the different authors from all pages of this website\n",
        "\n",
        "Note : Print the names of all authors line wise sorted in dictionary order"
      ],
      "metadata": {
        "id": "CDO9V27E8JQn"
      }
    },
    {
      "cell_type": "code",
      "source": [
        "import requests\n",
        "import time\n",
        "from bs4 import BeautifulSoup\n",
        "\n",
        "authors = set()\n",
        "\n",
        "for i in range(1, 11):\n",
        "  page = requests.get(\"http://quotes.toscrape.com/page/\" + str(i) + \"/\")\n",
        "  soup = BeautifulSoup(page.text, 'html.parser')\n",
        "  for aut in soup.select(\".author\"):\n",
        "    authors.add(aut.text)\n",
        "for i in sorted(authors):\n",
        "  print(i)"
      ],
      "metadata": {
        "colab": {
          "base_uri": "https://localhost:8080/"
        },
        "id": "QkOH5oZs8N8N",
        "outputId": "401891e4-6b96-47d6-a161-ce1efc54c49b"
      },
      "execution_count": 7,
      "outputs": [
        {
          "output_type": "stream",
          "name": "stdout",
          "text": [
            "Albert Einstein\n",
            "Alexandre Dumas fils\n",
            "Alfred Tennyson\n",
            "Allen Saunders\n",
            "André Gide\n",
            "Ayn Rand\n",
            "Bob Marley\n",
            "C.S. Lewis\n",
            "Charles Bukowski\n",
            "Charles M. Schulz\n",
            "Douglas Adams\n",
            "Dr. Seuss\n",
            "E.E. Cummings\n",
            "Eleanor Roosevelt\n",
            "Elie Wiesel\n",
            "Ernest Hemingway\n",
            "Friedrich Nietzsche\n",
            "Garrison Keillor\n",
            "George Bernard Shaw\n",
            "George Carlin\n",
            "George Eliot\n",
            "George R.R. Martin\n",
            "Harper Lee\n",
            "Haruki Murakami\n",
            "Helen Keller\n",
            "J.D. Salinger\n",
            "J.K. Rowling\n",
            "J.M. Barrie\n",
            "J.R.R. Tolkien\n",
            "James Baldwin\n",
            "Jane Austen\n",
            "Jim Henson\n",
            "Jimi Hendrix\n",
            "John Lennon\n",
            "Jorge Luis Borges\n",
            "Khaled Hosseini\n",
            "Madeleine L'Engle\n",
            "Marilyn Monroe\n",
            "Mark Twain\n",
            "Martin Luther King Jr.\n",
            "Mother Teresa\n",
            "Pablo Neruda\n",
            "Ralph Waldo Emerson\n",
            "Stephenie Meyer\n",
            "Steve Martin\n",
            "Suzanne Collins\n",
            "Terry Pratchett\n",
            "Thomas A. Edison\n",
            "W.C. Fields\n",
            "William Nicholson\n"
          ]
        }
      ]
    },
    {
      "cell_type": "markdown",
      "source": [
        "##Birth Date of authors##"
      ],
      "metadata": {
        "id": "0_1LuXy3CJg9"
      }
    },
    {
      "cell_type": "markdown",
      "source": [
        "Find the birth date of authors whose name start with 'J' from this website\n",
        "\n",
        "Note : Print a dictionary containing the name as key and the birth date as value.The Names of authors should be alphabetically sorted."
      ],
      "metadata": {
        "id": "Q70rt7soCPMK"
      }
    },
    {
      "cell_type": "code",
      "source": [
        "import requests\n",
        "import time\n",
        "from bs4 import BeautifulSoup\n",
        "from random import randint\n",
        "\n",
        "authors = {}\n",
        "\n",
        "for i in range(1, 11):\n",
        "  page = requests.get(\"http://quotes.toscrape.com/page/\" + str(i) + \"/\")\n",
        "  soup = BeautifulSoup(page.text, 'html.parser')\n",
        "  for aut in soup.select(\".author\"):\n",
        "    if aut.text[0] == \"J\":\n",
        "      authors[aut.text] = aut.next_sibling.next_sibling['href']\n",
        "\n",
        "bdate = {}\n",
        "\n",
        "for author in sorted(authors):\n",
        "  page = requests.get(\"http://quotes.toscrape.com\" + authors[author])\n",
        "  soup = BeautifulSoup(page.text, 'html.parser')\n",
        "  for i in soup.select(\".author-born-date\"):\n",
        "    bdate[author] = i.text\n",
        "\n",
        "print(bdate)"
      ],
      "metadata": {
        "colab": {
          "base_uri": "https://localhost:8080/"
        },
        "id": "fCPGpJBACsjt",
        "outputId": "4bf26f14-f480-4801-e38e-10f44d1d6d3a"
      },
      "execution_count": 8,
      "outputs": [
        {
          "output_type": "stream",
          "name": "stdout",
          "text": [
            "{'J.D. Salinger': 'January 01, 1919', 'J.K. Rowling': 'July 31, 1965', 'J.M. Barrie': 'May 09, 1860', 'J.R.R. Tolkien': 'January 03, 1892', 'James Baldwin': 'August 02, 1924', 'Jane Austen': 'December 16, 1775', 'Jim Henson': 'September 24, 1936', 'Jimi Hendrix': 'November 27, 1942', 'John Lennon': 'October 09, 1940', 'Jorge Luis Borges': 'August 24, 1899'}\n"
          ]
        }
      ]
    },
    {
      "cell_type": "markdown",
      "source": [
        "##Quotes by Albert Einstein##"
      ],
      "metadata": {
        "id": "uCGKuQ5MJPR2"
      }
    },
    {
      "cell_type": "markdown",
      "source": [
        "Find all the quotes by Albert Einstein(in the order they appear on the page) from this website"
      ],
      "metadata": {
        "id": "70-s_2KoJcV-"
      }
    },
    {
      "cell_type": "code",
      "source": [
        "import requests\n",
        "import time\n",
        "from bs4 import BeautifulSoup\n",
        "from random import randint\n",
        "\n",
        "authors = set()\n",
        "quotes = []\n",
        "\n",
        "for i in range(1, 11):\n",
        "  page = requests.get(\"http://quotes.toscrape.com/page/\" + str(i) + \"/\")\n",
        "  soup = BeautifulSoup(page.text, 'html.parser')\n",
        "  for ele in soup.select(\".quote\"):\n",
        "    if ele.find(\"small\", class_ = \"author\").text == \"Albert Einstein\":\n",
        "      quotes.append(ele.find(\"span\", class_ = \"text\").text)\n",
        "\n",
        "for i in quotes:\n",
        "  print(i)"
      ],
      "metadata": {
        "colab": {
          "base_uri": "https://localhost:8080/"
        },
        "id": "LNKzOJplJgjG",
        "outputId": "6bdfa96f-d368-4682-d3e5-3ac02f7a5609"
      },
      "execution_count": 9,
      "outputs": [
        {
          "output_type": "stream",
          "name": "stdout",
          "text": [
            "“The world as we have created it is a process of our thinking. It cannot be changed without changing our thinking.”\n",
            "“There are only two ways to live your life. One is as though nothing is a miracle. The other is as though everything is a miracle.”\n",
            "“Try not to become a man of success. Rather become a man of value.”\n",
            "“If you can't explain it to a six year old, you don't understand it yourself.”\n",
            "“If you want your children to be intelligent, read them fairy tales. If you want them to be more intelligent, read them more fairy tales.”\n",
            "“Logic will get you from A to Z; imagination will get you everywhere.”\n",
            "“Any fool can know. The point is to understand.”\n",
            "“Life is like riding a bicycle. To keep your balance, you must keep moving.”\n",
            "“If I were not a physicist, I would probably be a musician. I often think in music. I live my daydreams in music. I see my life in terms of music.”\n",
            "“Anyone who has never made a mistake has never tried anything new.”\n"
          ]
        }
      ]
    },
    {
      "cell_type": "markdown",
      "source": [
        "##All Categories##"
      ],
      "metadata": {
        "id": "wXNKxOJWLzTI"
      }
    },
    {
      "cell_type": "markdown",
      "source": [
        "Print the name of all categories which are present this website."
      ],
      "metadata": {
        "id": "eGs2KNhYL6IP"
      }
    },
    {
      "cell_type": "code",
      "source": [
        "import requests\n",
        "from bs4 import BeautifulSoup\n",
        "\n",
        "response = requests.get('http://books.toscrape.com/')\n",
        "data = BeautifulSoup(response.text, 'html.parser')\n",
        "li = data.find(class_ = 'nav nav-list').ul\n",
        "\n",
        "arr = li.find_all('li')\n",
        "\n",
        "for i in arr:\n",
        "  print(i.a.string.strip())"
      ],
      "metadata": {
        "colab": {
          "base_uri": "https://localhost:8080/"
        },
        "id": "kCFhO7S1L9An",
        "outputId": "7954e609-0bcb-4fd9-bb47-3c32e6032704"
      },
      "execution_count": 11,
      "outputs": [
        {
          "output_type": "stream",
          "name": "stdout",
          "text": [
            "Travel\n",
            "Mystery\n",
            "Historical Fiction\n",
            "Sequential Art\n",
            "Classics\n",
            "Philosophy\n",
            "Romance\n",
            "Womens Fiction\n",
            "Fiction\n",
            "Childrens\n",
            "Religion\n",
            "Nonfiction\n",
            "Music\n",
            "Default\n",
            "Science Fiction\n",
            "Sports and Games\n",
            "Add a comment\n",
            "Fantasy\n",
            "New Adult\n",
            "Young Adult\n",
            "Science\n",
            "Poetry\n",
            "Paranormal\n",
            "Art\n",
            "Psychology\n",
            "Autobiography\n",
            "Parenting\n",
            "Adult Fiction\n",
            "Humor\n",
            "Horror\n",
            "History\n",
            "Food and Drink\n",
            "Christian Fiction\n",
            "Business\n",
            "Biography\n",
            "Thriller\n",
            "Contemporary\n",
            "Spirituality\n",
            "Academic\n",
            "Self Help\n",
            "Historical\n",
            "Christian\n",
            "Suspense\n",
            "Short Stories\n",
            "Novels\n",
            "Health\n",
            "Politics\n",
            "Cultural\n",
            "Erotica\n",
            "Crime\n"
          ]
        }
      ]
    },
    {
      "cell_type": "markdown",
      "source": [
        "##First 5 Blogs##"
      ],
      "metadata": {
        "id": "SF7mHkJcMzpV"
      }
    },
    {
      "cell_type": "markdown",
      "source": [
        "Print the title of the first 5 blogs written by Coding Ninjas"
      ],
      "metadata": {
        "id": "zekdkP0sM9B8"
      }
    },
    {
      "cell_type": "code",
      "source": [
        "import requests\n",
        "from bs4 import BeautifulSoup\n",
        "\n",
        "response = requests.get('https://medium.com/codingninjas-blog')\n",
        "data = BeautifulSoup(response.text, 'html.parser')\n",
        "li = data.find_all(class_ = 'section-content')\n",
        "\n",
        "for i in range(5):\n",
        "  print(li[i].find(\"h3\").text)"
      ],
      "metadata": {
        "colab": {
          "base_uri": "https://localhost:8080/"
        },
        "id": "EQU340YJM_tI",
        "outputId": "2473ee3b-804c-463d-d3c2-09acd02daf42"
      },
      "execution_count": 12,
      "outputs": [
        {
          "output_type": "stream",
          "name": "stdout",
          "text": [
            "Web Development Trends to watch out for in 2020\n",
            "Web Development: Interviews and You!\n",
            "Get equipped for the Technical Interviews\n",
            "Explore more about the projects in Web Development\n",
            "5G to be a major gamechanger for Edu-tech platforms\n"
          ]
        }
      ]
    }
  ]
}