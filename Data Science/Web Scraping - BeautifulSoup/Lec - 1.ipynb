{
  "nbformat": 4,
  "nbformat_minor": 0,
  "metadata": {
    "colab": {
      "provenance": []
    },
    "kernelspec": {
      "name": "python3",
      "display_name": "Python 3"
    },
    "language_info": {
      "name": "python"
    }
  },
  "cells": [
    {
      "cell_type": "code",
      "execution_count": null,
      "metadata": {
        "colab": {
          "base_uri": "https://localhost:8080/"
        },
        "id": "BQo6PLuq0yXK",
        "outputId": "912bca09-c29a-4d7c-92d8-2fe4ad7aa2d0"
      },
      "outputs": [
        {
          "output_type": "stream",
          "name": "stdout",
          "text": [
            "Looking in indexes: https://pypi.org/simple, https://us-python.pkg.dev/colab-wheels/public/simple/\n",
            "Requirement already satisfied: beautifulsoup4 in /usr/local/lib/python3.8/dist-packages (4.6.3)\n"
          ]
        }
      ],
      "source": [
        "pip install beautifulsoup4"
      ]
    },
    {
      "cell_type": "code",
      "source": [
        "html = '<!DOCTYPE html>\\\n",
        "        <html>\\\n",
        "          <head>\\\n",
        "            <title> Testing Web Page </title>\\\n",
        "          </head>\\\n",
        "          <body>\\\n",
        "            <h1> Web Scraping </h1>\\\n",
        "            <p class = \"abc\" id = \"first_para\">\\\n",
        "              Let \\'s start learning\\\n",
        "              <b>\\\n",
        "                Web Scraping\\\n",
        "              </b>\\\n",
        "            </p>\\\n",
        "            <p id = \"def\">\\\n",
        "              You can read more about BeautifulSoup from <a href = \"https://www.crummy.com/software/BeautifulSoup/bs4/doc/\"> here </a>\\\n",
        "            </p>\\\n",
        "            <p class = \"abc\">\\\n",
        "              <a href = \"https://codingninjas.in/\"> Coding Ninjas </a>\\\n",
        "            </p>\\\n",
        "          </body>\\\n",
        "        </html>'"
      ],
      "metadata": {
        "id": "cT4tGuGT1iKP"
      },
      "execution_count": 1,
      "outputs": []
    },
    {
      "cell_type": "code",
      "source": [
        "from bs4 import BeautifulSoup"
      ],
      "metadata": {
        "id": "8nV2ed3lzh68"
      },
      "execution_count": 2,
      "outputs": []
    },
    {
      "cell_type": "code",
      "source": [
        "data = BeautifulSoup(html, 'html.parser')\n",
        "data"
      ],
      "metadata": {
        "colab": {
          "base_uri": "https://localhost:8080/"
        },
        "id": "mFKo3LHC0N4T",
        "outputId": "5bee098d-24b7-47c8-eaf0-5d21df6cfb7c"
      },
      "execution_count": 3,
      "outputs": [
        {
          "output_type": "execute_result",
          "data": {
            "text/plain": [
              "<!DOCTYPE html>\n",
              " <html> <head> <title> Testing Web Page </title> </head> <body> <h1> Web Scraping </h1> <p class=\"abc\" id=\"first_para\">              Let 's start learning              <b>                Web Scraping              </b> </p> <p id=\"def\">              You can read more about BeautifulSoup from <a href=\"https://www.crummy.com/software/BeautifulSoup/bs4/doc/\"> here </a> </p> <p class=\"abc\"> <a href=\"https://codingninjas.in/\"> Coding Ninjas </a> </p> </body> </html>"
            ]
          },
          "metadata": {},
          "execution_count": 3
        }
      ]
    },
    {
      "cell_type": "code",
      "source": [
        "type(data)"
      ],
      "metadata": {
        "colab": {
          "base_uri": "https://localhost:8080/"
        },
        "id": "iBcjnmy20Wjj",
        "outputId": "2745305d-e7c1-464c-a5d8-78f5c758887e"
      },
      "execution_count": 7,
      "outputs": [
        {
          "output_type": "execute_result",
          "data": {
            "text/plain": [
              "bs4.BeautifulSoup"
            ]
          },
          "metadata": {},
          "execution_count": 7
        }
      ]
    },
    {
      "cell_type": "code",
      "source": [
        "print(data.prettify())"
      ],
      "metadata": {
        "colab": {
          "base_uri": "https://localhost:8080/"
        },
        "id": "P55Jhqsh0cyT",
        "outputId": "5a3a70f5-38eb-40eb-80e1-73c8f879bc7b"
      },
      "execution_count": 8,
      "outputs": [
        {
          "output_type": "stream",
          "name": "stdout",
          "text": [
            "<!DOCTYPE html>\n",
            "<html>\n",
            " <head>\n",
            "  <title>\n",
            "   Testing Web Page\n",
            "  </title>\n",
            " </head>\n",
            " <body>\n",
            "  <h1>\n",
            "   Web Scraping\n",
            "  </h1>\n",
            "  <p class=\"abc\" id=\"first_para\">\n",
            "   Let 's start learning\n",
            "   <b>\n",
            "    Web Scraping\n",
            "   </b>\n",
            "  </p>\n",
            "  <p id=\"def\">\n",
            "   You can read more about BeautifulSoup from\n",
            "   <a href=\"https://www.crummy.com/software/BeautifulSoup/bs4/doc/\">\n",
            "    here\n",
            "   </a>\n",
            "  </p>\n",
            "  <p class=\"abc\">\n",
            "   <a href=\"https://codingninjas.in/\">\n",
            "    Coding Ninjas\n",
            "   </a>\n",
            "  </p>\n",
            " </body>\n",
            "</html>\n"
          ]
        }
      ]
    },
    {
      "cell_type": "code",
      "source": [
        "data.head"
      ],
      "metadata": {
        "colab": {
          "base_uri": "https://localhost:8080/"
        },
        "id": "o4kdxkEO0jin",
        "outputId": "21dfd06c-f55b-4cc4-f347-d0f22c3214db"
      },
      "execution_count": 9,
      "outputs": [
        {
          "output_type": "execute_result",
          "data": {
            "text/plain": [
              "<head> <title> Testing Web Page </title> </head>"
            ]
          },
          "metadata": {},
          "execution_count": 9
        }
      ]
    },
    {
      "cell_type": "code",
      "source": [
        "data.title"
      ],
      "metadata": {
        "colab": {
          "base_uri": "https://localhost:8080/"
        },
        "id": "WsrGHBOO0w9b",
        "outputId": "46454374-f6aa-4da6-b946-8122b7b81aff"
      },
      "execution_count": 10,
      "outputs": [
        {
          "output_type": "execute_result",
          "data": {
            "text/plain": [
              "<title> Testing Web Page </title>"
            ]
          },
          "metadata": {},
          "execution_count": 10
        }
      ]
    },
    {
      "cell_type": "code",
      "source": [
        "data.h1"
      ],
      "metadata": {
        "colab": {
          "base_uri": "https://localhost:8080/"
        },
        "id": "j-QNUM_P0_jH",
        "outputId": "799962d2-a07a-4cec-af2b-09590b54b9cc"
      },
      "execution_count": 11,
      "outputs": [
        {
          "output_type": "execute_result",
          "data": {
            "text/plain": [
              "<h1> Web Scraping </h1>"
            ]
          },
          "metadata": {},
          "execution_count": 11
        }
      ]
    },
    {
      "cell_type": "code",
      "source": [
        "data.p"
      ],
      "metadata": {
        "colab": {
          "base_uri": "https://localhost:8080/"
        },
        "id": "oFYop9Cm1BH1",
        "outputId": "c0e4692f-14d6-4026-9169-ffedc60576a3"
      },
      "execution_count": 12,
      "outputs": [
        {
          "output_type": "execute_result",
          "data": {
            "text/plain": [
              "<p class=\"abc\" id=\"first_para\">              Let 's start learning              <b>                Web Scraping              </b> </p>"
            ]
          },
          "metadata": {},
          "execution_count": 12
        }
      ]
    },
    {
      "cell_type": "code",
      "source": [
        "print(data.title)\n",
        "print(data.title.name)\n",
        "print(data.title.string)\n",
        "print(data.title.attrs)"
      ],
      "metadata": {
        "colab": {
          "base_uri": "https://localhost:8080/"
        },
        "id": "LAGGNADg1phD",
        "outputId": "52b45e0b-a5cd-4164-81c0-5b2098c664ac"
      },
      "execution_count": 13,
      "outputs": [
        {
          "output_type": "stream",
          "name": "stdout",
          "text": [
            "<title> Testing Web Page </title>\n",
            "title\n",
            " Testing Web Page \n",
            "{}\n"
          ]
        }
      ]
    },
    {
      "cell_type": "code",
      "source": [
        "print(data.p.attrs)"
      ],
      "metadata": {
        "colab": {
          "base_uri": "https://localhost:8080/"
        },
        "id": "-nIAdBRx13nK",
        "outputId": "6b072482-655e-4953-fe6f-417f62e3cba6"
      },
      "execution_count": 14,
      "outputs": [
        {
          "output_type": "stream",
          "name": "stdout",
          "text": [
            "{'class': ['abc'], 'id': 'first_para'}\n"
          ]
        }
      ]
    },
    {
      "cell_type": "code",
      "source": [
        "data.p['id']"
      ],
      "metadata": {
        "colab": {
          "base_uri": "https://localhost:8080/",
          "height": 36
        },
        "id": "Ghw3Iraf2P4c",
        "outputId": "393b1b10-4287-4674-ea87-4c78a0d5307f"
      },
      "execution_count": 15,
      "outputs": [
        {
          "output_type": "execute_result",
          "data": {
            "text/plain": [
              "'first_para'"
            ],
            "application/vnd.google.colaboratory.intrinsic+json": {
              "type": "string"
            }
          },
          "metadata": {},
          "execution_count": 15
        }
      ]
    },
    {
      "cell_type": "code",
      "source": [
        "data.p.get('id')"
      ],
      "metadata": {
        "colab": {
          "base_uri": "https://localhost:8080/",
          "height": 36
        },
        "id": "97POaojI2Vjb",
        "outputId": "9359b368-e423-42f4-9a69-ebe8c0e56fde"
      },
      "execution_count": 16,
      "outputs": [
        {
          "output_type": "execute_result",
          "data": {
            "text/plain": [
              "'first_para'"
            ],
            "application/vnd.google.colaboratory.intrinsic+json": {
              "type": "string"
            }
          },
          "metadata": {},
          "execution_count": 16
        }
      ]
    },
    {
      "cell_type": "code",
      "source": [
        "data.get_text()"
      ],
      "metadata": {
        "colab": {
          "base_uri": "https://localhost:8080/",
          "height": 70
        },
        "id": "hD-BJq_v2hts",
        "outputId": "e8ba579a-b0ce-4747-ff00-0bc90a5ad78e"
      },
      "execution_count": 17,
      "outputs": [
        {
          "output_type": "execute_result",
          "data": {
            "text/plain": [
              "\"    Testing Web Page     Web Scraping                Let 's start learning                              Web Scraping                              You can read more about BeautifulSoup from  here     Coding Ninjas    \""
            ],
            "application/vnd.google.colaboratory.intrinsic+json": {
              "type": "string"
            }
          },
          "metadata": {},
          "execution_count": 17
        }
      ]
    },
    {
      "cell_type": "code",
      "source": [
        "data.find('p')"
      ],
      "metadata": {
        "colab": {
          "base_uri": "https://localhost:8080/"
        },
        "id": "XGEsKjzT2rpA",
        "outputId": "400a1959-072e-4787-d529-9d5036074e83"
      },
      "execution_count": 18,
      "outputs": [
        {
          "output_type": "execute_result",
          "data": {
            "text/plain": [
              "<p class=\"abc\" id=\"first_para\">              Let 's start learning              <b>                Web Scraping              </b> </p>"
            ]
          },
          "metadata": {},
          "execution_count": 18
        }
      ]
    },
    {
      "cell_type": "code",
      "source": [
        "data.find_all('p')"
      ],
      "metadata": {
        "colab": {
          "base_uri": "https://localhost:8080/"
        },
        "id": "ewfaWyJw29FE",
        "outputId": "f252c955-b163-4f66-cffb-95c557fbdafe"
      },
      "execution_count": 19,
      "outputs": [
        {
          "output_type": "execute_result",
          "data": {
            "text/plain": [
              "[<p class=\"abc\" id=\"first_para\">              Let 's start learning              <b>                Web Scraping              </b> </p>,\n",
              " <p id=\"def\">              You can read more about BeautifulSoup from <a href=\"https://www.crummy.com/software/BeautifulSoup/bs4/doc/\"> here </a> </p>,\n",
              " <p class=\"abc\"> <a href=\"https://codingninjas.in/\"> Coding Ninjas </a> </p>]"
            ]
          },
          "metadata": {},
          "execution_count": 19
        }
      ]
    },
    {
      "cell_type": "code",
      "source": [
        "for i in data.find_all('p'):\n",
        "  print(i)"
      ],
      "metadata": {
        "colab": {
          "base_uri": "https://localhost:8080/"
        },
        "id": "i_-QJiNY3JkA",
        "outputId": "0dd5c09b-7e7d-4eab-8c92-d3f0407ac4f3"
      },
      "execution_count": 20,
      "outputs": [
        {
          "output_type": "stream",
          "name": "stdout",
          "text": [
            "<p class=\"abc\" id=\"first_para\">              Let 's start learning              <b>                Web Scraping              </b> </p>\n",
            "<p id=\"def\">              You can read more about BeautifulSoup from <a href=\"https://www.crummy.com/software/BeautifulSoup/bs4/doc/\"> here </a> </p>\n",
            "<p class=\"abc\"> <a href=\"https://codingninjas.in/\"> Coding Ninjas </a> </p>\n"
          ]
        }
      ]
    }
  ]
}