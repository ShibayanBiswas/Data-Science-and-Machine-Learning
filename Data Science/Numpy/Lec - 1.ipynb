{
  "nbformat": 4,
  "nbformat_minor": 0,
  "metadata": {
    "colab": {
      "provenance": [],
      "collapsed_sections": [],
      "toc_visible": true
    },
    "kernelspec": {
      "name": "python3",
      "display_name": "Python 3"
    },
    "language_info": {
      "name": "python"
    }
  },
  "cells": [
    {
      "cell_type": "markdown",
      "source": [
        "**Numpy** : "
      ],
      "metadata": {
        "id": "g7TQUygAuDaR"
      }
    },
    {
      "cell_type": "markdown",
      "source": [
        "It is a linear algebra library for python in which we can perform various operations for a large amount of data. NumPy stands for Numerical Python. It has following features : \n",
        "\n",
        "**POWERFUL N-DIMENSIONAL ARRAYS** : Fast and versatile, the NumPy vectorization, indexing, and broadcasting concepts are the de-facto standards of array computing today.\n",
        "\n",
        "**NUMERICAL COMPUTING TOOLS** : NumPy offers comprehensive mathematical functions, random number generators, linear algebra routines, Fourier transforms, and more.\n",
        "\n",
        "**INTEROPERABLE** : NumPy supports a wide range of hardware and computing platforms, and plays well with distributed, GPU, and sparse array libraries.\n",
        "\n",
        "**PERFORMANT** : The core of NumPy is well-optimized C code. Enjoy the flexibility of Python with the speed of compiled code.\n",
        "\n",
        "**EASY TO USE** : NumPy’s high level syntax makes it accessible and productive for programmers from any background or experience level.\n",
        "\n",
        "**OPEN SOURCE** : Distributed under a liberal BSD license, NumPy is developed and maintained publicly on GitHub by a vibrant, responsive, and diverse community.\n"
      ],
      "metadata": {
        "id": "My6FR7fsyp-o"
      }
    },
    {
      "cell_type": "markdown",
      "source": [
        "##**Advantages over normal lists**"
      ],
      "metadata": {
        "id": "_6GDuVbq2f6f"
      }
    },
    {
      "cell_type": "markdown",
      "source": [
        "You may think, we already have python lists with us to use. So why should we ever opt for NumPy? Let us see some advantages of NumPy over normal python lists."
      ],
      "metadata": {
        "id": "jZtQMjsf2hfE"
      }
    },
    {
      "cell_type": "code",
      "source": [
        "import numpy as np\n",
        "import sys\n",
        "\n",
        "li_arr = [i for i in range(100)]     # Create list of 100 elements\n",
        "np_arr = np.arange(100)              # Create numpy array of 100 elements"
      ],
      "metadata": {
        "id": "qlrMq1wm2sG4"
      },
      "execution_count": null,
      "outputs": []
    },
    {
      "cell_type": "code",
      "source": [
        "## Size of 100 elements in numpy array\n",
        "print(np_arr.itemsize * np_arr.size)"
      ],
      "metadata": {
        "colab": {
          "base_uri": "https://localhost:8080/"
        },
        "id": "DujYbp5w21av",
        "outputId": "72ddc1bb-fe98-427f-b721-189d45741a59"
      },
      "execution_count": null,
      "outputs": [
        {
          "output_type": "stream",
          "name": "stdout",
          "text": [
            "800\n"
          ]
        }
      ]
    },
    {
      "cell_type": "code",
      "source": [
        "## Size of 100 elements in python list\n",
        "print(sys.getsizeof(1) * len(li_arr))"
      ],
      "metadata": {
        "colab": {
          "base_uri": "https://localhost:8080/"
        },
        "id": "kiUPfaVN273E",
        "outputId": "040eeab3-690a-4700-8518-0dc26614e4cf"
      },
      "execution_count": null,
      "outputs": [
        {
          "output_type": "stream",
          "name": "stdout",
          "text": [
            "2800\n"
          ]
        }
      ]
    },
    {
      "cell_type": "markdown",
      "source": [
        "###**Time Execution**"
      ],
      "metadata": {
        "id": "IDKSk4_83T6o"
      }
    },
    {
      "cell_type": "markdown",
      "source": [
        "NumPy arrays are much faster as compared to python list. We can easily verify this."
      ],
      "metadata": {
        "id": "sznpQA0d3VW_"
      }
    },
    {
      "cell_type": "code",
      "source": [
        "import time\n",
        "import numpy as np "
      ],
      "metadata": {
        "id": "NCM2e-hn3cQB"
      },
      "execution_count": null,
      "outputs": []
    },
    {
      "cell_type": "code",
      "source": [
        "size = 100000"
      ],
      "metadata": {
        "id": "wGzyku2I6ic-"
      },
      "execution_count": null,
      "outputs": []
    },
    {
      "cell_type": "code",
      "source": [
        "def addition_using_list():\n",
        "  t1 = time.time()\n",
        "  a = range(size)\n",
        "  b = range(size)\n",
        "  c = [a[i] + b[i] for i in range(size)]\n",
        "  t2 = time.time()\n",
        "  return t2 - t1"
      ],
      "metadata": {
        "id": "V6k7ThL36pfy"
      },
      "execution_count": null,
      "outputs": []
    },
    {
      "cell_type": "code",
      "source": [
        "# Vectorisation\n",
        "def addition_using_numpy(): \n",
        "  t1 = time.time()\n",
        "  a = np.arange(size)\n",
        "  b = np.arange(size)\n",
        "  c = a + b\n",
        "  t2 = time.time()\n",
        "  return t2 - t1"
      ],
      "metadata": {
        "id": "zfzceVgx6uvm"
      },
      "execution_count": 9,
      "outputs": []
    },
    {
      "cell_type": "code",
      "source": [
        "t_list = addition_using_list()\n",
        "t_numpy = addition_using_numpy()\n",
        "print(\"List = \", t_list * 1000)   \n",
        "print(\"NumPy = \", t_numpy * 1000)"
      ],
      "metadata": {
        "colab": {
          "base_uri": "https://localhost:8080/"
        },
        "id": "b1XB3T3a60Ad",
        "outputId": "5b7d59c8-33c6-4fa0-d89a-1dd039359234"
      },
      "execution_count": 10,
      "outputs": [
        {
          "output_type": "stream",
          "name": "stdout",
          "text": [
            "List =  36.91887855529785\n",
            "NumPy =  0.6325244903564453\n"
          ]
        }
      ]
    },
    {
      "cell_type": "markdown",
      "source": [
        "###**Convinient to Use**"
      ],
      "metadata": {
        "id": "RfU01gC166pQ"
      }
    },
    {
      "cell_type": "markdown",
      "source": [
        "It is much easier to perform basic operations in NumPy arrays"
      ],
      "metadata": {
        "id": "oU2e8XA67Lzo"
      }
    },
    {
      "cell_type": "markdown",
      "source": [
        "##**Why is NumPy Faster Than Lists?**"
      ],
      "metadata": {
        "id": "N6sZJyDx9W90"
      }
    },
    {
      "cell_type": "markdown",
      "source": [
        "NumPy arrays are stored at one continuous place in memory unlike lists, so processes can access and manipulate them very efficiently.\n",
        "\n",
        "This behavior is called locality of reference in computer science.\n",
        "\n",
        "This is the main reason why NumPy is faster than lists. Also it is optimized to work with latest CPU architectures."
      ],
      "metadata": {
        "id": "nPlyBKwp9azM"
      }
    },
    {
      "cell_type": "markdown",
      "source": [
        "##**Creating NumPy Arrays**"
      ],
      "metadata": {
        "id": "RI5GoEWTD6mn"
      }
    },
    {
      "cell_type": "code",
      "source": [
        "import numpy as np    ## Use np as an alias for numpy"
      ],
      "metadata": {
        "id": "L143a1_XEA_3"
      },
      "execution_count": 1,
      "outputs": []
    },
    {
      "cell_type": "markdown",
      "source": [
        "###**np.array()**"
      ],
      "metadata": {
        "id": "ZBGDtvoOEMB9"
      }
    },
    {
      "cell_type": "markdown",
      "source": [
        "NumPy is used to work with arrays. The array object in NumPy is called ndarray.\n",
        "\n",
        "We can create a NumPy ndarray object by using the array() function.\n",
        "\n",
        "**Syntax**\n",
        "\n",
        "    numpy.array(object, dtype=None, *, copy=True, order='K', subok=False, ndmin=0, like=None)\n",
        "\n",
        "**Parameters**\n",
        "\n",
        "1. **object :** array_like\n",
        "\n",
        "    An array, any object exposing the array interface, an object whose __array__ method returns an array, or any (nested) sequence.\n",
        "\n",
        "2. **dtype :** data-type, optional\n",
        "\n",
        "    The desired data-type for the array. If not given, then the type will be determined as the minimum type required to hold the objects in the sequence.\n",
        "\n",
        "3. **copy :** bool, optional\n",
        "\n",
        "    If true (default), then the object is copied. Otherwise, a copy will only be made if __array__ returns a copy, if obj is a nested sequence, or if a copy is needed to satisfy any of the other requirements (dtype, order, etc.)."
      ],
      "metadata": {
        "id": "LL2SIjnUENb3"
      }
    },
    {
      "cell_type": "code",
      "source": [
        "a = [1, 2, 3]\n",
        "b = np.array(a)\n",
        "print(b)\n",
        "print(type(b))"
      ],
      "metadata": {
        "colab": {
          "base_uri": "https://localhost:8080/"
        },
        "id": "3omqIQxHEcgN",
        "outputId": "392975ad-fd53-456b-efe7-fedeb83bd5a3"
      },
      "execution_count": 2,
      "outputs": [
        {
          "output_type": "stream",
          "name": "stdout",
          "text": [
            "[1 2 3]\n",
            "<class 'numpy.ndarray'>\n"
          ]
        }
      ]
    },
    {
      "cell_type": "code",
      "source": [
        "a = [1, 2, 3, '5', 4.5]\n",
        "b = np.array(a, dtype = str)\n",
        "print(b)"
      ],
      "metadata": {
        "colab": {
          "base_uri": "https://localhost:8080/"
        },
        "id": "17dowZT5EhL0",
        "outputId": "df4b617e-3e14-47ce-854c-41dcc50834ab"
      },
      "execution_count": 3,
      "outputs": [
        {
          "output_type": "stream",
          "name": "stdout",
          "text": [
            "['1' '2' '3' '5' '4.5']\n"
          ]
        }
      ]
    },
    {
      "cell_type": "code",
      "source": [
        "a = [1, 2, 3, '5', 4.5]\n",
        "b = np.array(a * 3)\n",
        "print(b)"
      ],
      "metadata": {
        "colab": {
          "base_uri": "https://localhost:8080/"
        },
        "id": "tohXFgVhEuat",
        "outputId": "9fda8e49-a5fa-449e-e77c-23f97447ea26"
      },
      "execution_count": 4,
      "outputs": [
        {
          "output_type": "stream",
          "name": "stdout",
          "text": [
            "['1' '2' '3' '5' '4.5' '1' '2' '3' '5' '4.5' '1' '2' '3' '5' '4.5']\n"
          ]
        }
      ]
    },
    {
      "cell_type": "markdown",
      "source": [
        "###**np.ones()**"
      ],
      "metadata": {
        "id": "8KTemxQ9E_Ml"
      }
    },
    {
      "cell_type": "markdown",
      "source": [
        "**Syntax**\n",
        "\n",
        "    numpy.ones(shape, dtype=None, order='C', *, like=None)\n",
        "\n",
        "This function returns a new array of given shape and type, filled with ones.\n",
        "\n",
        "**Parameters**\n",
        "1. **shape :** int or sequence of ints\n",
        "\n",
        "    Shape of the new array, e.g., (2, 3) or 2.\n",
        "\n",
        "2. **dtype :** data-type, optional\n",
        "\n",
        "    The desired data-type for the array, e.g., numpy.int8. Default is numpy.float64.\n",
        "\n",
        "3. **order :** {‘C’, ‘F’}, optional, default: C\n",
        "\n",
        "    Whether to store multi-dimensional data in row-major (C-style) or column-major (Fortran-style) order in memory.\n",
        "  \n",
        "4. **like :** array_like\n",
        "\n",
        "    Reference object to allow the creation of arrays which are not NumPy arrays. If an array-like passed in as like supports the __array_function__ protocol, the result will be defined by it. In this case, it ensures the creation of an array object compatible with that passed in via this argument."
      ],
      "metadata": {
        "id": "LdJNfhLmFEQd"
      }
    },
    {
      "cell_type": "code",
      "source": [
        "b = np.ones(3, dtype = int)\n",
        "b"
      ],
      "metadata": {
        "colab": {
          "base_uri": "https://localhost:8080/"
        },
        "id": "IvEL8r_WFN01",
        "outputId": "db260d10-8fd0-47bd-e85f-f3de5dd04dbb"
      },
      "execution_count": 5,
      "outputs": [
        {
          "output_type": "execute_result",
          "data": {
            "text/plain": [
              "array([1, 1, 1])"
            ]
          },
          "metadata": {},
          "execution_count": 5
        }
      ]
    },
    {
      "cell_type": "code",
      "source": [
        "b = np.ones((2, 3), dtype = int)\n",
        "b"
      ],
      "metadata": {
        "colab": {
          "base_uri": "https://localhost:8080/"
        },
        "id": "mn4EtgK9FTeC",
        "outputId": "d513cfab-6db5-44af-9580-c986af06c39f"
      },
      "execution_count": 6,
      "outputs": [
        {
          "output_type": "execute_result",
          "data": {
            "text/plain": [
              "array([[1, 1, 1],\n",
              "       [1, 1, 1]])"
            ]
          },
          "metadata": {},
          "execution_count": 6
        }
      ]
    },
    {
      "cell_type": "markdown",
      "source": [
        "###**np.zeros()**"
      ],
      "metadata": {
        "id": "sJbLbDf4FdO0"
      }
    },
    {
      "cell_type": "markdown",
      "source": [
        "**Syntax**\n",
        "\n",
        "    numpy.zeros(shape, dtype=float, order='C', *, like=None)\n",
        "\n",
        "This returns a new array of given shape and type, filled with zeros.\n",
        "\n",
        "**Parameters**\n",
        "1. **shape :** int or tuple of ints\n",
        "\n",
        "    Shape of the new array, e.g., (2, 3) or 2.\n",
        "\n",
        "1. **dtype :** data-type, optional\n",
        "\n",
        "    The desired data-type for the array, e.g., numpy.int8. Default is numpy.float64.\n",
        "\n",
        "3. **order :** {‘C’, ‘F’}, optional, default: ‘C’\n",
        "\n",
        "    Whether to store multi-dimensional data in row-major (C-style) or column-major (Fortran-style) order in memory.\n"
      ],
      "metadata": {
        "id": "Vvr2fqotFnz9"
      }
    },
    {
      "cell_type": "code",
      "source": [
        "b = np.zeros(3, dtype = int)\n",
        "b"
      ],
      "metadata": {
        "colab": {
          "base_uri": "https://localhost:8080/"
        },
        "id": "U7Cw895OHbh0",
        "outputId": "421a6866-83b6-4e12-dd0c-f1dd18b42250"
      },
      "execution_count": 7,
      "outputs": [
        {
          "output_type": "execute_result",
          "data": {
            "text/plain": [
              "array([0, 0, 0])"
            ]
          },
          "metadata": {},
          "execution_count": 7
        }
      ]
    },
    {
      "cell_type": "code",
      "source": [
        "b = np.zeros((3, 4))\n",
        "b"
      ],
      "metadata": {
        "colab": {
          "base_uri": "https://localhost:8080/"
        },
        "id": "67aqQ2drHxpa",
        "outputId": "5f270ecd-b61d-452d-b4c1-bf196d28f3ed"
      },
      "execution_count": 8,
      "outputs": [
        {
          "output_type": "execute_result",
          "data": {
            "text/plain": [
              "array([[0., 0., 0., 0.],\n",
              "       [0., 0., 0., 0.],\n",
              "       [0., 0., 0., 0.]])"
            ]
          },
          "metadata": {},
          "execution_count": 8
        }
      ]
    },
    {
      "cell_type": "markdown",
      "source": [
        "###**np.full()**"
      ],
      "metadata": {
        "id": "X4gBh5TIH8Em"
      }
    },
    {
      "cell_type": "markdown",
      "source": [
        "**Syntax**\n",
        "\n",
        "    numpy.full(shape, fill_value, dtype=None, order='C', *, like=None)\n",
        "\n",
        "Return a new array of given shape and type, filled with fill_value.\n",
        "\n",
        "**Parameters**\n",
        "1. **shape :** int or sequence of ints\n",
        "\n",
        "    Shape of the new array, e.g., (2, 3) or 2.\n",
        "\n",
        "2. **fill_value :** scalar or array_like\n",
        "\n",
        "    Fill value.\n",
        "\n",
        "3. **dtype :** data-type, optional\n",
        "\n",
        "    The desired data-type for the array The default, None, means\n",
        "    np.array(fill_value).dtype.\n",
        "\n",
        "3. **order :** {‘C’, ‘F’}, optional\n",
        "\n",
        "    Whether to store multidimensional data in C- or Fortran-contiguous (row- or column-wise) order in memory."
      ],
      "metadata": {
        "id": "Fq1ZHGgFH_-0"
      }
    },
    {
      "cell_type": "code",
      "source": [
        "b = np.full((3, 3), 5, dtype = float)\n",
        "b"
      ],
      "metadata": {
        "colab": {
          "base_uri": "https://localhost:8080/"
        },
        "id": "aNb9eYPXIIcs",
        "outputId": "9d4d9964-62e2-483a-9098-5eab4de1703a"
      },
      "execution_count": 9,
      "outputs": [
        {
          "output_type": "execute_result",
          "data": {
            "text/plain": [
              "array([[5., 5., 5.],\n",
              "       [5., 5., 5.],\n",
              "       [5., 5., 5.]])"
            ]
          },
          "metadata": {},
          "execution_count": 9
        }
      ]
    },
    {
      "cell_type": "markdown",
      "source": [
        "###**np.empty()**"
      ],
      "metadata": {
        "id": "QAP0ytSWIR5Y"
      }
    },
    {
      "cell_type": "markdown",
      "source": [
        "**Syntax**\n",
        "\n",
        "    numpy.empty(shape, dtype=float, order='C', *, like=None)\n",
        "\n",
        "This returns a new array of given shape and type, without initializing entries.\n",
        "\n",
        "**Parameters**\n",
        "1. **shape :** int or tuple of int\n",
        "\n",
        "    Shape of the empty array, e.g., (2, 3) or 2.\n",
        "\n",
        "2. **dtype :** data-type, optional\n",
        "\n",
        "    Desired output data-type for the array, e.g, numpy.int8. Default is numpy.float64.\n",
        "\n",
        "3. **order :** {‘C’, ‘F’}, optional, default: ‘C’\n",
        "\n",
        "    Whether to store multi-dimensional data in row-major (C-style) or column-major (Fortran-style) order in memory.\n"
      ],
      "metadata": {
        "id": "OiCRINjgIVqd"
      }
    },
    {
      "cell_type": "code",
      "source": [
        "np.empty([2, 2])             # uninitialized"
      ],
      "metadata": {
        "colab": {
          "base_uri": "https://localhost:8080/"
        },
        "id": "eSLl-1wEI8Ir",
        "outputId": "9ddc4398-c666-48dd-8e92-a8d1f6e7b107"
      },
      "execution_count": 10,
      "outputs": [
        {
          "output_type": "execute_result",
          "data": {
            "text/plain": [
              "array([[5.e-324, 5.e-324],\n",
              "       [5.e-324, 0.e+000]])"
            ]
          },
          "metadata": {},
          "execution_count": 10
        }
      ]
    },
    {
      "cell_type": "code",
      "source": [
        "np.empty([2, 2], dtype=int)              # uninitialized"
      ],
      "metadata": {
        "colab": {
          "base_uri": "https://localhost:8080/"
        },
        "id": "95Kxai1hJBL3",
        "outputId": "6b4337e0-9ec4-4d3a-b6a4-a376b6d71384"
      },
      "execution_count": 12,
      "outputs": [
        {
          "output_type": "execute_result",
          "data": {
            "text/plain": [
              "array([[           58845824,                   0],\n",
              "       [ 144115188126187520, 8286623315485786112]])"
            ]
          },
          "metadata": {},
          "execution_count": 12
        }
      ]
    },
    {
      "cell_type": "markdown",
      "source": [
        "**Note:** You will get a different result each time you execute using empty, as the array formed will always be uninitialised."
      ],
      "metadata": {
        "id": "eiR6sHZxJG5x"
      }
    }
  ]
}
