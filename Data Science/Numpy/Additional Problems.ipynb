{
 "cells": [
  {
   "cell_type": "markdown",
   "id": "659e2164",
   "metadata": {},
   "source": [
    "## Given file \"terrorismData.csv\"\n",
    "\n",
    "It is an open-source database including information on terrorist attacks around the world from 1970 through 2017. This dataset includes systematic data on domestic as well as international terrorist incidents that have occurred during this time period"
   ]
  },
  {
   "cell_type": "markdown",
   "id": "e83ee1b2",
   "metadata": {},
   "source": [
    "## Terrorism Day"
   ]
  },
  {
   "cell_type": "markdown",
   "id": "f133f6a8",
   "metadata": {},
   "source": [
    "Find the number of attack held between day 10 and day 20?(ignoring the year and month)(including both day)\n",
    "\n",
    "Print count of NumberOFAttack as integer value.\n",
    "\n",
    "Output Format :\n",
    "\n",
    "count"
   ]
  },
  {
   "cell_type": "code",
   "execution_count": 4,
   "id": "5f47f674",
   "metadata": {},
   "outputs": [
    {
     "name": "stdout",
     "output_type": "stream",
     "text": [
      "(181691,)\n"
     ]
    }
   ],
   "source": [
    "import numpy as np\n",
    "import csv\n",
    "\n",
    "path = 'terrorismData.csv'\n",
    "day = []\n",
    "\n",
    "with open(path, 'r', encoding = \"utf8\") as data:\n",
    "    reader = csv.DictReader(data)\n",
    "    for row in reader:\n",
    "        day.append(row['Day'])\n",
    "\n",
    "day = np.array(day)\n",
    "day = np.array(day, dtype = float)\n",
    "day = day[(day >=10 & (day <= 20))]\n",
    "print(day.shape[0])  # shape() - returns a tuple"
   ]
  },
  {
   "cell_type": "markdown",
   "id": "5ebe3efc",
   "metadata": {},
   "source": [
    "## Terrorism Date"
   ]
  },
  {
   "cell_type": "markdown",
   "id": "3582a475",
   "metadata": {},
   "source": [
    "Find the number of attack held between 1 Jan 2010 and 31 Jan 2010?(including both date).\n",
    "\n",
    "Note Ignore the case where day is 0\n",
    "\n",
    "Print count of NumberOFAttack as integer value.\n",
    "\n",
    "Output Format :\n",
    "\n",
    "count"
   ]
  },
  {
   "cell_type": "code",
   "execution_count": 5,
   "id": "b19fe968",
   "metadata": {},
   "outputs": [
    {
     "name": "stdout",
     "output_type": "stream",
     "text": [
      "271\n"
     ]
    }
   ],
   "source": [
    "import numpy as np\n",
    "import csv\n",
    "\n",
    "path = 'terrorismData.csv'\n",
    "date = []\n",
    "\n",
    "with open(path, 'r', encoding = \"utf8\") as data:\n",
    "    reader = csv.DictReader(data)\n",
    "    for row in reader:\n",
    "        date.append([row['Day'], row['Month'], row['Year']])\n",
    "\n",
    "date = np.array(date, dtype = int)\n",
    "date = date[date[:, 2] == 2010]\n",
    "date = date[date[:, 1] == 1]\n",
    "date = date[date[:, 0] >= 1]\n",
    "print(date.shape[0])"
   ]
  },
  {
   "cell_type": "markdown",
   "id": "55d390f7",
   "metadata": {},
   "source": [
    "When can create a numpy array (with boolean values) from the conditions applied on an other numpy array. "
   ]
  },
  {
   "cell_type": "markdown",
   "id": "90cf852c",
   "metadata": {},
   "source": [
    "## Terror Casualty Attack"
   ]
  },
  {
   "cell_type": "markdown",
   "id": "982490f1",
   "metadata": {},
   "source": [
    "As we knew the Kargil ( in Jammu and Kashmir) War that took place between May 1999 and July 1999 (3 Months) ,so there was a huge conflict in Kashmir Valley during this period.\n",
    "\n",
    "In this dataset, there is no information regarding the war between the two countries to find out the casualty during the war.\n",
    "\n",
    "So find out the attack in this period in which maximum casualties happened.\n",
    "\n",
    "Print the count of casualties (as integer), city in which that attack happened and name of attack group.\n",
    "\n",
    "Note : Casualty = Killed + Wounded.Fill the empty value in killed or wounded feature to 0.\n",
    "    \n",
    "Output Format :\n",
    "    \n",
    "Casualty City TerroristGroup"
   ]
  },
  {
   "cell_type": "code",
   "execution_count": 16,
   "id": "278066e7",
   "metadata": {},
   "outputs": [
    {
     "name": "stdout",
     "output_type": "stream",
     "text": [
      "22 Kargil District Separatists\n"
     ]
    }
   ],
   "source": [
    "import numpy as np\n",
    "import csv\n",
    "\n",
    "path = 'terrorismData.csv'\n",
    "casualty = []\n",
    "month = []\n",
    "city = []\n",
    "\n",
    "## Here we filter out the data\n",
    "with open(path, 'r', encoding = \"utf8\") as data:\n",
    "    reader = csv.DictReader(data)\n",
    "    for row in reader:\n",
    "        if row['State'] == 'Jammu and Kashmir' and row['Year'] == '1999':\n",
    "            if row['Month'] == '5' or row['Month'] == '6' or row['Month'] == '7':\n",
    "                city.append([row['City'], row['Group']])\n",
    "                casualty.append([row['Killed'], row['Wounded']])\n",
    "                \n",
    "casualty = np.array(casualty)\n",
    "city = np.array(city)\n",
    "\n",
    "# Replacing null values in Kileed and Wounded to 0\n",
    "casualty[casualty == ''] = 0\n",
    "\n",
    "# Converting string value to float \n",
    "casualty = np.array(casualty, dtype = float)\n",
    "\n",
    "# Summing up Killed and Wounded (for each row) to form a 1-dimensional array (toal casualties)\n",
    "casualty = np.sum(casualty, axis = 1)  # axis = 0 means along the column and axis = 1 means along the row\n",
    "\n",
    "index = np.argmax(casualty)\n",
    "print(int(casualty[index]), city[index][0], city[index][1])"
   ]
  },
  {
   "cell_type": "markdown",
   "id": "cd3b714e",
   "metadata": {},
   "source": [
    "## Terror Casualty Red"
   ]
  },
  {
   "cell_type": "markdown",
   "id": "be99bff2",
   "metadata": {},
   "source": [
    "Find the casualty in the Red Corridor States ? Mainly Red corridor states include Jharkhand, Odisha, Andhra Pradesh, and Chhattisgarh.\n",
    "\n",
    "Note: Casualty = Killed + Wounded\n",
    "\n",
    "Print count of Casualty as integer value.\n",
    "\n",
    "Output Format :\n",
    "\n",
    "Count"
   ]
  },
  {
   "cell_type": "code",
   "execution_count": 18,
   "id": "46a1e130",
   "metadata": {},
   "outputs": [
    {
     "name": "stdout",
     "output_type": "stream",
     "text": [
      "5628\n"
     ]
    }
   ],
   "source": [
    "import numpy as np\n",
    "import csv\n",
    "\n",
    "path = 'terrorismData.csv'\n",
    "casualty = []\n",
    "\n",
    "## Here we filter out the data\n",
    "with open(path, 'r', encoding = \"utf8\") as data:\n",
    "    reader = csv.DictReader(data)\n",
    "    for row in reader:\n",
    "        if row['State'] == 'Jharkhand' or row['State']  == 'Odisha' or row['State'] == 'Andhra Pradesh' or row['State'] == 'Chhattisgarh':\n",
    "            casualty.append([row['Killed'], row['Wounded']])\n",
    "\n",
    "casualty = np.array(casualty)\n",
    "\n",
    "# Replacing null values in Kileed and Wounded to 0\n",
    "casualty[casualty == ''] = 0\n",
    "\n",
    "# Converting string value to float \n",
    "casualty = np.array(casualty, dtype = float)\n",
    "\n",
    "# Summing up Killed and Wounded (for each row) to form a 1-dimensional array (toal casualties)\n",
    "casualty = np.sum(casualty, axis = 1)\n",
    "\n",
    "max_casualty = np.sum(casualty)\n",
    "print(int(max_casualty))"
   ]
  },
  {
   "cell_type": "markdown",
   "id": "9a6f4c09",
   "metadata": {},
   "source": [
    "## Terror City Casualty"
   ]
  },
  {
   "cell_type": "markdown",
   "id": "e0f3f87b",
   "metadata": {},
   "source": [
    "Find top 5 Indian Cities which has most number of casualties ?\n",
    "\n",
    "Print top 5 cities along with total casualties in that city. Print count of Casualty as integer value.\n",
    "\n",
    "Note: Ignoring the City which is Unknown.\n",
    "\n",
    "Casualty = Killed + Wounded.\n",
    "\n",
    "Output Format :\n",
    "\n",
    "city_1 casualty_1\n",
    "\n",
    "city_2 casualty_2\n",
    "\n",
    "city_3 casualty_3\n",
    "\n",
    "city_4 casualty_4\n",
    "\n",
    "city_5 casualty_5\n"
   ]
  },
  {
   "cell_type": "code",
   "execution_count": 32,
   "id": "27f61069",
   "metadata": {},
   "outputs": [],
   "source": [
    "import numpy as np\n",
    "import csv\n",
    "\n",
    "path = 'terrorismData.csv'\n",
    "casualty = []\n",
    "city = []\n",
    "\n",
    "## Here we filter out the data\n",
    "with open(path, 'r', encoding = \"utf8\") as data:\n",
    "    reader = csv.DictReader(data)\n",
    "    for row in reader:\n",
    "        if row['Country'] == 'India':\n",
    "            city.append(row['City'])\n",
    "            casualty.append([row['Killed'], row['Wounded']])\n",
    "            \n",
    "casualty = np.array(casualty)\n",
    "city = np.array(city)\n",
    "\n",
    "# Replacing null values in Kileed and Wounded to 0\n",
    "casualty[casualty == ''] = 0\n",
    "\n",
    "# Converting string value to float \n",
    "casualty = np.array(casualty, dtype = float)\n",
    "\n",
    "# Summing up Killed and Wounded (for each row) to form a 1-dimensional array (toal casualties)\n",
    "casualty = np.sum(casualty, axis = 1)"
   ]
  },
  {
   "cell_type": "code",
   "execution_count": 33,
   "id": "fa74575c",
   "metadata": {},
   "outputs": [],
   "source": [
    "def cityCasualty(city, casualty):\n",
    "    arr = []\n",
    "    unique = np.unique(city)\n",
    "    for i in unique:\n",
    "        # finding indexes of unique cities\n",
    "        index = np.where(city == i)\n",
    "        # finding the sum of casualties for that city for all the indexes\n",
    "        sumCasualty = casualty[index].sum()\n",
    "        arr.append([sumCasualty, i])\n",
    "    arr.sort(reverse = True)\n",
    "    return arr"
   ]
  },
  {
   "cell_type": "code",
   "execution_count": 34,
   "id": "c264d86e",
   "metadata": {},
   "outputs": [
    {
     "name": "stdout",
     "output_type": "stream",
     "text": [
      "Srinagar 3134\n",
      "New Delhi 2095\n",
      "Mumbai 2016\n",
      "Jammu 1119\n",
      "Guwahati 822\n"
     ]
    }
   ],
   "source": [
    "arr = cityCasualty(city, casualty)\n",
    "for i in range(6):\n",
    "    if arr[i][1] != 'Unknown':\n",
    "        print(arr[i][1], int(arr[i][0]))"
   ]
  },
  {
   "cell_type": "markdown",
   "id": "06b91883",
   "metadata": {},
   "source": [
    "##  Terrorism FrequentDay"
   ]
  },
  {
   "cell_type": "markdown",
   "id": "8f0177b7",
   "metadata": {},
   "source": [
    "Find the most frequent day of attack in a terrorismDataset ?\n",
    "\n",
    "Note: Here np.unique can be used.\n",
    "\n",
    "Print count of frequent day and number of attack as Integer value.\n",
    "\n",
    "Output Format :\n",
    "\n",
    "Day NumberOFAttack"
   ]
  },
  {
   "cell_type": "code",
   "execution_count": 35,
   "id": "68328511",
   "metadata": {},
   "outputs": [
    {
     "name": "stdout",
     "output_type": "stream",
     "text": [
      "15 6500\n"
     ]
    }
   ],
   "source": [
    "import numpy as np\n",
    "import csv\n",
    "\n",
    "path = 'terrorismData.csv'\n",
    "day = []\n",
    "\n",
    "with open(path, 'r', encoding = \"utf8\") as data:\n",
    "    reader = csv.DictReader(data)\n",
    "    for row in reader:\n",
    "        day.append(row['Day'])\n",
    "\n",
    "day = np.array(day)\n",
    "unique, counts = np.unique(day, return_counts = True)\n",
    "index = counts.argmax()\n",
    "print(unique[index], counts[index])"
   ]
  }
 ],
 "metadata": {
  "kernelspec": {
   "display_name": "Python 3 (ipykernel)",
   "language": "python",
   "name": "python3"
  },
  "language_info": {
   "codemirror_mode": {
    "name": "ipython",
    "version": 3
   },
   "file_extension": ".py",
   "mimetype": "text/x-python",
   "name": "python",
   "nbconvert_exporter": "python",
   "pygments_lexer": "ipython3",
   "version": "3.9.13"
  }
 },
 "nbformat": 4,
 "nbformat_minor": 5
}
