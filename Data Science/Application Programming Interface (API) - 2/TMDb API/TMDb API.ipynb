{
 "cells": [
  {
   "cell_type": "markdown",
   "metadata": {
    "id": "prHBonBCFpVY"
   },
   "source": [
    "## TMDb 1.1"
   ]
  },
  {
   "cell_type": "markdown",
   "metadata": {
    "id": "980HrqbrFtHI"
   },
   "source": [
    "Find the 'id' of the movie \"Andhadhun\" using TMDb API."
   ]
  },
  {
   "cell_type": "code",
   "execution_count": null,
   "metadata": {
    "colab": {
     "base_uri": "https://localhost:8080/"
    },
    "id": "TMJahZ0hFwzV",
    "outputId": "ef86e38a-a96a-40f6-e52f-a141436a206f"
   },
   "outputs": [
    {
     "name": "stdout",
     "output_type": "stream",
     "text": [
      "534780\n"
     ]
    }
   ],
   "source": [
    "import requests\n",
    "import json\n",
    "\n",
    "api_link = \"https://api.themoviedb.org/3\"\n",
    "params = {'query' : 'Andhadhun', 'api_key' : 'f6f907bad3a2e3bbbc0eeeec2ed00bdf'}\n",
    "header = {'Accept' : 'application/json'}\n",
    "response = requests.get(api_link + \"/search/movie\", headers = header, params = params)\n",
    "data = response.json()\n",
    "results = data.get('results')\n",
    "for result in results:\n",
    "  if result.get('title') == 'Andhadhun':\n",
    "    print(result.get('id'))"
   ]
  },
  {
   "cell_type": "markdown",
   "metadata": {
    "id": "55zv_q-BJin8"
   },
   "source": [
    "## TMDb 1.2"
   ]
  },
  {
   "cell_type": "markdown",
   "metadata": {
    "id": "hhZrB55VJsRs"
   },
   "source": [
    "Fetch the company id company 'Marvel Studios' using TMDb. Print the id."
   ]
  },
  {
   "cell_type": "code",
   "execution_count": null,
   "metadata": {
    "colab": {
     "base_uri": "https://localhost:8080/"
    },
    "id": "Be9VFGMoJxhi",
    "outputId": "b9726bdf-508e-4ae1-8840-cb7eddcd5ee7"
   },
   "outputs": [
    {
     "name": "stdout",
     "output_type": "stream",
     "text": [
      "420\n"
     ]
    }
   ],
   "source": [
    "import requests\n",
    "import json\n",
    "\n",
    "api_link = \"https://api.themoviedb.org/3\"\n",
    "params = {'query' : 'Marvel Studios', 'api_key' : 'f6f907bad3a2e3bbbc0eeeec2ed00bdf'}\n",
    "header = {'Accept' : 'application/json'}\n",
    "response = requests.get(api_link + \"/search/company\", headers = header, params = params)\n",
    "data = response.json()\n",
    "results = data.get('results')\n",
    "for result in results:\n",
    "  if result.get('name') == 'Marvel Studios':\n",
    "    print(result.get('id'))"
   ]
  },
  {
   "cell_type": "markdown",
   "metadata": {
    "id": "CRmoqoVrKhdQ"
   },
   "source": [
    "## TMDb 1.3"
   ]
  },
  {
   "cell_type": "markdown",
   "metadata": {
    "id": "jUqXPgZvK5Aq"
   },
   "source": [
    "Find the vote count and vote average of the movie \"3 Idiots\" using the TMDb API\n"
   ]
  },
  {
   "cell_type": "code",
   "execution_count": null,
   "metadata": {
    "colab": {
     "base_uri": "https://localhost:8080/"
    },
    "id": "qRWZwntKK9pQ",
    "outputId": "0b119b57-d75f-49bc-f7db-911eb3cdc279"
   },
   "outputs": [
    {
     "name": "stdout",
     "output_type": "stream",
     "text": [
      "1982 8\n"
     ]
    }
   ],
   "source": [
    "import requests\n",
    "import json\n",
    "\n",
    "api_link = \"https://api.themoviedb.org/3\"\n",
    "params = {'query' : '3 Idiots', 'api_key' : 'f6f907bad3a2e3bbbc0eeeec2ed00bdf'}\n",
    "header = {'Accept' : 'application/json'}\n",
    "response = requests.get(api_link + \"/search/movie\", headers = header, params = params)\n",
    "data = response.json()\n",
    "results = data.get('results')\n",
    "for result in results:\n",
    "  if result.get('title') == '3 Idiots':\n",
    "    print(result.get('vote_count'), result.get('vote_average'))"
   ]
  },
  {
   "cell_type": "markdown",
   "metadata": {
    "id": "CvCCqB2bNIh2"
   },
   "source": [
    "## TMDb 1.4"
   ]
  },
  {
   "cell_type": "markdown",
   "metadata": {
    "id": "vXI3_3AnNS5y"
   },
   "source": [
    "Fetch the names of top 5 similar movies to 'Inception' from the TMDb API.\n",
    "\n",
    "Note : While fetching the movie id, use the \"original_title\" field not the \"title\". Because the \"title\" field may contain duplicate values."
   ]
  },
  {
   "cell_type": "code",
   "execution_count": 1,
   "metadata": {
    "id": "lZGhjFC3NaIn"
   },
   "outputs": [],
   "source": [
    "import requests\n",
    "import json\n",
    "\n",
    "api_link = \"https://api.themoviedb.org/3\"\n",
    "params = {'query' : 'Inception', 'api_key' : 'f6f907bad3a2e3bbbc0eeeec2ed00bdf'}\n",
    "header = {'Accept' : 'application/json'}\n",
    "response = requests.get(api_link + \"/search/movie\", headers = header, params = params)\n",
    "data = response.json()\n",
    "results = data.get('results')\n",
    "for result in results:\n",
    "  if result.get('original_title') == 'Inception':\n",
    "    id = result.get('id')"
   ]
  },
  {
   "cell_type": "code",
   "execution_count": 3,
   "metadata": {
    "colab": {
     "base_uri": "https://localhost:8080/"
    },
    "id": "RJy4Hu8OjT4F",
    "outputId": "8749d2b9-4bba-40c5-ce67-26131c859a1a"
   },
   "outputs": [
    {
     "name": "stdout",
     "output_type": "stream",
     "text": [
      "The Call\n",
      "Triple 9\n",
      "RED 2\n",
      "The Wind Rises\n",
      "Inherent Vice\n"
     ]
    }
   ],
   "source": [
    "param = {'api_key' : 'f6f907bad3a2e3bbbc0eeeec2ed00bdf'}\n",
    "response = requests.get(api_link + \"/movie/\" + str(id) + \"/similar\", headers = header, params = param)\n",
    "data = response.json()\n",
    "results = data.get('results')\n",
    "for result in results[:5]:\n",
    "  print(result.get(\"title\"))"
   ]
  },
  {
   "cell_type": "markdown",
   "metadata": {
    "id": "cW4qw4BgocMH"
   },
   "source": [
    "## TMDb 1.5"
   ]
  },
  {
   "cell_type": "markdown",
   "metadata": {
    "id": "OK3d4ONAohro"
   },
   "source": [
    "Fetch the top rated english movies in the US region using the TMDb API. From the result, print the first 10 movies which have original language as english. Also print their genres.\n",
    "\n",
    "Note: Do not use the search/movies API for finding genres.\n"
   ]
  },
  {
   "cell_type": "code",
   "execution_count": 4,
   "metadata": {
    "id": "uyrhaZBoomWx"
   },
   "outputs": [],
   "source": [
    "import requests\n",
    "import json\n",
    "\n",
    "api_link = \"https://api.themoviedb.org/3\"\n",
    "params = {'region' : 'US', 'api_key' : 'f6f907bad3a2e3bbbc0eeeec2ed00bdf'}\n",
    "header = {'Accept' : 'application/json'}\n",
    "response = requests.get(api_link + \"/movie/top_rated\", headers = header, params = params)\n",
    "data = response.json()\n",
    "results = data.get('results')\n",
    "title_array = []\n",
    "genre_id_array = []\n",
    "for result in results:\n",
    "  if result.get('original_language') == 'en':\n",
    "    title_array.append(result.get('title'))\n",
    "    genre_id_array.append(result.get('genre_ids'))"
   ]
  },
  {
   "cell_type": "code",
   "execution_count": 5,
   "metadata": {
    "colab": {
     "base_uri": "https://localhost:8080/"
    },
    "id": "1Y6UuVahza3S",
    "outputId": "9428f9d0-3f65-4c92-f365-06a149c2ee43"
   },
   "outputs": [
    {
     "name": "stdout",
     "output_type": "stream",
     "text": [
      "The Godfather - Drama, Crime, \n",
      "The Shawshank Redemption - Drama, Crime, \n",
      "The Godfather Part II - Drama, Crime, \n",
      "Schindler's List - Drama, History, War, \n",
      "Puss in Boots: The Last Wish - Animation, Action, Adventure, Comedy, Family, Fantasy, \n",
      "12 Angry Men - Drama, \n",
      "The Green Mile - Fantasy, Drama, Crime, \n",
      "The Dark Knight - Drama, Action, Crime, Thriller, \n",
      "Pulp Fiction - Thriller, Crime, \n",
      "Gabriel's Inferno - Romance, \n"
     ]
    }
   ],
   "source": [
    "response = requests.get(api_link + \"/genre/movie/list\", headers = header, params = params)\n",
    "data = response.json()\n",
    "genres = data.get('genres')\n",
    "mapping = {}\n",
    "\n",
    "for genre in genres:\n",
    "  mapping[genre.get('id')] = genre.get('name')\n",
    "\n",
    "for i in range(10):\n",
    "  print(title_array[i], \"-\", end = \" \")\n",
    "  for id in genre_id_array[i]:\n",
    "    print(mapping.get(id), end = \", \")\n",
    "  print()"
   ]
  },
  {
   "cell_type": "markdown",
   "metadata": {
    "id": "gSolRExaCelM"
   },
   "source": [
    "## TMDb 2.1"
   ]
  },
  {
   "cell_type": "markdown",
   "metadata": {
    "id": "7RENXqo-Cjcd"
   },
   "source": [
    "Find the name and birthplace of the present most popular person according to TMDb API."
   ]
  },
  {
   "cell_type": "code",
   "execution_count": 10,
   "metadata": {
    "id": "MSON5TgGCmx-"
   },
   "outputs": [],
   "source": [
    "import requests\n",
    "import json\n",
    "\n",
    "api_link = \"https://api.themoviedb.org/3\"\n",
    "params = {'api_key' : 'f6f907bad3a2e3bbbc0eeeec2ed00bdf'}\n",
    "header = {'Accept' : 'application/json'}\n",
    "response = requests.get(api_link + \"/person/popular\", headers = header, params = params)\n",
    "data = response.json()\n",
    "id_of_most_popular = data.get('results')[0].get('id')"
   ]
  },
  {
   "cell_type": "code",
   "execution_count": 11,
   "metadata": {
    "colab": {
     "base_uri": "https://localhost:8080/"
    },
    "id": "KaIUB5mjG0OK",
    "outputId": "065a5f76-d662-4b08-8d2f-849cdd171b7e"
   },
   "outputs": [
    {
     "name": "stdout",
     "output_type": "stream",
     "text": [
      "2359226\n",
      "Aya Asahina - None\n"
     ]
    }
   ],
   "source": [
    "name_of_most_popular = data.get('results')[0].get('name')\n",
    "response = requests.get(api_link + \"/person\" + str(id_of_most_popular), headers = header, params = params)\n",
    "data = response.json()\n",
    "print(id_of_most_popular)\n",
    "print(name_of_most_popular, \"-\", data.get('place_of_birth'))"
   ]
  },
  {
   "cell_type": "markdown",
   "metadata": {
    "id": "hx6G8SVXNXwY"
   },
   "source": [
    "## TMDb 2.2"
   ]
  },
  {
   "cell_type": "markdown",
   "metadata": {
    "id": "iu51TfGNNXx2"
   },
   "source": [
    "Fetch the Instagram and Twitter handle of Indian Actress \"Alia Bhatt\" from the TMDb API."
   ]
  },
  {
   "cell_type": "code",
   "execution_count": 10,
   "metadata": {
    "id": "GjeYbzbKNhoi"
   },
   "outputs": [],
   "source": [
    "import requests\n",
    "import json\n",
    "\n",
    "api_link = \"https://api.themoviedb.org/3\"\n",
    "params = {'query' : 'Alia Bhatt', 'api_key' : 'f6f907bad3a2e3bbbc0eeeec2ed00bdf'}\n",
    "header = {'Accept' : 'application/json'}\n",
    "response = requests.get(api_link + '/search/person', headers = header, params = params)\n",
    "data = response.json()\n",
    "id = data.get('results')[0].get('id')"
   ]
  },
  {
   "cell_type": "code",
   "execution_count": 11,
   "metadata": {
    "colab": {
     "base_uri": "https://localhost:8080/"
    },
    "id": "Dgeb-EOdvZYz",
    "outputId": "c06262a9-f8ab-455d-851a-882c6dafeefa"
   },
   "outputs": [
    {
     "name": "stdout",
     "output_type": "stream",
     "text": [
      "aliaabhatt Aliaa08\n"
     ]
    }
   ],
   "source": [
    "params = {'api_key' : 'f6f907bad3a2e3bbbc0eeeec2ed00bdf'}\n",
    "response = requests.get(api_link + '/person/' + str(id) + '/external_ids', headers = header, params = params)\n",
    "data = response.json()\n",
    "print(data.get('instagram_id'), data.get('twitter_id'))"
   ]
  },
  {
   "cell_type": "markdown",
   "metadata": {
    "id": "IKs8YEJowora"
   },
   "source": [
    "## TMDb 2.3"
   ]
  },
  {
   "cell_type": "markdown",
   "metadata": {
    "id": "RcdqLGTOw2SW"
   },
   "source": [
    "Fetch the names of the character played by Tom Cruise in the movies:\n",
    "\n",
    "Top Gun\n",
    "\n",
    "Mission : Impossible - Fallout\n",
    "\n",
    "Minority \n",
    "\n",
    "Edge of Tomorrow"
   ]
  },
  {
   "cell_type": "code",
   "execution_count": 12,
   "metadata": {
    "id": "x7aJTuKWw-rw"
   },
   "outputs": [],
   "source": [
    "import requests\n",
    "import json\n",
    "\n",
    "api_link = \"https://api.themoviedb.org/3\"\n",
    "params = {'query' : 'Tom Cruise', 'api_key' : 'f6f907bad3a2e3bbbc0eeeec2ed00bdf'}\n",
    "header = {'Accept' : 'application/json'}\n",
    "response = requests.get(api_link + '/search/person', headers = header, params = params)\n",
    "data = response.json()\n",
    "id = data.get('results')[0].get('id')"
   ]
  },
  {
   "cell_type": "code",
   "execution_count": 13,
   "metadata": {
    "colab": {
     "base_uri": "https://localhost:8080/"
    },
    "id": "UuzZ9oP1xUSL",
    "outputId": "54f4fd55-accb-4411-8518-5c76e4304a95"
   },
   "outputs": [
    {
     "name": "stdout",
     "output_type": "stream",
     "text": [
      "Lt. Pete 'Maverick' Mitchell\n",
      "Ethan Hunt\n",
      "Chief John Anderton\n",
      "Maj. William 'Bill' Cage\n"
     ]
    }
   ],
   "source": [
    "params = {'api_key' : 'f6f907bad3a2e3bbbc0eeeec2ed00bdf'}\n",
    "response = requests.get(api_link + '/person/' + str(id) + '/movie_credits', headers = header, params = params)\n",
    "data = response.json()\n",
    "cast_result = data.get('cast')\n",
    "for cast in cast_result:\n",
    "  if cast.get('original_title') == 'Top Gun':\n",
    "    print(cast.get('character'))\n",
    "for cast in cast_result:\n",
    "  if cast.get('original_title') == 'Mission: Impossible - Fallout':\n",
    "    print(cast.get('character'))\n",
    "for cast in cast_result:\n",
    "  if cast.get('original_title') == 'Minority Report':\n",
    "    print(cast.get('character'))\n",
    "for cast in cast_result:\n",
    "  if cast.get('original_title') == 'Edge of Tomorrow':\n",
    "    print(cast.get('character'))"
   ]
  },
  {
   "cell_type": "markdown",
   "metadata": {
    "id": "IJosKDcmyqKd"
   },
   "source": [
    "## TMDb 2.4"
   ]
  },
  {
   "cell_type": "markdown",
   "metadata": {
    "id": "0_rvBVjA11ch"
   },
   "source": [
    "Did James McAvoy play a role in the movie Deadpool 2. Print Yes or No."
   ]
  },
  {
   "cell_type": "code",
   "execution_count": 14,
   "metadata": {
    "id": "39p-3mH_11Fo"
   },
   "outputs": [],
   "source": [
    "import requests\n",
    "import json\n",
    "\n",
    "api_link = \"https://api.themoviedb.org/3\"\n",
    "params = {'query' : 'Deadpool 2', 'api_key' : 'f6f907bad3a2e3bbbc0eeeec2ed00bdf'}\n",
    "header = {'Accept' : 'application/json'}\n",
    "response = requests.get(api_link + '/search/movie/', headers = header, params = params)\n",
    "data = response.json()\n",
    "results = data.get('results')"
   ]
  },
  {
   "cell_type": "code",
   "execution_count": 15,
   "metadata": {
    "id": "lM035Oyf2cWD"
   },
   "outputs": [],
   "source": [
    "for result in results:\n",
    "  if result.get('original_title') == 'Deadpool 2':\n",
    "    id = result.get('id')"
   ]
  },
  {
   "cell_type": "code",
   "execution_count": 16,
   "metadata": {
    "colab": {
     "base_uri": "https://localhost:8080/"
    },
    "id": "0iD47lnj3JQk",
    "outputId": "c440ba01-bd91-46d5-fb72-d072ba92587b"
   },
   "outputs": [
    {
     "name": "stdout",
     "output_type": "stream",
     "text": [
      "Yes\n"
     ]
    }
   ],
   "source": [
    "params = {'api_key' : 'f6f907bad3a2e3bbbc0eeeec2ed00bdf'}\n",
    "response = requests.get(api_link + '/movie/' + str(id) + '/credits', headers = header, params = params)\n",
    "data = response.json()\n",
    "cast_array = data.get('cast')\n",
    "for cast in cast_array:\n",
    "  if cast.get('name') == 'James McAvoy':\n",
    "    print('Yes')\n",
    "    flag = True\n",
    "if not flag:\n",
    "  print('No')"
   ]
  },
  {
   "cell_type": "markdown",
   "metadata": {
    "id": "pswhalan5afj"
   },
   "source": [
    "## TMDb 2.5"
   ]
  },
  {
   "cell_type": "markdown",
   "metadata": {
    "id": "DesqWwnx5q9_"
   },
   "source": [
    "Using the result obtained in previous question, find out if James McAvoy was credited for his role in movie Deadpool. Print Yes or No.\n"
   ]
  },
  {
   "cell_type": "code",
   "execution_count": 1,
   "metadata": {
    "id": "vzOKzrir52-s"
   },
   "outputs": [],
   "source": [
    "import requests\n",
    "import json\n",
    "\n",
    "api_link = \"https://api.themoviedb.org/3\"\n",
    "params = {'query' : 'Deadpool 2', 'api_key' : 'f6f907bad3a2e3bbbc0eeeec2ed00bdf'}\n",
    "header = {'Accept' : 'application/json'}\n",
    "response = requests.get(api_link + '/search/movie/', headers = header, params = params)\n",
    "data = response.json()\n",
    "results = data.get('results')"
   ]
  },
  {
   "cell_type": "code",
   "execution_count": 2,
   "metadata": {
    "id": "JThmWAI26tW5"
   },
   "outputs": [],
   "source": [
    "for result in results:\n",
    "  if result.get('original_title') == 'Deadpool 2':\n",
    "    id = result.get('id')"
   ]
  },
  {
   "cell_type": "code",
   "execution_count": 3,
   "metadata": {
    "colab": {
     "base_uri": "https://localhost:8080/"
    },
    "id": "YF4yO0tH61qz",
    "outputId": "10781062-bf22-4773-e02c-0a5a6f4ae3fe"
   },
   "outputs": [
    {
     "name": "stdout",
     "output_type": "stream",
     "text": [
      "No\n"
     ]
    }
   ],
   "source": [
    "params = {'api_key' : 'f6f907bad3a2e3bbbc0eeeec2ed00bdf'}\n",
    "response = requests.get(api_link + '/movie/' + str(id) + '/credits', headers = header, params = params)\n",
    "data = response.json()\n",
    "cast_array = data.get('cast')\n",
    "for cast in cast_array:\n",
    "  if cast.get('name') == 'James McAvoy':\n",
    "    info = cast\n",
    "    break\n",
    "if 'uncredited' in info.get('character'):\n",
    "  print('No')\n",
    "else:\n",
    "  print('Yes')"
   ]
  },
  {
   "cell_type": "markdown",
   "metadata": {
    "id": "E_FCd4Ro-rgY"
   },
   "source": [
    "## TMDb 3.1"
   ]
  },
  {
   "cell_type": "markdown",
   "metadata": {
    "id": "bYtew00k_G51"
   },
   "source": [
    "Fetch the overview of the TV Show \"FRIENDS\" using TMDb API.\n"
   ]
  },
  {
   "cell_type": "code",
   "execution_count": 4,
   "metadata": {
    "colab": {
     "base_uri": "https://localhost:8080/"
    },
    "id": "ZTtcbIcF_Ke7",
    "outputId": "799b5070-8e94-4929-9a5e-1fd869a57e5c"
   },
   "outputs": [
    {
     "name": "stdout",
     "output_type": "stream",
     "text": [
      "Six young people from New York City, on their own and struggling to survive in the real world, find the companionship, comfort and support they get from each other to be the perfect antidote to the pressures of life.\n"
     ]
    }
   ],
   "source": [
    "import requests\n",
    "import json\n",
    "\n",
    "api_link = \"https://api.themoviedb.org/3\"\n",
    "params = {'query' : 'Friends', 'api_key' : 'f6f907bad3a2e3bbbc0eeeec2ed00bdf'}\n",
    "header = {'Accept' : 'application/json'}\n",
    "response = requests.get(api_link + '/search/tv/', headers = header, params = params)\n",
    "data = response.json()\n",
    "results = data.get('results')\n",
    "for result in results:\n",
    "  if result.get('name') == 'Friends':\n",
    "    print(result.get('overview'))"
   ]
  },
  {
   "cell_type": "markdown",
   "metadata": {
    "id": "686bWUM9XzmG"
   },
   "source": [
    "## TMDb 3.2"
   ]
  },
  {
   "cell_type": "markdown",
   "metadata": {
    "id": "uQZmJ3XXX9rw"
   },
   "source": [
    "Fetch the name and air date of S06E05 of the TV Show 'The Big Bang Theory' from TMDb API."
   ]
  },
  {
   "cell_type": "code",
   "execution_count": 2,
   "metadata": {
    "id": "Ouw_WZY6YA6G"
   },
   "outputs": [],
   "source": [
    "import requests\n",
    "import json\n",
    "\n",
    "api_link = \"https://api.themoviedb.org/3\"\n",
    "params = {'query' : 'The Big Bang Theory', 'api_key' : 'f6f907bad3a2e3bbbc0eeeec2ed00bdf'}\n",
    "header = {'Accept' : 'application/json'}\n",
    "response = requests.get(api_link + '/search/tv/', headers = header, params = params)\n",
    "data = response.json()\n",
    "results = data.get('results')"
   ]
  },
  {
   "cell_type": "code",
   "execution_count": 3,
   "metadata": {
    "id": "Wo2i3efAawPQ"
   },
   "outputs": [],
   "source": [
    "for result in results:\n",
    "  if result.get('name') == 'The Big Bang Theory':\n",
    "    id = result.get('id')"
   ]
  },
  {
   "cell_type": "code",
   "execution_count": 4,
   "metadata": {
    "colab": {
     "base_uri": "https://localhost:8080/"
    },
    "id": "Lmou_WPlp1oq",
    "outputId": "9f8d5408-a79f-468a-c8d9-e5d68b335cfd"
   },
   "outputs": [
    {
     "name": "stdout",
     "output_type": "stream",
     "text": [
      "The Holographic Excitation - 2012-10-25\n"
     ]
    }
   ],
   "source": [
    "params = {'api_key' : 'f6f907bad3a2e3bbbc0eeeec2ed00bdf'}\n",
    "response = requests.get(api_link + '/tv/' + str(id) + '/season/6/episode/5', headers = header, params = params)\n",
    "data = response.json()\n",
    "print(data.get('name'), '-', data.get('air_date'))"
   ]
  },
  {
   "cell_type": "markdown",
   "metadata": {
    "id": "O1kk1qt1qwuG"
   },
   "source": [
    "## TMDb 3.3"
   ]
  },
  {
   "cell_type": "markdown",
   "metadata": {
    "id": "YIVSqCYVq6tV"
   },
   "source": [
    "Fetch the trending TV Shows for the week from the TMDb API and print the taglines of the top 5 shows. If there is no tagline, print 'Empty' instead\n"
   ]
  },
  {
   "cell_type": "code",
   "execution_count": 5,
   "metadata": {
    "id": "89sgkPqRq-2_"
   },
   "outputs": [],
   "source": [
    "import requests\n",
    "import json\n",
    "\n",
    "api_link = \"https://api.themoviedb.org/3\"\n",
    "params = {'api_key' : 'f6f907bad3a2e3bbbc0eeeec2ed00bdf'}\n",
    "header = {'Accept' : 'application/json'}\n",
    "response = requests.get(api_link + '/trending/tv/week', headers = header, params = params)\n",
    "data = response.json()\n",
    "results = data.get('results')"
   ]
  },
  {
   "cell_type": "code",
   "execution_count": 6,
   "metadata": {
    "colab": {
     "base_uri": "https://localhost:8080/"
    },
    "id": "AkOS8LUHryxg",
    "outputId": "aea3e51f-2400-475b-e590-166b32e66a96"
   },
   "outputs": [
    {
     "name": "stdout",
     "output_type": "stream",
     "text": [
      "There are 7 billion ways to solve a crime.\n",
      "Empty\n",
      "Empty\n",
      "Kneel to no one.\n",
      "The next great adventure begins.\n"
     ]
    }
   ],
   "source": [
    "ids = []\n",
    "for result in results[:5]:\n",
    "  ids.append(result.get('id'))\n",
    "for id in ids:\n",
    "  response = requests.get(api_link + '/tv/' + str(id), headers = header, params = params)\n",
    "  data = response.json()\n",
    "  if (data.get('tagline')) != \"\":\n",
    "    print(data.get('tagline'))\n",
    "  else:\n",
    "    print('Empty')"
   ]
  },
  {
   "cell_type": "markdown",
   "metadata": {
    "id": "pfRToevqvIGH"
   },
   "source": [
    "## TMDb 3.4"
   ]
  },
  {
   "cell_type": "markdown",
   "metadata": {
    "id": "4VzdmzjavMJN"
   },
   "source": [
    "Print the names of all the TV shows to be aired today whose original language is english."
   ]
  },
  {
   "cell_type": "code",
   "execution_count": 9,
   "metadata": {
    "id": "i0Io-A1PvPvn"
   },
   "outputs": [],
   "source": [
    "import requests\n",
    "import json\n",
    "\n",
    "api_link = \"https://api.themoviedb.org/3\"\n",
    "params = {'language' : 'en', 'api_key' : 'f6f907bad3a2e3bbbc0eeeec2ed00bdf'}\n",
    "header = {'Accept' : 'application/json'}\n",
    "response = requests.get(api_link + '/tv/airing_today/', headers = header, params = params)\n",
    "data = response.json()\n",
    "page_number = data.get('total_pages')"
   ]
  },
  {
   "cell_type": "code",
   "execution_count": 10,
   "metadata": {
    "colab": {
     "base_uri": "https://localhost:8080/"
    },
    "id": "ojwhggGVvwvO",
    "outputId": "356e3f5b-1969-40a8-a45a-b7a1ad69cc8c"
   },
   "outputs": [
    {
     "name": "stdout",
     "output_type": "stream",
     "text": [
      "Bhagya Lakshmi\n",
      "Cuomo\n",
      "The Price Is Right\n",
      "PBS NewsHour\n",
      "Richard Osman's House of Games\n",
      "The Repair Shop\n",
      "PAW Patrol\n",
      "S.W.A.T.\n",
      "General Hospital\n",
      "Emmerdale\n",
      "Days of Our Lives\n",
      "Jeopardy!\n",
      "Blue Bloods\n",
      "Wheel of Fortune\n",
      "Let's Make a Deal\n",
      "LIVE with Kelly and Ryan\n",
      "Nakarehas Na Puso\n",
      "Access Hollywood\n",
      "Death in Paradise\n",
      "The Young and the Restless\n",
      "Good Morning America\n",
      "Tamron Hall\n",
      "The Graham Norton Show\n",
      "House Hunters\n",
      "The View\n",
      "RuPaul's Drag Race\n",
      "Ancient Aliens\n",
      "Pictionary\n",
      "Coronation Street\n",
      "Alex Wagner Tonight\n",
      "BMF\n",
      "Gold Rush\n",
      "Father Brown\n",
      "Lingo\n",
      "QI\n",
      "Hollyoaks\n",
      "GRAND SUMO Highlights\n",
      "The Drew Barrymore Show\n",
      "Transplant\n",
      "The Bold and the Beautiful\n",
      "Young Rock\n",
      "Shark Tank\n",
      "The Patrick Star Show\n",
      "Fire Country\n",
      "Would I Lie to You?\n",
      "Access Daily\n",
      "Superkitties\n",
      "Live at the Apollo\n",
      "Travel Man: 48 Hours in...\n",
      "The Jennifer Hudson Show\n",
      "Country House Hunters: New Zealand\n",
      "All Elite Wrestling: Rampage\n",
      "Love After Lockup\n",
      "Rabb Se Hai Dua\n",
      "SpongeBob SquarePants\n",
      "Destination Fear\n",
      "Boys in Blue\n",
      "A Football Life\n",
      "The Test\n",
      "The Proof Is Out There\n",
      "Naked News\n",
      "The ReidOut\n",
      "The Hairy Bikers Go Local\n",
      "On Patrol: Live\n",
      "MotorWeek\n",
      "The Nature of Things\n",
      "Michael Fassbender: Road to Le Mans\n",
      "Lopez vs. Lopez\n",
      "WWE NXT: Level Up\n",
      "Break Point\n",
      "Off the Record\n",
      "On Patrol: First Shift\n",
      "Dr. Phil\n",
      "WWE SmackDown\n",
      "Attaway General\n",
      "Rachael Ray\n",
      "CBS Evening News\n",
      "Car Pound Cops: Give Me My Car Back!\n",
      "Amanda & Alans Italian Job\n",
      "Master Minds\n",
      "25 Words or Less\n",
      "Gold, Lies & Videotape\n",
      "DreamWorks Inspiration Station (Africa)\n"
     ]
    }
   ],
   "source": [
    "for i in range(1, page_number + 1):\n",
    "  params = {'language' : 'en', 'api_key' : 'f6f907bad3a2e3bbbc0eeeec2ed00bdf', 'page' : i}\n",
    "  response = requests.get(api_link + '/tv/airing_today/', headers = header, params = params)\n",
    "  data = response.json()\n",
    "  results = data.get('results')\n",
    "  for result in results:\n",
    "    if result.get('original_language') == 'en':\n",
    "      print(result.get('name'))"
   ]
  },
  {
   "cell_type": "markdown",
   "metadata": {
    "id": "HzcOJk-_xcOE"
   },
   "source": [
    "## TMDb 3.5"
   ]
  },
  {
   "cell_type": "markdown",
   "metadata": {
    "id": "04XHyUCPxlhG"
   },
   "source": [
    "Count the number of males and females in the cast of \"Money Heist\" using the TMDb API."
   ]
  },
  {
   "cell_type": "code",
   "execution_count": 11,
   "metadata": {
    "id": "cmthQ2nTxoJb"
   },
   "outputs": [],
   "source": [
    "import requests\n",
    "import json\n",
    "\n",
    "api_link = \"https://api.themoviedb.org/3\"\n",
    "params = {'query' : 'Money Heist', 'api_key' : 'f6f907bad3a2e3bbbc0eeeec2ed00bdf'}\n",
    "header = {'Accept' : 'application/json'}\n",
    "response = requests.get(api_link + '/search/tv/', headers = header, params = params)\n",
    "data = response.json()\n",
    "results = data.get('results')"
   ]
  },
  {
   "cell_type": "code",
   "execution_count": 12,
   "metadata": {
    "id": "JD23UKIa0CiM"
   },
   "outputs": [],
   "source": [
    "for result in results:\n",
    "  if result.get('name') == 'Money Heist':\n",
    "    id = result.get('id')"
   ]
  },
  {
   "cell_type": "code",
   "execution_count": 13,
   "metadata": {
    "colab": {
     "base_uri": "https://localhost:8080/"
    },
    "id": "kTuMv3d20xfd",
    "outputId": "dda33492-7513-4f28-ceb1-311ea16f3ef1"
   },
   "outputs": [
    {
     "name": "stdout",
     "output_type": "stream",
     "text": [
      "10 5\n"
     ]
    }
   ],
   "source": [
    "params = {'api_key' : 'f6f907bad3a2e3bbbc0eeeec2ed00bdf'}\n",
    "response = requests.get(api_link + '/tv/' + str(id) + '/credits', headers = header, params = params)\n",
    "data = response.json()\n",
    "cast = data.get('cast')\n",
    "\n",
    "count_male = 0\n",
    "count_female = 0\n",
    "for i in cast:\n",
    "  if i.get('gender') == 1:\n",
    "    count_female += 1\n",
    "  if i.get('gender') == 2:\n",
    "    count_male += 1\n",
    "\n",
    "print(count_male, count_female)"
   ]
  }
 ],
 "metadata": {
  "colab": {
   "provenance": []
  },
  "kernelspec": {
   "display_name": "Python 3 (ipykernel)",
   "language": "python",
   "name": "python3"
  },
  "language_info": {
   "codemirror_mode": {
    "name": "ipython",
    "version": 3
   },
   "file_extension": ".py",
   "mimetype": "text/x-python",
   "name": "python",
   "nbconvert_exporter": "python",
   "pygments_lexer": "ipython3",
   "version": "3.9.13"
  }
 },
 "nbformat": 4,
 "nbformat_minor": 1
}
