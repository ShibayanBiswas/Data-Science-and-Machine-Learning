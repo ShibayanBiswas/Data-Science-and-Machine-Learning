{
  "cells": [
    {
      "cell_type": "code",
      "execution_count": null,
      "metadata": {
        "id": "owGOHhjK1xE4"
      },
      "outputs": [],
      "source": [
        "import requests\n",
        "from requests.auth import HTTPBasicAuth\n",
        "\n",
        "header = {\"Accept\": \"application/vnd.github+json\"}\n",
        "response = requests.get('https://api.github.com/user', auth = HTTPBasicAuth('ShibayanBiswas', 'ae21b109'), headers = header)\n",
        "print(response.status_code)\n"
      ]
    },
    {
      "cell_type": "code",
      "execution_count": null,
      "metadata": {
        "id": "NCieq1edL1Ap"
      },
      "outputs": [],
      "source": [
        "response = requests.get('https://api.github.com/user', auth = ('ShibayanBiswas', 'ae21b109'), headers = header)\n",
        "print(response.status_code)"
      ]
    },
    {
      "cell_type": "code",
      "execution_count": 3,
      "metadata": {
        "id": "Au5RDITaMysA"
      },
      "outputs": [],
      "source": [
        "# Creating a repository\n",
        "import json\n",
        "\n",
        "info = {'name' : 'Demo_Rep', 'description' : 'Created via API call', 'auto_init' : 'true'}\n",
        "response = requests.post('https://api.github.com/user/repos', auth = ('ShibayanBiswas', 'ae21b109'), headers = header, data = json.dumps(info))"
      ]
    }
  ],
  "metadata": {
    "colab": {
      "provenance": []
    },
    "kernelspec": {
      "display_name": "Python 3",
      "language": "python",
      "name": "python3"
    },
    "language_info": {
      "name": "python",
      "version": "3.11.0 (main, Oct 24 2022, 18:26:48) [MSC v.1933 64 bit (AMD64)]"
    },
    "vscode": {
      "interpreter": {
        "hash": "cfc9a42ceb155f1f125b8a4bcd2b715739f099a6e3de280bb3102a0bd9e61a77"
      }
    }
  },
  "nbformat": 4,
  "nbformat_minor": 0
}