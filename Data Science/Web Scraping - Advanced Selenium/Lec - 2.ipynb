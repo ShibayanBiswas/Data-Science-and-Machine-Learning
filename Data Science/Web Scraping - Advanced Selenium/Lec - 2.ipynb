{
 "cells": [
  {
   "attachments": {},
   "cell_type": "markdown",
   "metadata": {},
   "source": [
    "Radio Button & Checkboxes:"
   ]
  },
  {
   "cell_type": "code",
   "execution_count": 47,
   "metadata": {},
   "outputs": [
    {
     "name": "stderr",
     "output_type": "stream",
     "text": [
      "C:\\Users\\SHIBAYAN BISWAS\\AppData\\Local\\Temp\\ipykernel_12908\\3778310228.py:6: DeprecationWarning: executable_path has been deprecated, please pass in a Service object\n",
      "  driver = webdriver.Chrome(executable_path=\"/path/to/chromedriver\")\n"
     ]
    },
    {
     "name": "stdout",
     "output_type": "stream",
     "text": [
      "<input type=\"radio\" id=\"yesRadio\" name=\"like\" class=\"custom-control-input\">\n"
     ]
    }
   ],
   "source": [
    "import selenium\n",
    "from selenium import webdriver\n",
    "from selenium.webdriver.common.by import By\n",
    "\n",
    "driver = webdriver.Chrome(executable_path=\"/path/to/chromedriver\")\n",
    "driver.get('https://demoqa.com/radio-button')\n",
    "btn = driver.find_element(By.NAME, 'like')\n",
    "print(btn.get_attribute('outerHTML'))"
   ]
  },
  {
   "cell_type": "code",
   "execution_count": 44,
   "metadata": {},
   "outputs": [
    {
     "name": "stderr",
     "output_type": "stream",
     "text": [
      "C:\\Users\\SHIBAYAN BISWAS\\AppData\\Local\\Temp\\ipykernel_12908\\3347846679.py:1: DeprecationWarning: executable_path has been deprecated, please pass in a Service object\n",
      "  driver = webdriver.Chrome(executable_path=\"/path/to/chromedriver\")\n"
     ]
    },
    {
     "data": {
      "text/plain": [
       "[<selenium.webdriver.remote.webelement.WebElement (session=\"b68fdccf3fa83b990d0255d7af2c0dbf\", element=\"01cb9c82-71de-4dbf-b3bd-ca9de19df371\")>,\n",
       " <selenium.webdriver.remote.webelement.WebElement (session=\"b68fdccf3fa83b990d0255d7af2c0dbf\", element=\"7a783b37-7b33-4303-b7f5-0d4b52b67d4a\")>,\n",
       " <selenium.webdriver.remote.webelement.WebElement (session=\"b68fdccf3fa83b990d0255d7af2c0dbf\", element=\"bb6e8822-cbd5-4da8-a47a-b36fdcef6755\")>]"
      ]
     },
     "execution_count": 44,
     "metadata": {},
     "output_type": "execute_result"
    }
   ],
   "source": [
    "driver = webdriver.Chrome(executable_path=\"/path/to/chromedriver\")\n",
    "driver.get('https://demoqa.com/radio-button')\n",
    "btn = driver.find_elements(By.NAME, 'like')\n",
    "btn"
   ]
  },
  {
   "cell_type": "code",
   "execution_count": null,
   "metadata": {},
   "outputs": [],
   "source": [
    "btn[0].click()\n",
    "print(btn[0].is_selected()) # Result in true\n",
    "print(btn[1].is_selected()) # Result in false"
   ]
  },
  {
   "cell_type": "code",
   "execution_count": 51,
   "metadata": {},
   "outputs": [
    {
     "name": "stderr",
     "output_type": "stream",
     "text": [
      "C:\\Users\\SHIBAYAN BISWAS\\AppData\\Local\\Temp\\ipykernel_12908\\1233688097.py:1: DeprecationWarning: executable_path has been deprecated, please pass in a Service object\n",
      "  driver = webdriver.Chrome(executable_path=\"/path/to/chromedriver\")\n"
     ]
    },
    {
     "data": {
      "text/plain": [
       "<selenium.webdriver.remote.webelement.WebElement (session=\"f5687069d7a8c062b321b38738231d4f\", element=\"a33d4205-d29a-47c3-885e-84c714133363\")>"
      ]
     },
     "execution_count": 51,
     "metadata": {},
     "output_type": "execute_result"
    }
   ],
   "source": [
    "driver = webdriver.Chrome(executable_path=\"/path/to/chromedriver\")\n",
    "driver.get('https://demoqa.com/checkbox')\n",
    "checkbox = driver.find_element(By.ID, 'tree-node-home')\n",
    "checkbox"
   ]
  },
  {
   "cell_type": "code",
   "execution_count": null,
   "metadata": {},
   "outputs": [],
   "source": [
    "# checkbox - suppose to be a list of checkbox buttons\n",
    "for i in checkbox:\n",
    "    if i.get_attribute('value') == \"desired_value\":\n",
    "        i.click()\n",
    "\n",
    "\n",
    "# To de-select the checkbox buttons\n",
    "for i in checkbox:\n",
    "    if i.is_selected():\n",
    "        i.click()"
   ]
  }
 ],
 "metadata": {
  "kernelspec": {
   "display_name": "Python 3",
   "language": "python",
   "name": "python3"
  },
  "language_info": {
   "codemirror_mode": {
    "name": "ipython",
    "version": 3
   },
   "file_extension": ".py",
   "mimetype": "text/x-python",
   "name": "python",
   "nbconvert_exporter": "python",
   "pygments_lexer": "ipython3",
   "version": "3.11.0 (main, Oct 24 2022, 18:26:48) [MSC v.1933 64 bit (AMD64)]"
  },
  "orig_nbformat": 4,
  "vscode": {
   "interpreter": {
    "hash": "cfc9a42ceb155f1f125b8a4bcd2b715739f099a6e3de280bb3102a0bd9e61a77"
   }
  }
 },
 "nbformat": 4,
 "nbformat_minor": 2
}
