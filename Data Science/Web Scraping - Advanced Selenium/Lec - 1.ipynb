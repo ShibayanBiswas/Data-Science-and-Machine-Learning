{
 "cells": [
  {
   "attachments": {},
   "cell_type": "markdown",
   "metadata": {},
   "source": [
    "Implicit Waits:"
   ]
  },
  {
   "attachments": {},
   "cell_type": "markdown",
   "metadata": {},
   "source": [
    "Suppose we want to check all the flights from Delhi to Mumbai on 25th May. For this we follow the following steps:\n",
    "\n",
    "1. Visit the Travel Website\n",
    "2. click \"Flights\"\n",
    "3. Enter the details such as the destination and the preffered date\n",
    "4. Click on the search button\n",
    "5. Extract all the data that we get in the next page"
   ]
  },
  {
   "attachments": {},
   "cell_type": "markdown",
   "metadata": {},
   "source": [
    "Need for waits:\n",
    "\n",
    "1. Website is slow\n",
    "2. Multiple elements load at different intervals of time\n",
    "\n",
    "For this we  use implicit waits where we decide to wait for \"n\" seconds (fixed)"
   ]
  },
  {
   "cell_type": "code",
   "execution_count": 24,
   "metadata": {},
   "outputs": [
    {
     "name": "stderr",
     "output_type": "stream",
     "text": [
      "C:\\Users\\SHIBAYAN BISWAS\\AppData\\Local\\Temp\\ipykernel_13132\\3010049645.py:5: DeprecationWarning: executable_path has been deprecated, please pass in a Service object\n",
      "  driver = webdriver.Chrome(executable_path=\"/path/to/chromedriver\")\n"
     ]
    }
   ],
   "source": [
    "import selenium\n",
    "from selenium import webdriver\n",
    "from selenium.webdriver.common.by import By\n",
    "\n",
    "driver = webdriver.Chrome(executable_path=\"/path/to/chromedriver\")\n",
    "driver.get('https://www.dell.com/en-in')\n",
    "text_box = driver.find_element(By.CLASS_NAME, 'mh-search-input')\n",
    "text_box.send_keys('Gaming Laptops')\n",
    "text_box.find_element(By.XPATH, '//button[@class = \"mh-search-btn mh-search-submit\"]').click()\n",
    "driver.implicitly_wait(10) # takes value in second. Used for time taken to search the query in the website to extract data otherwise we get error\n",
    "laptop_1 = driver.find_element(By.XPATH, '//section[contains(@class, \"ps-top\")]/h3/a')"
   ]
  },
  {
   "attachments": {},
   "cell_type": "markdown",
   "metadata": {},
   "source": [
    "We should not always use implicit waits as it slows down our script process. Impicit wait is applied globally - it will remain applicable until the driver object is destroyed"
   ]
  },
  {
   "cell_type": "code",
   "execution_count": 25,
   "metadata": {},
   "outputs": [],
   "source": [
    "laptop_1.click()"
   ]
  },
  {
   "attachments": {},
   "cell_type": "markdown",
   "metadata": {},
   "source": [
    "Explicit Waits:"
   ]
  },
  {
   "attachments": {},
   "cell_type": "markdown",
   "metadata": {},
   "source": [
    "Now the drawback of implicit wait is that if the browser loads in the time lesser than the time assigned in the implicit wait, the browser waits for some extra time. It makes our script slow. Hence to tackle this problem we use explicit wait - requires a condition and an upper limit"
   ]
  },
  {
   "cell_type": "code",
   "execution_count": 27,
   "metadata": {},
   "outputs": [
    {
     "name": "stderr",
     "output_type": "stream",
     "text": [
      "C:\\Users\\SHIBAYAN BISWAS\\AppData\\Local\\Temp\\ipykernel_13132\\309661451.py:4: DeprecationWarning: executable_path has been deprecated, please pass in a Service object\n",
      "  driver = webdriver.Chrome(executable_path=\"/path/to/chromedriver\")\n"
     ]
    }
   ],
   "source": [
    "from selenium.webdriver.support.ui import WebDriverWait\n",
    "from selenium.webdriver.support import expected_conditions as EC\n",
    "\n",
    "driver = webdriver.Chrome(executable_path=\"/path/to/chromedriver\")\n",
    "driver.get('https://www.dell.com/en-in')\n",
    "text_box = driver.find_element(By.CLASS_NAME, 'mh-search-input')\n",
    "text_box.send_keys('Gaming Laptops')\n",
    "text_box.find_element(By.XPATH, '//button[@class = \"mh-search-btn mh-search-submit\"]').click()\n",
    "\n",
    "## Explicit Wait:\n",
    "wait = WebDriverWait(driver, 10)\n",
    "laptop_1 = wait.until(EC.presence_of_element_located((By.XPATH, '//section[contains(@class, \"ps-top\")]/h3/a')))\n",
    "\n",
    "laptop_1.click()"
   ]
  }
 ],
 "metadata": {
  "kernelspec": {
   "display_name": "Python 3",
   "language": "python",
   "name": "python3"
  },
  "language_info": {
   "codemirror_mode": {
    "name": "ipython",
    "version": 3
   },
   "file_extension": ".py",
   "mimetype": "text/x-python",
   "name": "python",
   "nbconvert_exporter": "python",
   "pygments_lexer": "ipython3",
   "version": "3.11.0 (main, Oct 24 2022, 18:26:48) [MSC v.1933 64 bit (AMD64)]"
  },
  "orig_nbformat": 4,
  "vscode": {
   "interpreter": {
    "hash": "cfc9a42ceb155f1f125b8a4bcd2b715739f099a6e3de280bb3102a0bd9e61a77"
   }
  }
 },
 "nbformat": 4,
 "nbformat_minor": 2
}
