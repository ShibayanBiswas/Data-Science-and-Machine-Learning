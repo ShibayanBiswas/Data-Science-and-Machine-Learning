{
 "cells": [
  {
   "cell_type": "markdown",
   "id": "bf7f17f1",
   "metadata": {},
   "source": [
    "Infinite Scrolling:"
   ]
  },
  {
   "cell_type": "code",
   "execution_count": 1,
   "id": "3b8cf67f",
   "metadata": {},
   "outputs": [
    {
     "name": "stderr",
     "output_type": "stream",
     "text": [
      "C:\\Users\\SHIBAYAN BISWAS\\AppData\\Local\\Temp\\ipykernel_9196\\818860885.py:5: DeprecationWarning: executable_path has been deprecated, please pass in a Service object\n",
      "  driver = webdriver.Chrome(executable_path=\"/path/to/chromedriver\")\n"
     ]
    }
   ],
   "source": [
    "import selenium\n",
    "from selenium import webdriver\n",
    "from selenium.webdriver.common.by import By\n",
    "\n",
    "driver = webdriver.Chrome(executable_path=\"/path/to/chromedriver\")"
   ]
  },
  {
   "cell_type": "markdown",
   "id": "f4a24c62",
   "metadata": {},
   "source": [
    "We can use the script code : window.ScrollTo(x_pos, y_pos)\n",
    "\n",
    "Here x_pos and y_pos are co-ordinates in termsof pixels\n",
    "\n",
    "In oder to create scroller we need the help of : document.body.scrollHeight - with the help of this we can get the height of an element in pixels"
   ]
  },
  {
   "cell_type": "code",
   "execution_count": 2,
   "id": "564c6cd8",
   "metadata": {},
   "outputs": [
    {
     "data": {
      "text/plain": [
       "666"
      ]
     },
     "execution_count": 2,
     "metadata": {},
     "output_type": "execute_result"
    }
   ],
   "source": [
    "driver.get('https://twitter.com/StackOverheards')\n",
    "driver.execute_script('return document.body.scrollHeight;')"
   ]
  },
  {
   "cell_type": "markdown",
   "id": "771c21dd",
   "metadata": {},
   "source": [
    "Here we get the current height of the body tag"
   ]
  },
  {
   "cell_type": "code",
   "execution_count": 3,
   "id": "b135e4e7",
   "metadata": {},
   "outputs": [],
   "source": [
    "driver.execute_script('window.scrollTo(0, document.body.scrollHeight);')"
   ]
  },
  {
   "cell_type": "markdown",
   "id": "1a023d20",
   "metadata": {},
   "source": [
    "We can scroll down till this point because it is the maximum height - which we want to scroll down in one go"
   ]
  },
  {
   "cell_type": "code",
   "execution_count": 4,
   "id": "e3f9a946",
   "metadata": {},
   "outputs": [
    {
     "data": {
      "text/plain": [
       "869"
      ]
     },
     "execution_count": 4,
     "metadata": {},
     "output_type": "execute_result"
    }
   ],
   "source": [
    "driver.execute_script('return document.body.scrollHeight;')"
   ]
  },
  {
   "cell_type": "markdown",
   "id": "40a31c55",
   "metadata": {},
   "source": [
    "We write this because after scrolling, again new tweets are loaded on our page. Height of body tag must have increased.\n",
    "\n",
    "The plan is to repeat the process until new data stops getting displayed."
   ]
  },
  {
   "cell_type": "code",
   "execution_count": 5,
   "id": "1ca1d615",
   "metadata": {},
   "outputs": [],
   "source": [
    "import time\n",
    "current_height = driver.execute_script('return document.body.scrollHeight;')\n",
    "\n",
    "while True:\n",
    "    driver.execute_script('window.scrollTo(0, arguments[0]);', current_height)  # In java-script we cannot pass python ariable directly. We have to pass in form of arguments. Here '0' represents first argument\n",
    "    time.sleep(3)\n",
    "    new_height = driver.execute_script('return document.body.scrollHeight;')\n",
    "    if new_height == current_height :\n",
    "        break\n",
    "    current_height = new_height"
   ]
  },
  {
   "cell_type": "markdown",
   "id": "bf117f1b",
   "metadata": {},
   "source": [
    "Switch Tab Focus:"
   ]
  },
  {
   "cell_type": "code",
   "execution_count": 6,
   "id": "4a3c55a3",
   "metadata": {},
   "outputs": [
    {
     "name": "stderr",
     "output_type": "stream",
     "text": [
      "C:\\Users\\SHIBAYAN BISWAS\\AppData\\Local\\Temp\\ipykernel_9196\\4102234333.py:5: DeprecationWarning: executable_path has been deprecated, please pass in a Service object\n",
      "  driver = webdriver.Chrome(executable_path=\"/path/to/chromedriver\")\n"
     ]
    }
   ],
   "source": [
    "import selenium\n",
    "from selenium import webdriver\n",
    "from selenium.webdriver.common.by import By\n",
    "\n",
    "driver = webdriver.Chrome(executable_path=\"/path/to/chromedriver\")\n",
    "driver.get('https://codingninjas.in/')"
   ]
  },
  {
   "cell_type": "code",
   "execution_count": 7,
   "id": "97bcba74",
   "metadata": {},
   "outputs": [
    {
     "data": {
      "text/plain": [
       "'Coding Ninjas'"
      ]
     },
     "execution_count": 7,
     "metadata": {},
     "output_type": "execute_result"
    }
   ],
   "source": [
    "driver.title"
   ]
  },
  {
   "cell_type": "code",
   "execution_count": 8,
   "id": "bfab3c0c",
   "metadata": {},
   "outputs": [],
   "source": [
    "driver.execute_script('window.open(\"https://twitter.com/\");')"
   ]
  },
  {
   "cell_type": "markdown",
   "id": "5e25d248",
   "metadata": {},
   "source": [
    "Now we want to perform actions on the new tab opened"
   ]
  },
  {
   "cell_type": "code",
   "execution_count": 9,
   "id": "3f07af2f",
   "metadata": {},
   "outputs": [
    {
     "data": {
      "text/plain": [
       "['CDwindow-C7C5447C937A3FF24438D6451B7230A7',\n",
       " 'CDwindow-61466C9A3CE880CF50CBBCD4CF4FAE65']"
      ]
     },
     "execution_count": 9,
     "metadata": {},
     "output_type": "execute_result"
    }
   ],
   "source": [
    "driver.window_handles"
   ]
  },
  {
   "cell_type": "code",
   "execution_count": 11,
   "id": "43057c6c",
   "metadata": {},
   "outputs": [
    {
     "data": {
      "text/plain": [
       "'CDwindow-C7C5447C937A3FF24438D6451B7230A7'"
      ]
     },
     "execution_count": 11,
     "metadata": {},
     "output_type": "execute_result"
    }
   ],
   "source": [
    "driver.current_window_handle"
   ]
  },
  {
   "cell_type": "code",
   "execution_count": 12,
   "id": "369479ba",
   "metadata": {},
   "outputs": [],
   "source": [
    "windows = driver.window_handles\n",
    "driver.switch_to.window(windows[1])"
   ]
  },
  {
   "cell_type": "code",
   "execution_count": 13,
   "id": "b71016b4",
   "metadata": {},
   "outputs": [
    {
     "data": {
      "text/plain": [
       "'Explore / Twitter'"
      ]
     },
     "execution_count": 13,
     "metadata": {},
     "output_type": "execute_result"
    }
   ],
   "source": [
    "driver.title"
   ]
  },
  {
   "cell_type": "markdown",
   "id": "903d7e8f",
   "metadata": {},
   "source": [
    "Handle Popups:"
   ]
  },
  {
   "cell_type": "code",
   "execution_count": null,
   "id": "71f94841",
   "metadata": {},
   "outputs": [],
   "source": [
    "import selenium\n",
    "from selenium import webdriver\n",
    "from selenium.webdriver.common.by import By\n",
    "\n",
    "driver = webdriver.Chrome(executable_path=\"/path/to/chromedriver\")"
   ]
  },
  {
   "cell_type": "code",
   "execution_count": null,
   "id": "6a0a1993",
   "metadata": {},
   "outputs": [],
   "source": [
    "driver.get('Required_File.html')  # We can also pass the path (for a local html file)\n",
    "alert = driver.find_element(By.NAME, 'alert')  # Name of the button\n",
    "alert.click()  # Generate popup window\n",
    "focus = driver.switch_to.alert  # Shift focus to the alert window\n",
    "focus.accept  # Click on ok\n",
    "\n",
    "# If we try focus.dismiss() the popup window closes. Same process for confirmation alerts"
   ]
  },
  {
   "cell_type": "code",
   "execution_count": null,
   "id": "aecf4814",
   "metadata": {},
   "outputs": [],
   "source": [
    "focus.text  # Display the text in the popup window"
   ]
  }
 ],
 "metadata": {
  "kernelspec": {
   "display_name": "Python 3 (ipykernel)",
   "language": "python",
   "name": "python3"
  },
  "language_info": {
   "codemirror_mode": {
    "name": "ipython",
    "version": 3
   },
   "file_extension": ".py",
   "mimetype": "text/x-python",
   "name": "python",
   "nbconvert_exporter": "python",
   "pygments_lexer": "ipython3",
   "version": "3.9.13"
  }
 },
 "nbformat": 4,
 "nbformat_minor": 5
}
