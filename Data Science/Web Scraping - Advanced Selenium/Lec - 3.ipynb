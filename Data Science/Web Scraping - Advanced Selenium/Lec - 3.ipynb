{
 "cells": [
  {
   "attachments": {},
   "cell_type": "markdown",
   "metadata": {},
   "source": [
    "Handle Dropdown:"
   ]
  },
  {
   "cell_type": "code",
   "execution_count": null,
   "metadata": {},
   "outputs": [],
   "source": [
    "import selenium\n",
    "from selenium import webdriver\n",
    "from selenium.webdriver.common.by import By\n",
    "\n",
    "driver = webdriver.Chrome(executable_path=\"/path/to/chromedriver\")\n",
    "driver.get('https://www.toolsqa.com/automation-practice-form/')\n",
    "\n",
    "dropdown = driver.find_element(By.ID, 'continents') # find the 'select' tag and then use it's id\n",
    "\n",
    "from selenium.webdriver.support.select import Select\n",
    "select = Select(dropdown)"
   ]
  },
  {
   "cell_type": "code",
   "execution_count": null,
   "metadata": {},
   "outputs": [],
   "source": [
    "select.options  # We get all options of the dropdown menu"
   ]
  },
  {
   "cell_type": "code",
   "execution_count": null,
   "metadata": {},
   "outputs": [],
   "source": [
    "select.first_selected_option  # First selected option\n",
    "select.first_selected_option.get_attribute('outerHTML')  # To check the value we are getting "
   ]
  },
  {
   "cell_type": "code",
   "execution_count": null,
   "metadata": {},
   "outputs": [],
   "source": [
    "select.all_selected_options  # List down all selected options. Dropdowns can be of multiselect values"
   ]
  },
  {
   "cell_type": "code",
   "execution_count": null,
   "metadata": {},
   "outputs": [],
   "source": [
    "index = # Some integer value : 0, 1, 2, ...\n",
    "value = # Some value maybe text/character\n",
    "text = # Some text\n",
    "\n",
    "select.select_by_index(index)\n",
    "select.select_by_value(value)\n",
    "select.select_by_visible_text(text)"
   ]
  },
  {
   "attachments": {},
   "cell_type": "markdown",
   "metadata": {},
   "source": [
    "Scroll Webpage:"
   ]
  },
  {
   "attachments": {},
   "cell_type": "markdown",
   "metadata": {},
   "source": [
    "In websites like twitter new tweets start coming when we scroll, so in order to accesss that data we need scrolling."
   ]
  },
  {
   "cell_type": "code",
   "execution_count": null,
   "metadata": {},
   "outputs": [],
   "source": [
    "import selenium\n",
    "from selenium import webdriver\n",
    "from selenium.webdriver.common.by import By\n",
    "\n",
    "driver = webdriver.Chrome(executable_path=\"/path/to/chromedriver\")\n",
    "\n",
    "# To write any java-script code:\n",
    "driver.execute_script('window.location = \"https://www.google.com\";')  # This redirects us to google-search\n",
    "\n",
    "driver.get('https://twitter.com/StackOverheards')\n",
    "driver.execute_script('return document.getElementById(\"global-nav-home\");')  # Accessing tweet from list of  tweets using ID\n",
    "\n",
    "driver.execute_script('window.scrollBy(0, 100);')  # Scroll webpage by how many pixels in x and y direction\n",
    "\n",
    "import time\n",
    "for i in range(5):  # We want to scroll the page 5 times\n",
    "    driver.execute_script('window.scrollBy(0, 100);')\n",
    "    time.sleep(5)  # To see the difference\n",
    "\n",
    "# By passing negative (-ve) values in \"scrollBy()\" we can scroll up the page"
   ]
  }
 ],
 "metadata": {
  "kernelspec": {
   "display_name": "Python 3",
   "language": "python",
   "name": "python3"
  },
  "language_info": {
   "name": "python",
   "version": "3.11.0"
  },
  "orig_nbformat": 4,
  "vscode": {
   "interpreter": {
    "hash": "cfc9a42ceb155f1f125b8a4bcd2b715739f099a6e3de280bb3102a0bd9e61a77"
   }
  }
 },
 "nbformat": 4,
 "nbformat_minor": 2
}
