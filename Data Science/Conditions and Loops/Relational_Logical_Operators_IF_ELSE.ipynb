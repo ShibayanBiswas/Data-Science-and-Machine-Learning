{
 "cells": [
  {
   "cell_type": "code",
   "execution_count": 2,
   "metadata": {},
   "outputs": [
    {
     "data": {
      "text/plain": [
       "bool"
      ]
     },
     "execution_count": 2,
     "metadata": {},
     "output_type": "execute_result"
    }
   ],
   "source": [
    "a = True\n",
    "b = False\n",
    "c = True\n",
    "type(c)"
   ]
  },
  {
   "cell_type": "markdown",
   "metadata": {},
   "source": [
    "### Relational Operators"
   ]
  },
  {
   "cell_type": "code",
   "execution_count": 3,
   "metadata": {},
   "outputs": [
    {
     "name": "stdout",
     "output_type": "stream",
     "text": [
      "False\n",
      "True\n",
      "False\n",
      "True\n",
      "False\n",
      "True\n"
     ]
    }
   ],
   "source": [
    "a = 10\n",
    "b = 20\n",
    "print(a > b)\n",
    "print(a < b)\n",
    "print(a >= b)\n",
    "print(a <= b)\n",
    "print(a == b)\n",
    "print(a != b)"
   ]
  },
  {
   "cell_type": "markdown",
   "metadata": {},
   "source": [
    "### Logical Operators"
   ]
  },
  {
   "cell_type": "code",
   "execution_count": 4,
   "metadata": {},
   "outputs": [
    {
     "name": "stdout",
     "output_type": "stream",
     "text": [
      "False\n",
      "True\n",
      "True\n"
     ]
    }
   ],
   "source": [
    "c1 = a > 10\n",
    "c2 = b > 10\n",
    "r1 = c1 and c2\n",
    "r2 = c1 or c2\n",
    "r3 = not(c1)\n",
    "print(r1)\n",
    "print(r2)\n",
    "print(r3)\n"
   ]
  },
  {
   "cell_type": "markdown",
   "metadata": {},
   "source": [
    "### IF ELSE"
   ]
  },
  {
   "cell_type": "code",
   "execution_count": 10,
   "metadata": {
    "scrolled": true
   },
   "outputs": [
    {
     "name": "stdout",
     "output_type": "stream",
     "text": [
      "I am inside if\n",
      "I am inside if2\n"
     ]
    }
   ],
   "source": [
    "a = True\n",
    "if a:\n",
    "    print(\"I am inside if\")\n",
    "    print(\"I am inside if2\")\n",
    "else:\n",
    "    print(\"I am in else\")"
   ]
  },
  {
   "cell_type": "code",
   "execution_count": 12,
   "metadata": {},
   "outputs": [
    {
     "name": "stdout",
     "output_type": "stream",
     "text": [
      "5\n",
      "n is odd\n"
     ]
    }
   ],
   "source": [
    "# check number to be odd or even\n",
    "n = int(input())\n",
    "r = n % 2\n",
    "is_even = (r == 0)\n",
    "\n",
    "if is_even:\n",
    "    print(\"n is even\")\n",
    "else:\n",
    "    print(\"n is odd\")\n"
   ]
  },
  {
   "cell_type": "code",
   "execution_count": 13,
   "metadata": {},
   "outputs": [
    {
     "name": "stdout",
     "output_type": "stream",
     "text": [
      "5\n",
      "n is odd\n"
     ]
    }
   ],
   "source": [
    "n = int(input())\n",
    "is_even = (n % 2 == 0)\n",
    "\n",
    "if is_even:\n",
    "    print(\"n is even\")\n",
    "else:\n",
    "    print(\"n is odd\")\n"
   ]
  },
  {
   "cell_type": "code",
   "execution_count": 15,
   "metadata": {},
   "outputs": [
    {
     "name": "stdout",
     "output_type": "stream",
     "text": [
      "3\n",
      "n is odd\n"
     ]
    }
   ],
   "source": [
    "n = int(input())\n",
    "\n",
    "if n % 2 == 0:\n",
    "    print(\"n is even\")\n",
    "else:\n",
    "    print(\"n is odd\")\n"
   ]
  },
  {
   "cell_type": "code",
   "execution_count": 17,
   "metadata": {},
   "outputs": [
    {
     "name": "stdout",
     "output_type": "stream",
     "text": [
      "3\n"
     ]
    }
   ],
   "source": [
    "n = int(input())\n",
    "\n",
    "if n % 2 == 0:\n",
    "    print(\"n is even\")"
   ]
  },
  {
   "cell_type": "markdown",
   "metadata": {},
   "source": [
    "### Using operators in if else"
   ]
  },
  {
   "cell_type": "code",
   "execution_count": 2,
   "metadata": {},
   "outputs": [
    {
     "name": "stdout",
     "output_type": "stream",
     "text": [
      "11\n",
      "20\n",
      "Both > 10\n"
     ]
    }
   ],
   "source": [
    "a = int(input())\n",
    "b = int(input())\n",
    "\n",
    "c1 = a > 10\n",
    "c2 = b > 10\n",
    "\n",
    "r = c1 and c2\n",
    "if r:\n",
    "    print(\"Both > 10\")\n",
    "else:\n",
    "    print(\"No they are not\")"
   ]
  },
  {
   "cell_type": "code",
   "execution_count": 3,
   "metadata": {},
   "outputs": [
    {
     "name": "stdout",
     "output_type": "stream",
     "text": [
      "11 \n",
      "20\n",
      "Both > 10\n"
     ]
    }
   ],
   "source": [
    "a = int(input())\n",
    "b = int(input())\n",
    "\n",
    "if a > 10 and b > 10:\n",
    "    print(\"Both > 10\")\n",
    "else:\n",
    "    print(\"No they are not\")"
   ]
  },
  {
   "cell_type": "code",
   "execution_count": 4,
   "metadata": {},
   "outputs": [
    {
     "name": "stdout",
     "output_type": "stream",
     "text": [
      "7\n",
      "it is 7\n"
     ]
    }
   ],
   "source": [
    "a = int(input())\n",
    "if a == 7:\n",
    "    print(\"it is 7\")\n",
    "else:\n",
    "    print(\"no its not 7\")"
   ]
  },
  {
   "cell_type": "code",
   "execution_count": 5,
   "metadata": {},
   "outputs": [
    {
     "name": "stdout",
     "output_type": "stream",
     "text": [
      "5\n",
      "no its not 7\n"
     ]
    }
   ],
   "source": [
    "a = int(input())\n",
    "if a != 7:\n",
    "    print(\"no its not 7\")\n",
    "else:\n",
    "    print(\"it is 7\")"
   ]
  }
 ],
 "metadata": {
  "kernelspec": {
   "display_name": "Python 3",
   "language": "python",
   "name": "python3"
  },
  "language_info": {
   "codemirror_mode": {
    "name": "ipython",
    "version": 3
   },
   "file_extension": ".py",
   "mimetype": "text/x-python",
   "name": "python",
   "nbconvert_exporter": "python",
   "pygments_lexer": "ipython3",
   "version": "3.6.3"
  }
 },
 "nbformat": 4,
 "nbformat_minor": 2
}
