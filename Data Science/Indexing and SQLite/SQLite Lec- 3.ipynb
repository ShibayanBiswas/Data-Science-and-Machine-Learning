{
  "nbformat": 4,
  "nbformat_minor": 0,
  "metadata": {
    "colab": {
      "provenance": []
    },
    "kernelspec": {
      "name": "python3",
      "display_name": "Python 3"
    },
    "language_info": {
      "name": "python"
    }
  },
  "cells": [
    {
      "cell_type": "code",
      "execution_count": 1,
      "metadata": {
        "colab": {
          "base_uri": "https://localhost:8080/"
        },
        "id": "X77o7JfJplzE",
        "outputId": "e9e7f6fe-d832-4754-9985-7ce037842c30"
      },
      "outputs": [
        {
          "output_type": "execute_result",
          "data": {
            "text/plain": [
              "<sqlite3.Connection at 0x7f926cd0d030>"
            ]
          },
          "metadata": {},
          "execution_count": 1
        }
      ],
      "source": [
        "import sqlite3\n",
        "db = sqlite3.connect('School.sqlite')\n",
        "db"
      ]
    },
    {
      "cell_type": "code",
      "source": [
        "cur = db.cursor()\n",
        "cur"
      ],
      "metadata": {
        "colab": {
          "base_uri": "https://localhost:8080/"
        },
        "id": "LNpZL-Jqqbea",
        "outputId": "bdec797e-0965-46be-b775-62c1bbe4c03e"
      },
      "execution_count": 2,
      "outputs": [
        {
          "output_type": "execute_result",
          "data": {
            "text/plain": [
              "<sqlite3.Cursor at 0x7f926f76d5e0>"
            ]
          },
          "metadata": {},
          "execution_count": 2
        }
      ]
    },
    {
      "cell_type": "code",
      "source": [
        "sql_query = 'Create table Student (RollNumber int Primary Key, Name Text, Age int)'\n",
        "cur.execute(sql_query)"
      ],
      "metadata": {
        "colab": {
          "base_uri": "https://localhost:8080/"
        },
        "id": "MRjsHfWMqgAB",
        "outputId": "b7fb36f5-526e-4a6b-9277-9c14a6c8e697"
      },
      "execution_count": 3,
      "outputs": [
        {
          "output_type": "execute_result",
          "data": {
            "text/plain": [
              "<sqlite3.Cursor at 0x7f926f76d5e0>"
            ]
          },
          "metadata": {},
          "execution_count": 3
        }
      ]
    },
    {
      "cell_type": "code",
      "source": [
        "values = [(101, \"Aman\", 20), (102, \"Amit\", 20), (103, \"Mohit\", 19), (104, \"Nikhil\", 19), (105, \"Nidhi\", 18), (106, \"Manisha\", 18), (107, \"Ankush\", 20)]\n",
        "cur.executemany('Insert into Student values (?, ?, ?)', values)\n",
        "db.commit()"
      ],
      "metadata": {
        "id": "jPXPN4rWqvu0"
      },
      "execution_count": 4,
      "outputs": []
    },
    {
      "cell_type": "code",
      "source": [
        "cur.execute('Select * from Student')"
      ],
      "metadata": {
        "colab": {
          "base_uri": "https://localhost:8080/"
        },
        "id": "CKJnFixCtZI5",
        "outputId": "073b0501-780b-4833-8dfd-d53826acab0a"
      },
      "execution_count": 10,
      "outputs": [
        {
          "output_type": "execute_result",
          "data": {
            "text/plain": [
              "<sqlite3.Cursor at 0x7f926f76d5e0>"
            ]
          },
          "metadata": {},
          "execution_count": 10
        }
      ]
    },
    {
      "cell_type": "code",
      "source": [
        "for row in cur:\n",
        "  print(row)"
      ],
      "metadata": {
        "colab": {
          "base_uri": "https://localhost:8080/"
        },
        "id": "gUiCamQevtjj",
        "outputId": "c33be6fc-98ef-43f5-def1-a8d9ef427126"
      },
      "execution_count": 11,
      "outputs": [
        {
          "output_type": "stream",
          "name": "stdout",
          "text": [
            "(101, 'Aman', 20)\n",
            "(102, 'Amit', 20)\n",
            "(103, 'Mohit', 19)\n",
            "(104, 'Nikhil', 19)\n",
            "(105, 'Nidhi', 18)\n",
            "(106, 'Manisha', 18)\n",
            "(107, 'Ankush', 20)\n"
          ]
        }
      ]
    },
    {
      "cell_type": "code",
      "source": [
        "cur.execute('Select * from Student')\n",
        "cur.fetchone()"
      ],
      "metadata": {
        "colab": {
          "base_uri": "https://localhost:8080/"
        },
        "id": "B8kpPFchwKgy",
        "outputId": "70ff8590-36b2-4560-937e-ed11fd9363fb"
      },
      "execution_count": 12,
      "outputs": [
        {
          "output_type": "execute_result",
          "data": {
            "text/plain": [
              "(101, 'Aman', 20)"
            ]
          },
          "metadata": {},
          "execution_count": 12
        }
      ]
    },
    {
      "cell_type": "code",
      "source": [
        "# Print multiple queries using \"fetchone()\"\n",
        "cur.execute('Select * from Student')\n",
        "print(cur.fetchone())\n",
        "print(cur.fetchone())"
      ],
      "metadata": {
        "colab": {
          "base_uri": "https://localhost:8080/"
        },
        "id": "flt0GiGOwXxj",
        "outputId": "5d1b63e1-2831-48ca-9fce-f2540f85770d"
      },
      "execution_count": 21,
      "outputs": [
        {
          "output_type": "stream",
          "name": "stdout",
          "text": [
            "(101, 'Aman', 20)\n",
            "(102, 'Amit', 20)\n"
          ]
        }
      ]
    },
    {
      "cell_type": "code",
      "source": [
        "cur.execute('Select * from Student')\n",
        "cur.fetchmany()"
      ],
      "metadata": {
        "colab": {
          "base_uri": "https://localhost:8080/"
        },
        "id": "tjNNwaNJzHYC",
        "outputId": "b22da316-69db-4251-85aa-90e0df5bfb6d"
      },
      "execution_count": 18,
      "outputs": [
        {
          "output_type": "execute_result",
          "data": {
            "text/plain": [
              "[(101, 'Aman', 20)]"
            ]
          },
          "metadata": {},
          "execution_count": 18
        }
      ]
    },
    {
      "cell_type": "code",
      "source": [
        "# Print multiple queries using \"fetchmany()\"\n",
        "cur.execute('Select * from Student')\n",
        "print(cur.fetchmany(5))"
      ],
      "metadata": {
        "colab": {
          "base_uri": "https://localhost:8080/"
        },
        "id": "TD8vzKkhyMDw",
        "outputId": "cc04c49f-e9ac-4eea-bbde-24701efce550"
      },
      "execution_count": 22,
      "outputs": [
        {
          "output_type": "stream",
          "name": "stdout",
          "text": [
            "[(101, 'Aman', 20), (102, 'Amit', 20), (103, 'Mohit', 19), (104, 'Nikhil', 19), (105, 'Nidhi', 18)]\n"
          ]
        }
      ]
    },
    {
      "cell_type": "code",
      "source": [
        "# Print multiple queries using \"fetchall()\"\n",
        "cur.execute('Select * from Student')\n",
        "ans = cur.fetchall()\n",
        "ans"
      ],
      "metadata": {
        "colab": {
          "base_uri": "https://localhost:8080/"
        },
        "id": "25qPreAfzg1S",
        "outputId": "d911f400-ee49-45bc-d79c-2b0f5e4393b0"
      },
      "execution_count": 23,
      "outputs": [
        {
          "output_type": "execute_result",
          "data": {
            "text/plain": [
              "[(101, 'Aman', 20),\n",
              " (102, 'Amit', 20),\n",
              " (103, 'Mohit', 19),\n",
              " (104, 'Nikhil', 19),\n",
              " (105, 'Nidhi', 18),\n",
              " (106, 'Manisha', 18),\n",
              " (107, 'Ankush', 20)]"
            ]
          },
          "metadata": {},
          "execution_count": 23
        }
      ]
    },
    {
      "cell_type": "code",
      "source": [
        "# We can fetch data for conditional queries using the above methods."
      ],
      "metadata": {
        "id": "2WQB9cmcz5Gt"
      },
      "execution_count": 25,
      "outputs": []
    },
    {
      "cell_type": "code",
      "source": [
        "db.close()"
      ],
      "metadata": {
        "id": "vYywi55k2FH0"
      },
      "execution_count": 26,
      "outputs": []
    }
  ]
}