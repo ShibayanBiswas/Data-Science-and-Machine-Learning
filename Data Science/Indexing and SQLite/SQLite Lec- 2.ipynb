{
  "nbformat": 4,
  "nbformat_minor": 0,
  "metadata": {
    "colab": {
      "provenance": []
    },
    "kernelspec": {
      "name": "python3",
      "display_name": "Python 3"
    },
    "language_info": {
      "name": "python"
    }
  },
  "cells": [
    {
      "cell_type": "code",
      "execution_count": null,
      "metadata": {
        "colab": {
          "base_uri": "https://localhost:8080/"
        },
        "id": "o5YnMXNR9wQl",
        "outputId": "1b41367f-119e-4e9e-e1c6-0656ac70b8a0"
      },
      "outputs": [
        {
          "output_type": "execute_result",
          "data": {
            "text/plain": [
              "<sqlite3.Connection at 0x7fbc0dfba030>"
            ]
          },
          "metadata": {},
          "execution_count": 1
        }
      ],
      "source": [
        "import sqlite3\n",
        "db = sqlite3.connect('School.sqlite')\n",
        "db"
      ]
    },
    {
      "cell_type": "code",
      "source": [
        "cur = db.cursor()\n",
        "cur"
      ],
      "metadata": {
        "colab": {
          "base_uri": "https://localhost:8080/"
        },
        "id": "U2JAD0va-87s",
        "outputId": "d9645030-9706-45f0-f94c-0761eb3d8ef3"
      },
      "execution_count": null,
      "outputs": [
        {
          "output_type": "execute_result",
          "data": {
            "text/plain": [
              "<sqlite3.Cursor at 0x7fbc0cb67f10>"
            ]
          },
          "metadata": {},
          "execution_count": 2
        }
      ]
    },
    {
      "cell_type": "code",
      "source": [
        "sql_query = 'Create table Student (RollNumber int Primary Key, Name Text, Age int)'\n",
        "cur.execute(sql_query)"
      ],
      "metadata": {
        "colab": {
          "base_uri": "https://localhost:8080/"
        },
        "id": "shp4VCiz_aZn",
        "outputId": "7381e3f1-f425-4236-fa22-cdeb6961fcba"
      },
      "execution_count": null,
      "outputs": [
        {
          "output_type": "execute_result",
          "data": {
            "text/plain": [
              "<sqlite3.Cursor at 0x7fbc0cb67f10>"
            ]
          },
          "metadata": {},
          "execution_count": 4
        }
      ]
    },
    {
      "cell_type": "code",
      "source": [
        "cur.execute('Insert into Student values (103, \"Mohit\", 18)')\n",
        "db.commit()"
      ],
      "metadata": {
        "id": "nzBxBCoN_Cxp"
      },
      "execution_count": null,
      "outputs": []
    },
    {
      "cell_type": "code",
      "source": [
        "rollNumber = 104\n",
        "Name = \"Nikhil\"\n",
        "Age = 19\n",
        "\n",
        "cur.execute('Insert into Student values (?, ?, ?)', (rollNumber, Name, Age))\n",
        "db.commit()"
      ],
      "metadata": {
        "id": "U6nrUsPm_xIE"
      },
      "execution_count": null,
      "outputs": []
    },
    {
      "cell_type": "code",
      "source": [
        "values = [(105, \"Nidhi\", 20), (106, \"Manisha\", 20), (107, \"Ankush\", 19)]\n",
        "cur.executemany('Insert into Student values (?, ?, ?)', values)\n",
        "db.commit()"
      ],
      "metadata": {
        "id": "7lZQUhCqBSmB"
      },
      "execution_count": null,
      "outputs": []
    },
    {
      "cell_type": "code",
      "source": [
        "# Updation queries\n",
        "cur.execute('Update Student set Age = 19')\n",
        "db.commit()"
      ],
      "metadata": {
        "id": "5DfxNk94GUWo"
      },
      "execution_count": null,
      "outputs": []
    },
    {
      "cell_type": "code",
      "source": [
        "cur.execute('Update Student set Age = 20 where RollNumber = 104')\n",
        "db.commit()"
      ],
      "metadata": {
        "id": "rXl51NTaJoAj"
      },
      "execution_count": null,
      "outputs": []
    },
    {
      "cell_type": "code",
      "source": [
        "new_age = 20\n",
        "cur.execute('Update Student set Age = ? where RollNumber = 103', (new_age,))  # We use \",\" to make it a tuple explicitly\n",
        "db.commit()"
      ],
      "metadata": {
        "id": "Kl-auNRTKC54"
      },
      "execution_count": null,
      "outputs": []
    },
    {
      "cell_type": "code",
      "source": [
        "db.close()"
      ],
      "metadata": {
        "id": "J6N0ZEy_KtSP"
      },
      "execution_count": null,
      "outputs": []
    }
  ]
}