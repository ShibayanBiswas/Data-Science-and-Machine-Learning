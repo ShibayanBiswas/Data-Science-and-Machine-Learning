{
  "nbformat": 4,
  "nbformat_minor": 0,
  "metadata": {
    "colab": {
      "provenance": []
    },
    "kernelspec": {
      "name": "python3",
      "display_name": "Python 3"
    },
    "language_info": {
      "name": "python"
    }
  },
  "cells": [
    {
      "cell_type": "code",
      "execution_count": 1,
      "metadata": {
        "colab": {
          "base_uri": "https://localhost:8080/"
        },
        "id": "y0m9msrLuMsv",
        "outputId": "c7acafa6-baf7-49d0-daa1-6eee54c14106"
      },
      "outputs": [
        {
          "output_type": "execute_result",
          "data": {
            "text/plain": [
              "<sqlite3.Connection at 0x7fcaf5e5d030>"
            ]
          },
          "metadata": {},
          "execution_count": 1
        }
      ],
      "source": [
        "import sqlite3\n",
        "db = sqlite3.connect('IMDB.sqlite')\n",
        "db"
      ]
    },
    {
      "cell_type": "code",
      "source": [
        "# Our connection has been established successfully. The connection object \"db\" is being  referenced to the memory location \"0x7f2dbc855030\""
      ],
      "metadata": {
        "id": "4IquGCD5upbB"
      },
      "execution_count": 2,
      "outputs": []
    },
    {
      "cell_type": "code",
      "source": [
        "# If we pass the path of an object (that does not exist) in the connect() function -> We don't get any error. We get a random reference to which the connection object is pointing. The file (empty) with the specified name is created in the directory. "
      ],
      "metadata": {
        "id": "xZqoZM-7_ppd"
      },
      "execution_count": 3,
      "outputs": []
    },
    {
      "cell_type": "code",
      "source": [
        "# Creating a new database\n",
        "db = sqlite3.connect('School.sqlite')\n",
        "db"
      ],
      "metadata": {
        "colab": {
          "base_uri": "https://localhost:8080/"
        },
        "id": "tTCS_WjtBmom",
        "outputId": "428c3b97-6a70-4b12-fba6-70d37fb03ded"
      },
      "execution_count": 4,
      "outputs": [
        {
          "output_type": "execute_result",
          "data": {
            "text/plain": [
              "<sqlite3.Connection at 0x7fcaf5e5d120>"
            ]
          },
          "metadata": {},
          "execution_count": 4
        }
      ]
    },
    {
      "cell_type": "code",
      "source": [
        "# Creating the cursor object (for executing SQL querires)\n",
        "cur = db.cursor()\n",
        "cur"
      ],
      "metadata": {
        "colab": {
          "base_uri": "https://localhost:8080/"
        },
        "id": "BJlE7PvyEXsV",
        "outputId": "f21b990c-3bbd-49ff-9547-b361beb9c673"
      },
      "execution_count": 5,
      "outputs": [
        {
          "output_type": "execute_result",
          "data": {
            "text/plain": [
              "<sqlite3.Cursor at 0x7fcaf90baa40>"
            ]
          },
          "metadata": {},
          "execution_count": 5
        }
      ]
    },
    {
      "cell_type": "code",
      "source": [
        "# Creating a table\n",
        "sql_query = 'Create table Student (RollNumber int Primary Key, Name Text, Age int)'\n",
        "cur.execute(sql_query)"
      ],
      "metadata": {
        "colab": {
          "base_uri": "https://localhost:8080/"
        },
        "id": "9JZfcWHIFSdH",
        "outputId": "93d70042-fc66-4bee-b765-05235f00e630"
      },
      "execution_count": 8,
      "outputs": [
        {
          "output_type": "execute_result",
          "data": {
            "text/plain": [
              "<sqlite3.Cursor at 0x7fcaf90baa40>"
            ]
          },
          "metadata": {},
          "execution_count": 8
        }
      ]
    },
    {
      "cell_type": "code",
      "source": [
        "# Inserting rows in the table\n",
        "cur.execute('Insert into Student values (101, \"Aman\", 20)')\n",
        "db.commit()"
      ],
      "metadata": {
        "id": "oNqoIfOgMo3n"
      },
      "execution_count": 9,
      "outputs": []
    },
    {
      "cell_type": "code",
      "source": [
        "cur.execute('Insert into Student values (102, \"Amit\", 19)')\n",
        "db.commit()"
      ],
      "metadata": {
        "id": "KgRNcxvRQm0T"
      },
      "execution_count": 10,
      "outputs": []
    },
    {
      "cell_type": "code",
      "source": [
        "# Closing the database connection\n",
        "db.close()"
      ],
      "metadata": {
        "id": "quDRBww6RKAK"
      },
      "execution_count": 11,
      "outputs": []
    }
  ]
}