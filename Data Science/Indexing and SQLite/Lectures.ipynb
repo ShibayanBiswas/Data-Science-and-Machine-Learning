{
 "cells": [
  {
   "cell_type": "markdown",
   "id": "c0b8a96c",
   "metadata": {},
   "source": [
    "## SQLite Introduction"
   ]
  },
  {
   "cell_type": "markdown",
   "id": "491bd05b",
   "metadata": {},
   "source": [
    "In this lecture we will be seeing that how can we connect with an SQLite database and how can we interact it with our python code. We will be the  'sqlite3' library."
   ]
  },
  {
   "cell_type": "code",
   "execution_count": 1,
   "id": "bad039c6",
   "metadata": {},
   "outputs": [
    {
     "data": {
      "text/plain": [
       "<sqlite3.Connection at 0x29cb21bab70>"
      ]
     },
     "execution_count": 1,
     "metadata": {},
     "output_type": "execute_result"
    }
   ],
   "source": [
    "import sqlite3\n",
    "db = sqlite3.connect('IMDB.sqlite')\n",
    "db"
   ]
  },
  {
   "cell_type": "markdown",
   "id": "d04ad0ed",
   "metadata": {},
   "source": [
    "In the above code we have established a connection with the SQLite database. The function that we have used is connect() - takes the path of the database as input, returns a connection object that we can store in a variable. "
   ]
  },
  {
   "cell_type": "markdown",
   "id": "db9d8a93",
   "metadata": {},
   "source": [
    "If we pass the path of an object (that does not exist) in the connect() function -> We don't get any error. We get a random reference to which the connection object is pointing. The file (empty) with the specified name is created in the directory. "
   ]
  },
  {
   "cell_type": "markdown",
   "id": "1f50bfd2",
   "metadata": {},
   "source": [
    "This is how we can create a new database. We can visualise the database with the help of any database browser."
   ]
  },
  {
   "cell_type": "code",
   "execution_count": 2,
   "id": "b397c40b",
   "metadata": {},
   "outputs": [
    {
     "data": {
      "text/plain": [
       "<sqlite3.Connection at 0x29cb21ba8a0>"
      ]
     },
     "execution_count": 2,
     "metadata": {},
     "output_type": "execute_result"
    }
   ],
   "source": [
    "db = sqlite3.connect('School.sqlite')\n",
    "db"
   ]
  },
  {
   "cell_type": "markdown",
   "id": "fc3533b0",
   "metadata": {},
   "source": [
    "We have created a new database - School.sqlite"
   ]
  },
  {
   "cell_type": "markdown",
   "id": "6c842a8c",
   "metadata": {},
   "source": [
    "We should create a cursor object with the help of which we can execute SQL commands against our database."
   ]
  },
  {
   "cell_type": "code",
   "execution_count": 3,
   "id": "0b6b2ff4",
   "metadata": {},
   "outputs": [
    {
     "data": {
      "text/plain": [
       "<sqlite3.Cursor at 0x29cb22ad180>"
      ]
     },
     "execution_count": 3,
     "metadata": {},
     "output_type": "execute_result"
    }
   ],
   "source": [
    "cur = db.cursor()\n",
    "cur"
   ]
  },
  {
   "cell_type": "markdown",
   "id": "a15c6be7",
   "metadata": {},
   "source": [
    "Created  the cursor object"
   ]
  },
  {
   "cell_type": "code",
   "execution_count": 4,
   "id": "19edda36",
   "metadata": {},
   "outputs": [
    {
     "data": {
      "text/plain": [
       "<sqlite3.Cursor at 0x29cb22ad180>"
      ]
     },
     "execution_count": 4,
     "metadata": {},
     "output_type": "execute_result"
    }
   ],
   "source": [
    "sql_query = 'Create table Student (RollNumber int Primary Key, Name Text, Age int)'\n",
    "cur.execute(sql_query)"
   ]
  },
  {
   "cell_type": "markdown",
   "id": "0ba478ff",
   "metadata": {},
   "source": [
    "We have created a new table in our database. In order to call a SQL query we need the method execute() to be called over the cursor object."
   ]
  },
  {
   "cell_type": "code",
   "execution_count": 5,
   "id": "aca42bcd",
   "metadata": {},
   "outputs": [],
   "source": [
    "cur.execute('Insert into Student values (101, \"Aman\", 20)')\n",
    "db.commit()"
   ]
  },
  {
   "cell_type": "markdown",
   "id": "4d52bf6e",
   "metadata": {},
   "source": [
    "Here we have inserted rows in the table. Inside query if we want to use any kind of string, we use (\"\"). \n",
    "\n",
    "The commit() function helps us in reflecting the changes in the database, like over here we are inserting a row to a table in the database. "
   ]
  },
  {
   "cell_type": "markdown",
   "id": "a2f1d573",
   "metadata": {},
   "source": [
    "Suppose the table contains a column marked as the primary key, then we should make sure the rules for assigning data into that column, otherwise we get an error."
   ]
  },
  {
   "cell_type": "code",
   "execution_count": 6,
   "id": "d4da079c",
   "metadata": {},
   "outputs": [],
   "source": [
    "cur.execute('Insert into Student values (102, \"Amit\", 19)')\n",
    "db.commit()"
   ]
  },
  {
   "cell_type": "markdown",
   "id": "0db0cb18",
   "metadata": {},
   "source": [
    "Here we have added another row to the table"
   ]
  },
  {
   "cell_type": "code",
   "execution_count": 7,
   "id": "c30a7daa",
   "metadata": {},
   "outputs": [],
   "source": [
    "db.close()"
   ]
  },
  {
   "cell_type": "markdown",
   "id": "33201782",
   "metadata": {},
   "source": [
    "Here we have closed our database. It is necessary to close a database after performing operations on it. It is a good practice. If we try to execute any command on the database after closing it, we get an error."
   ]
  },
  {
   "cell_type": "markdown",
   "id": "e7e7d36f",
   "metadata": {},
   "source": [
    "## Connect with database"
   ]
  },
  {
   "cell_type": "markdown",
   "id": "fc8caa9f",
   "metadata": {},
   "source": [
    "In this lecture we try to perform few more operation on our SQLite database using our python code."
   ]
  },
  {
   "cell_type": "code",
   "execution_count": 8,
   "id": "ba986adf",
   "metadata": {},
   "outputs": [
    {
     "data": {
      "text/plain": [
       "<sqlite3.Connection at 0x29cb21baa80>"
      ]
     },
     "execution_count": 8,
     "metadata": {},
     "output_type": "execute_result"
    }
   ],
   "source": [
    "import sqlite3\n",
    "db = sqlite3.connect('School.sqlite')\n",
    "db"
   ]
  },
  {
   "cell_type": "markdown",
   "id": "962656c0",
   "metadata": {},
   "source": [
    "Opening our database created in the last lecture."
   ]
  },
  {
   "cell_type": "code",
   "execution_count": 9,
   "id": "b2a036c4",
   "metadata": {},
   "outputs": [
    {
     "data": {
      "text/plain": [
       "<sqlite3.Cursor at 0x29cb22ad6c0>"
      ]
     },
     "execution_count": 9,
     "metadata": {},
     "output_type": "execute_result"
    }
   ],
   "source": [
    "cur = db.cursor()\n",
    "cur"
   ]
  },
  {
   "cell_type": "code",
   "execution_count": 10,
   "id": "6cf87693",
   "metadata": {},
   "outputs": [],
   "source": [
    "cur.execute('Insert into Student values (103, \"Mohit\", 18)')\n",
    "db.commit()"
   ]
  },
  {
   "cell_type": "markdown",
   "id": "3b0f2246",
   "metadata": {},
   "source": [
    "Inserting a new row to the table \"Student\"."
   ]
  },
  {
   "cell_type": "code",
   "execution_count": 11,
   "id": "dcbb56ef",
   "metadata": {},
   "outputs": [],
   "source": [
    "rollNumber = 104\n",
    "Name = \"Nikhil\"\n",
    "Age = 19\n",
    "\n",
    "cur.execute('Insert into Student values (?, ?, ?)', (rollNumber, Name, Age))\n",
    "db.commit()"
   ]
  },
  {
   "cell_type": "markdown",
   "id": "0adda481",
   "metadata": {},
   "source": [
    "The above code is how to insert a row into the table when the values are present in some variables."
   ]
  },
  {
   "cell_type": "code",
   "execution_count": 12,
   "id": "bfa3b92c",
   "metadata": {},
   "outputs": [],
   "source": [
    "values = [(105, \"Nidhi\", 20), (106, \"Manisha\", 20), (107, \"Ankush\", 19)]\n",
    "cur.executemany('Insert into Student values (?, ?, ?)', values)\n",
    "db.commit()"
   ]
  },
  {
   "cell_type": "markdown",
   "id": "e97fe73b",
   "metadata": {},
   "source": [
    "In the above code we have inserted 3 new rows to the table \"Student\". By using the above process, we can insert multiple rows inside our table. The method used is executemany(). The rows should be a list of tuples."
   ]
  },
  {
   "cell_type": "code",
   "execution_count": 13,
   "id": "8e177e5b",
   "metadata": {},
   "outputs": [],
   "source": [
    "cur.execute('Update Student set Age = 19')\n",
    "db.commit()"
   ]
  },
  {
   "cell_type": "markdown",
   "id": "42ce2a99",
   "metadata": {},
   "source": [
    "We have performed an updation query. We have set the column 'Age' to 19, i.e. all the values in the 'Age' column has been replaced by 19 for each and every row."
   ]
  },
  {
   "cell_type": "code",
   "execution_count": 14,
   "id": "40dd39da",
   "metadata": {},
   "outputs": [],
   "source": [
    "cur.execute('Update Student set Age = 20 where RollNumber = 104')\n",
    "db.commit()"
   ]
  },
  {
   "cell_type": "markdown",
   "id": "74b1ae76",
   "metadata": {},
   "source": [
    "We have set the value of the field \"Age\" = 20 for the row containing the value of the field \"RollNumber\" = 103"
   ]
  },
  {
   "cell_type": "code",
   "execution_count": 15,
   "id": "10bd0a40",
   "metadata": {},
   "outputs": [],
   "source": [
    "new_age = 20\n",
    "\n",
    "cur.execute('Update Student set Age = ? where RollNumber = 103', (new_age,))  # We use \",\" to make it a tuple explicitly\n",
    "db.commit()"
   ]
  },
  {
   "cell_type": "markdown",
   "id": "08383ea4",
   "metadata": {},
   "source": [
    "Updation query where the value is stored in some variable. The value in this case should be passed in the form of a tuple, otherwise we get an error."
   ]
  },
  {
   "cell_type": "code",
   "execution_count": 16,
   "id": "2a29ae40",
   "metadata": {},
   "outputs": [],
   "source": [
    "db.close()"
   ]
  },
  {
   "cell_type": "markdown",
   "id": "a4d8c4f0",
   "metadata": {},
   "source": [
    "## Fetch data"
   ]
  },
  {
   "cell_type": "markdown",
   "id": "5b6a34cc",
   "metadata": {},
   "source": [
    "In this lecture, we will be seeing that how can we extract/fetch data from our SQLite database."
   ]
  },
  {
   "cell_type": "code",
   "execution_count": 28,
   "id": "9c961c04",
   "metadata": {},
   "outputs": [
    {
     "data": {
      "text/plain": [
       "<sqlite3.Connection at 0x29cb21ba7b0>"
      ]
     },
     "execution_count": 28,
     "metadata": {},
     "output_type": "execute_result"
    }
   ],
   "source": [
    "import sqlite3\n",
    "db = sqlite3.connect('School.sqlite')\n",
    "db"
   ]
  },
  {
   "cell_type": "code",
   "execution_count": 29,
   "id": "32c50944",
   "metadata": {},
   "outputs": [
    {
     "data": {
      "text/plain": [
       "<sqlite3.Cursor at 0x29cb22d7340>"
      ]
     },
     "execution_count": 29,
     "metadata": {},
     "output_type": "execute_result"
    }
   ],
   "source": [
    "cur = db.cursor()\n",
    "cur"
   ]
  },
  {
   "cell_type": "code",
   "execution_count": 19,
   "id": "445c1d63",
   "metadata": {},
   "outputs": [
    {
     "data": {
      "text/plain": [
       "<sqlite3.Cursor at 0x29cb22addc0>"
      ]
     },
     "execution_count": 19,
     "metadata": {},
     "output_type": "execute_result"
    }
   ],
   "source": [
    "cur.execute('Select * from Student')"
   ]
  },
  {
   "cell_type": "markdown",
   "id": "e26614e5",
   "metadata": {},
   "source": [
    "In the above code we have passed the query to fetch all the rows present in the table \"Student\". After executing the command, we can treat the cursor object as an iterator and iterate over it to print the rows. "
   ]
  },
  {
   "cell_type": "code",
   "execution_count": 20,
   "id": "8937bc41",
   "metadata": {},
   "outputs": [
    {
     "name": "stdout",
     "output_type": "stream",
     "text": [
      "(101, 'Aman', 19)\n",
      "(102, 'Amit', 19)\n",
      "(103, 'Mohit', 20)\n",
      "(104, 'Nikhil', 20)\n",
      "(105, 'Nidhi', 19)\n",
      "(106, 'Manisha', 19)\n",
      "(107, 'Ankush', 19)\n"
     ]
    }
   ],
   "source": [
    "for row in cur:\n",
    "  print(row)"
   ]
  },
  {
   "cell_type": "code",
   "execution_count": 21,
   "id": "b901fe79",
   "metadata": {},
   "outputs": [
    {
     "data": {
      "text/plain": [
       "(101, 'Aman', 19)"
      ]
     },
     "execution_count": 21,
     "metadata": {},
     "output_type": "execute_result"
    }
   ],
   "source": [
    "cur.execute('Select * from Student')\n",
    "cur.fetchone()"
   ]
  },
  {
   "cell_type": "markdown",
   "id": "86a852b7",
   "metadata": {},
   "source": [
    "There are 3 methods wth the help of withwe can fetch data from the table inside our database:\n",
    "\n",
    "1) fetchone()\n",
    "\n",
    "2) fetchmany()\n",
    "\n",
    "3) fetchall()\n",
    "\n",
    "We need to call these methods over our cursor object."
   ]
  },
  {
   "cell_type": "code",
   "execution_count": 22,
   "id": "5a4eb0a1",
   "metadata": {},
   "outputs": [
    {
     "data": {
      "text/plain": [
       "(101, 'Aman', 19)"
      ]
     },
     "execution_count": 22,
     "metadata": {},
     "output_type": "execute_result"
    }
   ],
   "source": [
    "cur.execute('Select * from Student')   # We are extracting each and every row from the table from this command\n",
    "cur.fetchone()"
   ]
  },
  {
   "cell_type": "markdown",
   "id": "15a42c67",
   "metadata": {},
   "source": [
    "We observe that we are getting our first row. The fetchone() method basically return the first row of our table. "
   ]
  },
  {
   "cell_type": "code",
   "execution_count": 23,
   "id": "1c433ca6",
   "metadata": {},
   "outputs": [
    {
     "name": "stdout",
     "output_type": "stream",
     "text": [
      "(101, 'Aman', 19)\n",
      "(102, 'Amit', 19)\n"
     ]
    }
   ],
   "source": [
    "cur.execute('Select * from Student')\n",
    "print(cur.fetchone())\n",
    "print(cur.fetchone())"
   ]
  },
  {
   "cell_type": "markdown",
   "id": "08b2effb",
   "metadata": {},
   "source": [
    "Here we can see that we are getting multiple rows using the fetchone() method. Once a row is printed, the cursor moves to the next row, and this time, fetchone() method is called, the current row gets printed."
   ]
  },
  {
   "cell_type": "code",
   "execution_count": 24,
   "id": "8c36096a",
   "metadata": {},
   "outputs": [
    {
     "data": {
      "text/plain": [
       "[(101, 'Aman', 19)]"
      ]
     },
     "execution_count": 24,
     "metadata": {},
     "output_type": "execute_result"
    }
   ],
   "source": [
    "cur.execute('Select * from Student')\n",
    "cur.fetchmany()"
   ]
  },
  {
   "cell_type": "markdown",
   "id": "7d720ff3",
   "metadata": {},
   "source": [
    "By default, fetchmany() returns only 1 row (first row) if the number of rows is not passed into it."
   ]
  },
  {
   "cell_type": "code",
   "execution_count": 25,
   "id": "5e96db2b",
   "metadata": {},
   "outputs": [
    {
     "name": "stdout",
     "output_type": "stream",
     "text": [
      "[(101, 'Aman', 19), (102, 'Amit', 19), (103, 'Mohit', 20), (104, 'Nikhil', 20), (105, 'Nidhi', 19)]\n"
     ]
    }
   ],
   "source": [
    "cur.execute('Select * from Student')\n",
    "print(cur.fetchmany(5))"
   ]
  },
  {
   "cell_type": "markdown",
   "id": "e4886ff4",
   "metadata": {},
   "source": [
    "Here we get 5 rows because we have passed n = 5 inside the fetchmany() function. This is how we can print multiple rows from our table."
   ]
  },
  {
   "cell_type": "code",
   "execution_count": 26,
   "id": "fc0187bf",
   "metadata": {},
   "outputs": [
    {
     "data": {
      "text/plain": [
       "[(101, 'Aman', 19),\n",
       " (102, 'Amit', 19),\n",
       " (103, 'Mohit', 20),\n",
       " (104, 'Nikhil', 20),\n",
       " (105, 'Nidhi', 19),\n",
       " (106, 'Manisha', 19),\n",
       " (107, 'Ankush', 19)]"
      ]
     },
     "execution_count": 26,
     "metadata": {},
     "output_type": "execute_result"
    }
   ],
   "source": [
    "cur.execute('Select * from Student')\n",
    "ans = cur.fetchall()\n",
    "ans"
   ]
  },
  {
   "cell_type": "markdown",
   "id": "ffdb5070",
   "metadata": {},
   "source": [
    "The method fetchall() is used for extracting all the rows from the table inside the database. \n",
    "\n",
    "We can fetch data for conditional queries using the above methods."
   ]
  },
  {
   "cell_type": "code",
   "execution_count": 30,
   "id": "252c2a14",
   "metadata": {},
   "outputs": [
    {
     "name": "stdout",
     "output_type": "stream",
     "text": [
      "[(104, 'Nikhil', 20), (105, 'Nidhi', 19), (106, 'Manisha', 19), (107, 'Ankush', 19)]\n"
     ]
    }
   ],
   "source": [
    "cur.execute('Select * from Student where RollNumber > 103')\n",
    "print(cur.fetchall())"
   ]
  },
  {
   "cell_type": "code",
   "execution_count": 31,
   "id": "58a760c6",
   "metadata": {},
   "outputs": [
    {
     "name": "stdout",
     "output_type": "stream",
     "text": [
      "[(101, 'Aman', 19), (102, 'Amit', 19), (107, 'Ankush', 19)]\n"
     ]
    }
   ],
   "source": [
    "cur.execute('Select * from Student where Name like \"A%\" ')\n",
    "print(cur.fetchall())"
   ]
  },
  {
   "cell_type": "code",
   "execution_count": 32,
   "id": "86d326dd",
   "metadata": {},
   "outputs": [],
   "source": [
    "db.close()"
   ]
  },
  {
   "cell_type": "markdown",
   "id": "0e9f9489",
   "metadata": {},
   "source": [
    "## SQLite with Pandas"
   ]
  },
  {
   "cell_type": "markdown",
   "id": "1ee50c07",
   "metadata": {},
   "source": [
    "In this lecture we will see how to  extract data from a SQLite database to a pandas dataframe."
   ]
  },
  {
   "cell_type": "code",
   "execution_count": 33,
   "id": "5bd04abf",
   "metadata": {},
   "outputs": [
    {
     "data": {
      "text/plain": [
       "<sqlite3.Connection at 0x29cb21bae40>"
      ]
     },
     "execution_count": 33,
     "metadata": {},
     "output_type": "execute_result"
    }
   ],
   "source": [
    "import sqlite3\n",
    "import pandas as pd\n",
    "\n",
    "db = sqlite3.connect('School.sqlite')\n",
    "db"
   ]
  },
  {
   "cell_type": "markdown",
   "id": "a42eb936",
   "metadata": {},
   "source": [
    "To read the data in a pandas sataframe we need the function read_sql_query(). This function takes in 2 parametres - \n",
    "\n",
    "1) SQL Query\n",
    "\n",
    "2) The database connection object (db in our case)\n",
    "\n",
    "The data obtained from the databasecan be stored in some variable (data in our case)"
   ]
  },
  {
   "cell_type": "code",
   "execution_count": 35,
   "id": "ead897f0",
   "metadata": {},
   "outputs": [
    {
     "data": {
      "text/html": [
       "<div>\n",
       "<style scoped>\n",
       "    .dataframe tbody tr th:only-of-type {\n",
       "        vertical-align: middle;\n",
       "    }\n",
       "\n",
       "    .dataframe tbody tr th {\n",
       "        vertical-align: top;\n",
       "    }\n",
       "\n",
       "    .dataframe thead th {\n",
       "        text-align: right;\n",
       "    }\n",
       "</style>\n",
       "<table border=\"1\" class=\"dataframe\">\n",
       "  <thead>\n",
       "    <tr style=\"text-align: right;\">\n",
       "      <th></th>\n",
       "      <th>RollNumber</th>\n",
       "      <th>Name</th>\n",
       "      <th>Age</th>\n",
       "    </tr>\n",
       "  </thead>\n",
       "  <tbody>\n",
       "    <tr>\n",
       "      <th>0</th>\n",
       "      <td>101</td>\n",
       "      <td>Aman</td>\n",
       "      <td>19</td>\n",
       "    </tr>\n",
       "    <tr>\n",
       "      <th>1</th>\n",
       "      <td>102</td>\n",
       "      <td>Amit</td>\n",
       "      <td>19</td>\n",
       "    </tr>\n",
       "    <tr>\n",
       "      <th>2</th>\n",
       "      <td>103</td>\n",
       "      <td>Mohit</td>\n",
       "      <td>20</td>\n",
       "    </tr>\n",
       "    <tr>\n",
       "      <th>3</th>\n",
       "      <td>104</td>\n",
       "      <td>Nikhil</td>\n",
       "      <td>20</td>\n",
       "    </tr>\n",
       "    <tr>\n",
       "      <th>4</th>\n",
       "      <td>105</td>\n",
       "      <td>Nidhi</td>\n",
       "      <td>19</td>\n",
       "    </tr>\n",
       "    <tr>\n",
       "      <th>5</th>\n",
       "      <td>106</td>\n",
       "      <td>Manisha</td>\n",
       "      <td>19</td>\n",
       "    </tr>\n",
       "    <tr>\n",
       "      <th>6</th>\n",
       "      <td>107</td>\n",
       "      <td>Ankush</td>\n",
       "      <td>19</td>\n",
       "    </tr>\n",
       "  </tbody>\n",
       "</table>\n",
       "</div>"
      ],
      "text/plain": [
       "   RollNumber     Name  Age\n",
       "0         101     Aman   19\n",
       "1         102     Amit   19\n",
       "2         103    Mohit   20\n",
       "3         104   Nikhil   20\n",
       "4         105    Nidhi   19\n",
       "5         106  Manisha   19\n",
       "6         107   Ankush   19"
      ]
     },
     "execution_count": 35,
     "metadata": {},
     "output_type": "execute_result"
    }
   ],
   "source": [
    "data = pd.read_sql_query(\"Select * from Student\", db)\n",
    "data"
   ]
  },
  {
   "cell_type": "markdown",
   "id": "cb351275",
   "metadata": {},
   "source": [
    "This method has several advanttages. We don't need to create a cursor object here and we don't need to explicity call the methods like fetchone(), fetchmany(), fetchall()  to extract data.\n",
    "\n",
    "With the help of a DataFrame, we can do operations over our data very easily."
   ]
  },
  {
   "cell_type": "code",
   "execution_count": 36,
   "id": "3be908bf",
   "metadata": {},
   "outputs": [
    {
     "data": {
      "text/plain": [
       "0    False\n",
       "1    False\n",
       "2     True\n",
       "3     True\n",
       "4    False\n",
       "5    False\n",
       "6    False\n",
       "Name: Age, dtype: bool"
      ]
     },
     "execution_count": 36,
     "metadata": {},
     "output_type": "execute_result"
    }
   ],
   "source": [
    "data['Age'] == 20"
   ]
  },
  {
   "cell_type": "markdown",
   "id": "f41d74e0",
   "metadata": {},
   "source": [
    "Suppose we want to get the rows where \"Age\" = 20. By executing the above code, we get a boolean array. We can pass this boolean array to our data frame to get the required rows."
   ]
  },
  {
   "cell_type": "code",
   "execution_count": 37,
   "id": "4eed885b",
   "metadata": {},
   "outputs": [
    {
     "data": {
      "text/html": [
       "<div>\n",
       "<style scoped>\n",
       "    .dataframe tbody tr th:only-of-type {\n",
       "        vertical-align: middle;\n",
       "    }\n",
       "\n",
       "    .dataframe tbody tr th {\n",
       "        vertical-align: top;\n",
       "    }\n",
       "\n",
       "    .dataframe thead th {\n",
       "        text-align: right;\n",
       "    }\n",
       "</style>\n",
       "<table border=\"1\" class=\"dataframe\">\n",
       "  <thead>\n",
       "    <tr style=\"text-align: right;\">\n",
       "      <th></th>\n",
       "      <th>RollNumber</th>\n",
       "      <th>Name</th>\n",
       "      <th>Age</th>\n",
       "    </tr>\n",
       "  </thead>\n",
       "  <tbody>\n",
       "    <tr>\n",
       "      <th>2</th>\n",
       "      <td>103</td>\n",
       "      <td>Mohit</td>\n",
       "      <td>20</td>\n",
       "    </tr>\n",
       "    <tr>\n",
       "      <th>3</th>\n",
       "      <td>104</td>\n",
       "      <td>Nikhil</td>\n",
       "      <td>20</td>\n",
       "    </tr>\n",
       "  </tbody>\n",
       "</table>\n",
       "</div>"
      ],
      "text/plain": [
       "   RollNumber    Name  Age\n",
       "2         103   Mohit   20\n",
       "3         104  Nikhil   20"
      ]
     },
     "execution_count": 37,
     "metadata": {},
     "output_type": "execute_result"
    }
   ],
   "source": [
    "data[data['Age'] == 20]"
   ]
  },
  {
   "cell_type": "markdown",
   "id": "7019b11b",
   "metadata": {},
   "source": [
    "With the help of pandas we can create our new table also. Below, we are creating the table Faculty."
   ]
  },
  {
   "cell_type": "code",
   "execution_count": 38,
   "id": "2c3efced",
   "metadata": {},
   "outputs": [
    {
     "data": {
      "text/html": [
       "<div>\n",
       "<style scoped>\n",
       "    .dataframe tbody tr th:only-of-type {\n",
       "        vertical-align: middle;\n",
       "    }\n",
       "\n",
       "    .dataframe tbody tr th {\n",
       "        vertical-align: top;\n",
       "    }\n",
       "\n",
       "    .dataframe thead th {\n",
       "        text-align: right;\n",
       "    }\n",
       "</style>\n",
       "<table border=\"1\" class=\"dataframe\">\n",
       "  <thead>\n",
       "    <tr style=\"text-align: right;\">\n",
       "      <th></th>\n",
       "      <th>Faculty_ID</th>\n",
       "      <th>Name</th>\n",
       "      <th>Course</th>\n",
       "      <th>Salary</th>\n",
       "    </tr>\n",
       "  </thead>\n",
       "  <tbody>\n",
       "    <tr>\n",
       "      <th>0</th>\n",
       "      <td>201</td>\n",
       "      <td>Aman</td>\n",
       "      <td>English</td>\n",
       "      <td>20000</td>\n",
       "    </tr>\n",
       "    <tr>\n",
       "      <th>1</th>\n",
       "      <td>202</td>\n",
       "      <td>Komal</td>\n",
       "      <td>Maths</td>\n",
       "      <td>22000</td>\n",
       "    </tr>\n",
       "    <tr>\n",
       "      <th>2</th>\n",
       "      <td>203</td>\n",
       "      <td>Mahesh</td>\n",
       "      <td>Science</td>\n",
       "      <td>24000</td>\n",
       "    </tr>\n",
       "  </tbody>\n",
       "</table>\n",
       "</div>"
      ],
      "text/plain": [
       "   Faculty_ID    Name   Course  Salary\n",
       "0         201    Aman  English   20000\n",
       "1         202   Komal    Maths   22000\n",
       "2         203  Mahesh  Science   24000"
      ]
     },
     "execution_count": 38,
     "metadata": {},
     "output_type": "execute_result"
    }
   ],
   "source": [
    "df = pd.DataFrame([[201, \"Aman\", \"English\", 20000], [202, \"Komal\", \"Maths\", 22000], [203, \"Mahesh\", \"Science\", 24000]], columns = [\"Faculty_ID\", \"Name\", \"Course\", \"Salary\"])\n",
    "df"
   ]
  },
  {
   "cell_type": "code",
   "execution_count": 39,
   "id": "d1599e21",
   "metadata": {},
   "outputs": [
    {
     "data": {
      "text/plain": [
       "3"
      ]
     },
     "execution_count": 39,
     "metadata": {},
     "output_type": "execute_result"
    }
   ],
   "source": [
    "df.to_sql(\"Faculty\", db)"
   ]
  },
  {
   "cell_type": "markdown",
   "id": "1b07aa57",
   "metadata": {},
   "source": [
    "Converting the DataFrame to a table in the SQL database. The above code returns the number of rows in the new SQL table formed."
   ]
  },
  {
   "cell_type": "markdown",
   "id": "02c3cf49",
   "metadata": {},
   "source": [
    "We can perform updation queries on the table using the dataframe."
   ]
  },
  {
   "cell_type": "code",
   "execution_count": 40,
   "id": "f21cb098",
   "metadata": {},
   "outputs": [
    {
     "data": {
      "text/html": [
       "<div>\n",
       "<style scoped>\n",
       "    .dataframe tbody tr th:only-of-type {\n",
       "        vertical-align: middle;\n",
       "    }\n",
       "\n",
       "    .dataframe tbody tr th {\n",
       "        vertical-align: top;\n",
       "    }\n",
       "\n",
       "    .dataframe thead th {\n",
       "        text-align: right;\n",
       "    }\n",
       "</style>\n",
       "<table border=\"1\" class=\"dataframe\">\n",
       "  <thead>\n",
       "    <tr style=\"text-align: right;\">\n",
       "      <th></th>\n",
       "      <th>RollNumber</th>\n",
       "      <th>Name</th>\n",
       "      <th>Age</th>\n",
       "      <th>Address</th>\n",
       "    </tr>\n",
       "  </thead>\n",
       "  <tbody>\n",
       "    <tr>\n",
       "      <th>0</th>\n",
       "      <td>101</td>\n",
       "      <td>Aman</td>\n",
       "      <td>19</td>\n",
       "      <td>New Delhi</td>\n",
       "    </tr>\n",
       "    <tr>\n",
       "      <th>1</th>\n",
       "      <td>102</td>\n",
       "      <td>Amit</td>\n",
       "      <td>19</td>\n",
       "      <td>New Delhi</td>\n",
       "    </tr>\n",
       "    <tr>\n",
       "      <th>2</th>\n",
       "      <td>103</td>\n",
       "      <td>Mohit</td>\n",
       "      <td>20</td>\n",
       "      <td>New Delhi</td>\n",
       "    </tr>\n",
       "    <tr>\n",
       "      <th>3</th>\n",
       "      <td>104</td>\n",
       "      <td>Nikhil</td>\n",
       "      <td>20</td>\n",
       "      <td>New Delhi</td>\n",
       "    </tr>\n",
       "    <tr>\n",
       "      <th>4</th>\n",
       "      <td>105</td>\n",
       "      <td>Nidhi</td>\n",
       "      <td>19</td>\n",
       "      <td>New Delhi</td>\n",
       "    </tr>\n",
       "    <tr>\n",
       "      <th>5</th>\n",
       "      <td>106</td>\n",
       "      <td>Manisha</td>\n",
       "      <td>19</td>\n",
       "      <td>New Delhi</td>\n",
       "    </tr>\n",
       "    <tr>\n",
       "      <th>6</th>\n",
       "      <td>107</td>\n",
       "      <td>Ankush</td>\n",
       "      <td>19</td>\n",
       "      <td>New Delhi</td>\n",
       "    </tr>\n",
       "  </tbody>\n",
       "</table>\n",
       "</div>"
      ],
      "text/plain": [
       "   RollNumber     Name  Age    Address\n",
       "0         101     Aman   19  New Delhi\n",
       "1         102     Amit   19  New Delhi\n",
       "2         103    Mohit   20  New Delhi\n",
       "3         104   Nikhil   20  New Delhi\n",
       "4         105    Nidhi   19  New Delhi\n",
       "5         106  Manisha   19  New Delhi\n",
       "6         107   Ankush   19  New Delhi"
      ]
     },
     "execution_count": 40,
     "metadata": {},
     "output_type": "execute_result"
    }
   ],
   "source": [
    "data = pd.read_sql_query(\"Select * from Student\", db)\n",
    "data[\"Address\"] = \"New Delhi\"\n",
    "data"
   ]
  },
  {
   "cell_type": "markdown",
   "id": "d228e459",
   "metadata": {},
   "source": [
    "Here we have converted the SQL tale Student to a pandas DataFrame, and over here, we have created the field \"Address\" with value \"New Delhi\".\n",
    "\n",
    "After the updation, we reconvert the Dataframe to an SQL Table."
   ]
  },
  {
   "cell_type": "code",
   "execution_count": 41,
   "id": "be37da30",
   "metadata": {},
   "outputs": [
    {
     "data": {
      "text/plain": [
       "7"
      ]
     },
     "execution_count": 41,
     "metadata": {},
     "output_type": "execute_result"
    }
   ],
   "source": [
    "data.to_sql(\"Student\", db, if_exists = \"replace\")"
   ]
  },
  {
   "cell_type": "markdown",
   "id": "e07d7d5f",
   "metadata": {},
   "source": [
    "Here we replace the old version of the table \"Student\", with the updated version, using pandas DataFrame."
   ]
  },
  {
   "cell_type": "code",
   "execution_count": 42,
   "id": "6312c569",
   "metadata": {},
   "outputs": [],
   "source": [
    "db.close()"
   ]
  }
 ],
 "metadata": {
  "kernelspec": {
   "display_name": "Python 3 (ipykernel)",
   "language": "python",
   "name": "python3"
  },
  "language_info": {
   "codemirror_mode": {
    "name": "ipython",
    "version": 3
   },
   "file_extension": ".py",
   "mimetype": "text/x-python",
   "name": "python",
   "nbconvert_exporter": "python",
   "pygments_lexer": "ipython3",
   "version": "3.9.13"
  }
 },
 "nbformat": 4,
 "nbformat_minor": 5
}
